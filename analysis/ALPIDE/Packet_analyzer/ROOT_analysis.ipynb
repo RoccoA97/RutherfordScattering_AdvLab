{
 "cells": [
  {
   "cell_type": "code",
   "execution_count": 1,
   "metadata": {},
   "outputs": [
    {
     "name": "stdout",
     "output_type": "stream",
     "text": [
      "Welcome to JupyROOT 6.22/02\n"
     ]
    }
   ],
   "source": [
    "import ROOT\n",
    "import numpy as np\n",
    "import matplotlib.pyplot as plt\n",
    "import sys\n",
    "import os"
   ]
  },
  {
   "cell_type": "code",
   "execution_count": 2,
   "metadata": {},
   "outputs": [],
   "source": [
    "def make_histo(Data_array,Title,nbins,xmin,xmax,save=True):\n",
    "    Histo = ROOT.TH1F(Title,Title,nbins,xmin,xmax)\n",
    "    for value in Data_array:\n",
    "        Histo.Fill(value)\n",
    "\n",
    "    Canv=ROOT.TCanvas()\n",
    "    Histo.Draw()\n",
    "    \n",
    "    if save:\n",
    "        Image_name=Title + '_Histo.pdf'\n",
    "        Canv.Print(Image_name)\n",
    "    \n",
    "    return Histo, Canv"
   ]
  },
  {
   "cell_type": "code",
   "execution_count": null,
   "metadata": {},
   "outputs": [],
   "source": [
    "name='gold_47_SC_90m_211220'\n",
    "name.split('_')\n",
    "\n",
    "angle=int(name.split('_')[1])*(1 if name.split('_')[2]=='DC' else -1)\n",
    "\n",
    "file=open('gold_47_SC_90m_211220/Stat_gold_47_SC_90m_211220.txt')\n",
    "line=file.readlines()\n",
    "for l in line:\n",
    "    if (l.startswith(\"Readout_time\")):\n",
    "        time=float(l.split('=')[1].strip()[:-1])\n",
    "    if (l.startswith(\"Strobe\")):\n",
    "        Strobe=int(l.split('=')[1].strip()[:-1])\n",
    "    if (l.startswith(\"Gap\")):\n",
    "        Gap=int(l.split('=')[1].strip()[:-1])\n",
    "        \n",
    "weight=3600*(Gap+Strobe)/(Strobe*time)\n",
    "\n",
    "os.system(\"python Packet_analyzer.py -f gold_47_SC_90m_211220 -p -A DB -d 1 10 -b 1000 -s %i -w %f \" % (angle,weight))\n",
    "\n"
   ]
  },
  {
   "cell_type": "markdown",
   "metadata": {},
   "source": [
    "# Analysis on a specific dataset"
   ]
  },
  {
   "cell_type": "code",
   "execution_count": null,
   "metadata": {},
   "outputs": [],
   "source": [
    "files=os.listdir()\n",
    "for name in files:\n",
    "    if name.startswith(\"gold_\"):\n",
    "        angle=int(name.split('_')[1])*(1 if name.split('_')[2]=='DC' else -1)\n",
    "\n",
    "        file=open(name+\"/Stat_\"+name+\".txt\")\n",
    "        line=file.readlines()\n",
    "        for l in line:\n",
    "            if (l.startswith(\"Readout_time\")):\n",
    "                time=float(l.split('=')[1].strip()[:-1])\n",
    "            if (l.startswith(\"Strobe\")):\n",
    "                Strobe=int(l.split('=')[1].strip()[:-1])\n",
    "            if (l.startswith(\"Gap\")):\n",
    "                Gap=int(l.split('=')[1].strip()[:-1])\n",
    "                \n",
    "        #weight that gives count/hour\n",
    "        weight=3600*(Gap+Strobe)/(Strobe*time)\n",
    "\n",
    "        os.system(\"python Packet_analyzer.py -f \" + name + \" -p -A DB -d 1 10 -b 1000 -s %i -w %f \" % (angle,weight))"
   ]
  },
  {
   "cell_type": "code",
   "execution_count": null,
   "metadata": {},
   "outputs": [],
   "source": [
    "! $ROOTSYS/bin/hadd Tot_63_2.root Analyzed_Data/gold_*/*.root"
   ]
  },
  {
   "cell_type": "markdown",
   "metadata": {},
   "source": [
    "# Analysis with normalization (time and Strobe parameters)"
   ]
  },
  {
   "cell_type": "code",
   "execution_count": 10,
   "metadata": {},
   "outputs": [
    {
     "name": "stdout",
     "output_type": "stream",
     "text": [
      "gold_47_SC_90m_211220\n",
      "gold_19_SC_90m_221220\n",
      "gold_63_SC_90m_201220\n",
      "gold_49_SC_90m_211220\n",
      "gold_27_DC_30m_run10_231220\n",
      "gold_11_SC_150m_221220\n",
      "gold_27_DC_30m_run9_231220\n",
      "gold_27_DC_30m_run5_231220\n",
      "gold_15_SC_90m_221220\n",
      "gold_61_SC_240m_201220\n",
      "gold_53_SC_90m_211220\n",
      "gold_27_DC_30m_run4_231220\n",
      "gold_17_SC_90m_221220\n",
      "gold_27_DC_30m_run1_231220\n",
      "gold_27_DC_30m_run8_231220\n",
      "gold_51_SC_90m_211220\n",
      "gold_5_SC_150m_231220\n",
      "gold_59_SC_240m_201220\n",
      "gold_27_DC_30m_run2_231220\n",
      "gold_27_DC_30m_run6_231220\n",
      "gold_9_SC_150m_221220\n",
      "gold_45_SC_90m_211220\n",
      "gold_27_DC_30m_run7_231220\n",
      "gold_3_SC_60m_231220\n",
      "gold_13_SC_60m_221220\n",
      "gold_7_SC_240m_231220\n",
      "gold_27_DC_30m_run11_231220\n",
      "gold_21_SC_60m_221220\n",
      "gold_27_DC_30m_run3_231220\n"
     ]
    },
    {
     "name": "stderr",
     "output_type": "stream",
     "text": [
      "ERROR in cling::CIFactory::createCI(): cannot extract standard library include paths!\n",
      "Invoking:\n",
      "  LC_ALL=C x86_64-conda-linux-gnu-c++  -O3 -DNDEBUG -xc++ -E -v /dev/null 2>&1 | sed -n -e '/^.include/,${' -e '/^ \\/.*++/p' -e '}'\n",
      "Results was:\n",
      "With exit code 0\n",
      "ERROR in cling::CIFactory::createCI(): cannot extract standard library include paths!\n",
      "Invoking:\n",
      "  LC_ALL=C x86_64-conda-linux-gnu-c++  -O3 -DNDEBUG -xc++ -E -v /dev/null 2>&1 | sed -n -e '/^.include/,${' -e '/^ \\/.*++/p' -e '}'\n",
      "Results was:\n",
      "With exit code 0\n",
      "ERROR in cling::CIFactory::createCI(): cannot extract standard library include paths!\n",
      "Invoking:\n",
      "  LC_ALL=C x86_64-conda-linux-gnu-c++  -O3 -DNDEBUG -xc++ -E -v /dev/null 2>&1 | sed -n -e '/^.include/,${' -e '/^ \\/.*++/p' -e '}'\n",
      "Results was:\n",
      "With exit code 0\n",
      "ERROR in cling::CIFactory::createCI(): cannot extract standard library include paths!\n",
      "Invoking:\n",
      "  LC_ALL=C x86_64-conda-linux-gnu-c++  -O3 -DNDEBUG -xc++ -E -v /dev/null 2>&1 | sed -n -e '/^.include/,${' -e '/^ \\/.*++/p' -e '}'\n",
      "Results was:\n",
      "With exit code 0\n",
      "ERROR in cling::CIFactory::createCI(): cannot extract standard library include paths!\n",
      "Invoking:\n",
      "  LC_ALL=C x86_64-conda-linux-gnu-c++  -O3 -DNDEBUG -xc++ -E -v /dev/null 2>&1 | sed -n -e '/^.include/,${' -e '/^ \\/.*++/p' -e '}'\n",
      "Results was:\n",
      "With exit code 0\n",
      "ERROR in cling::CIFactory::createCI(): cannot extract standard library include paths!\n",
      "Invoking:\n",
      "  LC_ALL=C x86_64-conda-linux-gnu-c++  -O3 -DNDEBUG -xc++ -E -v /dev/null 2>&1 | sed -n -e '/^.include/,${' -e '/^ \\/.*++/p' -e '}'\n",
      "Results was:\n",
      "With exit code 0\n",
      "ERROR in cling::CIFactory::createCI(): cannot extract standard library include paths!\n",
      "Invoking:\n",
      "  LC_ALL=C x86_64-conda-linux-gnu-c++  -O3 -DNDEBUG -xc++ -E -v /dev/null 2>&1 | sed -n -e '/^.include/,${' -e '/^ \\/.*++/p' -e '}'\n",
      "Results was:\n",
      "With exit code 0\n",
      "ERROR in cling::CIFactory::createCI(): cannot extract standard library include paths!\n",
      "Invoking:\n",
      "  LC_ALL=C x86_64-conda-linux-gnu-c++  -O3 -DNDEBUG -xc++ -E -v /dev/null 2>&1 | sed -n -e '/^.include/,${' -e '/^ \\/.*++/p' -e '}'\n",
      "Results was:\n",
      "With exit code 0\n",
      "ERROR in cling::CIFactory::createCI(): cannot extract standard library include paths!\n",
      "Invoking:\n",
      "  LC_ALL=C x86_64-conda-linux-gnu-c++  -O3 -DNDEBUG -xc++ -E -v /dev/null 2>&1 | sed -n -e '/^.include/,${' -e '/^ \\/.*++/p' -e '}'\n",
      "Results was:\n",
      "With exit code 0\n",
      "ERROR in cling::CIFactory::createCI(): cannot extract standard library include paths!\n",
      "Invoking:\n",
      "  LC_ALL=C x86_64-conda-linux-gnu-c++  -O3 -DNDEBUG -xc++ -E -v /dev/null 2>&1 | sed -n -e '/^.include/,${' -e '/^ \\/.*++/p' -e '}'\n",
      "Results was:\n",
      "With exit code 0\n",
      "ERROR in cling::CIFactory::createCI(): cannot extract standard library include paths!\n",
      "Invoking:\n",
      "  LC_ALL=C x86_64-conda-linux-gnu-c++  -O3 -DNDEBUG -xc++ -E -v /dev/null 2>&1 | sed -n -e '/^.include/,${' -e '/^ \\/.*++/p' -e '}'\n",
      "Results was:\n",
      "With exit code 0\n",
      "ERROR in cling::CIFactory::createCI(): cannot extract standard library include paths!\n",
      "Invoking:\n",
      "  LC_ALL=C x86_64-conda-linux-gnu-c++  -O3 -DNDEBUG -xc++ -E -v /dev/null 2>&1 | sed -n -e '/^.include/,${' -e '/^ \\/.*++/p' -e '}'\n",
      "Results was:\n",
      "With exit code 0\n",
      "ERROR in cling::CIFactory::createCI(): cannot extract standard library include paths!\n",
      "Invoking:\n",
      "  LC_ALL=C x86_64-conda-linux-gnu-c++  -O3 -DNDEBUG -xc++ -E -v /dev/null 2>&1 | sed -n -e '/^.include/,${' -e '/^ \\/.*++/p' -e '}'\n",
      "Results was:\n",
      "With exit code 0\n",
      "ERROR in cling::CIFactory::createCI(): cannot extract standard library include paths!\n",
      "Invoking:\n",
      "  LC_ALL=C x86_64-conda-linux-gnu-c++  -O3 -DNDEBUG -xc++ -E -v /dev/null 2>&1 | sed -n -e '/^.include/,${' -e '/^ \\/.*++/p' -e '}'\n",
      "Results was:\n",
      "With exit code 0\n",
      "ERROR in cling::CIFactory::createCI(): cannot extract standard library include paths!\n",
      "Invoking:\n",
      "  LC_ALL=C x86_64-conda-linux-gnu-c++  -O3 -DNDEBUG -xc++ -E -v /dev/null 2>&1 | sed -n -e '/^.include/,${' -e '/^ \\/.*++/p' -e '}'\n",
      "Results was:\n",
      "With exit code 0\n",
      "ERROR in cling::CIFactory::createCI(): cannot extract standard library include paths!\n",
      "Invoking:\n",
      "  LC_ALL=C x86_64-conda-linux-gnu-c++  -O3 -DNDEBUG -xc++ -E -v /dev/null 2>&1 | sed -n -e '/^.include/,${' -e '/^ \\/.*++/p' -e '}'\n",
      "Results was:\n",
      "With exit code 0\n",
      "ERROR in cling::CIFactory::createCI(): cannot extract standard library include paths!\n",
      "Invoking:\n",
      "  LC_ALL=C x86_64-conda-linux-gnu-c++  -O3 -DNDEBUG -xc++ -E -v /dev/null 2>&1 | sed -n -e '/^.include/,${' -e '/^ \\/.*++/p' -e '}'\n",
      "Results was:\n",
      "With exit code 0\n",
      "ERROR in cling::CIFactory::createCI(): cannot extract standard library include paths!\n",
      "Invoking:\n",
      "  LC_ALL=C x86_64-conda-linux-gnu-c++  -O3 -DNDEBUG -xc++ -E -v /dev/null 2>&1 | sed -n -e '/^.include/,${' -e '/^ \\/.*++/p' -e '}'\n",
      "Results was:\n",
      "With exit code 0\n",
      "ERROR in cling::CIFactory::createCI(): cannot extract standard library include paths!\n",
      "Invoking:\n",
      "  LC_ALL=C x86_64-conda-linux-gnu-c++  -O3 -DNDEBUG -xc++ -E -v /dev/null 2>&1 | sed -n -e '/^.include/,${' -e '/^ \\/.*++/p' -e '}'\n",
      "Results was:\n",
      "With exit code 0\n",
      "ERROR in cling::CIFactory::createCI(): cannot extract standard library include paths!\n",
      "Invoking:\n",
      "  LC_ALL=C x86_64-conda-linux-gnu-c++  -O3 -DNDEBUG -xc++ -E -v /dev/null 2>&1 | sed -n -e '/^.include/,${' -e '/^ \\/.*++/p' -e '}'\n",
      "Results was:\n",
      "With exit code 0\n",
      "ERROR in cling::CIFactory::createCI(): cannot extract standard library include paths!\n",
      "Invoking:\n",
      "  LC_ALL=C x86_64-conda-linux-gnu-c++  -O3 -DNDEBUG -xc++ -E -v /dev/null 2>&1 | sed -n -e '/^.include/,${' -e '/^ \\/.*++/p' -e '}'\n",
      "Results was:\n",
      "With exit code 0\n",
      "ERROR in cling::CIFactory::createCI(): cannot extract standard library include paths!\n",
      "Invoking:\n",
      "  LC_ALL=C x86_64-conda-linux-gnu-c++  -O3 -DNDEBUG -xc++ -E -v /dev/null 2>&1 | sed -n -e '/^.include/,${' -e '/^ \\/.*++/p' -e '}'\n",
      "Results was:\n",
      "With exit code 0\n",
      "ERROR in cling::CIFactory::createCI(): cannot extract standard library include paths!\n",
      "Invoking:\n",
      "  LC_ALL=C x86_64-conda-linux-gnu-c++  -O3 -DNDEBUG -xc++ -E -v /dev/null 2>&1 | sed -n -e '/^.include/,${' -e '/^ \\/.*++/p' -e '}'\n",
      "Results was:\n",
      "With exit code 0\n",
      "ERROR in cling::CIFactory::createCI(): cannot extract standard library include paths!\n",
      "Invoking:\n",
      "  LC_ALL=C x86_64-conda-linux-gnu-c++  -O3 -DNDEBUG -xc++ -E -v /dev/null 2>&1 | sed -n -e '/^.include/,${' -e '/^ \\/.*++/p' -e '}'\n",
      "Results was:\n",
      "With exit code 0\n",
      "ERROR in cling::CIFactory::createCI(): cannot extract standard library include paths!\n",
      "Invoking:\n",
      "  LC_ALL=C x86_64-conda-linux-gnu-c++  -O3 -DNDEBUG -xc++ -E -v /dev/null 2>&1 | sed -n -e '/^.include/,${' -e '/^ \\/.*++/p' -e '}'\n",
      "Results was:\n",
      "With exit code 0\n",
      "ERROR in cling::CIFactory::createCI(): cannot extract standard library include paths!\n",
      "Invoking:\n",
      "  LC_ALL=C x86_64-conda-linux-gnu-c++  -O3 -DNDEBUG -xc++ -E -v /dev/null 2>&1 | sed -n -e '/^.include/,${' -e '/^ \\/.*++/p' -e '}'\n",
      "Results was:\n",
      "With exit code 0\n",
      "ERROR in cling::CIFactory::createCI(): cannot extract standard library include paths!\n",
      "Invoking:\n",
      "  LC_ALL=C x86_64-conda-linux-gnu-c++  -O3 -DNDEBUG -xc++ -E -v /dev/null 2>&1 | sed -n -e '/^.include/,${' -e '/^ \\/.*++/p' -e '}'\n",
      "Results was:\n",
      "With exit code 0\n",
      "ERROR in cling::CIFactory::createCI(): cannot extract standard library include paths!\n",
      "Invoking:\n",
      "  LC_ALL=C x86_64-conda-linux-gnu-c++  -O3 -DNDEBUG -xc++ -E -v /dev/null 2>&1 | sed -n -e '/^.include/,${' -e '/^ \\/.*++/p' -e '}'\n",
      "Results was:\n",
      "With exit code 0\n",
      "ERROR in cling::CIFactory::createCI(): cannot extract standard library include paths!\n",
      "Invoking:\n",
      "  LC_ALL=C x86_64-conda-linux-gnu-c++  -O3 -DNDEBUG -xc++ -E -v /dev/null 2>&1 | sed -n -e '/^.include/,${' -e '/^ \\/.*++/p' -e '}'\n",
      "Results was:\n",
      "With exit code 0\n"
     ]
    }
   ],
   "source": [
    "#normalization array from -180° to 180° in steps\n",
    "ALPIDE_norm=np.zeros(201)\n",
    "\n",
    "#load files of a cartain data set\n",
    "files=os.listdir()\n",
    "for name in files:\n",
    "    if name.startswith(\"gold_\"):\n",
    "        print(name)\n",
    "        angle=int(name.split('_')[1])*(1 if name.split('_')[2]=='DC' else -1)\n",
    "        file=open(name+\"/Stat_\"+name+\".txt\")\n",
    "        line=file.readlines()\n",
    "        for l in line:\n",
    "            if (l.startswith(\"Readout_time\")):\n",
    "                time=float(l.split('=')[1].strip()[:-1])\n",
    "            if (l.startswith(\"Strobe\")):\n",
    "                Strobe=int(l.split('=')[1].strip()[:-1])\n",
    "            if (l.startswith(\"Gap\")):\n",
    "                Gap=int(l.split('=')[1].strip()[:-1])\n",
    "                \n",
    "        #weight that gives count/hour\n",
    "        weight=3600*(Gap+Strobe)/(Strobe*time)\n",
    "        \n",
    "        #compute the normalization parameter\n",
    "        for i in range(angle-29,angle-4):\n",
    "            ALPIDE_norm[100+i] += weight\n",
    "\n",
    "        #analyze the data\n",
    "        os.system(\"python Packet_analyzer.py -f \" + name + \" -p -A DB -d 1 10 -b 1000 -s %i -w %f > /dev/null\" % (angle,weight))\n",
    "        \n",
    "        "
   ]
  },
  {
   "cell_type": "code",
   "execution_count": 11,
   "metadata": {},
   "outputs": [
    {
     "name": "stdout",
     "output_type": "stream",
     "text": [
      "ERROR in cling::CIFactory::createCI(): cannot extract standard library include paths!\n",
      "Invoking:\n",
      "  LC_ALL=C x86_64-conda-linux-gnu-c++  -O3 -DNDEBUG -xc++ -E -v /dev/null 2>&1 | sed -n -e '/^.include/,${' -e '/^ \\/.*++/p' -e '}'\n",
      "Results was:\n",
      "With exit code 0\n",
      "hadd Target file: Tot_63SC_27DC.root\n",
      "hadd compression setting for all output: 1\n",
      "hadd Source file 1: Analyzed_Data/gold_11_SC_150m_221220/gold_11_SC_150m_221220.root\n",
      "hadd Source file 2: Analyzed_Data/gold_13_SC_60m_221220/gold_13_SC_60m_221220.root\n",
      "hadd Source file 3: Analyzed_Data/gold_15_SC_90m_221220/gold_15_SC_90m_221220.root\n",
      "hadd Source file 4: Analyzed_Data/gold_17_SC_90m_221220/gold_17_SC_90m_221220.root\n",
      "hadd Source file 5: Analyzed_Data/gold_19_SC_90m_221220/gold_19_SC_90m_221220.root\n",
      "hadd Source file 6: Analyzed_Data/gold_21_SC_60m_221220/gold_21_SC_60m_221220.root\n",
      "hadd Source file 7: Analyzed_Data/gold_27_DC_30m_run10_231220/gold_27_DC_30m_run10_231220.root\n",
      "hadd Source file 8: Analyzed_Data/gold_27_DC_30m_run11_231220/gold_27_DC_30m_run11_231220.root\n",
      "hadd Source file 9: Analyzed_Data/gold_27_DC_30m_run1_231220/gold_27_DC_30m_run1_231220.root\n",
      "hadd Source file 10: Analyzed_Data/gold_27_DC_30m_run2_231220/gold_27_DC_30m_run2_231220.root\n",
      "hadd Source file 11: Analyzed_Data/gold_27_DC_30m_run3_231220/gold_27_DC_30m_run3_231220.root\n",
      "hadd Source file 12: Analyzed_Data/gold_27_DC_30m_run4_231220/gold_27_DC_30m_run4_231220.root\n",
      "hadd Source file 13: Analyzed_Data/gold_27_DC_30m_run5_231220/gold_27_DC_30m_run5_231220.root\n",
      "hadd Source file 14: Analyzed_Data/gold_27_DC_30m_run6_231220/gold_27_DC_30m_run6_231220.root\n",
      "hadd Source file 15: Analyzed_Data/gold_27_DC_30m_run7_231220/gold_27_DC_30m_run7_231220.root\n",
      "hadd Source file 16: Analyzed_Data/gold_27_DC_30m_run8_231220/gold_27_DC_30m_run8_231220.root\n",
      "hadd Source file 17: Analyzed_Data/gold_27_DC_30m_run9_231220/gold_27_DC_30m_run9_231220.root\n",
      "hadd Source file 18: Analyzed_Data/gold_3_SC_60m_231220/gold_3_SC_60m_231220.root\n",
      "hadd Source file 19: Analyzed_Data/gold_45_SC_90m_211220/gold_45_SC_90m_211220.root\n",
      "hadd Source file 20: Analyzed_Data/gold_47_SC_90m_211220/gold_47_SC_90m_211220.root\n",
      "hadd Source file 21: Analyzed_Data/gold_49_SC_90m_211220/gold_49_SC_90m_211220.root\n",
      "hadd Source file 22: Analyzed_Data/gold_51_SC_90m_211220/gold_51_SC_90m_211220.root\n",
      "hadd Source file 23: Analyzed_Data/gold_53_SC_90m_211220/gold_53_SC_90m_211220.root\n",
      "hadd Source file 24: Analyzed_Data/gold_59_SC_240m_201220/gold_59_SC_240m_201220.root\n",
      "hadd Source file 25: Analyzed_Data/gold_5_SC_150m_231220/gold_5_SC_150m_231220.root\n",
      "hadd Source file 26: Analyzed_Data/gold_61_SC_240m_201220/gold_61_SC_240m_201220.root\n",
      "hadd Source file 27: Analyzed_Data/gold_63_SC_90m_201220/gold_63_SC_90m_201220.root\n",
      "hadd Source file 28: Analyzed_Data/gold_7_SC_240m_231220/gold_7_SC_240m_231220.root\n",
      "hadd Source file 29: Analyzed_Data/gold_9_SC_150m_221220/gold_9_SC_150m_221220.root\n",
      "hadd Target path: Tot_63SC_27DC.root:/\n"
     ]
    }
   ],
   "source": [
    "#merge all the TTree\n",
    "! $ROOTSYS/bin/hadd -f Tot_63SC_27DC.root Analyzed_Data/gold_*/*.root "
   ]
  },
  {
   "cell_type": "code",
   "execution_count": 12,
   "metadata": {},
   "outputs": [
    {
     "name": "stdout",
     "output_type": "stream",
     "text": [
      "******************************************************************************\n",
      "*Tree    :tree      : file                                                   *\n",
      "*Entries :   490715 : Total =        11823624 bytes  File  Size =    5951884 *\n",
      "*        :          : Tree compression factor =   1.99                       *\n",
      "******************************************************************************\n",
      "*Br    0 :Rareas    : Rareas/F                                               *\n",
      "*Entries :   490715 : Total  Size=    1970516 bytes  File Size  =     637308 *\n",
      "*Baskets :       79 : Basket Size=      32000 bytes  Compression=   3.09     *\n",
      "*............................................................................*\n",
      "*Br    1 :Rmeanx    : Rmeanx/F                                               *\n",
      "*Entries :   490715 : Total  Size=    1970516 bytes  File Size  =    1457964 *\n",
      "*Baskets :       79 : Basket Size=      32000 bytes  Compression=   1.35     *\n",
      "*............................................................................*\n",
      "*Br    2 :Rmeany    : Rmeany/F                                               *\n",
      "*Entries :   490715 : Total  Size=    1970516 bytes  File Size  =    1414610 *\n",
      "*Baskets :       79 : Basket Size=      32000 bytes  Compression=   1.39     *\n",
      "*............................................................................*\n",
      "*Br    3 :Rtheta    : Rtheta/F                                               *\n",
      "*Entries :   490715 : Total  Size=    1970516 bytes  File Size  =    1635473 *\n",
      "*Baskets :       79 : Basket Size=      32000 bytes  Compression=   1.20     *\n",
      "*............................................................................*\n",
      "*Br    4 :Rweight   : Rweight/F                                              *\n",
      "*Entries :   490715 : Total  Size=    1970599 bytes  File Size  =      18502 *\n",
      "*Baskets :       79 : Basket Size=      32000 bytes  Compression= 106.41     *\n",
      "*............................................................................*\n",
      "*Br    5 :Rratios   : Rratios/F                                              *\n",
      "*Entries :   490715 : Total  Size=    1970599 bytes  File Size  =     783881 *\n",
      "*Baskets :       79 : Basket Size=      32000 bytes  Compression=   2.51     *\n",
      "*............................................................................*\n"
     ]
    }
   ],
   "source": [
    "#ROOT.enableJSVis()\n",
    "ROOT.disableJSVis()\n",
    "\n",
    "\n",
    "#convert the TTree in np arrays\n",
    "root_file_1=ROOT.TFile.Open(\"Tot_63SC_27DC.root\")\n",
    "Data_tree = root_file_1.Get(\"tree\")\n",
    "Data_tree.Print()\n",
    "Areas=Data_tree.AsMatrix(['Rareas'])\n",
    "Means=Data_tree.AsMatrix(['Rmeanx','Rmeany'])\n",
    "Theta=Data_tree.AsMatrix(['Rtheta'])\n",
    "Weight=Data_tree.AsMatrix(['Rweight'])\n",
    "Ratios=Data_tree.AsMatrix(['Rratios'])"
   ]
  },
  {
   "cell_type": "code",
   "execution_count": 13,
   "metadata": {},
   "outputs": [
    {
     "data": {
      "image/png": "[encoded data removed]",
      "text/plain": [
       "<IPython.core.display.Image object>"
      ]
     },
     "metadata": {},
     "output_type": "display_data"
    }
   ],
   "source": [
    "hm = ROOT.TH2D('hm','Hitmap',128,0,1024,64,0,512)\n",
    "\n",
    "for coordinate in Means:\n",
    "    hm.Fill(coordinate[0],coordinate[1])\n",
    "    \n",
    "    \n",
    "HC=ROOT.TCanvas()\n",
    "hm.Draw('COLZ')\n",
    "HC.Draw()"
   ]
  },
  {
   "cell_type": "code",
   "execution_count": 14,
   "metadata": {},
   "outputs": [
    {
     "name": "stderr",
     "output_type": "stream",
     "text": [
      "Info in <TCanvas::Print>: pdf file Area_Histo.pdf has been created\n"
     ]
    },
    {
     "data": {
      "image/png": "[encoded data removed]",
      "text/plain": [
       "<IPython.core.display.Image object>"
      ]
     },
     "metadata": {},
     "output_type": "display_data"
    }
   ],
   "source": [
    "ar_max=int(np.amax(Areas))\n",
    "nbins=int((ar_max-1))\n",
    "arHist,AC=make_histo(Areas,'Area',nbins,1,ar_max)\n",
    "AC.Draw()"
   ]
  },
  {
   "cell_type": "code",
   "execution_count": 15,
   "metadata": {},
   "outputs": [
    {
     "name": "stderr",
     "output_type": "stream",
     "text": [
      "Warning in <TFile::Append>: Replacing existing TH1: Area (Potential memory leak).\n",
      "Info in <TCanvas::Print>: pdf file Area_Histo.pdf has been created\n",
      "Info in <TCanvas::Print>: pdf file PCA_Ratio_Histo.pdf has been created\n"
     ]
    },
    {
     "data": {
      "image/png": "[encoded data removed]",
      "text/plain": [
       "<IPython.core.display.Image object>"
      ]
     },
     "metadata": {},
     "output_type": "display_data"
    },
    {
     "data": {
      "image/png": "[encoded data removed]",
      "text/plain": [
       "<IPython.core.display.Image object>"
      ]
     },
     "metadata": {},
     "output_type": "display_data"
    }
   ],
   "source": [
    "ar_max=int(np.amax(Areas))\n",
    "nbins=int((ar_max-1))\n",
    "ArHist,AC=make_histo(Areas,'Area',nbins,1,ar_max)\n",
    "AC.Draw()\n",
    "\n",
    "r_max=(np.amax(Ratios)+0.5)\n",
    "nbins=50\n",
    "RHist,RC=make_histo(Ratios,'PCA_Ratio',nbins,0.5,r_max)\n",
    "RC.Draw()"
   ]
  },
  {
   "cell_type": "code",
   "execution_count": 22,
   "metadata": {},
   "outputs": [],
   "source": [
    "import functools"
   ]
  },
  {
   "cell_type": "code",
   "execution_count": 27,
   "metadata": {},
   "outputs": [
    {
     "name": "stdout",
     "output_type": "stream",
     "text": [
      "(490715, 1)\n",
      "(490715, 2)\n",
      "(490715, 1)\n",
      "(490715, 1)\n",
      "(490715, 1)\n"
     ]
    }
   ],
   "source": [
    "print(Areas .shape)\n",
    "print(Means .shape)\n",
    "print(Theta .shape)\n",
    "print(Weight.shape)\n",
    "print(Ratios.shape)\n",
    "\n",
    "\n",
    "\n"
   ]
  },
  {
   "cell_type": "code",
   "execution_count": 29,
   "metadata": {},
   "outputs": [],
   "source": [
    "Area_thr=14\n",
    "Ratio_thr=1.81\n",
    "\n",
    "xmin = 10\n",
    "xmax = 1013\n",
    "ymin = 10 \n",
    "ymax = 490\n",
    "\n",
    "\n",
    "mask_thr =  np.logical_and (np.squeeze(Areas)      > Area_thr, np.squeeze(Ratios)     < Ratio_thr)\n",
    "mask_x   =  np.logical_and (np.squeeze(Means[:,0]) > xmin    , np.squeeze(Means[:,0]) < xmax     )\n",
    "mask_y   =  np.logical_and (np.squeeze(Means[:,1]) > ymin    , np.squeeze(Means[:,1]) < ymax     )\n",
    "\n",
    "mask = np.logical_and(mask_thr, np.logical_and(mask_x, mask_y))\n",
    "\n",
    "\n",
    "Areas_disc  = Areas [mask]\n",
    "Means_disc  = Means [mask]\n",
    "Theta_disc  = Theta [mask]\n",
    "Weight_disc = Weight[mask]\n",
    "Ratios_disc = Ratios[mask]\n",
    "\n",
    "\n",
    "#A_disc_index = np.where  (Areas<Area_thr)\n",
    "#Areas_disc   = np.delete (Areas ,A_disc_index)\n",
    "#Means_disc   = np.delete (Means ,A_disc_index,axis=0)\n",
    "#Theta_disc   = np.delete (Theta ,A_disc_index)\n",
    "#Weight_disc  = np.delete (Weight,A_disc_index)\n",
    "#Ratios_disc  = np.delete (Ratios,A_disc_index)\n",
    "\n",
    "#R_disc_index=np.where (Ratios_disc>Ratio_thr)\n",
    "#Areas_disc  =np.delete(Areas_disc,R_disc_index)\n",
    "#Means_disc  =np.delete(Means_disc,R_disc_index,axis=0)\n",
    "#Theta_disc  =np.delete(Theta_disc,R_disc_index)\n",
    "#Weight_disc =np.delete(Weight_disc,R_disc_index)\n",
    "#Ratios_disc =np.delete(Ratios_disc,R_disc_index)"
   ]
  },
  {
   "cell_type": "code",
   "execution_count": 30,
   "metadata": {},
   "outputs": [
    {
     "name": "stderr",
     "output_type": "stream",
     "text": [
      "Warning in <TFile::Append>: Replacing existing TH1: ThHist (Potential memory leak).\n",
      "Info in <TCanvas::Print>: png file Theta_histo.png has been created\n"
     ]
    },
    {
     "data": {
      "image/png": "[encoded data removed]",
      "text/plain": [
       "<IPython.core.display.Image object>"
      ]
     },
     "metadata": {},
     "output_type": "display_data"
    }
   ],
   "source": [
    "th_max=(np.amax(Theta_disc))\n",
    "th_min=(np.amin(Theta_disc))\n",
    "nbins=50\n",
    "\n",
    "ThHist = ROOT.TH1F('ThHist', 'Theta weighted',nbins,th_min,th_max)\n",
    "\n",
    "for value,weight in zip(Theta_disc,Weight_disc):\n",
    "    ThHist.Fill(value,weight/(ALPIDE_norm[int(value*180/(np.pi)/0.9+100)]))\n",
    "    #ThHist.Fill(value,weight)\n",
    "    \n",
    "ThHist.SetStats(False)\n",
    "    \n",
    "TC=ROOT.TCanvas()\n",
    "ThHist.Draw('HIST')\n",
    "TC.SetLogy()\n",
    "TC.Draw()\n",
    "TC.Print('Theta_histo.png')"
   ]
  },
  {
   "cell_type": "code",
   "execution_count": 18,
   "metadata": {},
   "outputs": [
    {
     "name": "stdout",
     "output_type": "stream",
     "text": [
      "33\n",
      "1.5095051527023315\n"
     ]
    },
    {
     "name": "stderr",
     "output_type": "stream",
     "text": [
      "Warning in <TFile::Append>: Replacing existing TH1: Area (Potential memory leak).\n",
      "Info in <TCanvas::Print>: pdf file Area_Histo.pdf has been created\n",
      "Info in <TCanvas::Print>: png file Area_histo.png has been created\n",
      "Info in <TCanvas::Print>: pdf file Ratios_Histo.pdf has been created\n"
     ]
    },
    {
     "data": {
      "image/png": "[encoded data removed]",
      "text/plain": [
       "<IPython.core.display.Image object>"
      ]
     },
     "metadata": {},
     "output_type": "display_data"
    },
    {
     "data": {
      "image/png": "[encoded data removed]",
      "text/plain": [
       "<IPython.core.display.Image object>"
      ]
     },
     "metadata": {},
     "output_type": "display_data"
    }
   ],
   "source": [
    "ar_max=int(np.amax(Areas_disc))\n",
    "print(ar_max)\n",
    "nbins=int((ar_max))\n",
    "\n",
    "ArHist,AC=make_histo(Areas_disc,'Area',nbins,1,ar_max)\n",
    "AC.Draw()\n",
    "AC.Print('Area_histo.png')\n",
    "\n",
    "r_max=np.amax(Ratios_disc)\n",
    "print(r_max)\n",
    "nbins=30\n",
    "\n",
    "\n",
    "RHist,RC=make_histo(Ratios_disc,'Ratios',nbins,0.95,r_max+0.05)\n",
    "RHist.Draw()\n",
    "RC.Draw()\n",
    "\n",
    "\n",
    "#MxHist = ROOT.TH1F('MxHist', 'X Means',16,0,1023)\n",
    "#\n",
    "#for value in Means_disc[:,0]:\n",
    "#    MxHist.Fill(value)\n",
    "#\n",
    "#MxC=ROOT.TCanvas()\n",
    "#MxHist.Draw()\n",
    "#MxC.Draw()"
   ]
  },
  {
   "cell_type": "markdown",
   "metadata": {},
   "source": []
  },
  {
   "cell_type": "code",
   "execution_count": null,
   "metadata": {},
   "outputs": [],
   "source": []
  },
  {
   "cell_type": "code",
   "execution_count": null,
   "metadata": {},
   "outputs": [],
   "source": []
  }
 ],
 "metadata": {
  "kernelspec": {
   "display_name": "Python 3",
   "language": "python",
   "name": "python3"
  },
  "language_info": {
   "codemirror_mode": {
    "name": "ipython",
    "version": 3
   },
   "file_extension": ".py",
   "mimetype": "text/x-python",
   "name": "python",
   "nbconvert_exporter": "python",
   "pygments_lexer": "ipython3",
   "version": "3.8.5"
  }
 },
 "nbformat": 4,
 "nbformat_minor": 4
}
