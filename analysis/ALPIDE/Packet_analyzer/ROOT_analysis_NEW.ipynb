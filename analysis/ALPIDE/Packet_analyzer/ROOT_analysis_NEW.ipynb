{
 "cells": [
  {
   "cell_type": "code",
   "execution_count": 1,
   "metadata": {},
   "outputs": [
    {
     "name": "stdout",
     "output_type": "stream",
     "text": [
      "Welcome to JupyROOT 6.22/02\n"
     ]
    }
   ],
   "source": [
    "import ROOT\n",
    "import numpy as np\n",
    "import matplotlib.pyplot as plt\n",
    "import sys\n",
    "import os\n",
    "\n",
    "N_Threads = \"4\""
   ]
  },
  {
   "cell_type": "code",
   "execution_count": 2,
   "metadata": {},
   "outputs": [],
   "source": [
    "def make_histo(Data_array,Title,nbins,xmin,xmax,save=True):\n",
    "    Histo = ROOT.TH1F(Title,Title,nbins,xmin,xmax)\n",
    "    for value in Data_array:\n",
    "        Histo.Fill(value)\n",
    "\n",
    "    Canv=ROOT.TCanvas()\n",
    "    Histo.Draw()\n",
    "    \n",
    "    if save:\n",
    "        Image_name=Title + '_Histo.pdf'\n",
    "        Canv.Print(Image_name)\n",
    "    \n",
    "    return Histo, Canv"
   ]
  },
  {
   "cell_type": "code",
   "execution_count": 5,
   "metadata": {},
   "outputs": [],
   "source": [
    "#name='gold_47_SC_90m_211220'\n",
    "#name.split('_')\n",
    "#\n",
    "#angle=int(name.split('_')[1])*(1 if name.split('_')[2]=='DC' else -1)\n",
    "#\n",
    "#file=open('gold_47_SC_90m_211220/Stat_gold_47_SC_90m_211220.txt')\n",
    "#line=file.readlines()\n",
    "#for l in line:\n",
    "#    if (l.startswith(\"Readout_time\")):\n",
    "#        time=float(l.split('=')[1].strip()[:-1])\n",
    "#    if (l.startswith(\"Strobe\")):\n",
    "#        Strobe=int(l.split('=')[1].strip()[:-1])\n",
    "#    if (l.startswith(\"Gap\")):\n",
    "#        Gap=int(l.split('=')[1].strip()[:-1])\n",
    "#        \n",
    "#weight=3600*(Gap+Strobe)/(Strobe*time)\n",
    "#\n",
    "#os.system(\"python Packet_analyzer.py -f gold_47_SC_90m_211220 -p -A DB -d 1 10 -b 1000 -s %i -w %f \" % (angle,weight))\n"
   ]
  },
  {
   "cell_type": "markdown",
   "metadata": {},
   "source": [
    "# Analysis on a specific dataset"
   ]
  },
  {
   "cell_type": "code",
   "execution_count": 6,
   "metadata": {},
   "outputs": [
    {
     "name": "stderr",
     "output_type": "stream",
     "text": [
      "ERROR in cling::CIFactory::createCI(): cannot extract standard library include paths!\n",
      "Invoking:\n",
      "  LC_ALL=C x86_64-conda-linux-gnu-c++  -O3 -DNDEBUG -xc++ -E -v /dev/null 2>&1 | sed -n -e '/^.include/,${' -e '/^ \\/.*++/p' -e '}'\n",
      "Results was:\n",
      "With exit code 0\n",
      "gold_11_SC_150m_221220: 100%|██████████| 1/1 [00:00<00:00,  1.87it/s]\n"
     ]
    }
   ],
   "source": [
    "files=os.listdir('Data/')\n",
    "for name in files:\n",
    "    if name.startswith(\"gold_11\"):\n",
    "        angle=int(name.split('_')[1])*(1 if name.split('_')[2]=='DC' else -1)\n",
    "\n",
    "        file=open(\"Data/\"+name+\"/Stat_\"+name+\".txt\")\n",
    "        line=file.readlines()\n",
    "        for l in line:\n",
    "            if (l.startswith(\"Readout_time\")):\n",
    "                time=float(l.split('=')[1].strip()[:-1])\n",
    "            if (l.startswith(\"Strobe\")):\n",
    "                Strobe=int(l.split('=')[1].strip()[:-1])\n",
    "            if (l.startswith(\"Gap\")):\n",
    "                Gap=int(l.split('=')[1].strip()[:-1])\n",
    "                \n",
    "        #weight that gives count/hour\n",
    "        weight=3600*(Gap+Strobe)/(Strobe*time)\n",
    "\n",
    "        os.system(\"python Packet_analyzer.py -Df Data -f \" + name + \" -p -A DB -d 1 10 -b 1000 -NThr \" + N_Threads + \" -s %i -w %f \" % (angle,weight))"
   ]
  },
  {
   "cell_type": "code",
   "execution_count": 7,
   "metadata": {},
   "outputs": [
    {
     "name": "stdout",
     "output_type": "stream",
     "text": [
      "ERROR in cling::CIFactory::createCI(): cannot extract standard library include paths!\n",
      "Invoking:\n",
      "  LC_ALL=C x86_64-conda-linux-gnu-c++  -O3 -DNDEBUG -xc++ -E -v /dev/null 2>&1 | sed -n -e '/^.include/,${' -e '/^ \\/.*++/p' -e '}'\n",
      "Results was:\n",
      "With exit code 0\n",
      "hadd Target file: Tot_63_2.root\n",
      "hadd compression setting for all output: 1\n",
      "hadd Source file 1: Analyzed_Data/gold_11_SC_150m_221220/gold_11_SC_150m_221220.root\n",
      "hadd Source file 2: Analyzed_Data/gold_13_SC_60m_221220/gold_13_SC_60m_221220.root\n",
      "hadd Source file 3: Analyzed_Data/gold_15_SC_90m_221220/gold_15_SC_90m_221220.root\n",
      "hadd Source file 4: Analyzed_Data/gold_17_DC_30m_run1_251220/gold_17_DC_30m_run1_251220.root\n",
      "hadd Source file 5: Analyzed_Data/gold_17_DC_30m_run2_251220/gold_17_DC_30m_run2_251220.root\n",
      "hadd Source file 6: Analyzed_Data/gold_17_DC_30m_run3_251220/gold_17_DC_30m_run3_251220.root\n",
      "hadd Source file 7: Analyzed_Data/gold_17_DC_30m_run4_251220/gold_17_DC_30m_run4_251220.root\n",
      "hadd Source file 8: Analyzed_Data/gold_17_DC_30m_run5_251220/gold_17_DC_30m_run5_251220.root\n",
      "hadd Source file 9: Analyzed_Data/gold_17_DC_30m_run6_251220/gold_17_DC_30m_run6_251220.root\n",
      "hadd Source file 10: Analyzed_Data/gold_17_SC_90m_221220/gold_17_SC_90m_221220.root\n",
      "hadd Source file 11: Analyzed_Data/gold_19_SC_90m_221220/gold_19_SC_90m_221220.root\n",
      "hadd Source file 12: Analyzed_Data/gold_21_SC_60m_221220/gold_21_SC_60m_221220.root\n",
      "hadd Source file 13: Analyzed_Data/gold_27_DC_30m_run10_231220/gold_27_DC_30m_run10_231220.root\n",
      "hadd Source file 14: Analyzed_Data/gold_27_DC_30m_run11_231220/gold_27_DC_30m_run11_231220.root\n",
      "hadd Source file 15: Analyzed_Data/gold_27_DC_30m_run1_231220/gold_27_DC_30m_run1_231220.root\n",
      "hadd Source file 16: Analyzed_Data/gold_27_DC_30m_run2_231220/gold_27_DC_30m_run2_231220.root\n",
      "hadd Source file 17: Analyzed_Data/gold_27_DC_30m_run3_231220/gold_27_DC_30m_run3_231220.root\n",
      "hadd Source file 18: Analyzed_Data/gold_27_DC_30m_run4_231220/gold_27_DC_30m_run4_231220.root\n",
      "hadd Source file 19: Analyzed_Data/gold_27_DC_30m_run5_231220/gold_27_DC_30m_run5_231220.root\n",
      "hadd Source file 20: Analyzed_Data/gold_27_DC_30m_run6_231220/gold_27_DC_30m_run6_231220.root\n",
      "hadd Source file 21: Analyzed_Data/gold_27_DC_30m_run7_231220/gold_27_DC_30m_run7_231220.root\n",
      "hadd Source file 22: Analyzed_Data/gold_27_DC_30m_run8_231220/gold_27_DC_30m_run8_231220.root\n",
      "hadd Source file 23: Analyzed_Data/gold_27_DC_30m_run9_231220/gold_27_DC_30m_run9_231220.root\n",
      "hadd Source file 24: Analyzed_Data/gold_3_SC_60m_231220/gold_3_SC_60m_231220.root\n",
      "hadd Source file 25: Analyzed_Data/gold_45_SC_90m_211220/gold_45_SC_90m_211220.root\n",
      "hadd Source file 26: Analyzed_Data/gold_47_SC_90m_211220/gold_47_SC_90m_211220.root\n",
      "hadd Source file 27: Analyzed_Data/gold_49_SC_90m_211220/gold_49_SC_90m_211220.root\n",
      "hadd Source file 28: Analyzed_Data/gold_51_SC_90m_211220/gold_51_SC_90m_211220.root\n",
      "hadd Source file 29: Analyzed_Data/gold_53_SC_90m_211220/gold_53_SC_90m_211220.root\n",
      "hadd Source file 30: Analyzed_Data/gold_59_SC_240m_201220/gold_59_SC_240m_201220.root\n",
      "hadd Source file 31: Analyzed_Data/gold_5_SC_150m_231220/gold_5_SC_150m_231220.root\n",
      "hadd Source file 32: Analyzed_Data/gold_61_SC_240m_201220/gold_61_SC_240m_201220.root\n",
      "hadd Source file 33: Analyzed_Data/gold_63_SC_90m_201220/gold_63_SC_90m_201220.root\n",
      "hadd Source file 34: Analyzed_Data/gold_7_DC_30m_run1_271220/gold_7_DC_30m_run1_271220.root\n",
      "hadd Source file 35: Analyzed_Data/gold_7_DC_30m_run2_271220/gold_7_DC_30m_run2_271220.root\n",
      "hadd Source file 36: Analyzed_Data/gold_7_DC_30m_run3_271220/gold_7_DC_30m_run3_271220.root\n",
      "hadd Source file 37: Analyzed_Data/gold_7_DC_30m_run4_271220/gold_7_DC_30m_run4_271220.root\n",
      "hadd Source file 38: Analyzed_Data/gold_7_SC_240m_231220/gold_7_SC_240m_231220.root\n",
      "hadd Source file 39: Analyzed_Data/gold_9_SC_150m_221220/gold_9_SC_150m_221220.root\n",
      "hadd Target path: Tot_63_2.root:/\n"
     ]
    }
   ],
   "source": [
    "! $ROOTSYS/bin/hadd Tot_63_2.root Analyzed_Data/gold_*/*.root"
   ]
  },
  {
   "cell_type": "markdown",
   "metadata": {},
   "source": [
    "# Analysis with normalization (time and Strobe parameters)"
   ]
  },
  {
   "cell_type": "code",
   "execution_count": 3,
   "metadata": {},
   "outputs": [
    {
     "name": "stderr",
     "output_type": "stream",
     "text": [
      "gold_alpide_53_SC_240m_run6_020121: 100%|██████████| 1/1 [00:00<00:00,  1.85it/s]\n",
      "gold_alpide_53_SC_240m_run9_020121: 100%|██████████| 1/1 [00:00<00:00,  1.98it/s]\n",
      "gold_alpide_53_SC_240m_run1_020121: 100%|██████████| 1/1 [00:00<00:00,  2.07it/s]\n",
      "gold_alpide_53_SC_240m_run10_020121: 100%|██████████| 1/1 [00:00<00:00,  2.17it/s]\n",
      "gold_alpide_53_SC_240m_run4_020121: 100%|██████████| 1/1 [00:00<00:00,  1.88it/s]\n",
      "gold_alpide_53_SC_240m_run12_020121: 100%|██████████| 1/1 [00:00<00:00,  1.78it/s]\n",
      "gold_alpide_53_SC_240m_run3_020121: 100%|██████████| 1/1 [00:00<00:00,  1.78it/s]\n",
      "gold_alpide_53_SC_240m_run11_020121: 100%|██████████| 1/1 [00:00<00:00,  1.84it/s]\n",
      "gold_alpide_53_SC_240m_run2_020121: 100%|██████████| 1/1 [00:00<00:00,  1.92it/s]\n",
      "gold_alpide_53_SC_240m_run7_020121: 100%|██████████| 1/1 [00:00<00:00,  2.06it/s]\n",
      "gold_alpide_53_SC_240m_run8_020121: 100%|██████████| 1/1 [00:00<00:00,  2.05it/s]\n",
      "gold_alpide_53_SC_240m_run5_020121: 100%|██████████| 1/1 [00:00<00:00,  1.59it/s]\n"
     ]
    }
   ],
   "source": [
    "#normalization array from -180° to 180° [steps]\n",
    "ALPIDE_norm=np.zeros(201)\n",
    "Data_folder=\"Data\"\n",
    "\n",
    "Run_Analysis = True\n",
    "\n",
    "#load files of a cartain dataset\n",
    "files=os.listdir(Data_folder + \"/\")\n",
    "for name in files:\n",
    "    if name.startswith(\"gold_alpide\"):\n",
    "        #for gold_ files\n",
    "        #angle=int(name.split('_')[1])*(1 if name.split('_')[2]=='DC' else -1)\n",
    "        # for gold_alpide files\n",
    "        angle=int(name.split('_')[2])*(1 if name.split('_')[3]=='DC' else -1)\n",
    "        file=open(Data_folder+\"/\"+name+\"/Stat_\"+name+\".txt\")\n",
    "        line=file.readlines()\n",
    "        for l in line:\n",
    "            if (l.startswith(\"Readout_time\")):\n",
    "                time=float(l.split('=')[1].strip()[:-1])\n",
    "            if (l.startswith(\"Strobe\")):\n",
    "                Strobe=int(l.split('=')[1].strip()[:-1])\n",
    "            if (l.startswith(\"Gap\")):\n",
    "                Gap=int(l.split('=')[1].strip()[:-1])\n",
    "                \n",
    "        #weight that gives effective exposition time [hours]\n",
    "        weight=3600*(Gap+Strobe)/(Strobe*time)\n",
    "        \n",
    "        #compute the normalization parameter\n",
    "        for i in range(angle-29,angle-4):\n",
    "            ALPIDE_norm[100+i] += 1/weight\n",
    "\n",
    "        #analyze the data\n",
    "        #os.system(\"python Packet_analyzer.py -f \" + name + \" -p -b 1000 -s %i -w %f\" % (angle,weight))\n",
    "        if Run_Analysis:\n",
    "            Args = \"-Df \"+Data_folder+\" -f \"+name+\" -p -A DB -NThr \"+N_Threads+\" -b 1000 -s %i -w %f \"%(angle,weight)\n",
    "            %run 'Packet_analyzer.py' {Args}  "
   ]
  },
  {
   "cell_type": "code",
   "execution_count": 4,
   "metadata": {},
   "outputs": [
    {
     "name": "stdout",
     "output_type": "stream",
     "text": [
      "ERROR in cling::CIFactory::createCI(): cannot extract standard library include paths!\n",
      "Invoking:\n",
      "  LC_ALL=C x86_64-conda-linux-gnu-c++  -O3 -DNDEBUG -xc++ -E -v /dev/null 2>&1 | sed -n -e '/^.include/,${' -e '/^ \\/.*++/p' -e '}'\n",
      "Results was:\n",
      "With exit code 0\n",
      "hadd Target file: Tot_data_tree/Tot_Alide_53SC.root\n",
      "hadd compression setting for all output: 1\n",
      "hadd Source file 1: Analyzed_Data/gold_alpide_53_SC_240m_run10_020121/gold_alpide_53_SC_240m_run10_020121.root\n",
      "hadd Source file 2: Analyzed_Data/gold_alpide_53_SC_240m_run1_020121/gold_alpide_53_SC_240m_run1_020121.root\n",
      "hadd Source file 3: Analyzed_Data/gold_alpide_53_SC_240m_run11_020121/gold_alpide_53_SC_240m_run11_020121.root\n",
      "hadd Source file 4: Analyzed_Data/gold_alpide_53_SC_240m_run12_020121/gold_alpide_53_SC_240m_run12_020121.root\n",
      "hadd Source file 5: Analyzed_Data/gold_alpide_53_SC_240m_run2_020121/gold_alpide_53_SC_240m_run2_020121.root\n",
      "hadd Source file 6: Analyzed_Data/gold_alpide_53_SC_240m_run3_020121/gold_alpide_53_SC_240m_run3_020121.root\n",
      "hadd Source file 7: Analyzed_Data/gold_alpide_53_SC_240m_run4_020121/gold_alpide_53_SC_240m_run4_020121.root\n",
      "hadd Source file 8: Analyzed_Data/gold_alpide_53_SC_240m_run5_020121/gold_alpide_53_SC_240m_run5_020121.root\n",
      "hadd Source file 9: Analyzed_Data/gold_alpide_53_SC_240m_run6_020121/gold_alpide_53_SC_240m_run6_020121.root\n",
      "hadd Source file 10: Analyzed_Data/gold_alpide_53_SC_240m_run7_020121/gold_alpide_53_SC_240m_run7_020121.root\n",
      "hadd Source file 11: Analyzed_Data/gold_alpide_53_SC_240m_run8_020121/gold_alpide_53_SC_240m_run8_020121.root\n",
      "hadd Source file 12: Analyzed_Data/gold_alpide_53_SC_240m_run9_020121/gold_alpide_53_SC_240m_run9_020121.root\n",
      "hadd Target path: Tot_data_tree/Tot_Alide_53SC.root:/\n"
     ]
    }
   ],
   "source": [
    "#merge all the TTree\n",
    "! $ROOTSYS/bin/hadd -f Tot_data_tree/Tot_Alide_53SC.root Analyzed_Data/gold_alpide*/*.root "
   ]
  },
  {
   "cell_type": "code",
   "execution_count": 5,
   "metadata": {},
   "outputs": [],
   "source": [
    "#ROOT.enableJSVis()\n",
    "ROOT.disableJSVis()\n",
    "\n",
    "#convert the TTree in np arrays\n",
    "root_file_1  =ROOT.TFile.Open(\"Tot_data_tree/Tot_Alide_53SC.root\")\n",
    "Data_tree    = root_file_1.Get(\"tree\")\n",
    "#Data_tree.Print()\n",
    "\n",
    "Noise_points = Data_tree.AsMatrix(['Rnoise'])\n",
    "Areas        = Data_tree.AsMatrix(['Rareas'])\n",
    "Means        = Data_tree.AsMatrix(['Rmeanx','Rmeany'])\n",
    "Theta        = Data_tree.AsMatrix(['Rtheta'])\n",
    "Weight       = Data_tree.AsMatrix(['Rweight'])\n",
    "Ratios       = Data_tree.AsMatrix(['Rratios'])"
   ]
  },
  {
   "cell_type": "code",
   "execution_count": 6,
   "metadata": {},
   "outputs": [
    {
     "name": "stdout",
     "output_type": "stream",
     "text": [
      "504.6372765176068 261.12751534927355\n"
     ]
    },
    {
     "data": {
      "image/png": "[encoded data removed]",
      "text/plain": [
       "<IPython.core.display.Image object>"
      ]
     },
     "metadata": {},
     "output_type": "display_data"
    }
   ],
   "source": [
    "hm = ROOT.TH2D('hm','Hitmap',128,0,1024,64,0,512)\n",
    "\n",
    "for coordinate in Means:\n",
    "    hm.Fill(coordinate[0],coordinate[1])\n",
    "    \n",
    "ROOT.gStyle.SetPalette(107)\n",
    "    \n",
    "HC=ROOT.TCanvas()\n",
    "hm.Draw('COLZ')\n",
    "HC.Draw()\n",
    "\n",
    "print(np.mean(Means[:,0]), np.mean(Means[:,1]))"
   ]
  },
  {
   "cell_type": "code",
   "execution_count": 7,
   "metadata": {},
   "outputs": [
    {
     "name": "stderr",
     "output_type": "stream",
     "text": [
      "Info in <TCanvas::Print>: pdf file Area_Histo.pdf has been created\n"
     ]
    },
    {
     "data": {
      "image/png": "[encoded data removed]",
      "text/plain": [
       "<IPython.core.display.Image object>"
      ]
     },
     "metadata": {},
     "output_type": "display_data"
    }
   ],
   "source": [
    "ar_max=int(np.amax(Areas))\n",
    "nbins=int((ar_max-1))\n",
    "arHist,AC=make_histo(Areas,'Area',nbins,1,ar_max)\n",
    "AC.Draw()"
   ]
  },
  {
   "cell_type": "code",
   "execution_count": 8,
   "metadata": {},
   "outputs": [
    {
     "name": "stderr",
     "output_type": "stream",
     "text": [
      "Warning in <TFile::Append>: Replacing existing TH1: Area (Potential memory leak).\n",
      "Info in <TCanvas::Print>: pdf file Area_Histo.pdf has been created\n",
      "Info in <TCanvas::Print>: pdf file PCA_Ratio_Histo.pdf has been created\n"
     ]
    },
    {
     "data": {
      "image/png": "[encoded data removed]",
      "text/plain": [
       "<IPython.core.display.Image object>"
      ]
     },
     "metadata": {},
     "output_type": "display_data"
    },
    {
     "data": {
      "image/png": "[encoded data removed]",
      "text/plain": [
       "<IPython.core.display.Image object>"
      ]
     },
     "metadata": {},
     "output_type": "display_data"
    }
   ],
   "source": [
    "ar_max=int(np.amax(Areas))\n",
    "nbins=int((ar_max-1))\n",
    "ArHist,AC=make_histo(Areas,'Area',nbins,1,ar_max)\n",
    "AC.Draw()\n",
    "\n",
    "r_max=(np.amax(Ratios)+0.5)\n",
    "nbins=150\n",
    "RHist,RC=make_histo(Ratios,'PCA_Ratio',nbins,0.5,r_max)\n",
    "RC.Draw()"
   ]
  },
  {
   "cell_type": "code",
   "execution_count": 9,
   "metadata": {},
   "outputs": [],
   "source": [
    "Area_thr=19\n",
    "Ratio_thr=3\n",
    "\n",
    "xmin = 10\n",
    "xmax = 1013\n",
    "ymin = 10 \n",
    "ymax = 490\n",
    "\n",
    "\n",
    "mask_thr =  np.logical_and (np.squeeze(Areas)      > Area_thr, np.squeeze(Ratios)     < Ratio_thr)\n",
    "mask_x   =  np.logical_and (np.squeeze(Means[:,0]) > xmin    , np.squeeze(Means[:,0]) < xmax     )\n",
    "mask_y   =  np.logical_and (np.squeeze(Means[:,1]) > ymin    , np.squeeze(Means[:,1]) < ymax     )\n",
    "\n",
    "mask = np.logical_and(mask_thr, np.logical_and(mask_x, mask_y))\n",
    "\n",
    "\n",
    "Areas_disc  = Areas [mask]\n",
    "Means_disc  = Means [mask]\n",
    "Theta_disc  = Theta [mask]\n",
    "Weight_disc = Weight[mask]\n",
    "Ratios_disc = Ratios[mask]\n",
    "\n",
    "\n",
    "#A_disc_index = np.where  (Areas<Area_thr)\n",
    "#Areas_disc   = np.delete (Areas ,A_disc_index)\n",
    "#Means_disc   = np.delete (Means ,A_disc_index,axis=0)\n",
    "#Theta_disc   = np.delete (Theta ,A_disc_index)\n",
    "#Weight_disc  = np.delete (Weight,A_disc_index)\n",
    "#Ratios_disc  = np.delete (Ratios,A_disc_index)\n",
    "\n",
    "#R_disc_index=np.where (Ratios_disc>Ratio_thr)\n",
    "#Areas_disc  =np.delete(Areas_disc,R_disc_index)\n",
    "#Means_disc  =np.delete(Means_disc,R_disc_index,axis=0)\n",
    "#Theta_disc  =np.delete(Theta_disc,R_disc_index)\n",
    "#Weight_disc =np.delete(Weight_disc,R_disc_index)\n",
    "#Ratios_disc =np.delete(Ratios_disc,R_disc_index)"
   ]
  },
  {
   "cell_type": "code",
   "execution_count": 10,
   "metadata": {},
   "outputs": [
    {
     "name": "stderr",
     "output_type": "stream",
     "text": [
      "Info in <TCanvas::Print>: png file Graph_images/Theta_histo.png has been created\n"
     ]
    },
    {
     "data": {
      "image/png": "[encoded data removed]",
      "text/plain": [
       "<IPython.core.display.Image object>"
      ]
     },
     "metadata": {},
     "output_type": "display_data"
    }
   ],
   "source": [
    "th_max = (np.amax(Theta_disc))\n",
    "th_min = (np.amin(Theta_disc))\n",
    "nbins  = 50\n",
    "\n",
    "ThHist = ROOT.TH1F('ThHist', 'Theta weighted',nbins,th_min,th_max)\n",
    "\n",
    "alpide_data   = []\n",
    "alpide_weight = []\n",
    "\n",
    "for value,weight in zip(Theta_disc,Weight_disc):\n",
    "    #ThHist.Fill(value,weight/(ALPIDE_norm[int(value*180/(np.pi)/0.9+100)]))\n",
    "    ThHist.Fill(value,1/(ALPIDE_norm[int(value*180/(np.pi)/0.9+100)]))\n",
    "    alpide_data.append(value*180/np.pi)\n",
    "    alpide_weight.append(1/(ALPIDE_norm[int(value*180/(np.pi)/0.9+100)]))\n",
    "    #ThHist.Fill(value,weight)\n",
    "    \n",
    "ThHist.SetStats(False)\n",
    "alpide_data   = np.array(alpide_data  )\n",
    "alpide_weight = np.array(alpide_weight)\n",
    "    \n",
    "TC = ROOT.TCanvas()\n",
    "\n",
    "ThHist.Draw('HIST')\n",
    "TC.SetLogy()\n",
    "TC.Draw()\n",
    "TC.Print('Graph_images/Theta_histo.png')"
   ]
  },
  {
   "cell_type": "code",
   "execution_count": 11,
   "metadata": {},
   "outputs": [
    {
     "name": "stderr",
     "output_type": "stream",
     "text": [
      "Warning in <TFile::Append>: Replacing existing TH1: Area (Potential memory leak).\n",
      "Info in <TCanvas::Print>: pdf file Area_Histo.pdf has been created\n",
      "Info in <TCanvas::Print>: png file Area_histo.png has been created\n",
      "Info in <TCanvas::Print>: pdf file Ratios_Histo.pdf has been created\n"
     ]
    },
    {
     "data": {
      "image/png": "[encoded data removed]",
      "text/plain": [
       "<IPython.core.display.Image object>"
      ]
     },
     "metadata": {},
     "output_type": "display_data"
    },
    {
     "data": {
      "image/png": "[encoded data removed]",
      "text/plain": [
       "<IPython.core.display.Image object>"
      ]
     },
     "metadata": {},
     "output_type": "display_data"
    }
   ],
   "source": [
    "ar_max = int(np.amax(Areas_disc))\n",
    "nbins  = int(ar_max)\n",
    "\n",
    "ArHist,AC=make_histo(Areas_disc,'Area',nbins,1,ar_max+1)\n",
    "AC.Draw()\n",
    "AC.Print('Area_histo.png')\n",
    "\n",
    "r_max   = np.amax(Ratios_disc)\n",
    "nbins   = 100\n",
    "\n",
    "\n",
    "RHist,RC=make_histo(Ratios_disc,'Ratios',nbins,0.95,r_max+0.05)\n",
    "RHist.Draw()\n",
    "RC.Draw()\n",
    "\n",
    "\n",
    "#MxHist = ROOT.TH1F('MxHist', 'X Means',16,0,1023)\n",
    "#\n",
    "#for value in Means_disc[:,0]:\n",
    "#    MxHist.Fill(value)\n",
    "#\n",
    "#MxC=ROOT.TCanvas()\n",
    "#MxHist.Draw()\n",
    "#MxC.Draw()"
   ]
  },
  {
   "cell_type": "markdown",
   "metadata": {},
   "source": [
    "## Compare with simulation"
   ]
  },
  {
   "cell_type": "code",
   "execution_count": 12,
   "metadata": {},
   "outputs": [
    {
     "data": {
      "text/plain": [
       "<matplotlib.legend.Legend at 0x7f817ad530d0>"
      ]
     },
     "execution_count": 12,
     "metadata": {},
     "output_type": "execute_result"
    },
    {
     "data": {
      "image/png": "[encoded data removed]",
      "text/plain": [
       "<Figure size 432x288 with 1 Axes>"
      ]
     },
     "metadata": {
      "needs_background": "light"
     },
     "output_type": "display_data"
    }
   ],
   "source": [
    "alpide_sim= np.loadtxt(\"../../../simulations/notebook/AlpideHistoSim.txt\")\n",
    "alpide_sim= alpide_sim[np.logical_and(alpide_sim[:,0]>min(alpide_data),alpide_sim[:,0]<max(alpide_data))]\n",
    "\n",
    "norm = np.sum(alpide_sim)*(alpide_sim[1,0]-alpide_sim[0,0])\n",
    "\n",
    "plt.hist(alpide_data, weights=alpide_weight, bins=50, density=True, label=\"data\")\n",
    "plt.scatter(alpide_sim[:,0], alpide_sim[:,1]/norm, color='red', zorder=1000, label=\"sim\")\n",
    "plt.vlines(0,0,0.2, color='yellow', zorder=10000)\n",
    "plt.yscale(\"log\")\n",
    "plt.legend()"
   ]
  },
  {
   "cell_type": "markdown",
   "metadata": {},
   "source": [
    "# THR analysis\n",
    "* Noise vs VCASN\n",
    "* Area vs PCA ratio 2D Histo"
   ]
  },
  {
   "cell_type": "code",
   "execution_count": 18,
   "metadata": {},
   "outputs": [],
   "source": [
    "#Run packet analyzer script for all threshold\n",
    "Data_folder_path=\"Data\"\n",
    "files=os.listdir(Data_folder_path+\"/\")\n",
    "for name in files:\n",
    "    if name.startswith('Data_VCASN_'):\n",
    "        #analyze the data\n",
    "        args = \"-f \"+name+\" -Df \"+Data_folder_path+\" -d 1 10 \"\n",
    "        %run 'Packet_analyzer.py' {args}"
   ]
  },
  {
   "cell_type": "code",
   "execution_count": 27,
   "metadata": {},
   "outputs": [],
   "source": [
    "#Noise dependace on VCASN\n",
    "\n",
    "VCASN_val    = []\n",
    "Noise_points = []\n",
    "\n",
    "\n",
    "files=os.listdir(Data_folder_path+\"/\")\n",
    "for name in files:\n",
    "    if name.startswith('Data_VCASN_'):\n",
    "        V_CASN_THR=int(name.split('_')[2], base=16)\n",
    "        VCASN_val = np.append(VCASN_val,V_CASN_THR)\n",
    "        \n",
    "        file=open(\"Data/\"+name+\"/Stat_\"+name+\".txt\")\n",
    "        line=file.readlines()\n",
    "        for l in line:\n",
    "            if (l.startswith(\"Readout_time\")):\n",
    "                time=float(l.split('=')[1].strip()[:-1])\n",
    "            if (l.startswith(\"Strobe\")):\n",
    "                Strobe=int(l.split('=')[1].strip()[:-1])\n",
    "            if (l.startswith(\"Gap\")):\n",
    "                Gap=int(l.split('=')[1].strip()[:-1])\n",
    "        \n",
    "        filename=\"Analyzed_Data/\"+name+\"/\"+name+\".root\"\n",
    "        root_file_1  = ROOT.TFile.Open(filename)\n",
    "        Data_tree    = root_file_1.Get(\"tree\")\n",
    "        Noise        = Data_tree.AsMatrix(['Rnoise'])\n",
    "        Noise_points = np.append(Noise_points,Noise[0]*(Strobe+Gap)/(time*Strobe))\n",
    "        "
   ]
  },
  {
   "cell_type": "code",
   "execution_count": 28,
   "metadata": {},
   "outputs": [
    {
     "data": {
      "image/png": "[encoded data removed]",
      "text/plain": [
       "<IPython.core.display.Image object>"
      ]
     },
     "metadata": {},
     "output_type": "display_data"
    }
   ],
   "source": [
    "#plt.plot(VCASN_val,Noise_points, 'bo')\n",
    "Noise_graph = ROOT.TGraph(len(Noise_points),VCASN_val,Noise_points)\n",
    "\n",
    "Noise_graph.SetMarkerColor(4)\n",
    "Noise_graph.SetMarkerStyle(2)\n",
    "Noise_graph.SetMarkerSize(2)\n",
    "YAxis = Noise_graph.GetYaxis()\n",
    "YAxis.SetRangeUser(-1000,100000)\n",
    "\n",
    "NPC = ROOT.TCanvas()\n",
    "\n",
    "Noise_graph.Draw('AP')\n",
    "NPC.Draw()"
   ]
  },
  {
   "cell_type": "code",
   "execution_count": 31,
   "metadata": {},
   "outputs": [],
   "source": [
    "#convert the TTree in np arrays\n",
    "name        = \"gold_17_DC_30m_run1_251220\"\n",
    "filename    = \"Analyzed_Data/\"+name+\"/\"+name+\".root\"\n",
    "root_file = ROOT.TFile.Open(filename)\n",
    "Data_tree   = root_file.Get(\"tree\")\n",
    "\n",
    "Areas  = Data_tree.AsMatrix(['Rareas'])\n",
    "Means  = Data_tree.AsMatrix(['Rmeanx','Rmeany'])\n",
    "Ratios = Data_tree.AsMatrix(['Rratios'])"
   ]
  },
  {
   "cell_type": "code",
   "execution_count": 32,
   "metadata": {},
   "outputs": [
    {
     "data": {
      "image/png": "[encoded data removed]",
      "text/plain": [
       "<IPython.core.display.Image object>"
      ]
     },
     "metadata": {},
     "output_type": "display_data"
    }
   ],
   "source": [
    "ar_max=int(np.amax(Areas))\n",
    "A_R_Histo = ROOT.TH2D('A_R_Histo','Area vs Ratio',ar_max-2,2,ar_max,40,0.5,10.5)\n",
    "\n",
    "for i in range(len(Areas)):\n",
    "    A_R_Histo.Fill(Areas[i],Ratios[i])\n",
    "    \n",
    "    \n",
    "ARC=ROOT.TCanvas()\n",
    "A_R_Histo.Draw(\"COLZ\")\n",
    "A_R_Histo.SetStats(False)\n",
    "ARC.Draw()"
   ]
  },
  {
   "cell_type": "code",
   "execution_count": null,
   "metadata": {},
   "outputs": [],
   "source": []
  }
 ],
 "metadata": {
  "kernelspec": {
   "display_name": "Python 3",
   "language": "python",
   "name": "python3"
  },
  "language_info": {
   "codemirror_mode": {
    "name": "ipython",
    "version": 3
   },
   "file_extension": ".py",
   "mimetype": "text/x-python",
   "name": "python",
   "nbconvert_exporter": "python",
   "pygments_lexer": "ipython3",
   "version": "3.8.5"
  }
 },
 "nbformat": 4,
 "nbformat_minor": 4
}
