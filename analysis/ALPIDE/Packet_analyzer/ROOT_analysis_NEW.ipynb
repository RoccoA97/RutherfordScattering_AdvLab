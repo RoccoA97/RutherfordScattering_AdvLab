{
 "cells": [
  {
   "cell_type": "code",
   "execution_count": 1,
   "metadata": {},
   "outputs": [
    {
     "name": "stdout",
     "output_type": "stream",
     "text": [
      "Welcome to JupyROOT 6.22/02\n"
     ]
    }
   ],
   "source": [
    "import ROOT\n",
    "import numpy as np\n",
    "import matplotlib.pyplot as plt\n",
    "import sys\n",
    "import os"
   ]
  },
  {
   "cell_type": "code",
   "execution_count": 2,
   "metadata": {},
   "outputs": [],
   "source": [
    "def make_histo(Data_array,Title,nbins,xmin,xmax,save=True):\n",
    "    Histo = ROOT.TH1F(Title,Title,nbins,xmin,xmax)\n",
    "    for value in Data_array:\n",
    "        Histo.Fill(value)\n",
    "\n",
    "    Canv=ROOT.TCanvas()\n",
    "    Histo.Draw()\n",
    "    \n",
    "    if save:\n",
    "        Image_name=Title + '_Histo.pdf'\n",
    "        Canv.Print(Image_name)\n",
    "    \n",
    "    return Histo, Canv"
   ]
  },
  {
   "cell_type": "code",
   "execution_count": 3,
   "metadata": {},
   "outputs": [
    {
     "data": {
      "text/plain": [
       "0"
      ]
     },
     "execution_count": 3,
     "metadata": {},
     "output_type": "execute_result"
    },
    {
     "name": "stdout",
     "output_type": "stream",
     "text": [
      "1 Packet files found\n",
      "Parallel processing with DBSCAN\n",
      "Completeness : 0.0%\n",
      "\n",
      "Estimated noise points= 262\n",
      "Estimated clusters= 1072\n",
      "Estimated mean area= 5.412313432835821\n",
      "Process time =  0.7457761764526367\n",
      "The current working directory is /home/gabriele/GitHub/Rutherford/RutherfordScattering_AdvLab/analysis/ALPIDE/Packet_analyzer\n",
      "Directory /home/gabriele/GitHub/Rutherford/RutherfordScattering_AdvLab/analysis/ALPIDE/Packet_analyzer/Analyzed_Data/gold_47_SC_90m_211220 alredy present\n"
     ]
    }
   ],
   "source": [
    "#name='gold_47_SC_90m_211220'\n",
    "#name.split('_')\n",
    "#\n",
    "#angle=int(name.split('_')[1])*(1 if name.split('_')[2]=='DC' else -1)\n",
    "#\n",
    "#file=open('gold_47_SC_90m_211220/Stat_gold_47_SC_90m_211220.txt')\n",
    "#line=file.readlines()\n",
    "#for l in line:\n",
    "#    if (l.startswith(\"Readout_time\")):\n",
    "#        time=float(l.split('=')[1].strip()[:-1])\n",
    "#    if (l.startswith(\"Strobe\")):\n",
    "#        Strobe=int(l.split('=')[1].strip()[:-1])\n",
    "#    if (l.startswith(\"Gap\")):\n",
    "#        Gap=int(l.split('=')[1].strip()[:-1])\n",
    "#        \n",
    "#weight=3600*(Gap+Strobe)/(Strobe*time)\n",
    "#\n",
    "#os.system(\"python Packet_analyzer.py -f gold_47_SC_90m_211220 -p -A DB -d 1 10 -b 1000 -s %i -w %f \" % (angle,weight))\n"
   ]
  },
  {
   "cell_type": "markdown",
   "metadata": {},
   "source": [
    "# Analysis on a specific dataset"
   ]
  },
  {
   "cell_type": "code",
   "execution_count": null,
   "metadata": {},
   "outputs": [],
   "source": [
    "files=os.listdir()\n",
    "for name in files:\n",
    "    if name.startswith(\"gold_\"):\n",
    "        angle=int(name.split('_')[1])*(1 if name.split('_')[2]=='DC' else -1)\n",
    "\n",
    "        file=open(name+\"/Stat_\"+name+\".txt\")\n",
    "        line=file.readlines()\n",
    "        for l in line:\n",
    "            if (l.startswith(\"Readout_time\")):\n",
    "                time=float(l.split('=')[1].strip()[:-1])\n",
    "            if (l.startswith(\"Strobe\")):\n",
    "                Strobe=int(l.split('=')[1].strip()[:-1])\n",
    "            if (l.startswith(\"Gap\")):\n",
    "                Gap=int(l.split('=')[1].strip()[:-1])\n",
    "                \n",
    "        #weight that gives count/hour\n",
    "        weight=3600*(Gap+Strobe)/(Strobe*time)\n",
    "\n",
    "        os.system(\"python Packet_analyzer.py -f \" + name + \" -p -A DB -d 1 10 -b 1000 -s %i -w %f \" % (angle,weight))"
   ]
  },
  {
   "cell_type": "code",
   "execution_count": null,
   "metadata": {},
   "outputs": [],
   "source": [
    "! $ROOTSYS/bin/hadd Tot_63_2.root Analyzed_Data/gold_*/*.root"
   ]
  },
  {
   "cell_type": "markdown",
   "metadata": {},
   "source": [
    "# Analysis with normalization (time and Strobe parameters)"
   ]
  },
  {
   "cell_type": "code",
   "execution_count": 6,
   "metadata": {},
   "outputs": [
    {
     "name": "stderr",
     "output_type": "stream",
     "text": [
      "gold_59_SC_240m_201220: 100%|██████████| 1/1 [00:00<00:00,  1.27it/s]\n",
      "gold_27_DC_30m_run1_231220: 100%|██████████| 1/1 [00:14<00:00, 14.91s/it]\n",
      "gold_53_SC_90m_211220: 100%|██████████| 1/1 [00:00<00:00,  2.10it/s]\n",
      "gold_21_SC_60m_221220: 100%|██████████| 1/1 [00:00<00:00,  2.27it/s]\n",
      "gold_49_SC_90m_211220: 100%|██████████| 1/1 [00:00<00:00,  2.40it/s]\n",
      "gold_27_DC_30m_run8_231220: 100%|██████████| 1/1 [00:14<00:00, 14.54s/it]\n",
      "gold_17_SC_90m_221220: 100%|██████████| 1/1 [00:00<00:00,  1.74it/s]\n",
      "gold_7_DC_30m_run3_271220: 100%|██████████| 1/1 [00:11<00:00, 11.61s/it]\n",
      "gold_17_DC_30m_run6_251220: 100%|██████████| 1/1 [00:21<00:00, 21.59s/it]\n",
      "gold_27_DC_30m_run2_231220: 100%|██████████| 1/1 [00:15<00:00, 15.01s/it]\n",
      "gold_27_DC_30m_run3_231220: 100%|██████████| 1/1 [00:14<00:00, 14.35s/it]\n",
      "gold_15_SC_90m_221220: 100%|██████████| 1/1 [00:00<00:00,  1.51it/s]\n",
      "gold_5_SC_150m_231220: 100%|██████████| 1/1 [00:12<00:00, 12.47s/it]\n",
      "gold_61_SC_240m_201220: 100%|██████████| 1/1 [00:00<00:00,  1.17it/s]\n",
      "gold_17_DC_30m_run5_251220: 100%|██████████| 1/1 [00:20<00:00, 20.78s/it]\n",
      "gold_7_DC_30m_run4_271220: 100%|██████████| 1/1 [00:12<00:00, 12.64s/it]\n",
      "gold_17_DC_30m_run1_251220: 100%|██████████| 1/1 [00:20<00:00, 20.92s/it]\n",
      "gold_7_DC_30m_run2_271220: 100%|██████████| 1/1 [00:11<00:00, 11.80s/it]\n",
      "gold_63_SC_90m_201220: 100%|██████████| 1/1 [00:00<00:00,  2.00it/s]\n",
      "gold_7_DC_30m_run1_271220: 100%|██████████| 1/1 [00:12<00:00, 12.40s/it]\n",
      "gold_27_DC_30m_run11_231220: 100%|██████████| 1/1 [00:15<00:00, 15.75s/it]\n",
      "gold_27_DC_30m_run6_231220: 100%|██████████| 1/1 [00:15<00:00, 15.33s/it]\n",
      "gold_9_SC_150m_221220: 100%|██████████| 1/1 [00:01<00:00,  1.47s/it]\n",
      "gold_3_SC_60m_231220: 100%|██████████| 1/1 [00:07<00:00,  7.89s/it]\n",
      "gold_51_SC_90m_211220: 100%|██████████| 1/1 [00:00<00:00,  1.83it/s]\n",
      "gold_27_DC_30m_run5_231220: 100%|██████████| 1/1 [00:16<00:00, 16.75s/it]\n",
      "gold_17_DC_30m_run3_251220: 100%|██████████| 1/1 [00:21<00:00, 21.05s/it]\n",
      "gold_19_SC_90m_221220: 100%|██████████| 1/1 [00:00<00:00,  1.43it/s]\n",
      "gold_45_SC_90m_211220: 100%|██████████| 1/1 [00:00<00:00,  1.34it/s]\n",
      "gold_17_DC_30m_run2_251220: 100%|██████████| 1/1 [00:21<00:00, 21.68s/it]\n",
      "gold_11_SC_150m_221220: 100%|██████████| 1/1 [00:01<00:00,  1.22s/it]\n",
      "gold_7_SC_240m_231220: 100%|██████████| 1/1 [00:05<00:00,  5.88s/it]\n",
      "gold_13_SC_60m_221220: 100%|██████████| 1/1 [00:00<00:00,  1.58it/s]\n",
      "gold_27_DC_30m_run9_231220: 100%|██████████| 1/1 [00:16<00:00, 16.95s/it]\n",
      "gold_47_SC_90m_211220: 100%|██████████| 1/1 [00:00<00:00,  1.62it/s]\n",
      "gold_27_DC_30m_run4_231220: 100%|██████████| 1/1 [00:16<00:00, 16.89s/it]\n",
      "gold_27_DC_30m_run10_231220: 100%|██████████| 1/1 [00:15<00:00, 15.77s/it]\n",
      "gold_27_DC_30m_run7_231220: 100%|██████████| 1/1 [00:15<00:00, 15.62s/it]\n",
      "gold_17_DC_30m_run4_251220: 100%|██████████| 1/1 [00:21<00:00, 21.74s/it]\n"
     ]
    }
   ],
   "source": [
    "#normalization array from -180° to 180° [steps]\n",
    "ALPIDE_norm=np.zeros(201)\n",
    "\n",
    "#load files of a cartain dataset\n",
    "files=os.listdir()\n",
    "for name in files:\n",
    "    if name.startswith(\"gold_\"):\n",
    "        angle=int(name.split('_')[1])*(1 if name.split('_')[2]=='DC' else -1)\n",
    "        file=open(name+\"/Stat_\"+name+\".txt\")\n",
    "        line=file.readlines()\n",
    "        for l in line:\n",
    "            if (l.startswith(\"Readout_time\")):\n",
    "                time=float(l.split('=')[1].strip()[:-1])\n",
    "            if (l.startswith(\"Strobe\")):\n",
    "                Strobe=int(l.split('=')[1].strip()[:-1])\n",
    "            if (l.startswith(\"Gap\")):\n",
    "                Gap=int(l.split('=')[1].strip()[:-1])\n",
    "                \n",
    "        #weight that gives effective exposition time [hours]\n",
    "        weight=3600*(Gap+Strobe)/(Strobe*time)\n",
    "        \n",
    "        #compute the normalization parameter\n",
    "        for i in range(angle-29,angle-4):\n",
    "            ALPIDE_norm[100+i] += 1/weight\n",
    "\n",
    "        #analyze the data\n",
    "        #os.system(\"python Packet_analyzer.py -f \" + name + \" -p -b 1000 -s %i -w %f\" % (angle,weight))\n",
    "        Args = \"-f \" + name + \" -p -A DB -b 1000 -s %i -w %f \" % (angle,weight)\n",
    "        %run 'Packet_analyzer.py' {Args}\n",
    "        \n",
    "        "
   ]
  },
  {
   "cell_type": "code",
   "execution_count": 7,
   "metadata": {},
   "outputs": [
    {
     "name": "stdout",
     "output_type": "stream",
     "text": [
      "hadd Target file: Tot_.root\n",
      "hadd compression setting for all output: 1\n",
      "hadd Source file 1: Analyzed_Data/gold_11_SC_150m_221220/gold_11_SC_150m_221220.root\n",
      "hadd Source file 2: Analyzed_Data/gold_13_SC_60m_221220/gold_13_SC_60m_221220.root\n",
      "hadd Source file 3: Analyzed_Data/gold_15_SC_90m_221220/gold_15_SC_90m_221220.root\n",
      "hadd Source file 4: Analyzed_Data/gold_17_DC_30m_run1_251220/gold_17_DC_30m_run1_251220.root\n",
      "hadd Source file 5: Analyzed_Data/gold_17_DC_30m_run2_251220/gold_17_DC_30m_run2_251220.root\n",
      "hadd Source file 6: Analyzed_Data/gold_17_DC_30m_run3_251220/gold_17_DC_30m_run3_251220.root\n",
      "hadd Source file 7: Analyzed_Data/gold_17_DC_30m_run4_251220/gold_17_DC_30m_run4_251220.root\n",
      "hadd Source file 8: Analyzed_Data/gold_17_DC_30m_run5_251220/gold_17_DC_30m_run5_251220.root\n",
      "hadd Source file 9: Analyzed_Data/gold_17_DC_30m_run6_251220/gold_17_DC_30m_run6_251220.root\n",
      "hadd Source file 10: Analyzed_Data/gold_17_SC_90m_221220/gold_17_SC_90m_221220.root\n",
      "hadd Source file 11: Analyzed_Data/gold_19_SC_90m_221220/gold_19_SC_90m_221220.root\n",
      "hadd Source file 12: Analyzed_Data/gold_21_SC_60m_221220/gold_21_SC_60m_221220.root\n",
      "hadd Source file 13: Analyzed_Data/gold_27_DC_30m_run10_231220/gold_27_DC_30m_run10_231220.root\n",
      "hadd Source file 14: Analyzed_Data/gold_27_DC_30m_run11_231220/gold_27_DC_30m_run11_231220.root\n",
      "hadd Source file 15: Analyzed_Data/gold_27_DC_30m_run1_231220/gold_27_DC_30m_run1_231220.root\n",
      "hadd Source file 16: Analyzed_Data/gold_27_DC_30m_run2_231220/gold_27_DC_30m_run2_231220.root\n",
      "hadd Source file 17: Analyzed_Data/gold_27_DC_30m_run3_231220/gold_27_DC_30m_run3_231220.root\n",
      "hadd Source file 18: Analyzed_Data/gold_27_DC_30m_run4_231220/gold_27_DC_30m_run4_231220.root\n",
      "hadd Source file 19: Analyzed_Data/gold_27_DC_30m_run5_231220/gold_27_DC_30m_run5_231220.root\n",
      "hadd Source file 20: Analyzed_Data/gold_27_DC_30m_run6_231220/gold_27_DC_30m_run6_231220.root\n",
      "hadd Source file 21: Analyzed_Data/gold_27_DC_30m_run7_231220/gold_27_DC_30m_run7_231220.root\n",
      "hadd Source file 22: Analyzed_Data/gold_27_DC_30m_run8_231220/gold_27_DC_30m_run8_231220.root\n",
      "hadd Source file 23: Analyzed_Data/gold_27_DC_30m_run9_231220/gold_27_DC_30m_run9_231220.root\n",
      "hadd Source file 24: Analyzed_Data/gold_3_SC_60m_231220/gold_3_SC_60m_231220.root\n",
      "hadd Source file 25: Analyzed_Data/gold_45_SC_90m_211220/gold_45_SC_90m_211220.root\n",
      "hadd Source file 26: Analyzed_Data/gold_47_SC_90m_211220/gold_47_SC_90m_211220.root\n",
      "hadd Source file 27: Analyzed_Data/gold_49_SC_90m_211220/gold_49_SC_90m_211220.root\n",
      "hadd Source file 28: Analyzed_Data/gold_51_SC_90m_211220/gold_51_SC_90m_211220.root\n",
      "hadd Source file 29: Analyzed_Data/gold_53_SC_90m_211220/gold_53_SC_90m_211220.root\n",
      "hadd Source file 30: Analyzed_Data/gold_59_SC_240m_201220/gold_59_SC_240m_201220.root\n",
      "hadd Source file 31: Analyzed_Data/gold_5_SC_150m_231220/gold_5_SC_150m_231220.root\n",
      "hadd Source file 32: Analyzed_Data/gold_61_SC_240m_201220/gold_61_SC_240m_201220.root\n",
      "hadd Source file 33: Analyzed_Data/gold_63_SC_90m_201220/gold_63_SC_90m_201220.root\n",
      "hadd Source file 34: Analyzed_Data/gold_7_DC_30m_run1_271220/gold_7_DC_30m_run1_271220.root\n",
      "hadd Source file 35: Analyzed_Data/gold_7_DC_30m_run2_271220/gold_7_DC_30m_run2_271220.root\n",
      "hadd Source file 36: Analyzed_Data/gold_7_DC_30m_run3_271220/gold_7_DC_30m_run3_271220.root\n",
      "hadd Source file 37: Analyzed_Data/gold_7_DC_30m_run4_271220/gold_7_DC_30m_run4_271220.root\n",
      "hadd Source file 38: Analyzed_Data/gold_7_SC_240m_231220/gold_7_SC_240m_231220.root\n",
      "hadd Source file 39: Analyzed_Data/gold_9_SC_150m_221220/gold_9_SC_150m_221220.root\n",
      "hadd Target path: Tot_.root:/\n"
     ]
    }
   ],
   "source": [
    "#merge all the TTree\n",
    "! $ROOTSYS/bin/hadd -f Tot_.root Analyzed_Data/gold_*/*.root "
   ]
  },
  {
   "cell_type": "code",
   "execution_count": 26,
   "metadata": {},
   "outputs": [
    {
     "name": "stdout",
     "output_type": "stream",
     "text": [
      "******************************************************************************\n",
      "*Tree    :tree      : file                                                   *\n",
      "*Entries :   917985 : Total =        25795579 bytes  File  Size =   11186141 *\n",
      "*        :          : Tree compression factor =   2.31                       *\n",
      "******************************************************************************\n",
      "*Br    0 :Rnoise    : Rnoise/F                                               *\n",
      "*Entries :   917985 : Total  Size=    3684990 bytes  File Size  =      33229 *\n",
      "*Baskets :      137 : Basket Size=      32000 bytes  Compression= 110.81     *\n",
      "*............................................................................*\n",
      "*Br    1 :Rareas    : Rareas/F                                               *\n",
      "*Entries :   917985 : Total  Size=    3684990 bytes  File Size  =    1183735 *\n",
      "*Baskets :      137 : Basket Size=      32000 bytes  Compression=   3.11     *\n",
      "*............................................................................*\n",
      "*Br    2 :Rmeanx    : Rmeanx/F                                               *\n",
      "*Entries :   917985 : Total  Size=    3684990 bytes  File Size  =    2743952 *\n",
      "*Baskets :      137 : Basket Size=      32000 bytes  Compression=   1.34     *\n",
      "*............................................................................*\n",
      "*Br    3 :Rmeany    : Rmeany/F                                               *\n",
      "*Entries :   917985 : Total  Size=    3684990 bytes  File Size  =    2646364 *\n",
      "*Baskets :      137 : Basket Size=      32000 bytes  Compression=   1.39     *\n",
      "*............................................................................*\n",
      "*Br    4 :Rtheta    : Rtheta/F                                               *\n",
      "*Entries :   917985 : Total  Size=    3684990 bytes  File Size  =    3077720 *\n",
      "*Baskets :      137 : Basket Size=      32000 bytes  Compression=   1.20     *\n",
      "*............................................................................*\n",
      "*Br    5 :Rweight   : Rweight/F                                              *\n",
      "*Entries :   917985 : Total  Size=    3685131 bytes  File Size  =      33414 *\n",
      "*Baskets :      137 : Basket Size=      32000 bytes  Compression= 110.20     *\n",
      "*............................................................................*\n",
      "*Br    6 :Rratios   : Rratios/F                                              *\n",
      "*Entries :   917985 : Total  Size=    3685131 bytes  File Size  =    1460260 *\n",
      "*Baskets :      137 : Basket Size=      32000 bytes  Compression=   2.52     *\n",
      "*............................................................................*\n"
     ]
    }
   ],
   "source": [
    "#ROOT.enableJSVis()\n",
    "ROOT.disableJSVis()\n",
    "\n",
    "#convert the TTree in np arrays\n",
    "root_file_1  =ROOT.TFile.Open(\"Tot_.root\")\n",
    "Data_tree    = root_file_1.Get(\"tree\")\n",
    "Data_tree.Print()\n",
    "\n",
    "Noise_points = Data_tree.AsMatrix(['Rnoise'])\n",
    "Areas        = Data_tree.AsMatrix(['Rareas'])\n",
    "Means        = Data_tree.AsMatrix(['Rmeanx','Rmeany'])\n",
    "Theta        = Data_tree.AsMatrix(['Rtheta'])\n",
    "Weight       = Data_tree.AsMatrix(['Rweight'])\n",
    "Ratios       = Data_tree.AsMatrix(['Rratios'])"
   ]
  },
  {
   "cell_type": "code",
   "execution_count": 27,
   "metadata": {},
   "outputs": [
    {
     "data": {
      "image/png": "[encoded data removed]",
      "text/plain": [
       "<IPython.core.display.Image object>"
      ]
     },
     "metadata": {},
     "output_type": "display_data"
    }
   ],
   "source": [
    "hm = ROOT.TH2D('hm','Hitmap',128,0,1024,64,0,512)\n",
    "\n",
    "for coordinate in Means:\n",
    "    hm.Fill(coordinate[0],coordinate[1])\n",
    "    \n",
    "ROOT.gStyle.SetPalette(107)\n",
    "    \n",
    "HC=ROOT.TCanvas()\n",
    "hm.Draw('COLZ')\n",
    "HC.Draw()"
   ]
  },
  {
   "cell_type": "code",
   "execution_count": 28,
   "metadata": {},
   "outputs": [
    {
     "name": "stderr",
     "output_type": "stream",
     "text": [
      "Info in <TCanvas::Print>: pdf file Area_Histo.pdf has been created\n"
     ]
    },
    {
     "data": {
      "image/png": "[encoded data removed]",
      "text/plain": [
       "<IPython.core.display.Image object>"
      ]
     },
     "metadata": {},
     "output_type": "display_data"
    }
   ],
   "source": [
    "ar_max=int(np.amax(Areas))\n",
    "nbins=int((ar_max-1))\n",
    "arHist,AC=make_histo(Areas,'Area',nbins,1,ar_max)\n",
    "AC.Draw()"
   ]
  },
  {
   "cell_type": "code",
   "execution_count": 29,
   "metadata": {},
   "outputs": [
    {
     "name": "stderr",
     "output_type": "stream",
     "text": [
      "Warning in <TFile::Append>: Replacing existing TH1: Area (Potential memory leak).\n",
      "Info in <TCanvas::Print>: pdf file Area_Histo.pdf has been created\n",
      "Info in <TCanvas::Print>: pdf file PCA_Ratio_Histo.pdf has been created\n"
     ]
    },
    {
     "data": {
      "image/png": "[encoded data removed]",
      "text/plain": [
       "<IPython.core.display.Image object>"
      ]
     },
     "metadata": {},
     "output_type": "display_data"
    },
    {
     "data": {
      "image/png": "[encoded data removed]",
      "text/plain": [
       "<IPython.core.display.Image object>"
      ]
     },
     "metadata": {},
     "output_type": "display_data"
    }
   ],
   "source": [
    "ar_max=int(np.amax(Areas))\n",
    "nbins=int((ar_max-1))\n",
    "ArHist,AC=make_histo(Areas,'Area',nbins,1,ar_max)\n",
    "AC.Draw()\n",
    "\n",
    "r_max=(np.amax(Ratios)+0.5)\n",
    "nbins=150\n",
    "RHist,RC=make_histo(Ratios,'PCA_Ratio',nbins,0.5,r_max)\n",
    "RC.Draw()"
   ]
  },
  {
   "cell_type": "code",
   "execution_count": 30,
   "metadata": {},
   "outputs": [],
   "source": [
    "Area_thr=12\n",
    "Ratio_thr=3\n",
    "\n",
    "xmin = 10\n",
    "xmax = 1013\n",
    "ymin = 10 \n",
    "ymax = 490\n",
    "\n",
    "\n",
    "mask_thr =  np.logical_and (np.squeeze(Areas)      > Area_thr, np.squeeze(Ratios)     < Ratio_thr)\n",
    "mask_x   =  np.logical_and (np.squeeze(Means[:,0]) > xmin    , np.squeeze(Means[:,0]) < xmax     )\n",
    "mask_y   =  np.logical_and (np.squeeze(Means[:,1]) > ymin    , np.squeeze(Means[:,1]) < ymax     )\n",
    "\n",
    "mask = np.logical_and(mask_thr, np.logical_and(mask_x, mask_y))\n",
    "\n",
    "\n",
    "Areas_disc  = Areas [mask]\n",
    "Means_disc  = Means [mask]\n",
    "Theta_disc  = Theta [mask]\n",
    "Weight_disc = Weight[mask]\n",
    "Ratios_disc = Ratios[mask]\n",
    "\n",
    "\n",
    "#A_disc_index = np.where  (Areas<Area_thr)\n",
    "#Areas_disc   = np.delete (Areas ,A_disc_index)\n",
    "#Means_disc   = np.delete (Means ,A_disc_index,axis=0)\n",
    "#Theta_disc   = np.delete (Theta ,A_disc_index)\n",
    "#Weight_disc  = np.delete (Weight,A_disc_index)\n",
    "#Ratios_disc  = np.delete (Ratios,A_disc_index)\n",
    "\n",
    "#R_disc_index=np.where (Ratios_disc>Ratio_thr)\n",
    "#Areas_disc  =np.delete(Areas_disc,R_disc_index)\n",
    "#Means_disc  =np.delete(Means_disc,R_disc_index,axis=0)\n",
    "#Theta_disc  =np.delete(Theta_disc,R_disc_index)\n",
    "#Weight_disc =np.delete(Weight_disc,R_disc_index)\n",
    "#Ratios_disc =np.delete(Ratios_disc,R_disc_index)"
   ]
  },
  {
   "cell_type": "code",
   "execution_count": 31,
   "metadata": {},
   "outputs": [
    {
     "name": "stderr",
     "output_type": "stream",
     "text": [
      "Info in <TCanvas::Print>: png file Theta_histo.png has been created\n"
     ]
    },
    {
     "data": {
      "image/png": "[encoded data removed]",
      "text/plain": [
       "<IPython.core.display.Image object>"
      ]
     },
     "metadata": {},
     "output_type": "display_data"
    }
   ],
   "source": [
    "th_max = (np.amax(Theta_disc))\n",
    "th_min = (np.amin(Theta_disc))\n",
    "nbins  = 50\n",
    "\n",
    "ThHist = ROOT.TH1F('ThHist', 'Theta weighted',nbins,th_min,th_max)\n",
    "\n",
    "for value,weight in zip(Theta_disc,Weight_disc):\n",
    "    #ThHist.Fill(value,weight/(ALPIDE_norm[int(value*180/(np.pi)/0.9+100)]))\n",
    "    ThHist.Fill(value,1/(ALPIDE_norm[int(value*180/(np.pi)/0.9+100)]))\n",
    "    #ThHist.Fill(value,weight)\n",
    "    \n",
    "ThHist.SetStats(False)\n",
    "    \n",
    "TC = ROOT.TCanvas()\n",
    "\n",
    "ThHist.Draw('HIST')\n",
    "TC.SetLogy()\n",
    "TC.Draw()\n",
    "TC.Print('Theta_histo.png')"
   ]
  },
  {
   "cell_type": "code",
   "execution_count": 32,
   "metadata": {},
   "outputs": [
    {
     "name": "stderr",
     "output_type": "stream",
     "text": [
      "Warning in <TFile::Append>: Replacing existing TH1: Area (Potential memory leak).\n",
      "Info in <TCanvas::Print>: pdf file Area_Histo.pdf has been created\n",
      "Info in <TCanvas::Print>: png file Area_histo.png has been created\n",
      "Info in <TCanvas::Print>: pdf file Ratios_Histo.pdf has been created\n"
     ]
    },
    {
     "data": {
      "image/png": "[encoded data removed]",
      "text/plain": [
       "<IPython.core.display.Image object>"
      ]
     },
     "metadata": {},
     "output_type": "display_data"
    },
    {
     "data": {
      "image/png": "[encoded data removed]",
      "text/plain": [
       "<IPython.core.display.Image object>"
      ]
     },
     "metadata": {},
     "output_type": "display_data"
    }
   ],
   "source": [
    "ar_max = int(np.amax(Areas_disc))\n",
    "nbins  = int(ar_max)\n",
    "\n",
    "ArHist,AC=make_histo(Areas_disc,'Area',nbins,1,ar_max+1)\n",
    "AC.Draw()\n",
    "AC.Print('Area_histo.png')\n",
    "\n",
    "r_max   = np.amax(Ratios_disc)\n",
    "nbins   = 100\n",
    "\n",
    "\n",
    "RHist,RC=make_histo(Ratios_disc,'Ratios',nbins,0.95,r_max+0.05)\n",
    "RHist.Draw()\n",
    "RC.Draw()\n",
    "\n",
    "\n",
    "#MxHist = ROOT.TH1F('MxHist', 'X Means',16,0,1023)\n",
    "#\n",
    "#for value in Means_disc[:,0]:\n",
    "#    MxHist.Fill(value)\n",
    "#\n",
    "#MxC=ROOT.TCanvas()\n",
    "#MxHist.Draw()\n",
    "#MxC.Draw()"
   ]
  },
  {
   "cell_type": "markdown",
   "metadata": {},
   "source": [
    "# THR analysis\n",
    "* Noise vs VCASN\n",
    "* Area vs PCA ratio 2D Histo"
   ]
  },
  {
   "cell_type": "code",
   "execution_count": 38,
   "metadata": {},
   "outputs": [
    {
     "name": "stderr",
     "output_type": "stream",
     "text": [
      "Data_VCASN_41: 100%|██████████| 2/2 [00:35<00:00, 17.73s/it]\n",
      "Data_VCASN_30: 100%|██████████| 1/1 [00:10<00:00, 10.68s/it]\n",
      "Data_VCASN_3D: 100%|██████████| 1/1 [00:05<00:00,  5.82s/it]\n",
      "Data_VCASN_35: 100%|██████████| 1/1 [00:05<00:00,  5.37s/it]\n",
      "Data_VCASN_3E: 100%|██████████| 1/1 [00:16<00:00, 16.71s/it]\n",
      "Data_VCASN_39: 100%|██████████| 1/1 [00:05<00:00,  5.57s/it]\n",
      "Data_VCASN_29: 100%|██████████| 1/1 [00:04<00:00,  4.80s/it]\n",
      "Data_VCASN_2D: 100%|██████████| 1/1 [00:05<00:00,  5.12s/it]\n",
      "Data_VCASN_31: 100%|██████████| 1/1 [00:05<00:00,  5.18s/it]\n",
      "Data_VCASN_49: 100%|██████████| 2/2 [00:44<00:00, 22.04s/it]\n",
      "Data_VCASN_45: 100%|██████████| 2/2 [00:54<00:00, 27.35s/it]\n"
     ]
    }
   ],
   "source": [
    "#Run packet analyzer script for all threshold\n",
    "files=os.listdir()\n",
    "for name in files:\n",
    "    if name.startswith('Data_VCASN_'):\n",
    "        #analyze the data\n",
    "        args = \"-f \" + name + \" -d 1 10 \"\n",
    "        %run 'Packet_analyzer.py' {args}"
   ]
  },
  {
   "cell_type": "code",
   "execution_count": 39,
   "metadata": {},
   "outputs": [],
   "source": [
    "#Noise dependace on VCASN\n",
    "\n",
    "VCASN_val    = []\n",
    "Noise_points = []\n",
    "\n",
    "\n",
    "files=os.listdir()\n",
    "for name in files:\n",
    "    if name.startswith('Data_VCASN_'):\n",
    "        V_CASN_THR=int(name.split('_')[2], base=16)\n",
    "        VCASN_val = np.append(VCASN_val,V_CASN_THR)\n",
    "        \n",
    "        file=open(name+\"/Stat_\"+name+\".txt\")\n",
    "        line=file.readlines()\n",
    "        for l in line:\n",
    "            if (l.startswith(\"Readout_time\")):\n",
    "                time=float(l.split('=')[1].strip()[:-1])\n",
    "            if (l.startswith(\"Strobe\")):\n",
    "                Strobe=int(l.split('=')[1].strip()[:-1])\n",
    "            if (l.startswith(\"Gap\")):\n",
    "                Gap=int(l.split('=')[1].strip()[:-1])\n",
    "        \n",
    "        filename=\"Analyzed_Data/\"+name+\"/\"+name+\".root\"\n",
    "        root_file_1  = ROOT.TFile.Open(filename)\n",
    "        Data_tree    = root_file_1.Get(\"tree\")\n",
    "        Noise        = Data_tree.AsMatrix(['Rnoise'])\n",
    "        Noise_points = np.append(Noise_points,Noise[0]*(Strobe+Gap)/(time*Strobe))\n",
    "        "
   ]
  },
  {
   "cell_type": "code",
   "execution_count": 40,
   "metadata": {},
   "outputs": [
    {
     "data": {
      "image/png": "[encoded data removed]",
      "text/plain": [
       "<IPython.core.display.Image object>"
      ]
     },
     "metadata": {},
     "output_type": "display_data"
    }
   ],
   "source": [
    "#plt.plot(VCASN_val,Noise_points, 'bo')\n",
    "Noise_graph = ROOT.TGraph(len(Noise_points),VCASN_val,Noise_points)\n",
    "\n",
    "Noise_graph.SetMarkerColor(4)\n",
    "Noise_graph.SetMarkerStyle(2)\n",
    "Noise_graph.SetMarkerSize(2)\n",
    "YAxis = Noise_graph.GetYaxis()\n",
    "YAxis.SetRangeUser(-1000,100000)\n",
    "\n",
    "NPC         = ROOT.TCanvas()\n",
    "\n",
    "Noise_graph.Draw('AP')\n",
    "NPC.Draw()"
   ]
  },
  {
   "cell_type": "code",
   "execution_count": 41,
   "metadata": {},
   "outputs": [
    {
     "ename": "ReferenceError",
     "evalue": "attempt to access a null-pointer",
     "output_type": "error",
     "traceback": [
      "\u001b[0;31m---------------------------------------------------------------------------\u001b[0m",
      "\u001b[0;31mReferenceError\u001b[0m                            Traceback (most recent call last)",
      "\u001b[0;32m<ipython-input-41-4ee8be5872d0>\u001b[0m in \u001b[0;36m<module>\u001b[0;34m\u001b[0m\n\u001b[1;32m      3\u001b[0m \u001b[0mfilename\u001b[0m    \u001b[0;34m=\u001b[0m \u001b[0;34m\"Analyzed_Data/\"\u001b[0m\u001b[0;34m+\u001b[0m\u001b[0mname\u001b[0m\u001b[0;34m+\u001b[0m\u001b[0;34m\"/\"\u001b[0m\u001b[0;34m+\u001b[0m\u001b[0mname\u001b[0m\u001b[0;34m+\u001b[0m\u001b[0;34m\".root\"\u001b[0m\u001b[0;34m\u001b[0m\u001b[0;34m\u001b[0m\u001b[0m\n\u001b[1;32m      4\u001b[0m \u001b[0mroot_file\u001b[0m \u001b[0;34m=\u001b[0m \u001b[0mROOT\u001b[0m\u001b[0;34m.\u001b[0m\u001b[0mTFile\u001b[0m\u001b[0;34m.\u001b[0m\u001b[0mOpen\u001b[0m\u001b[0;34m(\u001b[0m\u001b[0mfilename\u001b[0m\u001b[0;34m)\u001b[0m\u001b[0;34m\u001b[0m\u001b[0;34m\u001b[0m\u001b[0m\n\u001b[0;32m----> 5\u001b[0;31m \u001b[0mData_tree\u001b[0m   \u001b[0;34m=\u001b[0m \u001b[0mroot_file\u001b[0m\u001b[0;34m.\u001b[0m\u001b[0mGet\u001b[0m\u001b[0;34m(\u001b[0m\u001b[0;34m\"tree\"\u001b[0m\u001b[0;34m)\u001b[0m\u001b[0;34m\u001b[0m\u001b[0;34m\u001b[0m\u001b[0m\n\u001b[0m\u001b[1;32m      6\u001b[0m \u001b[0;34m\u001b[0m\u001b[0m\n\u001b[1;32m      7\u001b[0m \u001b[0mAreas\u001b[0m  \u001b[0;34m=\u001b[0m \u001b[0mData_tree\u001b[0m\u001b[0;34m.\u001b[0m\u001b[0mAsMatrix\u001b[0m\u001b[0;34m(\u001b[0m\u001b[0;34m[\u001b[0m\u001b[0;34m'Rareas'\u001b[0m\u001b[0;34m]\u001b[0m\u001b[0;34m)\u001b[0m\u001b[0;34m\u001b[0m\u001b[0;34m\u001b[0m\u001b[0m\n",
      "\u001b[0;31mReferenceError\u001b[0m: attempt to access a null-pointer"
     ]
    },
    {
     "name": "stderr",
     "output_type": "stream",
     "text": [
      "Error in <TFile::TFile>: file Analyzed_Data/VC/VC.root does not exist\n"
     ]
    }
   ],
   "source": [
    "#convert the TTree in np arrays\n",
    "name        = \"VC\"\n",
    "filename    = \"Analyzed_Data/\"+name+\"/\"+name+\".root\"\n",
    "root_file = ROOT.TFile.Open(filename)\n",
    "Data_tree   = root_file.Get(\"tree\")\n",
    "\n",
    "Areas  = Data_tree.AsMatrix(['Rareas'])\n",
    "Means  = Data_tree.AsMatrix(['Rmeanx','Rmeany'])\n",
    "Ratios = Data_tree.AsMatrix(['Rratios'])"
   ]
  },
  {
   "cell_type": "code",
   "execution_count": null,
   "metadata": {},
   "outputs": [],
   "source": [
    "ar_max=int(np.amax(Areas))\n",
    "A_R_Histo = ROOT.TH2D('A_R_Histo','Area vs Ratio',ar_max-2,2,ar_max,40,0.5,10.5)\n",
    "\n",
    "for i in range(len(Areas)):\n",
    "    A_R_Histo.Fill(Areas[i],Ratios[i])\n",
    "    \n",
    "    \n",
    "ARC=ROOT.TCanvas()\n",
    "A_R_Histo.Draw(\"COLZ\")\n",
    "A_R_Histo.SetStats(False)\n",
    "ARC.Draw()"
   ]
  },
  {
   "cell_type": "code",
   "execution_count": null,
   "metadata": {},
   "outputs": [],
   "source": []
  }
 ],
 "metadata": {
  "kernelspec": {
   "display_name": "Python 3",
   "language": "python",
   "name": "python3"
  },
  "language_info": {
   "codemirror_mode": {
    "name": "ipython",
    "version": 3
   },
   "file_extension": ".py",
   "mimetype": "text/x-python",
   "name": "python",
   "nbconvert_exporter": "python",
   "pygments_lexer": "ipython3",
   "version": "3.9.0"
  }
 },
 "nbformat": 4,
 "nbformat_minor": 4
}
