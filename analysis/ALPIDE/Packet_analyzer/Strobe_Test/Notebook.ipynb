{
 "cells": [
  {
   "cell_type": "code",
   "execution_count": 1,
   "metadata": {},
   "outputs": [
    {
     "name": "stdout",
     "output_type": "stream",
     "text": [
      "Welcome to JupyROOT 6.20/06\n",
      "[[10000 25000     1]\n",
      " [10000 45000  4469]\n",
      " [10000 65000  3208]\n",
      " [15000 25000  9242]\n",
      " [15000 45000  6210]\n",
      " [15000 65000  4516]\n",
      " [20000 25000 10881]\n",
      " [20000 45000  7397]\n",
      " [20000 65000  5654]\n",
      " [25000 25000 12090]\n",
      " [25000 45000  8705]\n",
      " [25000 65000  6624]\n",
      " [30000 45000  9518]\n",
      " [30000 65000  7664]\n",
      " [35000 45000 10547]\n",
      " [35000 65000  8536]\n",
      " [40000 45000 11615]\n",
      " [40000 65000  9052]\n",
      " [45000 45000 12025]\n",
      " [45000 65000  9857]\n",
      " [50000 65000 10418]\n",
      " [ 5000 25000     1]\n",
      " [ 5000 45000  2516]\n",
      " [ 5000 65000  1797]\n",
      " [55000 65000 10886]\n",
      " [60000 65000 11562]\n",
      " [65000 65000 11967]]\n"
     ]
    }
   ],
   "source": [
    "import numpy as np\n",
    "import ROOT\n",
    "\n",
    "strobe_res=np.array(\n",
    "[[10000, 25000, 1    ],    \n",
    " [10000, 45000, 4469 ],   \n",
    " [10000, 65000, 3208 ],   \n",
    " [15000, 25000, 9242 ],    \n",
    " [15000, 45000, 6210 ],   \n",
    " [15000, 65000, 4516 ],   \n",
    " [20000, 25000, 10881],   \n",
    " [20000, 45000, 7397 ],  \n",
    " [20000, 65000, 5654 ],  \n",
    " [25000, 25000, 12090],  \n",
    " [25000, 45000, 8705 ],   \n",
    " [25000, 65000, 6624 ],    \n",
    " [30000, 45000, 9518 ],  \n",
    " [30000, 65000, 7664 ],  \n",
    " [35000, 45000, 10547], \n",
    " [35000, 65000, 8536 ],  \n",
    " [40000, 45000, 11615], \n",
    " [40000, 65000, 9052 ], \n",
    " [45000, 45000, 12025],  \n",
    " [45000, 65000, 9857 ],  \n",
    " [50000, 65000, 10418],  \n",
    " [5000 , 25000, 1    ], \n",
    " [5000 , 45000, 2516 ], \n",
    " [5000 , 65000, 1797 ],   \n",
    " [55000, 65000, 10886],   \n",
    " [60000, 65000, 11562], \n",
    " [65000, 65000, 11967]] )\n",
    "\n",
    "print(strobe_res)"
   ]
  },
  {
   "cell_type": "code",
   "execution_count": 2,
   "metadata": {},
   "outputs": [
    {
     "data": {
      "text/plain": [
       "<matplotlib.collections.PathCollection at 0x7f2bf7ac4b50>"
      ]
     },
     "execution_count": 2,
     "metadata": {},
     "output_type": "execute_result"
    },
    {
     "data": {
      "image/png": "[encoded data removed]",
      "text/plain": [
       "<Figure size 432x288 with 1 Axes>"
      ]
     },
     "metadata": {
      "needs_background": "light"
     },
     "output_type": "display_data"
    }
   ],
   "source": [
    "import matplotlib.pyplot as plt\n",
    "x= strobe_res[:,0]/(strobe_res[:,0]+strobe_res[:,1])\n",
    "y = strobe_res[:,2]\n",
    "\n",
    "y1 = y[y>1]\n",
    "x1 = x[y>1]\n",
    "plt.scatter(x,y)"
   ]
  },
  {
   "cell_type": "code",
   "execution_count": 3,
   "metadata": {},
   "outputs": [
    {
     "name": "stdout",
     "output_type": "stream",
     "text": [
      "Slope    :  23963.92010303029\n",
      "intercept:  74.46175547287385\n",
      "r_value  :  0.9994207515742944\n",
      "p_value  :  2.81794616396622e-35\n",
      "std_err  :  170.14927813399854\n"
     ]
    },
    {
     "data": {
      "text/plain": [
       "[<matplotlib.lines.Line2D at 0x7f2bf5b41550>]"
      ]
     },
     "execution_count": 3,
     "metadata": {},
     "output_type": "execute_result"
    },
    {
     "data": {
      "image/png": "[encoded data removed]",
      "text/plain": [
       "<Figure size 432x288 with 1 Axes>"
      ]
     },
     "metadata": {
      "needs_background": "light"
     },
     "output_type": "display_data"
    }
   ],
   "source": [
    "from scipy import stats\n",
    "\n",
    "slope, intercept, r_value, p_value, std_err = stats.linregress(x1,y1)\n",
    "\n",
    "print(\"Slope    : \", slope     )\n",
    "print(\"intercept: \", intercept ) \n",
    "print(\"r_value  : \", r_value   ) \n",
    "print(\"p_value  : \", p_value   )    \n",
    "print(\"std_err  : \", std_err   )   \n",
    "plt.scatter(x,y)\n",
    "plt.plot(np.linspace(np.min(x),np.max(x),1000), np.linspace(np.min(x),np.max(x),1000)*slope + intercept)"
   ]
  },
  {
   "cell_type": "code",
   "execution_count": 53,
   "metadata": {},
   "outputs": [],
   "source": [
    "import ROOT\n",
    "import numpy as np\n",
    "import matplotlib.pyplot as plt\n",
    "import sys\n",
    "import os\n",
    "from pathlib import Path\n",
    "#import tqdm as tqdm\n",
    "import tqdm.notebook as tqdm\n",
    "import multiprocessing"
   ]
  },
  {
   "cell_type": "code",
   "execution_count": 51,
   "metadata": {},
   "outputs": [
    {
     "data": {
      "application/vnd.jupyter.widget-view+json": {
       "model_id": "3dfbd9f4bdb747199dc9289db149b7b7",
       "version_major": 2,
       "version_minor": 0
      },
      "text/plain": [
       "HBox(children=(HTML(value=''), FloatProgress(value=0.0, max=27.0), HTML(value='')))"
      ]
     },
     "metadata": {},
     "output_type": "display_data"
    },
    {
     "name": "stdout",
     "output_type": "stream",
     "text": [
      "\n"
     ]
    }
   ],
   "source": [
    "#Run packet analyzer script for all threshold\n",
    "Data_folder_path=\"Data_Strobe_Test\"\n",
    "\n",
    "Run_Analysis = True\n",
    "Force_Analysis = False\\\n",
    "\n",
    "files=os.listdir(Data_folder_path + \"/\")\n",
    "\n",
    "with tqdm.tqdm(total=len(files)) as pbar:\n",
    "    for name in files:\n",
    "        pbar.update(1)\n",
    "        if name.startswith('1min_'):\n",
    "            root_file=Path(\"Analyzed_Data/\"+name+\"/\"+name+\".root\")\n",
    "            root_file_existence_flag=root_file.is_file()\n",
    "            if (Run_Analysis and not root_file_existence_flag) or Force_Analysis:\n",
    "                args = \"-f \"+name+\" -Df \"+Data_folder_path+\" -p -d 3 15 \"\n",
    "                %run 'Packet_analyzer.py' {args}"
   ]
  },
  {
   "cell_type": "code",
   "execution_count": 110,
   "metadata": {},
   "outputs": [
    {
     "data": {
      "application/vnd.jupyter.widget-view+json": {
       "model_id": "28c699d096a8478c8eb18b43d5a95e4e",
       "version_major": 2,
       "version_minor": 0
      },
      "text/plain": [
       "HBox(children=(HTML(value=''), FloatProgress(value=0.0, max=27.0), HTML(value='')))"
      ]
     },
     "metadata": {},
     "output_type": "display_data"
    },
    {
     "name": "stderr",
     "output_type": "stream",
     "text": [
      "/home/gabriele/anaconda3/envs/rootenv/lib/python3.8/site-packages/ROOT.py:352: FutureWarning: Instantiating a function template with parentheses ( f(type1, ..., typeN) ) is deprecated and will not be supported in a future version of ROOT. Instead, use square brackets: f[type1, ..., typeN]\n",
      "  flat_matrix_ptr = _root.ROOT.Internal.RDF.GetVectorAddress(dtype)(flat_matrix)\n",
      "/home/gabriele/anaconda3/envs/rootenv/lib/python3.8/site-packages/numpy/core/fromnumeric.py:3372: RuntimeWarning: Mean of empty slice.\n",
      "  return _methods._mean(a, axis=axis, dtype=dtype,\n",
      "/home/gabriele/anaconda3/envs/rootenv/lib/python3.8/site-packages/numpy/core/_methods.py:170: RuntimeWarning: invalid value encountered in double_scalars\n",
      "  ret = ret.dtype.type(ret / rcount)\n",
      "/home/gabriele/anaconda3/envs/rootenv/lib/python3.8/site-packages/numpy/core/_methods.py:233: RuntimeWarning: Degrees of freedom <= 0 for slice\n",
      "  ret = _var(a, axis=axis, dtype=dtype, out=out, ddof=ddof,\n",
      "/home/gabriele/anaconda3/envs/rootenv/lib/python3.8/site-packages/numpy/core/_methods.py:194: RuntimeWarning: invalid value encountered in true_divide\n",
      "  arrmean = um.true_divide(\n",
      "/home/gabriele/anaconda3/envs/rootenv/lib/python3.8/site-packages/numpy/core/_methods.py:226: RuntimeWarning: invalid value encountered in double_scalars\n",
      "  ret = ret.dtype.type(ret / rcount)\n"
     ]
    },
    {
     "name": "stdout",
     "output_type": "stream",
     "text": [
      "\n"
     ]
    }
   ],
   "source": [
    "#Noise and rate dependance on VCASN\n",
    "\n",
    "Area_thr  = 12\n",
    "Ratio_thr = 4\n",
    "\n",
    "VCASN_val    = []\n",
    "Noise_points = []\n",
    "Counts       = []\n",
    "Time_acq     = []\n",
    "Strobe_par   = []\n",
    "Mean_area    = []\n",
    "Area_err     = []\n",
    "Mean_PCAr    = []\n",
    "PCAr_err     = []\n",
    "\n",
    "\n",
    "files=os.listdir(Data_folder_path+\"/\")\n",
    "with tqdm.tqdm(total=len(files)) as pbar:\n",
    "    for name in files:\n",
    "        pbar.update(1)\n",
    "        if name.startswith('1min_'):\n",
    "            V_CASN_THR=int(name.split('_')[2], base=16)\n",
    "            VCASN_val = np.append(VCASN_val,V_CASN_THR)\n",
    "\n",
    "            file=open(Data_folder_path+\"/\"+name+\"/Stat_\"+name+\".txt\")\n",
    "            line=file.readlines()\n",
    "            for l in line:\n",
    "                if (l.startswith(\"Readout_time\")):\n",
    "                    time=float(l.split('=')[1].strip()[:-1])\n",
    "                if (l.startswith(\"Strobe\")):\n",
    "                    Strobe=int(l.split('=')[1].strip()[:-1])\n",
    "                if (l.startswith(\"Gap\")):\n",
    "                    Gap=int(l.split('=')[1].strip()[:-1])\n",
    "\n",
    "            filename=\"Analyzed_Data/\"+name+\"/\"+name+\".root\"\n",
    "            root_file_1  = ROOT.TFile.Open(filename)\n",
    "            Data_tree    = root_file_1.Get(\"tree\")\n",
    "            Noise        = Data_tree.AsMatrix(['Rnoise'])\n",
    "            Areas        = Data_tree.AsMatrix(['Rareas'])\n",
    "            Ratios       = Data_tree.AsMatrix(['Rratios'])\n",
    "\n",
    "            mask_thr   = np.logical_and (np.squeeze(Areas)      > Area_thr, np.squeeze(Ratios)     < Ratio_thr)\n",
    "            Counts     = np.append(Counts,len(Areas [mask_thr]))\n",
    "            Time_acq   = np.append(Time_acq, time)\n",
    "            Strobe_par = np.append(Strobe_par, Strobe/(Strobe+Gap))\n",
    "            Mean_area  = np.append(Mean_area,np.mean(Areas [mask_thr]))\n",
    "            Area_err   = np.append(Area_err,np.std(Areas [mask_thr]))\n",
    "            Mean_PCAr  = np.append(Mean_PCAr,np.mean(Ratios [mask_thr]))\n",
    "            PCAr_err   = np.append(PCAr_err,np.std(Ratios [mask_thr]))\n",
    "\n",
    "\n",
    "            Noise_points_rate = np.append(Noise_points,(Noise[0]+len(Areas[np.invert(mask_thr)]))/time)\n",
    "        "
   ]
  },
  {
   "cell_type": "code",
   "execution_count": 111,
   "metadata": {},
   "outputs": [],
   "source": [
    "mask_good       = np.greater_equal(Rate_exp, np.ones(len(Rate_exp))*10)\n",
    "\n",
    "Counts_corr     = Counts     [mask_good]\n",
    "Time_acq_corr   = Time_acq   [mask_good]\n",
    "Strobe_par_corr = Strobe_par [mask_good]\n",
    "Mean_area_corr  = Mean_area  [mask_good]\n",
    "Area_err_corr   = Area_err   [mask_good]\n",
    "Mean_PCAr_corr  = Mean_PCAr  [mask_good]\n",
    "PCAr_err_corr   = PCAr_err   [mask_good]\n",
    "\n",
    "Rate_corr       = Counts_corr/Time_acq_corr\n",
    "Rate_err_corr   = np.sqrt(Counts_corr)/Time_acq_corr"
   ]
  },
  {
   "cell_type": "code",
   "execution_count": 112,
   "metadata": {},
   "outputs": [],
   "source": [
    "from scipy.optimize import curve_fit\n",
    "def linear(x,a,b):\n",
    "    return a+b*x\n",
    "\n",
    "popt, pcov = curve_fit(linear, xdata=Strobe_par_corr, ydata=Rate_corr, sigma=Rate_err_corr)"
   ]
  },
  {
   "cell_type": "code",
   "execution_count": 114,
   "metadata": {},
   "outputs": [
    {
     "name": "stdout",
     "output_type": "stream",
     "text": [
      "Intercept = 0.940514 +- 0.567322\n",
      "Slope     = 317.764829 +- 1.888615\n",
      "Intercept = 3385.848961 +- 2042.359106\n",
      "Slope     = 1143953.385147 +- 6799.013891\n"
     ]
    }
   ],
   "source": [
    "print('Intercept = %f +- %f' % (popt[0], np.sqrt(pcov[0,0])))\n",
    "print('Slope     = %f +- %f' % (popt[1], np.sqrt(pcov[1,1])))\n",
    "\n",
    "print('Intercept = %f +- %f' % (popt[0]*3600, np.sqrt(pcov[0,0])*3600))\n",
    "print('Slope     = %f +- %f' % (popt[1]*3600, np.sqrt(pcov[1,1])*3600))"
   ]
  },
  {
   "cell_type": "code",
   "execution_count": 94,
   "metadata": {},
   "outputs": [
    {
     "name": "stdout",
     "output_type": "stream",
     "text": [
      "\n",
      "****************************************\n",
      "Minimizer is Linear / Migrad\n",
      "Chi2                      =      53.5613\n",
      "NDf                       =           23\n",
      "p0                        =     0.803199   +/-   0.867698    \n",
      "p1                        =      310.999   +/-   2.37265     \n"
     ]
    },
    {
     "data": {
      "image/png": "[encoded data removed]",
      "text/plain": [
       "<IPython.core.display.Image object>"
      ]
     },
     "metadata": {},
     "output_type": "display_data"
    }
   ],
   "source": [
    "xr    = np.array(Strobe_par_corr, dtype=float)\n",
    "yr    = np.array(Rate_corr  , dtype=float)\n",
    "nr    = len(xr)\n",
    "graph = ROOT.TGraph(nr,xr,yr)\n",
    "\n",
    "graph.SetMarkerStyle(2)\n",
    "graph.SetMarkerColor(2)\n",
    "\n",
    "lin = ROOT.TF1('lin','pol1')\n",
    "\n",
    "lin.SetParameters(170,24000)\n",
    "graph.Fit(lin)\n",
    "\n",
    "cg = ROOT.TCanvas()\n",
    "graph.Draw('AP')\n",
    "cg.Draw()"
   ]
  },
  {
   "cell_type": "code",
   "execution_count": 83,
   "metadata": {},
   "outputs": [],
   "source": [
    "import pandas as pd\n",
    "import bokeh.palettes as palette\n",
    "import matplotlib"
   ]
  },
  {
   "cell_type": "code",
   "execution_count": 84,
   "metadata": {},
   "outputs": [],
   "source": [
    "plt.rc('text', usetex=False)\n",
    "plt.rc('font', family='serif')\n",
    "plt.rc('font', size=16)          # controls default text sizes\n",
    "plt.rc('axes', titlesize=18)     # fontsize of the axes title\n",
    "plt.rc('axes', labelsize=18)     # fontsize of the x and y labels\n",
    "plt.rc('xtick', labelsize=14)    # fontsize of the tick labels\n",
    "plt.rc('ytick', labelsize=14)    # fontsize of the tick labels\n",
    "plt.rc('legend', fontsize=16)    # legend fontsize\n",
    "plt.rc('figure', titlesize=18)   # fontsize of the figure title"
   ]
  },
  {
   "cell_type": "code",
   "execution_count": 85,
   "metadata": {},
   "outputs": [],
   "source": [
    "col = palette.brewer['RdYlGn'][10]"
   ]
  },
  {
   "cell_type": "code",
   "execution_count": 115,
   "metadata": {},
   "outputs": [
    {
     "data": {
      "image/png": "[encoded data removed]",
      "text/plain": [
       "<Figure size 864x576 with 1 Axes>"
      ]
     },
     "metadata": {
      "needs_background": "light"
     },
     "output_type": "display_data"
    }
   ],
   "source": [
    "plt.figure(figsize=(12,8))\n",
    "plt.errorbar(Strobe_par_corr,\n",
    "             Rate_corr*3600,\n",
    "             #xerr=df[\"VCASN_err\"],\n",
    "             yerr=Rate_err_corr*3600,\n",
    "             fmt='o',\n",
    "             markerfacecolor=col[0],\n",
    "             color=col[1],\n",
    "             ecolor=col[0],\n",
    "             label=\"data\",\n",
    "             alpha=1,\n",
    "             markersize=3) #fillstyle=\"none\"\n",
    "\n",
    "plt.plot(Strobe_par_corr,\n",
    "         linear(Strobe_par_corr,popt[0],popt[1])*3600,\n",
    "         color=col[9],\n",
    "         label=\"fit\",\n",
    "         alpha=1,\n",
    "         markersize=3)\n",
    "\n",
    "plt.xlabel(\"(Strobe)/(Strobe+Gap)\")\n",
    "plt.ylabel(\"Rate [ev/h]\")\n",
    "\n",
    "plt.grid(True, linestyle='--')\n",
    "plt.legend()\n",
    "plt.savefig(\"../Graph_images/Strobe_Test_py\", dpi=200)\n",
    "plt.show()"
   ]
  },
  {
   "cell_type": "code",
   "execution_count": null,
   "metadata": {},
   "outputs": [],
   "source": []
  }
 ],
 "metadata": {
  "kernelspec": {
   "display_name": "Python 3",
   "language": "python",
   "name": "python3"
  },
  "language_info": {
   "codemirror_mode": {
    "name": "ipython",
    "version": 3
   },
   "file_extension": ".py",
   "mimetype": "text/x-python",
   "name": "python",
   "nbconvert_exporter": "python",
   "pygments_lexer": "ipython3",
   "version": "3.8.3"
  }
 },
 "nbformat": 4,
 "nbformat_minor": 4
}
