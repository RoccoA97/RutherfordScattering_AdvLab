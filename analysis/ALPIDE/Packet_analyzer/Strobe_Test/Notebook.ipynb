{
 "cells": [
  {
   "cell_type": "code",
   "execution_count": 2,
   "metadata": {},
   "outputs": [
    {
     "name": "stdout",
     "output_type": "stream",
     "text": [
      "Welcome to JupyROOT 6.22/02\n",
      "[[10000 25000     1]\n",
      " [10000 45000  4469]\n",
      " [10000 65000  3208]\n",
      " [15000 25000  9242]\n",
      " [15000 45000  6210]\n",
      " [15000 65000  4516]\n",
      " [20000 25000 10881]\n",
      " [20000 45000  7397]\n",
      " [20000 65000  5654]\n",
      " [25000 25000 12090]\n",
      " [25000 45000  8705]\n",
      " [25000 65000  6624]\n",
      " [30000 45000  9518]\n",
      " [30000 65000  7664]\n",
      " [35000 45000 10547]\n",
      " [35000 65000  8536]\n",
      " [40000 45000 11615]\n",
      " [40000 65000  9052]\n",
      " [45000 45000 12025]\n",
      " [45000 65000  9857]\n",
      " [50000 65000 10418]\n",
      " [ 5000 25000     1]\n",
      " [ 5000 45000  2516]\n",
      " [ 5000 65000  1797]\n",
      " [55000 65000 10886]\n",
      " [60000 65000 11562]\n",
      " [65000 65000 11967]]\n"
     ]
    }
   ],
   "source": [
    "import numpy as np\n",
    "import ROOT\n",
    "\n",
    "strobe_res=np.array(\n",
    "[[10000, 25000, 1    ],    \n",
    " [10000, 45000, 4469 ],   \n",
    " [10000, 65000, 3208 ],   \n",
    " [15000, 25000, 9242 ],    \n",
    " [15000, 45000, 6210 ],   \n",
    " [15000, 65000, 4516 ],   \n",
    " [20000, 25000, 10881],   \n",
    " [20000, 45000, 7397 ],  \n",
    " [20000, 65000, 5654 ],  \n",
    " [25000, 25000, 12090],  \n",
    " [25000, 45000, 8705 ],   \n",
    " [25000, 65000, 6624 ],    \n",
    " [30000, 45000, 9518 ],  \n",
    " [30000, 65000, 7664 ],  \n",
    " [35000, 45000, 10547], \n",
    " [35000, 65000, 8536 ],  \n",
    " [40000, 45000, 11615], \n",
    " [40000, 65000, 9052 ], \n",
    " [45000, 45000, 12025],  \n",
    " [45000, 65000, 9857 ],  \n",
    " [50000, 65000, 10418],  \n",
    " [5000 , 25000, 1    ], \n",
    " [5000 , 45000, 2516 ], \n",
    " [5000 , 65000, 1797 ],   \n",
    " [55000, 65000, 10886],   \n",
    " [60000, 65000, 11562], \n",
    " [65000, 65000, 11967]] )\n",
    "\n",
    "print(strobe_res)"
   ]
  },
  {
   "cell_type": "code",
   "execution_count": 3,
   "metadata": {},
   "outputs": [
    {
     "data": {
      "text/plain": [
       "<matplotlib.collections.PathCollection at 0x7f1992d04520>"
      ]
     },
     "execution_count": 3,
     "metadata": {},
     "output_type": "execute_result"
    },
    {
     "data": {
      "image/png": "[encoded data removed]",
      "text/plain": [
       "<Figure size 432x288 with 1 Axes>"
      ]
     },
     "metadata": {
      "needs_background": "light"
     },
     "output_type": "display_data"
    }
   ],
   "source": [
    "import matplotlib.pyplot as plt\n",
    "x= strobe_res[:,0]/(strobe_res[:,0]+strobe_res[:,1])\n",
    "y = strobe_res[:,2]\n",
    "\n",
    "y1 = y[y>1]\n",
    "x1 = x[y>1]\n",
    "plt.scatter(x,y)"
   ]
  },
  {
   "cell_type": "code",
   "execution_count": 4,
   "metadata": {},
   "outputs": [
    {
     "name": "stdout",
     "output_type": "stream",
     "text": [
      "Slope    :  23963.92010303029\n",
      "intercept:  74.46175547287385\n",
      "r_value  :  0.9994207515742944\n",
      "p_value  :  2.81794616396622e-35\n",
      "std_err  :  170.14927813399854\n"
     ]
    },
    {
     "data": {
      "text/plain": [
       "[<matplotlib.lines.Line2D at 0x7f1990d54c10>]"
      ]
     },
     "execution_count": 4,
     "metadata": {},
     "output_type": "execute_result"
    },
    {
     "data": {
      "image/png": "[encoded data removed]",
      "text/plain": [
       "<Figure size 432x288 with 1 Axes>"
      ]
     },
     "metadata": {
      "needs_background": "light"
     },
     "output_type": "display_data"
    }
   ],
   "source": [
    "from scipy import stats\n",
    "\n",
    "slope, intercept, r_value, p_value, std_err = stats.linregress(x1,y1)\n",
    "\n",
    "print(\"Slope    : \", slope     )\n",
    "print(\"intercept: \", intercept ) \n",
    "print(\"r_value  : \", r_value   ) \n",
    "print(\"p_value  : \", p_value   )    \n",
    "print(\"std_err  : \", std_err   )   \n",
    "plt.scatter(x,y)\n",
    "plt.plot(np.linspace(np.min(x),np.max(x),1000), np.linspace(np.min(x),np.max(x),1000)*slope + intercept)"
   ]
  },
  {
   "cell_type": "code",
   "execution_count": 5,
   "metadata": {},
   "outputs": [],
   "source": [
    "import ROOT\n",
    "import numpy as np\n",
    "import matplotlib.pyplot as plt\n",
    "import sys\n",
    "import os\n",
    "from pathlib import Path\n",
    "#import tqdm as tqdm\n",
    "import tqdm.notebook as tqdm\n",
    "import multiprocessing"
   ]
  },
  {
   "cell_type": "code",
   "execution_count": 6,
   "metadata": {},
   "outputs": [
    {
     "data": {
      "application/vnd.jupyter.widget-view+json": {
       "model_id": "32d9e05e98e24d0faefd2f65c27d6fd2",
       "version_major": 2,
       "version_minor": 0
      },
      "text/plain": [
       "HBox(children=(HTML(value=''), FloatProgress(value=0.0, max=27.0), HTML(value='')))"
      ]
     },
     "metadata": {},
     "output_type": "display_data"
    },
    {
     "name": "stdout",
     "output_type": "stream",
     "text": [
      "\n"
     ]
    }
   ],
   "source": [
    "#Run packet analyzer script for all threshold\n",
    "Data_folder_path=\"Data_Strobe_Test\"\n",
    "\n",
    "Run_Analysis = True\n",
    "Force_Analysis = False\\\n",
    "\n",
    "files=os.listdir(Data_folder_path + \"/\")\n",
    "\n",
    "with tqdm.tqdm(total=len(files)) as pbar:\n",
    "    for name in files:\n",
    "        pbar.update(1)\n",
    "        if name.startswith('1min_'):\n",
    "            root_file=Path(\"Analyzed_Data/\"+name+\"/\"+name+\".root\")\n",
    "            root_file_existence_flag=root_file.is_file()\n",
    "            if (Run_Analysis and not root_file_existence_flag) or Force_Analysis:\n",
    "                args = \"-f \"+name+\" -Df \"+Data_folder_path+\" -p -d 3 15 \"\n",
    "                %run 'Packet_analyzer.py' {args}"
   ]
  },
  {
   "cell_type": "code",
   "execution_count": 48,
   "metadata": {},
   "outputs": [
    {
     "data": {
      "application/vnd.jupyter.widget-view+json": {
       "model_id": "4ceb7d05b311495382dd4cd62a2c6dd1",
       "version_major": 2,
       "version_minor": 0
      },
      "text/plain": [
       "HBox(children=(HTML(value=''), FloatProgress(value=0.0, max=27.0), HTML(value='')))"
      ]
     },
     "metadata": {},
     "output_type": "display_data"
    },
    {
     "name": "stdout",
     "output_type": "stream",
     "text": [
      "\n"
     ]
    }
   ],
   "source": [
    "#Noise and rate dependance on VCASN\n",
    "\n",
    "Area_thr  = 12\n",
    "Ratio_thr = 3.5\n",
    "\n",
    "VCASN_val    = []\n",
    "Noise_points = []\n",
    "Counts       = []\n",
    "Time_acq     = []\n",
    "Strobe_arr   = []\n",
    "Gap_arr      = []\n",
    "Strobe_par   = []\n",
    "Mean_area    = []\n",
    "Area_err     = []\n",
    "Mean_PCAr    = []\n",
    "PCAr_err     = []\n",
    "\n",
    "\n",
    "files=os.listdir(Data_folder_path+\"/\")\n",
    "with tqdm.tqdm(total=len(files)) as pbar:\n",
    "    for name in files:\n",
    "        pbar.update(1)\n",
    "        if name.startswith('1min_'):\n",
    "            V_CASN_THR=int(name.split('_')[2], base=16)\n",
    "            VCASN_val = np.append(VCASN_val,V_CASN_THR)\n",
    "\n",
    "            file=open(Data_folder_path+\"/\"+name+\"/Stat_\"+name+\".txt\")\n",
    "            line=file.readlines()\n",
    "            for l in line:\n",
    "                if (l.startswith(\"Readout_time\")):\n",
    "                    time=float(l.split('=')[1].strip()[:-1])\n",
    "                if (l.startswith(\"Strobe\")):\n",
    "                    Strobe=int(l.split('=')[1].strip())\n",
    "                if (l.startswith(\"Gap\")):\n",
    "                    Gap=int(l.split('=')[1].strip())\n",
    "\n",
    "            filename=\"Analyzed_Data/\"+name+\"/\"+name+\".root\"\n",
    "            root_file_1  = ROOT.TFile.Open(filename)\n",
    "            Data_tree    = root_file_1.Get(\"tree\")\n",
    "            Noise        = Data_tree.AsMatrix(['Rnoise'])\n",
    "            Areas        = Data_tree.AsMatrix(['Rareas'])\n",
    "            Ratios       = Data_tree.AsMatrix(['Rratios'])\n",
    "\n",
    "            mask_thr   = np.logical_and (np.squeeze(Areas)      > Area_thr, np.squeeze(Ratios)     < Ratio_thr)\n",
    "            Counts     = np.append(Counts,len(Areas [mask_thr]))\n",
    "            Time_acq   = np.append(Time_acq, time)\n",
    "            Strobe_arr = np.append(Strobe_arr, Strobe)\n",
    "            Gap_arr    = np.append(Gap_arr, Gap)\n",
    "            Strobe_par = np.append(Strobe_par, Strobe/(Strobe+Gap))\n",
    "            Mean_area  = np.append(Mean_area,np.mean(Areas [mask_thr]))\n",
    "            Area_err   = np.append(Area_err,np.std(Areas [mask_thr]))\n",
    "            Mean_PCAr  = np.append(Mean_PCAr,np.mean(Ratios [mask_thr]))\n",
    "            PCAr_err   = np.append(PCAr_err,np.std(Ratios [mask_thr]))\n",
    "\n",
    "\n",
    "            Noise_points_rate = np.append(Noise_points,(Noise[0]+len(Areas[np.invert(mask_thr)]))/time)\n",
    "        "
   ]
  },
  {
   "cell_type": "code",
   "execution_count": 49,
   "metadata": {},
   "outputs": [],
   "source": [
    "mask_good       = np.greater_equal(Counts, np.ones(len(Counts))*10)\n",
    "\n",
    "Counts_corr     = Counts     [mask_good]\n",
    "Time_acq_corr   = Time_acq   [mask_good]\n",
    "Strobe_arr_corr = Strobe_arr [mask_good]\n",
    "Gap_arr_corr    = Gap_arr    [mask_good]\n",
    "Strobe_par_corr = Strobe_par [mask_good]\n",
    "Mean_area_corr  = Mean_area  [mask_good]\n",
    "Area_err_corr   = Area_err   [mask_good]\n",
    "Mean_PCAr_corr  = Mean_PCAr  [mask_good]\n",
    "PCAr_err_corr   = PCAr_err   [mask_good]\n",
    "\n",
    "Rate_corr       = Counts_corr/Time_acq_corr\n",
    "Rate_err_corr   = np.sqrt(Counts_corr)/Time_acq_corr"
   ]
  },
  {
   "cell_type": "code",
   "execution_count": 50,
   "metadata": {},
   "outputs": [],
   "source": [
    "from scipy.optimize import curve_fit\n",
    "def linear(x,a,b):\n",
    "    return a+b*x\n",
    "\n",
    "popt, pcov = curve_fit(linear, xdata=Strobe_par_corr, ydata=Rate_corr, sigma=Rate_err_corr)"
   ]
  },
  {
   "cell_type": "code",
   "execution_count": 51,
   "metadata": {},
   "outputs": [
    {
     "name": "stdout",
     "output_type": "stream",
     "text": [
      "Intercept = 0.939956 +- 0.567121\n",
      "Slope     = 317.762606 +- 1.887946\n",
      "Intercept = 3383.840670 +- 2041.635786\n",
      "Slope     = 1143945.382612 +- 6796.605250\n"
     ]
    }
   ],
   "source": [
    "print('Intercept = %f +- %f' % (popt[0], np.sqrt(pcov[0,0])))\n",
    "print('Slope     = %f +- %f' % (popt[1], np.sqrt(pcov[1,1])))\n",
    "\n",
    "print('Intercept = %f +- %f' % (popt[0]*3600, np.sqrt(pcov[0,0])*3600))\n",
    "print('Slope     = %f +- %f' % (popt[1]*3600, np.sqrt(pcov[1,1])*3600))"
   ]
  },
  {
   "cell_type": "code",
   "execution_count": 52,
   "metadata": {},
   "outputs": [
    {
     "name": "stdout",
     "output_type": "stream",
     "text": [
      "\n",
      "****************************************\n",
      "Minimizer is Linear / Migrad\n",
      "Chi2                      =      54.6534\n",
      "NDf                       =           23\n",
      "p0                        =      0.74767   +/-   0.8765      \n",
      "p1                        =      318.384   +/-   2.39672     \n"
     ]
    },
    {
     "data": {
      "image/png": "[encoded data removed]",
      "text/plain": [
       "<IPython.core.display.Image object>"
      ]
     },
     "metadata": {},
     "output_type": "display_data"
    }
   ],
   "source": [
    "xr    = np.array(Strobe_par_corr, dtype=float)\n",
    "yr    = np.array(Rate_corr  , dtype=float)\n",
    "nr    = len(xr)\n",
    "graph = ROOT.TGraph(nr,xr,yr)\n",
    "\n",
    "graph.SetMarkerStyle(2)\n",
    "graph.SetMarkerColor(2)\n",
    "\n",
    "lin = ROOT.TF1('lin','pol1')\n",
    "\n",
    "lin.SetParameters(170,24000)\n",
    "graph.Fit(lin)\n",
    "\n",
    "cg = ROOT.TCanvas()\n",
    "graph.Draw('AP')\n",
    "cg.Draw()"
   ]
  },
  {
   "cell_type": "code",
   "execution_count": 53,
   "metadata": {},
   "outputs": [],
   "source": [
    "import pandas as pd\n",
    "import bokeh.palettes as palette\n",
    "import matplotlib"
   ]
  },
  {
   "cell_type": "code",
   "execution_count": 54,
   "metadata": {},
   "outputs": [],
   "source": [
    "plt.rc('text', usetex=True)\n",
    "plt.rc('font', family='serif')\n",
    "plt.rc('font', size=16)          # controls default text sizes\n",
    "plt.rc('axes', titlesize=18)     # fontsize of the axes title\n",
    "plt.rc('axes', labelsize=18)     # fontsize of the x and y labels\n",
    "plt.rc('xtick', labelsize=14)    # fontsize of the tick labels\n",
    "plt.rc('ytick', labelsize=14)    # fontsize of the tick labels\n",
    "plt.rc('legend', fontsize=16)    # legend fontsize\n",
    "plt.rc('figure', titlesize=18)   # fontsize of the figure title"
   ]
  },
  {
   "cell_type": "code",
   "execution_count": 55,
   "metadata": {},
   "outputs": [
    {
     "name": "stderr",
     "output_type": "stream",
     "text": [
      "<ipython-input-55-4c3d034b1475>:1: MatplotlibDeprecationWarning: Support for setting the 'text.latex.preamble' or 'pgf.preamble' rcParam to a list of strings is deprecated since 3.3 and will be removed two minor releases later; set it to a single string instead.\n",
      "  plt.rcParams['text.latex.preamble'] = [r'\\boldmath']\n"
     ]
    }
   ],
   "source": [
    "plt.rcParams['text.latex.preamble'] = [r'\\boldmath']"
   ]
  },
  {
   "cell_type": "code",
   "execution_count": 64,
   "metadata": {},
   "outputs": [],
   "source": [
    "d = {\n",
    "    \"Strobe\"     : Strobe_arr_corr,\n",
    "    \"Gap\"        : Gap_arr_corr,\n",
    "    \"Str_par\"    : Strobe_par_corr,\n",
    "    \"Ev\"         : Counts_corr,\n",
    "    \"Rate\"       : Rate_corr*3600,\n",
    "    \"Rate_err\"   : Rate_err_corr*3600\n",
    "}\n",
    "\n",
    "df = pd.DataFrame(data=d)\n",
    "df.to_csv('../../../../plots/data/ALPIDE/ALPIDE_Strobe_gap.csv',index=False)"
   ]
  },
  {
   "cell_type": "code",
   "execution_count": 58,
   "metadata": {},
   "outputs": [],
   "source": [
    "col = palette.Category20[10]"
   ]
  },
  {
   "cell_type": "code",
   "execution_count": 59,
   "metadata": {},
   "outputs": [],
   "source": [
    "res_num = linear(Strobe_par_corr,popt[0],popt[1])*3600  -  Rate_corr*3600\n",
    "res_den = Rate_err_corr*3600\n",
    "res     = res_num  / res_den"
   ]
  },
  {
   "cell_type": "code",
   "execution_count": 66,
   "metadata": {},
   "outputs": [
    {
     "data": {
      "image/png": "[encoded data removed]",
      "text/plain": [
       "<Figure size 648x432 with 1 Axes>"
      ]
     },
     "metadata": {
      "needs_background": "light"
     },
     "output_type": "display_data"
    }
   ],
   "source": [
    "plt.figure(figsize=(9,6))\n",
    "plt.errorbar(x               = df[\"Str_par\"],\n",
    "             y               = df[\"Rate\"],\n",
    "             yerr            = df[\"Rate_err\"],\n",
    "             fmt             = 'o',\n",
    "             markerfacecolor = col[2],\n",
    "             color           = col[2],\n",
    "             ecolor          = col[0],\n",
    "             label           = r\"\\bf{Data}\",\n",
    "             alpha           = 1,\n",
    "             markersize      = 3,\n",
    "             capsize         = 3) #fillstyle=\"none\"\n",
    "\n",
    "plt.plot(Strobe_par_corr,\n",
    "         linear(Strobe_par_corr,popt[0],popt[1])*3600,\n",
    "         color     = col[4],\n",
    "         label     = r\"\\bf{Fit}\",\n",
    "         alpha     = 1,\n",
    "         markersize= 3)\n",
    "\n",
    "plt.title(r\"\\bf{ALPIDE: Strobe-Gap parameter linearity}\")\n",
    "plt.xlabel(r\"\\bf{$\\mathrm{\\frac{Strobe}{Strobe+Gap}}$\")\n",
    "plt.ylabel(r\"\\bf{Rate [ev/h]}\")\n",
    "\n",
    "plt.grid(True, linestyle='--',linewidth=0.25, zorder=-1)\n",
    "plt.legend()\n",
    "plt.savefig(\"../Graph_images/Strobe_Test_py.pdf\", bbox_inches='tight')\n",
    "plt.show()"
   ]
  },
  {
   "cell_type": "code",
   "execution_count": 73,
   "metadata": {},
   "outputs": [
    {
     "data": {
      "image/png": "[encoded data removed]",
      "text/plain": [
       "<Figure size 720x432 with 2 Axes>"
      ]
     },
     "metadata": {
      "needs_background": "light"
     },
     "output_type": "display_data"
    }
   ],
   "source": [
    "#######################################################################\n",
    "# FIGURE\n",
    "#######################################################################\n",
    "fig = plt.figure(figsize=(10,6))\n",
    "\n",
    "\n",
    "\n",
    "#######################################################################\n",
    "##### TOP PANEL\n",
    "#######################################################################\n",
    "fig.add_axes((0.,0.35,1.0,1.0))\n",
    "\n",
    "########## ERRORPLOT OF EXPERIMENTAL DATA\n",
    "plt.errorbar(\n",
    "    x               = df[\"Str_par\"],\n",
    "    y               = df[\"Rate\"],\n",
    "    yerr            = df[\"Rate_err\"],\n",
    "    fmt             ='o',\n",
    "    markersize      = 3,\n",
    "    capsize         = 3,\n",
    "    label           = r\"\\bf{Data}\",\n",
    "    alpha           = 1\n",
    ")\n",
    "\n",
    "########## PLOT OF WEIGHTED AVERAGE HLINE\n",
    "plt.plot(\n",
    "    df[\"Str_par\"],\n",
    "    linear(Strobe_par_corr,popt[0],popt[1])*3600,\n",
    "    linewidth = 1.5,\n",
    "    label     = r\"\\bf{Fit}\"\n",
    ")\n",
    "\n",
    "########## TOP PANEL SETTINGS\n",
    "# plt.ylim(np.max(df_exp[\"pico_r\"])*0.0, np.max(df_exp[\"pico_r\"])*1.5)\n",
    "plt.ylabel(r\"\\bf{Rate [ev/h]}\")\n",
    "plt.title(r\"\\bf{ALPIDE: Strobe-Gap parameter linearity}\")\n",
    "#plt.xlim(-40,40)\n",
    "#plt.xticks(df_exp[\"pico_deg\"][df_exp[\"pico_deg\"] % 9 == 0])\n",
    "plt.tick_params(\n",
    "    axis='x',          # changes apply to the x-axis\n",
    "    which='both',      # both major and minor ticks are affected\n",
    "    bottom=True,      # ticks along the bottom edge are off\n",
    "    top=False,         # ticks along the top edge are off\n",
    "    labelbottom=False) # labels along the bottom edge are off\n",
    "plt.legend()\n",
    "plt.grid(linestyle='--', linewidth=0.25, zorder=0)\n",
    "#######################################################################\n",
    "\n",
    "\n",
    "#######################################################################\n",
    "##### BOTTOM PANEL\n",
    "#######################################################################\n",
    "fig.add_axes((0.,0.,1.0,0.33))\n",
    "\n",
    "########## ERRORPLOT OF RESIDUES\n",
    "plt.errorbar(\n",
    "    x               = df[\"Str_par\"],\n",
    "    y               = res,\n",
    "    yerr            = np.ones(df.shape[0]),\n",
    "    fmt             ='o',\n",
    "    markersize      = 3,\n",
    "    capsize         = 3,\n",
    "    # markerfacecolor = \"red\",\n",
    "    # color           = \"red\",\n",
    "    # ecolor          = \"red\",\n",
    "    label           = r\"\\bf{Norm. Residues}\",\n",
    "    alpha           = 1\n",
    ")\n",
    "\n",
    "########## ZERO HLINE FOR RESIDUES\n",
    "plt.axhline(y=0, color=\"black\", linewidth=1)\n",
    "\n",
    "########## BOTTOM PANEL SETTINGS\n",
    "plt.ylim(-5,5)\n",
    "plt.ylabel(r\"\\bf{Norm. Residues}\")\n",
    "plt.xlabel(r\"\\bf{$\\mathrm{\\frac{Strobe}{Strobe+Gap}}$\")\n",
    "#plt.xticks(df_exp[\"pico_deg\"][df_exp[\"pico_deg\"] % 9 == 0])\n",
    "plt.grid(linestyle='--', linewidth=0.25, zorder=0)\n",
    "#######################################################################\n",
    "\n",
    "\n",
    "#######################################################################\n",
    "##### SAVE FIGURE\n",
    "#######################################################################\n",
    "#fig.savefig(SAVE_PATH + \"source/source_correlation.pdf\", bbox_inches='tight')\n",
    "#######################################################################\n",
    "\n",
    "\n",
    "plt.show()\n",
    "#######################################################################"
   ]
  },
  {
   "cell_type": "code",
   "execution_count": null,
   "metadata": {},
   "outputs": [],
   "source": [
    "plt.figure(figsize=(12,8))\n",
    "plt.errorbar(Strobe_par_corr,\n",
    "             Mean_PCAr_corr,\n",
    "             yerr            = PCAr_err_corr,\n",
    "             fmt             = 'o',\n",
    "             markerfacecolor = col[1],\n",
    "             color           = col[1],\n",
    "             ecolor          = col[1],\n",
    "             label           = \"Data\",\n",
    "             alpha           = 1,\n",
    "             markersize      = 3,\n",
    "             capsize         = 3) #fillstyle=\"none\"\n",
    "\n",
    "\n",
    "\n",
    "plt.xlabel(\"(Strobe)/(Strobe+Gap)\")\n",
    "plt.ylabel(\"Rate$_{acq}$ [ev/h]\")\n",
    "\n",
    "plt.grid(True, linestyle=':')\n",
    "plt.legend()\n",
    "#plt.savefig(\"../Graph_images/Strobe_Test_py\", dpi=200)\n",
    "plt.show()"
   ]
  },
  {
   "cell_type": "code",
   "execution_count": 63,
   "metadata": {},
   "outputs": [
    {
     "data": {
      "text/html": [
       "<div>\n",
       "<style scoped>\n",
       "    .dataframe tbody tr th:only-of-type {\n",
       "        vertical-align: middle;\n",
       "    }\n",
       "\n",
       "    .dataframe tbody tr th {\n",
       "        vertical-align: top;\n",
       "    }\n",
       "\n",
       "    .dataframe thead th {\n",
       "        text-align: right;\n",
       "    }\n",
       "</style>\n",
       "<table border=\"1\" class=\"dataframe\">\n",
       "  <thead>\n",
       "    <tr style=\"text-align: right;\">\n",
       "      <th></th>\n",
       "      <th>Strobe</th>\n",
       "      <th>Gap</th>\n",
       "      <th>Str_par</th>\n",
       "      <th>Ev</th>\n",
       "      <th>Rate</th>\n",
       "      <th>Rate_err</th>\n",
       "    </tr>\n",
       "  </thead>\n",
       "  <tbody>\n",
       "    <tr>\n",
       "      <th>0</th>\n",
       "      <td>20000.0</td>\n",
       "      <td>45000.0</td>\n",
       "      <td>0.307692</td>\n",
       "      <td>5839.0</td>\n",
       "      <td>350336.549185</td>\n",
       "      <td>4584.755817</td>\n",
       "    </tr>\n",
       "    <tr>\n",
       "      <th>1</th>\n",
       "      <td>45000.0</td>\n",
       "      <td>45000.0</td>\n",
       "      <td>0.500000</td>\n",
       "      <td>9574.0</td>\n",
       "      <td>574435.825766</td>\n",
       "      <td>5870.766483</td>\n",
       "    </tr>\n",
       "    <tr>\n",
       "      <th>2</th>\n",
       "      <td>30000.0</td>\n",
       "      <td>65000.0</td>\n",
       "      <td>0.315789</td>\n",
       "      <td>6105.0</td>\n",
       "      <td>366294.914606</td>\n",
       "      <td>4688.004880</td>\n",
       "    </tr>\n",
       "    <tr>\n",
       "      <th>3</th>\n",
       "      <td>60000.0</td>\n",
       "      <td>65000.0</td>\n",
       "      <td>0.480000</td>\n",
       "      <td>9198.0</td>\n",
       "      <td>551875.897722</td>\n",
       "      <td>5754.329477</td>\n",
       "    </tr>\n",
       "    <tr>\n",
       "      <th>4</th>\n",
       "      <td>40000.0</td>\n",
       "      <td>65000.0</td>\n",
       "      <td>0.380952</td>\n",
       "      <td>7246.0</td>\n",
       "      <td>434755.666935</td>\n",
       "      <td>5107.355483</td>\n",
       "    </tr>\n",
       "    <tr>\n",
       "      <th>5</th>\n",
       "      <td>20000.0</td>\n",
       "      <td>25000.0</td>\n",
       "      <td>0.444444</td>\n",
       "      <td>8681.0</td>\n",
       "      <td>520854.557070</td>\n",
       "      <td>5590.254632</td>\n",
       "    </tr>\n",
       "    <tr>\n",
       "      <th>6</th>\n",
       "      <td>35000.0</td>\n",
       "      <td>65000.0</td>\n",
       "      <td>0.350000</td>\n",
       "      <td>6795.0</td>\n",
       "      <td>407696.262784</td>\n",
       "      <td>4945.862062</td>\n",
       "    </tr>\n",
       "    <tr>\n",
       "      <th>7</th>\n",
       "      <td>55000.0</td>\n",
       "      <td>65000.0</td>\n",
       "      <td>0.458333</td>\n",
       "      <td>8628.0</td>\n",
       "      <td>517674.089887</td>\n",
       "      <td>5573.158063</td>\n",
       "    </tr>\n",
       "    <tr>\n",
       "      <th>8</th>\n",
       "      <td>15000.0</td>\n",
       "      <td>45000.0</td>\n",
       "      <td>0.250000</td>\n",
       "      <td>4927.0</td>\n",
       "      <td>295616.881242</td>\n",
       "      <td>4211.511101</td>\n",
       "    </tr>\n",
       "    <tr>\n",
       "      <th>9</th>\n",
       "      <td>25000.0</td>\n",
       "      <td>45000.0</td>\n",
       "      <td>0.357143</td>\n",
       "      <td>6939.0</td>\n",
       "      <td>416335.253778</td>\n",
       "      <td>4997.982639</td>\n",
       "    </tr>\n",
       "    <tr>\n",
       "      <th>10</th>\n",
       "      <td>15000.0</td>\n",
       "      <td>65000.0</td>\n",
       "      <td>0.187500</td>\n",
       "      <td>3620.0</td>\n",
       "      <td>217198.016258</td>\n",
       "      <td>3609.953179</td>\n",
       "    </tr>\n",
       "    <tr>\n",
       "      <th>11</th>\n",
       "      <td>5000.0</td>\n",
       "      <td>65000.0</td>\n",
       "      <td>0.071429</td>\n",
       "      <td>1406.0</td>\n",
       "      <td>84359.491031</td>\n",
       "      <td>2249.786417</td>\n",
       "    </tr>\n",
       "    <tr>\n",
       "      <th>12</th>\n",
       "      <td>65000.0</td>\n",
       "      <td>65000.0</td>\n",
       "      <td>0.500000</td>\n",
       "      <td>9607.0</td>\n",
       "      <td>576414.187824</td>\n",
       "      <td>5880.858997</td>\n",
       "    </tr>\n",
       "    <tr>\n",
       "      <th>13</th>\n",
       "      <td>35000.0</td>\n",
       "      <td>45000.0</td>\n",
       "      <td>0.437500</td>\n",
       "      <td>8384.0</td>\n",
       "      <td>503036.378138</td>\n",
       "      <td>5493.811553</td>\n",
       "    </tr>\n",
       "    <tr>\n",
       "      <th>14</th>\n",
       "      <td>30000.0</td>\n",
       "      <td>45000.0</td>\n",
       "      <td>0.400000</td>\n",
       "      <td>7506.0</td>\n",
       "      <td>450355.804185</td>\n",
       "      <td>5198.182038</td>\n",
       "    </tr>\n",
       "    <tr>\n",
       "      <th>15</th>\n",
       "      <td>50000.0</td>\n",
       "      <td>65000.0</td>\n",
       "      <td>0.434783</td>\n",
       "      <td>8345.0</td>\n",
       "      <td>500695.660638</td>\n",
       "      <td>5481.010790</td>\n",
       "    </tr>\n",
       "    <tr>\n",
       "      <th>16</th>\n",
       "      <td>25000.0</td>\n",
       "      <td>25000.0</td>\n",
       "      <td>0.500000</td>\n",
       "      <td>9617.0</td>\n",
       "      <td>577012.258419</td>\n",
       "      <td>5883.899304</td>\n",
       "    </tr>\n",
       "    <tr>\n",
       "      <th>17</th>\n",
       "      <td>25000.0</td>\n",
       "      <td>65000.0</td>\n",
       "      <td>0.277778</td>\n",
       "      <td>5238.0</td>\n",
       "      <td>314277.281502</td>\n",
       "      <td>4342.404148</td>\n",
       "    </tr>\n",
       "    <tr>\n",
       "      <th>18</th>\n",
       "      <td>45000.0</td>\n",
       "      <td>65000.0</td>\n",
       "      <td>0.409091</td>\n",
       "      <td>7827.0</td>\n",
       "      <td>469614.646393</td>\n",
       "      <td>5308.159528</td>\n",
       "    </tr>\n",
       "    <tr>\n",
       "      <th>19</th>\n",
       "      <td>10000.0</td>\n",
       "      <td>45000.0</td>\n",
       "      <td>0.181818</td>\n",
       "      <td>3529.0</td>\n",
       "      <td>211737.533258</td>\n",
       "      <td>3564.281694</td>\n",
       "    </tr>\n",
       "    <tr>\n",
       "      <th>20</th>\n",
       "      <td>40000.0</td>\n",
       "      <td>45000.0</td>\n",
       "      <td>0.470588</td>\n",
       "      <td>9207.0</td>\n",
       "      <td>552414.696819</td>\n",
       "      <td>5757.131545</td>\n",
       "    </tr>\n",
       "    <tr>\n",
       "      <th>21</th>\n",
       "      <td>20000.0</td>\n",
       "      <td>65000.0</td>\n",
       "      <td>0.235294</td>\n",
       "      <td>4472.0</td>\n",
       "      <td>268317.298939</td>\n",
       "      <td>4012.340448</td>\n",
       "    </tr>\n",
       "    <tr>\n",
       "      <th>22</th>\n",
       "      <td>15000.0</td>\n",
       "      <td>25000.0</td>\n",
       "      <td>0.375000</td>\n",
       "      <td>7340.0</td>\n",
       "      <td>440394.282214</td>\n",
       "      <td>5140.361259</td>\n",
       "    </tr>\n",
       "    <tr>\n",
       "      <th>23</th>\n",
       "      <td>10000.0</td>\n",
       "      <td>65000.0</td>\n",
       "      <td>0.133333</td>\n",
       "      <td>2537.0</td>\n",
       "      <td>152218.759417</td>\n",
       "      <td>3022.093832</td>\n",
       "    </tr>\n",
       "    <tr>\n",
       "      <th>24</th>\n",
       "      <td>5000.0</td>\n",
       "      <td>45000.0</td>\n",
       "      <td>0.100000</td>\n",
       "      <td>2049.0</td>\n",
       "      <td>122938.928382</td>\n",
       "      <td>2715.929198</td>\n",
       "    </tr>\n",
       "  </tbody>\n",
       "</table>\n",
       "</div>"
      ],
      "text/plain": [
       "     Strobe      Gap   Str_par      Ev           Rate     Rate_err\n",
       "0   20000.0  45000.0  0.307692  5839.0  350336.549185  4584.755817\n",
       "1   45000.0  45000.0  0.500000  9574.0  574435.825766  5870.766483\n",
       "2   30000.0  65000.0  0.315789  6105.0  366294.914606  4688.004880\n",
       "3   60000.0  65000.0  0.480000  9198.0  551875.897722  5754.329477\n",
       "4   40000.0  65000.0  0.380952  7246.0  434755.666935  5107.355483\n",
       "5   20000.0  25000.0  0.444444  8681.0  520854.557070  5590.254632\n",
       "6   35000.0  65000.0  0.350000  6795.0  407696.262784  4945.862062\n",
       "7   55000.0  65000.0  0.458333  8628.0  517674.089887  5573.158063\n",
       "8   15000.0  45000.0  0.250000  4927.0  295616.881242  4211.511101\n",
       "9   25000.0  45000.0  0.357143  6939.0  416335.253778  4997.982639\n",
       "10  15000.0  65000.0  0.187500  3620.0  217198.016258  3609.953179\n",
       "11   5000.0  65000.0  0.071429  1406.0   84359.491031  2249.786417\n",
       "12  65000.0  65000.0  0.500000  9607.0  576414.187824  5880.858997\n",
       "13  35000.0  45000.0  0.437500  8384.0  503036.378138  5493.811553\n",
       "14  30000.0  45000.0  0.400000  7506.0  450355.804185  5198.182038\n",
       "15  50000.0  65000.0  0.434783  8345.0  500695.660638  5481.010790\n",
       "16  25000.0  25000.0  0.500000  9617.0  577012.258419  5883.899304\n",
       "17  25000.0  65000.0  0.277778  5238.0  314277.281502  4342.404148\n",
       "18  45000.0  65000.0  0.409091  7827.0  469614.646393  5308.159528\n",
       "19  10000.0  45000.0  0.181818  3529.0  211737.533258  3564.281694\n",
       "20  40000.0  45000.0  0.470588  9207.0  552414.696819  5757.131545\n",
       "21  20000.0  65000.0  0.235294  4472.0  268317.298939  4012.340448\n",
       "22  15000.0  25000.0  0.375000  7340.0  440394.282214  5140.361259\n",
       "23  10000.0  65000.0  0.133333  2537.0  152218.759417  3022.093832\n",
       "24   5000.0  45000.0  0.100000  2049.0  122938.928382  2715.929198"
      ]
     },
     "execution_count": 63,
     "metadata": {},
     "output_type": "execute_result"
    }
   ],
   "source": [
    "df"
   ]
  },
  {
   "cell_type": "code",
   "execution_count": null,
   "metadata": {},
   "outputs": [],
   "source": []
  },
  {
   "cell_type": "code",
   "execution_count": null,
   "metadata": {},
   "outputs": [],
   "source": []
  },
  {
   "cell_type": "code",
   "execution_count": null,
   "metadata": {},
   "outputs": [],
   "source": []
  }
 ],
 "metadata": {
  "kernelspec": {
   "display_name": "Python 3",
   "language": "python",
   "name": "python3"
  },
  "language_info": {
   "codemirror_mode": {
    "name": "ipython",
    "version": 3
   },
   "file_extension": ".py",
   "mimetype": "text/x-python",
   "name": "python",
   "nbconvert_exporter": "python",
   "pygments_lexer": "ipython3",
   "version": "3.9.0"
  }
 },
 "nbformat": 4,
 "nbformat_minor": 4
}
