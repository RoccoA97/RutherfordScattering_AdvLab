{
 "cells": [
  {
   "cell_type": "code",
   "execution_count": 1,
   "metadata": {},
   "outputs": [
    {
     "name": "stdout",
     "output_type": "stream",
     "text": [
      "Welcome to JupyROOT 6.22/02\n"
     ]
    }
   ],
   "source": [
    "import ROOT\n",
    "import numpy as np\n",
    "import matplotlib.pyplot as plt\n",
    "import sys\n",
    "import os\n",
    "from pathlib import Path\n",
    "#import tqdm as tqdm\n",
    "import tqdm.notebook as tqdm\n",
    "import multiprocessing"
   ]
  },
  {
   "cell_type": "code",
   "execution_count": 2,
   "metadata": {},
   "outputs": [],
   "source": [
    "N_cpu=multiprocessing.cpu_count()\n",
    "N_Threads = \"%d\" % (N_cpu-2)"
   ]
  },
  {
   "cell_type": "code",
   "execution_count": 3,
   "metadata": {},
   "outputs": [],
   "source": [
    "def make_histo(Data_array,Title,nbins,xmin,xmax,save=True):\n",
    "    Histo = ROOT.TH1F(Title,Title,nbins,xmin,xmax)\n",
    "    for value in Data_array:\n",
    "        Histo.Fill(value)\n",
    "\n",
    "    Canv=ROOT.TCanvas()\n",
    "    Histo.Draw()\n",
    "    \n",
    "    if save:\n",
    "        Image_name=Title + '_Histo.pdf'\n",
    "        Canv.Print(Image_name)\n",
    "    \n",
    "    return Histo, Canv"
   ]
  },
  {
   "cell_type": "code",
   "execution_count": 4,
   "metadata": {},
   "outputs": [],
   "source": [
    "ROOT.gStyle.SetPalette(107)"
   ]
  },
  {
   "cell_type": "markdown",
   "metadata": {},
   "source": [
    "# THR analysis\n",
    "* Noise vs VCASN\n",
    "* Rate vs VCASN\n",
    "* Area vs PCA ratio 2D Histo"
   ]
  },
  {
   "cell_type": "code",
   "execution_count": 5,
   "metadata": {},
   "outputs": [
    {
     "data": {
      "application/vnd.jupyter.widget-view+json": {
       "model_id": "4ab99aaf6f534611a5db27c75e6f863e",
       "version_major": 2,
       "version_minor": 0
      },
      "text/plain": [
       "HBox(children=(HTML(value=''), FloatProgress(value=0.0, max=495.0), HTML(value='')))"
      ]
     },
     "metadata": {},
     "output_type": "display_data"
    },
    {
     "name": "stdout",
     "output_type": "stream",
     "text": [
      "\n"
     ]
    }
   ],
   "source": [
    "#Run packet analyzer script for all threshold\n",
    "Data_folder_path=\"Data\"\n",
    "\n",
    "Run_Analysis = True\n",
    "Force_Analysis = False\n",
    "\n",
    "files=os.listdir(Data_folder_path + \"/\")\n",
    "\n",
    "with tqdm.tqdm(total=len(files)) as pbar:\n",
    "    for name in files:\n",
    "        pbar.update(1)\n",
    "        if name.startswith('Data_VCASN_'):\n",
    "            root_file=Path(\"Analyzed_Data/\"+name+\"/\"+name+\".root\")\n",
    "            root_file_existence_flag=root_file.is_file()\n",
    "            if (Run_Analysis and not root_file_existence_flag) or Force_Analysis:\n",
    "                args = \"-f \"+name+\" -Df \"+Data_folder_path+\" -d 1 10 \"\n",
    "                %run 'Packet_analyzer.py' {args}\n",
    "            "
   ]
  },
  {
   "cell_type": "code",
   "execution_count": 6,
   "metadata": {},
   "outputs": [
    {
     "data": {
      "application/vnd.jupyter.widget-view+json": {
       "model_id": "346046eb04724cefbda2c53021b64c48",
       "version_major": 2,
       "version_minor": 0
      },
      "text/plain": [
       "HBox(children=(HTML(value=''), FloatProgress(value=0.0, max=495.0), HTML(value='')))"
      ]
     },
     "metadata": {},
     "output_type": "display_data"
    },
    {
     "name": "stdout",
     "output_type": "stream",
     "text": [
      "\n"
     ]
    }
   ],
   "source": [
    "#Noise and rate dependance on VCASN\n",
    "\n",
    "Area_thr  = 12\n",
    "Ratio_thr = 4\n",
    "\n",
    "VCASN_val    = []\n",
    "Noise_points = []\n",
    "N_counts     = []\n",
    "Rate_val     = []\n",
    "Counts       = []\n",
    "Time_acq     = []\n",
    "Strobe_par   = []\n",
    "Mean_area    = []\n",
    "Area_err     = []\n",
    "Mean_PCAr    = []\n",
    "PCAr_err     = []\n",
    "Area_arr     = []\n",
    "PCAr_arr     = []\n",
    "\n",
    "\n",
    "files=os.listdir(Data_folder_path+\"/\")\n",
    "with tqdm.tqdm(total=len(files)) as pbar:\n",
    "    for name in files:\n",
    "        pbar.update(1)\n",
    "        if name.startswith('Data_VCASN_'):\n",
    "            V_CASN_THR=int(name.split('_')[2], base=16)\n",
    "            VCASN_val = np.append(VCASN_val,V_CASN_THR)\n",
    "\n",
    "            file=open(\"Data/\"+name+\"/Stat_\"+name+\".txt\")\n",
    "            line=file.readlines()\n",
    "            for l in line:\n",
    "                if (l.startswith(\"Readout_time\")):\n",
    "                    time=float(l.split('=')[1].strip()[:-1])\n",
    "                if (l.startswith(\"Strobe\")):\n",
    "                    Strobe=int(l.split('=')[1].strip())\n",
    "                if (l.startswith(\"Gap\")):\n",
    "                    Gap=int(l.split('=')[1].strip())\n",
    "\n",
    "            filename=\"Analyzed_Data/\"+name+\"/\"+name+\".root\"\n",
    "            root_file_1  = ROOT.TFile.Open(filename)\n",
    "            Data_tree    = root_file_1.Get(\"tree\")\n",
    "            Noise        = Data_tree.AsMatrix(['Rnoise'])\n",
    "            Areas        = Data_tree.AsMatrix(['Rareas'])\n",
    "            Ratios       = Data_tree.AsMatrix(['Rratios'])\n",
    "\n",
    "            mask_thr   = np.logical_and (np.squeeze(Areas)      > Area_thr, np.squeeze(Ratios)     < Ratio_thr)\n",
    "\n",
    "            Rate_val   = np.append(Rate_val  , len(Areas [mask_thr])*(Strobe+Gap)/(time*Strobe))\n",
    "            Counts     = np.append(Counts    , len(Areas [mask_thr]))\n",
    "            Time_acq   = np.append(Time_acq  , time)\n",
    "            Strobe_par = np.append(Strobe_par, Strobe/(Strobe+Gap))\n",
    "            Mean_area  = np.append(Mean_area , np.mean(Areas [mask_thr]))\n",
    "            Area_err   = np.append(Area_err  , np.std(Areas [mask_thr]))\n",
    "            Mean_PCAr  = np.append(Mean_PCAr , np.mean(Ratios [mask_thr]))\n",
    "            PCAr_err   = np.append(PCAr_err  , np.std(Ratios [mask_thr]))\n",
    "\n",
    "            Area_arr.append(Areas[mask_thr])\n",
    "            PCAr_arr.append(Ratios[mask_thr])\n",
    "\n",
    "            N_counts     = np.append(N_counts,(Noise[0]+len(Areas[np.invert(mask_thr)])))\n",
    "            Noise_points = np.append(Noise_points,(Noise[0]+len(Areas[np.invert(mask_thr)]))*(Strobe+Gap)/(time*Strobe))\n",
    "        "
   ]
  },
  {
   "cell_type": "code",
   "execution_count": 7,
   "metadata": {},
   "outputs": [
    {
     "data": {
      "text/plain": [
       "array([[32.],\n",
       "       [28.],\n",
       "       [34.],\n",
       "       ...,\n",
       "       [20.],\n",
       "       [32.],\n",
       "       [32.]])"
      ]
     },
     "execution_count": 7,
     "metadata": {},
     "output_type": "execute_result"
    }
   ],
   "source": [
    "np.array(Area_arr[0])\n"
   ]
  },
  {
   "cell_type": "code",
   "execution_count": 8,
   "metadata": {},
   "outputs": [
    {
     "data": {
      "image/png": "[encoded data removed]",
      "text/plain": [
       "<IPython.core.display.Image object>"
      ]
     },
     "metadata": {},
     "output_type": "display_data"
    }
   ],
   "source": [
    "#plt.plot(VCASN_val,Noise_points, 'bo')\n",
    "\n",
    "DAC_unit=1.8/256*1000\n",
    "\n",
    "VCASN_err=np.ones(len(Noise_points))*(1/np.sqrt(12))*DAC_unit\n",
    "\n",
    "Noise_graph = ROOT.TGraph(len(Noise_points),VCASN_val*DAC_unit,Noise_points)\n",
    "Exp_func    = ROOT.TF1('Exp_func','[0]*exp((x-[1])/[2])+[3]')\n",
    "Pol4        = ROOT.TF1('Pol4','pol4')\n",
    "\n",
    "Noise_graph.SetMarkerColor(4)\n",
    "Noise_graph.SetMarkerStyle(2)\n",
    "Noise_graph.SetMarkerSize(1)\n",
    "YAxis = Noise_graph.GetYaxis()\n",
    "YAxis.SetRangeUser(-1000,100000)\n",
    "\n",
    "Exp_func.SetParameters(0.007,22,3,-500)\n",
    "\n",
    "#Noise_graph.Fit('Exp_func')\n",
    "\n",
    "NPC = ROOT.TCanvas()\n",
    "\n",
    "Noise_graph.Draw('AP')\n",
    "NPC.Draw()"
   ]
  },
  {
   "cell_type": "code",
   "execution_count": 9,
   "metadata": {},
   "outputs": [
    {
     "data": {
      "image/png": "[encoded data removed]",
      "text/plain": [
       "<IPython.core.display.Image object>"
      ]
     },
     "metadata": {},
     "output_type": "display_data"
    }
   ],
   "source": [
    "#plt.plot(VCASN_val,Noise_points, 'bo')\n",
    "Rate_graph  = ROOT.TGraph(len(Rate_val),VCASN_val*DAC_unit,Rate_val)\n",
    "#xp_func    = ROOT.TF1('Exp_func','[0]*exp(x/[1])+[2]')\n",
    "#Pol4        = ROOT.TF1('Pol4','pol4')\n",
    "\n",
    "Rate_graph.SetMarkerColor(4)\n",
    "Rate_graph.SetMarkerStyle(2)\n",
    "Rate_graph.SetMarkerSize(1)\n",
    "\n",
    "#Exp_func.SetParameters(5,8,0.1)\n",
    "\n",
    "#Rate_graph.Fit('Exp_func')\n",
    "\n",
    "RC = ROOT.TCanvas()\n",
    "\n",
    "Rate_graph.Draw('AP')\n",
    "RC.Draw()"
   ]
  },
  {
   "cell_type": "code",
   "execution_count": 10,
   "metadata": {},
   "outputs": [
    {
     "name": "stderr",
     "output_type": "stream",
     "text": [
      "Info in <TCanvas::Print>: pdf file Graph_images/SNR_graph.pdf has been created\n"
     ]
    },
    {
     "data": {
      "image/png": "[encoded data removed]",
      "text/plain": [
       "<IPython.core.display.Image object>"
      ]
     },
     "metadata": {},
     "output_type": "display_data"
    }
   ],
   "source": [
    "#plt.plot(VCASN_val,Noise_points, 'bo')\n",
    "SNR       = Rate_val/Noise_points\n",
    "Rate_err  = np.sqrt(Counts)/(Time_acq*Strobe_par)\n",
    "Noise_err = np.sqrt(N_counts)/(Time_acq*Strobe_par)\n",
    "SNR_err   = np.sqrt((Rate_err/(Noise_points))**2+(Noise_err*(Rate_val)/(Noise_points**2))**2)\n",
    "\n",
    "SNR_graph  = ROOT.TGraphErrors(len(Rate_val),VCASN_val*DAC_unit,Rate_val/Noise_points,VCASN_err,SNR_err)\n",
    "#xp_func    = ROOT.TF1('Exp_func','[0]*exp(x/[1])+[2]')\n",
    "#Pol4        = ROOT.TF1('Pol4','pol4')\n",
    "\n",
    "SNR_graph.SetMarkerColor(4)\n",
    "SNR_graph.SetMarkerStyle(2)\n",
    "SNR_graph.SetMarkerSize(1)\n",
    "\n",
    "YAxis = SNR_graph.GetYaxis()\n",
    "XAxis = SNR_graph.GetXaxis()\n",
    "YAxis.SetTitle('SNR')\n",
    "XAxis.SetTitle('V_{CASN} [mV]')\n",
    "\n",
    "SNR_graph.SetTitle('SNR vs V_{CASN}')\n",
    "\n",
    "\n",
    "#Exp_func.SetParameters(5,8,0.1)\n",
    "\n",
    "#Rate_graph.Fit('Exp_func')\n",
    "\n",
    "SNRC = ROOT.TCanvas()\n",
    "\n",
    "SNRC.SetLogy()\n",
    "SNRC.SetGrid()\n",
    "\n",
    "SNR_graph.Draw('AP')\n",
    "SNRC.Draw()\n",
    "SNRC.Print('Graph_images/SNR_graph.pdf')"
   ]
  },
  {
   "cell_type": "code",
   "execution_count": 11,
   "metadata": {},
   "outputs": [
    {
     "name": "stderr",
     "output_type": "stream",
     "text": [
      "Info in <TCanvas::Print>: pdf file Graph_images/Area_graph.pdf has been created\n"
     ]
    },
    {
     "data": {
      "image/png": "[encoded data removed]",
      "text/plain": [
       "<IPython.core.display.Image object>"
      ]
     },
     "metadata": {},
     "output_type": "display_data"
    }
   ],
   "source": [
    "#plt.plot(VCASN_val,Noise_points, 'bo')\n",
    "\n",
    "Area_graph  = ROOT.TGraphErrors(len(Mean_area),VCASN_val*DAC_unit,Mean_area,VCASN_err,Area_err)\n",
    "\n",
    "\n",
    "Area_graph.SetMarkerColor(4)\n",
    "Area_graph.SetMarkerStyle(2)\n",
    "Area_graph.SetMarkerSize(1)\n",
    "\n",
    "YAxis = Area_graph.GetYaxis()\n",
    "XAxis = Area_graph.GetXaxis()\n",
    "YAxis.SetTitle('Area [pixel]')\n",
    "XAxis.SetTitle('V_{CASN} [mV]')\n",
    "\n",
    "Area_graph.SetTitle('Mean area vs V_{CASN}')\n",
    "\n",
    "#Exp_func.SetParameters(5,8,0.1)\n",
    "\n",
    "#Rate_graph.Fit('Exp_func')\n",
    "\n",
    "AC = ROOT.TCanvas()\n",
    "\n",
    "AC.SetGrid()\n",
    "\n",
    "Area_graph.Draw('AP')\n",
    "AC.Draw()\n",
    "AC.Print('Graph_images/Area_graph.pdf')"
   ]
  },
  {
   "cell_type": "code",
   "execution_count": 12,
   "metadata": {},
   "outputs": [
    {
     "name": "stderr",
     "output_type": "stream",
     "text": [
      "Info in <TCanvas::Print>: pdf file Graph_images/PCA_graph.pdf has been created\n"
     ]
    },
    {
     "data": {
      "image/png": "[encoded data removed]",
      "text/plain": [
       "<IPython.core.display.Image object>"
      ]
     },
     "metadata": {},
     "output_type": "display_data"
    }
   ],
   "source": [
    "#plt.plot(VCASN_val,Noise_points, 'bo')\n",
    "\n",
    "PCA_graph  = ROOT.TGraphErrors(len(Mean_PCAr),VCASN_val*DAC_unit,Mean_PCAr,VCASN_err,PCAr_err)\n",
    "\n",
    "\n",
    "PCA_graph.SetMarkerColor(4)\n",
    "PCA_graph.SetMarkerStyle(2)\n",
    "PCA_graph.SetMarkerSize(1)\n",
    "\n",
    "YAxis = PCA_graph.GetYaxis()\n",
    "XAxis = PCA_graph.GetXaxis()\n",
    "YAxis.SetTitle('PCA ratio [A.U.]')\n",
    "XAxis.SetTitle('V_{CASN} [mV]')\n",
    "\n",
    "PCA_graph.SetTitle('PCA ratio vs V_{CASN}')\n",
    "\n",
    "#Exp_func.SetParameters(5,8,0.1)\n",
    "\n",
    "#Rate_graph.Fit('Exp_func')\n",
    "\n",
    "PCAC = ROOT.TCanvas()\n",
    "\n",
    "PCAC.SetGrid()\n",
    "\n",
    "PCA_graph.Draw('AP')\n",
    "PCAC.Draw()\n",
    "PCAC.Print('Graph_images/PCA_graph.pdf')"
   ]
  },
  {
   "cell_type": "code",
   "execution_count": 13,
   "metadata": {},
   "outputs": [],
   "source": [
    "#convert the TTree in np arrays\n",
    "name        = \"bkg_24h_151220\"\n",
    "filename    = \"Analyzed_Data/\"+name+\"/\"+name+\".root\"\n",
    "root_file = ROOT.TFile.Open(filename)\n",
    "Data_tree   = root_file.Get(\"tree\")\n",
    "\n",
    "Areas_AxP  = Data_tree.AsMatrix(['Rareas'])\n",
    "Means_AxP  = Data_tree.AsMatrix(['Rmeanx','Rmeany'])\n",
    "Ratios_AxP = Data_tree.AsMatrix(['Rratios'])"
   ]
  },
  {
   "cell_type": "code",
   "execution_count": 14,
   "metadata": {},
   "outputs": [
    {
     "data": {
      "image/png": "[encoded data removed]",
      "text/plain": [
       "<IPython.core.display.Image object>"
      ]
     },
     "metadata": {},
     "output_type": "display_data"
    }
   ],
   "source": [
    "ar_max=int(np.amax(Areas_AxP))\n",
    "A_R_Histo = ROOT.TH2D('A_R_Histo','Area vs Ratio',ar_max-2,2,ar_max,40,0.5,10.5)\n",
    "\n",
    "for i in range(len(Areas_AxP)):\n",
    "    A_R_Histo.Fill(Areas_AxP[i],Ratios_AxP[i])\n",
    "    \n",
    "    \n",
    "ARC=ROOT.TCanvas()\n",
    "A_R_Histo.Draw(\"COLZ\")\n",
    "A_R_Histo.SetStats(False)\n",
    "ARC.Draw()"
   ]
  },
  {
   "cell_type": "markdown",
   "metadata": {},
   "source": [
    "# X-rays"
   ]
  },
  {
   "cell_type": "code",
   "execution_count": 15,
   "metadata": {},
   "outputs": [],
   "source": [
    "run_analysis = False\n",
    "\n",
    "if run_analysis:\n",
    "    Args = \"-Df Data -f bkg_X_90m_181220 -p -A DB -NThr 3 -d 3 15 -s 17\"\n",
    "    %run 'Packet_analyzer.py' {Args}"
   ]
  },
  {
   "cell_type": "code",
   "execution_count": 16,
   "metadata": {},
   "outputs": [],
   "source": [
    "#convert the TTree in np arrays\n",
    "name        = \"bkg_X_90m_181220\"\n",
    "filename    = \"Analyzed_Data/\"+name+\"/\"+name+\".root\"\n",
    "root_file   = ROOT.TFile.Open(filename)\n",
    "Data_tree   = root_file.Get(\"tree\")\n",
    "\n",
    "file=open(\"Data/\"+name+\"/Stat_\"+name+\".txt\")\n",
    "line=file.readlines()\n",
    "for l in line:\n",
    "    if (l.startswith(\"Readout_time\")):\n",
    "        time=float(l.split('=')[1].strip()[:-1])\n",
    "    if (l.startswith(\"Strobe\")):\n",
    "        Strobe=int(l.split('=')[1].strip()[:-1])\n",
    "    if (l.startswith(\"Gap\")):\n",
    "        Gap=int(l.split('=')[1].strip()[:-1])\n",
    "\n",
    "Areas_X  = Data_tree.AsMatrix(['Rareas'])\n",
    "Means_X  = Data_tree.AsMatrix(['Rmeanx','Rmeany'])\n",
    "Ratios_X = Data_tree.AsMatrix(['Rratios'])\n",
    "\n",
    "Time_X   = (time*Strobe)/(Strobe+Gap)"
   ]
  },
  {
   "cell_type": "code",
   "execution_count": 17,
   "metadata": {},
   "outputs": [
    {
     "name": "stderr",
     "output_type": "stream",
     "text": [
      "Info in <TCanvas::Print>: pdf file Area_Histo.pdf has been created\n"
     ]
    },
    {
     "data": {
      "image/png": "[encoded data removed]",
      "text/plain": [
       "<IPython.core.display.Image object>"
      ]
     },
     "metadata": {},
     "output_type": "display_data"
    }
   ],
   "source": [
    "ar_max=int(np.amax(Areas_X))\n",
    "nbins=int((ar_max-1))\n",
    "ArXHist,AXC=make_histo(Areas_X,'Area',nbins,1,ar_max)\n",
    "AXC.SetLogy()\n",
    "AXC.Draw()"
   ]
  },
  {
   "cell_type": "code",
   "execution_count": 18,
   "metadata": {},
   "outputs": [
    {
     "name": "stdout",
     "output_type": "stream",
     "text": [
      "Areas     = 3.819171 +- 1.637414\n",
      "PCA ratio = 3.418758 +- 3.312493\n",
      "Rate      = 28793.330683\n"
     ]
    }
   ],
   "source": [
    "print('Areas     = %f +- %f' % (np.mean(Areas_X) , np.std(Areas_X)) )\n",
    "print('PCA ratio = %f +- %f' % (np.mean(Ratios_X), np.std(Ratios_X)))\n",
    "print('Rate      = %f'       % (len(Areas_X)/Time_X*3600)           )"
   ]
  },
  {
   "cell_type": "markdown",
   "metadata": {},
   "source": [
    "# Cosimc rays"
   ]
  },
  {
   "cell_type": "code",
   "execution_count": 19,
   "metadata": {},
   "outputs": [],
   "source": [
    "run_analysis = False\n",
    "\n",
    "if run_analysis:\n",
    "    Args = \"-Df Data -f bkg_24h_151220 -p -A DB -NThr 3 -d 3 15 -s 17\"\n",
    "    %run 'Packet_analyzer.py' {Args}"
   ]
  },
  {
   "cell_type": "code",
   "execution_count": 20,
   "metadata": {},
   "outputs": [],
   "source": [
    "#convert the TTree in np arrays\n",
    "name        = \"bkg_24h_151220\"\n",
    "filename    = \"Analyzed_Data/\"+name+\"/\"+name+\".root\"\n",
    "root_file   = ROOT.TFile.Open(filename)\n",
    "Data_tree   = root_file.Get(\"tree\")\n",
    "\n",
    "file=open(\"Data/\"+name+\"/Stat_\"+name+\".txt\")\n",
    "line=file.readlines()\n",
    "for l in line:\n",
    "    if (l.startswith(\"Readout_time\")):\n",
    "        time=float(l.split('=')[1].strip()[:-1])\n",
    "    if (l.startswith(\"Strobe\")):\n",
    "        Strobe=int(l.split('=')[1].strip()[:-1])\n",
    "    if (l.startswith(\"Gap\")):\n",
    "        Gap=int(l.split('=')[1].strip()[:-1])\n",
    "\n",
    "Areas_C  = Data_tree.AsMatrix(['Rareas'])\n",
    "Means_C  = Data_tree.AsMatrix(['Rmeanx','Rmeany'])\n",
    "Ratios_C = Data_tree.AsMatrix(['Rratios'])\n",
    "\n",
    "Time_C   = (time*Strobe)/(Strobe+Gap)"
   ]
  },
  {
   "cell_type": "code",
   "execution_count": 21,
   "metadata": {},
   "outputs": [
    {
     "name": "stderr",
     "output_type": "stream",
     "text": [
      "Info in <TCanvas::Print>: pdf file Area_Histo.pdf has been created\n"
     ]
    },
    {
     "data": {
      "image/png": "[encoded data removed]",
      "text/plain": [
       "<IPython.core.display.Image object>"
      ]
     },
     "metadata": {},
     "output_type": "display_data"
    }
   ],
   "source": [
    "ar_max=int(np.amax(Areas_C))\n",
    "nbins=int((ar_max-1))\n",
    "ArCHist,ACC=make_histo(Areas_C,'Area',nbins,1,ar_max)\n",
    "ACC.SetLogy()\n",
    "ACC.Draw()"
   ]
  },
  {
   "cell_type": "code",
   "execution_count": 22,
   "metadata": {},
   "outputs": [
    {
     "name": "stdout",
     "output_type": "stream",
     "text": [
      "Areas     = 5.983592 +- 6.273191\n",
      "PCA ratio = 3.933800 +- 3.317195\n",
      "Rate      = 578.999988\n"
     ]
    }
   ],
   "source": [
    "print('Areas     = %f +- %f' % (np.mean(Areas_C) , np.std(Areas_C)) )\n",
    "print('PCA ratio = %f +- %f' % (np.mean(Ratios_C), np.std(Ratios_C)))\n",
    "print('Rate      = %f'       % (len(Areas_C)/Time_C*3600)           )"
   ]
  },
  {
   "cell_type": "markdown",
   "metadata": {},
   "source": [
    "# ALPHA"
   ]
  },
  {
   "cell_type": "code",
   "execution_count": 23,
   "metadata": {},
   "outputs": [
    {
     "data": {
      "application/vnd.jupyter.widget-view+json": {
       "model_id": "11a3065beebe4ed0bb40a14bc530943e",
       "version_major": 2,
       "version_minor": 0
      },
      "text/plain": [
       "HBox(children=(HTML(value=''), FloatProgress(value=0.0, max=495.0), HTML(value='')))"
      ]
     },
     "metadata": {},
     "output_type": "display_data"
    },
    {
     "name": "stdout",
     "output_type": "stream",
     "text": [
      "\n"
     ]
    }
   ],
   "source": [
    "Time_A = 0\n",
    "\n",
    "Data_folder    =\"Data\"\n",
    "\n",
    "Run_Analysis   = True\n",
    "Force_Analysis = False\n",
    "\n",
    "#load files of a cartain dataset\n",
    "files=os.listdir(Data_folder + \"/\")\n",
    "\n",
    "with tqdm.tqdm(total=len(files)) as pbar:\n",
    "    for name in files:\n",
    "        pbar.update(1)\n",
    "        if name.startswith(\"center_alpide_17\"):\n",
    "            \n",
    "            file=open(Data_folder+\"/\"+name+\"/Stat_\"+name+\".txt\")\n",
    "            line=file.readlines()\n",
    "            for l in line:\n",
    "                if (l.startswith(\"Readout_time\")):\n",
    "                    time=float(l.split('=')[1].strip()[:-1])\n",
    "                if (l.startswith(\"Strobe\")):\n",
    "                    Strobe=int(l.split('=')[1].strip()[:-1])\n",
    "                if (l.startswith(\"Gap\")):\n",
    "                    Gap=int(l.split('=')[1].strip()[:-1])\n",
    "\n",
    "            exp_time = (Strobe*time)/(Gap+Strobe)\n",
    "            Time_A  += exp_time\n",
    "            \n",
    "            root_file=Path(\"Analyzed_Data/\"+name+\"/\"+name+\".root\")\n",
    "            root_file_existence_flag=root_file.is_file()\n",
    "            if (Run_Analysis and not root_file_existence_flag) or Force_Analysis:\n",
    "                Args = \"-Df \"+Data_folder+\" -f \"+name+\" -p -A DB -NThr \"+N_Threads+\" -d 3 15 -s 17\"\n",
    "                %run 'Packet_analyzer.py' {Args}\n",
    "                #%run 'Packet_analyzer-Copy2.py' {Args}\n",
    "            "
   ]
  },
  {
   "cell_type": "code",
   "execution_count": 24,
   "metadata": {},
   "outputs": [
    {
     "name": "stdout",
     "output_type": "stream",
     "text": [
      "hadd Target file: Tot_data_tree/Tot_alpha_par.root\n",
      "hadd compression setting for all output: 1\n",
      "hadd Source file 1: Analyzed_Data/center_alpide_17_DC_5m_run10_170121/center_alpide_17_DC_5m_run10_170121.root\n",
      "hadd Source file 2: Analyzed_Data/center_alpide_17_DC_5m_run11_170121/center_alpide_17_DC_5m_run11_170121.root\n",
      "hadd Source file 3: Analyzed_Data/center_alpide_17_DC_5m_run1_170121/center_alpide_17_DC_5m_run1_170121.root\n",
      "hadd Source file 4: Analyzed_Data/center_alpide_17_DC_5m_run12_170121/center_alpide_17_DC_5m_run12_170121.root\n",
      "hadd Source file 5: Analyzed_Data/center_alpide_17_DC_5m_run13_170121/center_alpide_17_DC_5m_run13_170121.root\n",
      "hadd Source file 6: Analyzed_Data/center_alpide_17_DC_5m_run14_170121/center_alpide_17_DC_5m_run14_170121.root\n",
      "hadd Source file 7: Analyzed_Data/center_alpide_17_DC_5m_run15_170121/center_alpide_17_DC_5m_run15_170121.root\n",
      "hadd Source file 8: Analyzed_Data/center_alpide_17_DC_5m_run16_170121/center_alpide_17_DC_5m_run16_170121.root\n",
      "hadd Source file 9: Analyzed_Data/center_alpide_17_DC_5m_run17_170121/center_alpide_17_DC_5m_run17_170121.root\n",
      "hadd Source file 10: Analyzed_Data/center_alpide_17_DC_5m_run18_170121/center_alpide_17_DC_5m_run18_170121.root\n",
      "hadd Source file 11: Analyzed_Data/center_alpide_17_DC_5m_run19_170121/center_alpide_17_DC_5m_run19_170121.root\n",
      "hadd Source file 12: Analyzed_Data/center_alpide_17_DC_5m_run20_170121/center_alpide_17_DC_5m_run20_170121.root\n",
      "hadd Source file 13: Analyzed_Data/center_alpide_17_DC_5m_run21_170121/center_alpide_17_DC_5m_run21_170121.root\n",
      "hadd Source file 14: Analyzed_Data/center_alpide_17_DC_5m_run2_170121/center_alpide_17_DC_5m_run2_170121.root\n",
      "hadd Source file 15: Analyzed_Data/center_alpide_17_DC_5m_run22_170121/center_alpide_17_DC_5m_run22_170121.root\n",
      "hadd Source file 16: Analyzed_Data/center_alpide_17_DC_5m_run23_170121/center_alpide_17_DC_5m_run23_170121.root\n",
      "hadd Source file 17: Analyzed_Data/center_alpide_17_DC_5m_run24_170121/center_alpide_17_DC_5m_run24_170121.root\n",
      "hadd Source file 18: Analyzed_Data/center_alpide_17_DC_5m_run3_170121/center_alpide_17_DC_5m_run3_170121.root\n",
      "hadd Source file 19: Analyzed_Data/center_alpide_17_DC_5m_run4_170121/center_alpide_17_DC_5m_run4_170121.root\n",
      "hadd Source file 20: Analyzed_Data/center_alpide_17_DC_5m_run5_170121/center_alpide_17_DC_5m_run5_170121.root\n",
      "hadd Source file 21: Analyzed_Data/center_alpide_17_DC_5m_run6_170121/center_alpide_17_DC_5m_run6_170121.root\n",
      "hadd Source file 22: Analyzed_Data/center_alpide_17_DC_5m_run7_170121/center_alpide_17_DC_5m_run7_170121.root\n",
      "hadd Source file 23: Analyzed_Data/center_alpide_17_DC_5m_run8_170121/center_alpide_17_DC_5m_run8_170121.root\n",
      "hadd Source file 24: Analyzed_Data/center_alpide_17_DC_5m_run9_170121/center_alpide_17_DC_5m_run9_170121.root\n",
      "hadd Target path: Tot_data_tree/Tot_alpha_par.root:/\n"
     ]
    }
   ],
   "source": [
    "! $ROOTSYS/bin/hadd -f Tot_data_tree/Tot_alpha_par.root Analyzed_Data/center_alpide_17*/*.root "
   ]
  },
  {
   "cell_type": "code",
   "execution_count": 25,
   "metadata": {},
   "outputs": [],
   "source": [
    "root_file  =ROOT.TFile.Open(\"Tot_data_tree/Tot_alpha_par.root\")\n",
    "Data_tree  = root_file.Get(\"tree\")\n",
    "\n",
    "Areas_A   = Data_tree.AsMatrix(['Rareas'])\n",
    "Means_A   = Data_tree.AsMatrix(['Rmeanx','Rmeany'])\n",
    "Ratios_A  = Data_tree.AsMatrix(['Rratios'])"
   ]
  },
  {
   "cell_type": "code",
   "execution_count": 26,
   "metadata": {},
   "outputs": [],
   "source": [
    "Area_thr  = 12\n",
    "Ratio_thr = 3.5\n",
    "\n",
    "mask_thr  =  np.logical_and (np.squeeze(Areas_A)      > Area_thr, np.squeeze(Ratios_A)     < Ratio_thr)\n",
    "\n",
    "\n",
    "Areas_disc_A  = Areas_A [mask_thr]\n",
    "Ratios_disc_A = Ratios_A[mask_thr]"
   ]
  },
  {
   "cell_type": "code",
   "execution_count": 27,
   "metadata": {},
   "outputs": [
    {
     "name": "stderr",
     "output_type": "stream",
     "text": [
      "Info in <TCanvas::Print>: pdf file Area_Histo.pdf has been created\n"
     ]
    },
    {
     "data": {
      "image/png": "[encoded data removed]",
      "text/plain": [
       "<IPython.core.display.Image object>"
      ]
     },
     "metadata": {},
     "output_type": "display_data"
    }
   ],
   "source": [
    "ar_max = int(np.amax(Areas_disc_A))\n",
    "nbins  = int((ar_max-1))\n",
    "\n",
    "ArAHist,AAC = make_histo(Areas_disc_A,'Area',nbins,1,ar_max)\n",
    "#AAC.SetLogy()\n",
    "AAC.Draw()"
   ]
  },
  {
   "cell_type": "code",
   "execution_count": 28,
   "metadata": {},
   "outputs": [
    {
     "name": "stdout",
     "output_type": "stream",
     "text": [
      "Areas     = 22.992657 +- 4.767127\n",
      "PCA ratio = 1.291479 +- 0.201600\n",
      "Rate      = 1147736.315801\n",
      "\n",
      "\n",
      "Non discriminated values\n",
      "Areas     = 19.465633 +- 8.016163\n",
      "PCA ratio = 1.550925 +- 1.216547\n",
      "Rate      = 1467964.008872\n"
     ]
    }
   ],
   "source": [
    "print('Areas     = %f +- %f' % (np.mean(Areas_disc_A) , np.std(Areas_disc_A)) )\n",
    "print('PCA ratio = %f +- %f' % (np.mean(Ratios_disc_A), np.std(Ratios_disc_A)))\n",
    "print('Rate      = %f'       % (len(Areas_disc_A)/Time_A*3600))\n",
    "print('\\n')\n",
    "print('Non discriminated values')\n",
    "print('Areas     = %f +- %f' % (np.mean(Areas_A) , np.std(Areas_A)) )\n",
    "print('PCA ratio = %f +- %f' % (np.mean(Ratios_A), np.std(Ratios_A)))\n",
    "print('Rate      = %f'       % (len(Areas_A)/Time_A*3600)           )"
   ]
  },
  {
   "cell_type": "markdown",
   "metadata": {},
   "source": [
    "# Various plots"
   ]
  },
  {
   "cell_type": "code",
   "execution_count": 29,
   "metadata": {},
   "outputs": [],
   "source": [
    "import pandas as pd\n",
    "import bokeh.palettes as palette"
   ]
  },
  {
   "cell_type": "code",
   "execution_count": 30,
   "metadata": {},
   "outputs": [],
   "source": [
    "plt.rc('text', usetex=True)\n",
    "plt.rc('font', family='serif')\n",
    "plt.rc('font', size=16)          # controls default text sizes\n",
    "plt.rc('axes', titlesize=18)     # fontsize of the axes title\n",
    "plt.rc('axes', labelsize=16)     # fontsize of the x and y labels\n",
    "plt.rc('xtick', labelsize=12)    # fontsize of the tick labels\n",
    "plt.rc('ytick', labelsize=12)    # fontsize of the tick labels\n",
    "plt.rc('legend', fontsize=16)    # legend fontsize\n",
    "plt.rc('figure', titlesize=18)   # fontsize of the figure title"
   ]
  },
  {
   "cell_type": "code",
   "execution_count": 31,
   "metadata": {},
   "outputs": [
    {
     "name": "stderr",
     "output_type": "stream",
     "text": [
      "<ipython-input-31-4c3d034b1475>:1: MatplotlibDeprecationWarning: Support for setting the 'text.latex.preamble' or 'pgf.preamble' rcParam to a list of strings is deprecated since 3.3 and will be removed two minor releases later; set it to a single string instead.\n",
      "  plt.rcParams['text.latex.preamble'] = [r'\\boldmath']\n"
     ]
    }
   ],
   "source": [
    "plt.rcParams['text.latex.preamble'] = [r'\\boldmath']"
   ]
  },
  {
   "cell_type": "code",
   "execution_count": 32,
   "metadata": {},
   "outputs": [],
   "source": [
    "#col      = palette.brewer['RdYlGn'][10]\n",
    "col = palette.Category20[10]"
   ]
  },
  {
   "cell_type": "code",
   "execution_count": 33,
   "metadata": {},
   "outputs": [],
   "source": [
    "d = {\n",
    "    \"DAC_unit\"      : DAC_unit,\n",
    "    \"VCASN_val\"     : VCASN_val,\n",
    "    \"Rate_val\"      : Rate_val,\n",
    "    \"Noise_points\"  : Noise_points,\n",
    "    \"SNR\"           : SNR,\n",
    "    \"SNR_err\"       : SNR_err,\n",
    "    \"VCASN_err\"     : VCASN_err,\n",
    "    \"Mean_area\"     : Mean_area,\n",
    "    \"Area_err\"      : Area_err,\n",
    "    \"Mean_PCAr\"     : Mean_PCAr,\n",
    "    \"PCAr_err\"      : PCAr_err\n",
    "}\n",
    "\n",
    "df = pd.DataFrame(data=d)\n",
    "df = df.sort_values(by=['VCASN_val'])\n",
    "df.to_csv('../../../plots/data/ALPIDE/ALPIDE_THR.csv',index=False)"
   ]
  },
  {
   "cell_type": "code",
   "execution_count": 71,
   "metadata": {},
   "outputs": [],
   "source": [
    "np.save('../../../plots/data/ALPIDE/ALPIDE_area_box', Area_arr,  allow_pickle=True)\n",
    "np.save('../../../plots/data/ALPIDE/ALPIDE_PCA_box' , PCAr_arr,  allow_pickle=True)\n",
    "np.save('../../../plots/data/ALPIDE/ALPIDE_VCASN'   , VCASN_val, allow_pickle=True)"
   ]
  },
  {
   "cell_type": "code",
   "execution_count": 34,
   "metadata": {},
   "outputs": [
    {
     "data": {
      "image/png": "[encoded data removed]",
      "text/plain": [
       "<Figure size 432x288 with 1 Axes>"
      ]
     },
     "metadata": {
      "needs_background": "light"
     },
     "output_type": "display_data"
    }
   ],
   "source": [
    "plt.figure(figsize=(6,4))\n",
    "plt.yscale(\"log\")\n",
    "plt.errorbar(df[\"VCASN_val\"]*df[\"DAC_unit\"],\n",
    "             df[\"SNR\"],\n",
    "             xerr            = df[\"VCASN_err\"],\n",
    "             yerr            = df[\"SNR_err\"],\n",
    "             fmt             = 'o',\n",
    "             markerfacecolor = col[0],\n",
    "             color           = col[2],\n",
    "             ecolor          = col[0],\n",
    "             label           = r\"\\bf{data}\",\n",
    "             alpha           = 1,\n",
    "             markersize      = 3,\n",
    "             capsize         = 3\n",
    "             ) #fillstyle=\"none\"\n",
    "\n",
    "plt.title (r\"\\bf{ALPIDE: Signal-to-noise ratio}\")\n",
    "plt.xlabel(r\"\\bf{$V_{\\mathrm{CASN}}$ [mV]}\")\n",
    "plt.ylabel(r\"\\bf{SNR}\")\n",
    "\n",
    "plt.grid(True, linestyle='--',linewidth=0.25, zorder=-1, which=\"both\")\n",
    "#plt.legend()\n",
    "plt.savefig(\"Graph_images/SNR_graph_py.pdf\", bbox_inches='tight')\n",
    "plt.show()"
   ]
  },
  {
   "cell_type": "code",
   "execution_count": 35,
   "metadata": {},
   "outputs": [
    {
     "data": {
      "image/png": "[encoded data removed]",
      "text/plain": [
       "<Figure size 432x288 with 1 Axes>"
      ]
     },
     "metadata": {
      "needs_background": "light"
     },
     "output_type": "display_data"
    }
   ],
   "source": [
    "plt.figure(figsize=(6,4))\n",
    "#plt.yscale(\"log\")\n",
    "plt.errorbar(df[\"VCASN_val\"]*df[\"DAC_unit\"],\n",
    "             df[\"Mean_area\"],\n",
    "             xerr            = df[\"VCASN_err\"],\n",
    "             yerr            = df[\"Area_err\"],\n",
    "             fmt             = 'o',\n",
    "             markerfacecolor = col[0],\n",
    "             color           = col[2],\n",
    "             ecolor          = col[0],\n",
    "             label           = r\"\\bf{data}\",\n",
    "             alpha           = 1,\n",
    "             markersize      = 3,\n",
    "             capsize         = 3) #fillstyle=\"none\"\n",
    "\n",
    "plt.title (r\"\\bf{ALPIDE: Area vs $V_{\\mathrm{CASN}}$\")\n",
    "plt.xlabel(r\"\\bf{$V_{\\mathrm{CASN}}$ [mV]}\")\n",
    "plt.ylabel(r\"\\bf{Area [pixel]}\")\n",
    "\n",
    "\n",
    "plt.grid(True, linestyle='--',linewidth=0.25, zorder=-1)\n",
    "#plt.legend()\n",
    "plt.savefig('Graph_images/Area_graph_py.pdf', bbox_inches='tight')\n",
    "plt.show()\n"
   ]
  },
  {
   "cell_type": "code",
   "execution_count": 36,
   "metadata": {},
   "outputs": [
    {
     "data": {
      "image/png": "[encoded data removed]",
      "text/plain": [
       "<Figure size 432x288 with 1 Axes>"
      ]
     },
     "metadata": {
      "needs_background": "light"
     },
     "output_type": "display_data"
    }
   ],
   "source": [
    "plt.figure(figsize=(6,4))\n",
    "\n",
    "for i in range(len(VCASN_val)):\n",
    "    bp = plt.boxplot(Area_arr[i],\n",
    "                patch_artist=True,\n",
    "                sym       = '',\n",
    "                positions = [VCASN_val[i]*DAC_unit],\n",
    "                widths    = [4.5],\n",
    "                whis      = 3\n",
    "               )\n",
    "    \n",
    "    plt.setp(bp['boxes']   , color=col[0])\n",
    "    plt.setp(bp['whiskers'], color=col[2])\n",
    "    plt.setp(bp['caps']    , color=col[0])\n",
    "\n",
    "plt.xticks(range(250,600,50), labels=range(250,600,50))\n",
    "plt.xlim([270,530])\n",
    "\n",
    "plt.title (r\"\\bf{ALPIDE: Area vs $V_{\\mathrm{CASN}}$\")\n",
    "plt.xlabel(r\"\\bf{$V_{\\mathrm{CASN}}$ [mV]}\")\n",
    "plt.ylabel(r\"\\bf{Area [pixel]}\")\n",
    "\n",
    "plt.grid(True, linestyle='--',linewidth=0.25, zorder=-1)\n",
    "plt.savefig('Graph_images/Areagraph_py_box.pdf', bbox_inches='tight')\n",
    "plt.show()"
   ]
  },
  {
   "cell_type": "code",
   "execution_count": 37,
   "metadata": {},
   "outputs": [
    {
     "data": {
      "image/png": "[encoded data removed]",
      "text/plain": [
       "<Figure size 432x288 with 1 Axes>"
      ]
     },
     "metadata": {
      "needs_background": "light"
     },
     "output_type": "display_data"
    }
   ],
   "source": [
    "plt.figure(figsize=(6,4))\n",
    "#plt.yscale(\"log\")\n",
    "plt.errorbar(df[\"VCASN_val\"]*df[\"DAC_unit\"],\n",
    "             df[\"Mean_PCAr\"],\n",
    "             xerr            = df[\"VCASN_err\"],\n",
    "             yerr            = df[\"PCAr_err\"],\n",
    "             fmt             = 'o',\n",
    "             markerfacecolor = col[0],\n",
    "             color           = col[2],\n",
    "             ecolor          = col[0],\n",
    "             label           = r\"\\bf{data}\",\n",
    "             alpha           = 1,\n",
    "             markersize      = 3,\n",
    "             capsize         = 3) #fillstyle=\"none\"\n",
    "\n",
    "plt.title (r\"\\bf{ALPIDE: PCA ratio vs $V_{\\mathrm{CASN}}$\")\n",
    "plt.xlabel(r\"\\bf{$V_{\\mathrm{CASN}}$ [mV]}\")\n",
    "plt.ylabel(r\"\\bf{PCA ratio [a.u.]}\")\n",
    "\n",
    "plt.grid(True, linestyle='--',linewidth=0.25, zorder=-1)\n",
    "#plt.legend()\n",
    "plt.savefig('Graph_images/PCArgraph_py.pdf', bbox_inches='tight')\n",
    "plt.show()\n"
   ]
  },
  {
   "cell_type": "code",
   "execution_count": 38,
   "metadata": {},
   "outputs": [
    {
     "data": {
      "image/png": "[encoded data removed]",
      "text/plain": [
       "<Figure size 432x288 with 1 Axes>"
      ]
     },
     "metadata": {
      "needs_background": "light"
     },
     "output_type": "display_data"
    }
   ],
   "source": [
    "plt.figure(figsize=(6,4))\n",
    "\n",
    "for i in range(len(VCASN_val)):\n",
    "    bp = plt.boxplot(PCAr_arr[i],\n",
    "                patch_artist=True,\n",
    "                sym       = '',\n",
    "                positions = [VCASN_val[i]*DAC_unit],\n",
    "                widths    = [4.5],\n",
    "                whis      = 2\n",
    "               )\n",
    "    \n",
    "    plt.setp(bp['boxes']   , color=col[0])\n",
    "    plt.setp(bp['whiskers'], color=col[2])\n",
    "    plt.setp(bp['caps']    , color=col[0])\n",
    "    plt.setp(bp['medians'] , color=col[2])\n",
    "\n",
    "plt.xticks(range(250,600,50), labels=range(250,600,50))\n",
    "plt.xlim([270,530])\n",
    "\n",
    "plt.title (r\"\\bf{ALPIDE: PCA ratio vs $V_{\\mathrm{CASN}}$\")\n",
    "plt.xlabel(r\"\\bf{$V_{\\mathrm{CASN}}$ [mV]}\")\n",
    "plt.ylabel(r\"\\bf{PCA ratio [a.u.]}\")\n",
    "\n",
    "plt.grid(True, linestyle='--',linewidth=0.25, zorder=-1)\n",
    "plt.savefig('Graph_images/PCArgraph_py_box.pdf', bbox_inches='tight')\n",
    "plt.show()"
   ]
  },
  {
   "cell_type": "code",
   "execution_count": 63,
   "metadata": {},
   "outputs": [],
   "source": [
    "d = {\n",
    "    \"Areas_C\"       : Areas_C.flatten(),\n",
    "    \"Ratios_C\"      : Ratios_C.flatten()\n",
    "}\n",
    "\n",
    "df = pd.DataFrame(data=d)\n",
    "df.to_csv('../../../plots/data/ALPIDE/ALPIDE_Cosmic.csv',index=False)\n",
    "\n",
    "d = {\n",
    "    \"Areas_X\"       : Areas_X.flatten(),\n",
    "    \"Ratios_X\"      : Ratios_X.flatten()\n",
    "}\n",
    "\n",
    "df = pd.DataFrame(data=d)\n",
    "df.to_csv('../../../plots/data/ALPIDE/ALPIDE_Xrays.csv',index=False)\n",
    "\n",
    "d = {\n",
    "    \"Areas_A\"       : Areas_A.flatten(),\n",
    "    \"Ratios_A\"      : Ratios_A.flatten()\n",
    "}\n",
    "\n",
    "df = pd.DataFrame(data=d)\n",
    "df.to_csv('../../../plots/data/ALPIDE/ALPIDE_Alpha.csv',index=False)\n",
    "\n",
    "d = {\n",
    "    \"Areas_disc_A\"  : Areas_disc_A.flatten(),\n",
    "    \"Ratios_disc_A\" : Ratios_disc_A.flatten()\n",
    "}\n",
    "\n",
    "df = pd.DataFrame(data=d)\n",
    "df.to_csv('../../../plots/data/ALPIDE/ALPIDE_Alpha_disc.csv',index=False)\n"
   ]
  },
  {
   "cell_type": "code",
   "execution_count": null,
   "metadata": {},
   "outputs": [],
   "source": [
    "plt.figure(figsize=(6,4))\n",
    "plt.yscale(\"log\")\n",
    "plt.hist(Areas_C,\n",
    "         bins      = int(max(Areas_C)-min(Areas_C)),\n",
    "         edgecolor = 'black',\n",
    "         color     = col[0]\n",
    "        ) #fillstyle=\"none\"\n",
    "\n",
    "plt.title (r\"\\bf{ALPIDE: Cosmic rays area spectrum}\")\n",
    "plt.xlabel(r\"\\bf{Area [pixel]}\")\n",
    "plt.ylabel(r\"\\bf{Counts [a.u.]}\")\n",
    "plt.xlim(0,60)\n",
    "\n",
    "plt.grid(True, linestyle='--',linewidth=0.25, zorder=-1)\n",
    "#plt.legend()\n",
    "plt.savefig('Graph_images/Cosmic_hist_py.pdf', bbox_inches='tight')\n",
    "plt.show()\n"
   ]
  },
  {
   "cell_type": "code",
   "execution_count": null,
   "metadata": {},
   "outputs": [],
   "source": [
    "plt.figure(figsize=(6,4))\n",
    "plt.yscale(\"log\")\n",
    "plt.hist(Ratios_C,\n",
    "         bins      = 30,\n",
    "         edgecolor = 'black',\n",
    "         color     = col[0]\n",
    "        ) #fillstyle=\"none\"\n",
    "\n",
    "plt.title (r\"\\bf{ALPIDE: Cosmic rays PCA ratio spectrum}\")\n",
    "plt.xlabel(r\"\\bf{PCA ratio [a.u.]}\")\n",
    "plt.ylabel(r\"\\bf{Counts [a.u.]}\")\n",
    "\n",
    "plt.grid(True, linestyle='--',linewidth=0.25, zorder=-1)\n",
    "#plt.legend()\n",
    "plt.savefig('Graph_images/Cosmic_PCA_hist_py.pdf', bbox_inches='tight')\n",
    "plt.show()\n"
   ]
  },
  {
   "cell_type": "code",
   "execution_count": null,
   "metadata": {},
   "outputs": [],
   "source": [
    "plt.figure(figsize=(6,4))\n",
    "plt.yscale(\"log\")\n",
    "plt.hist(Areas_X,\n",
    "         bins      = int(max(Areas_X)-min(Areas_X)),\n",
    "         edgecolor = 'black',\n",
    "         color     = col[0]\n",
    "        ) #fillstyle=\"none\"\n",
    "\n",
    "plt.title (r\"\\bf{ALPIDE: X rays area spectrum}\")\n",
    "plt.xlabel(r\"\\bf{Area [pixel]}\")\n",
    "plt.ylabel(r\"\\bf{Counts [a.u.]}\")\n",
    "\n",
    "plt.grid(True, linestyle='--',linewidth=0.25, zorder=-1)\n",
    "#plt.legend()\n",
    "plt.savefig('Graph_images/X_hist_py.pdf', bbox_inches='tight')\n",
    "plt.show()"
   ]
  },
  {
   "cell_type": "code",
   "execution_count": null,
   "metadata": {},
   "outputs": [],
   "source": [
    "plt.figure(figsize=(6,4))\n",
    "plt.yscale(\"log\")\n",
    "plt.hist(Ratios_X,\n",
    "         bins  = 30,\n",
    "         edgecolor = 'black',\n",
    "         color     = col[0]\n",
    "        ) #fillstyle=\"none\"\n",
    "\n",
    "plt.title (r\"\\bf{ALPIDE: X rays PCA ratio spectrum}\")\n",
    "plt.xlabel(r\"\\bf{PCA ratio [a.u.]}\")\n",
    "plt.ylabel(r\"\\bf{Counts [a.u.]}\")\n",
    "\n",
    "plt.grid(True, linestyle='--',linewidth=0.25, zorder=-1)\n",
    "#plt.legend()\n",
    "plt.savefig('Graph_images/X_PCA_hist_py.pdf', bbox_inches='tight')\n",
    "plt.show()"
   ]
  },
  {
   "cell_type": "code",
   "execution_count": null,
   "metadata": {},
   "outputs": [],
   "source": [
    "plt.figure(figsize=(12,8))\n",
    "#plt.yscale(\"log\")\n",
    "plt.hist(Areas_disc_A,\n",
    "         bins=int(max(Areas_disc_A)-min(Areas_disc_A)),\n",
    "         edgecolor = 'black',\n",
    "         color     = col[0]\n",
    "        ) #fillstyle=\"none\"\n",
    "plt.xlabel(\"Areas [pixel]\")\n",
    "plt.ylabel(\"Counts [A.U]\")\n",
    "\n",
    "plt.grid(True, linestyle='--',linewidth=0.25, zorder=-1)\n",
    "#plt.legend()\n",
    "plt.savefig('Graph_images/Alpha_disc_hist_py', dpi=200)\n",
    "plt.show()"
   ]
  },
  {
   "cell_type": "code",
   "execution_count": null,
   "metadata": {},
   "outputs": [],
   "source": [
    "plt.figure(figsize=(6,4))\n",
    "#plt.yscale(\"log\")\n",
    "\n",
    "plt.hist(Areas_disc_A,\n",
    "         bins      = int(max(Areas_A)-min(Areas_A)),\n",
    "         range     = (int(min(Areas_A)),int(max(Areas_A))),\n",
    "         edgecolor = 'black',\n",
    "         label     = r'\\bf{Discriminated}',\n",
    "         zorder    = 1,\n",
    "         #alpha     = 0.25,\n",
    "         color     = col[0]\n",
    "        ) #fillstyle=\"none\"\n",
    "\n",
    "plt.hist(Areas_A,\n",
    "         bins      = int(max(Areas_A)-min(Areas_A)),\n",
    "         range     = (int(min(Areas_A)),int(max(Areas_A))),\n",
    "         edgecolor = 'black',\n",
    "         #label     = r'\\bf{Complete}',\n",
    "         zorder    = 0,\n",
    "         #alpha     = 0.75,\n",
    "         color     = col[2]\n",
    "        ) #fillstyle=\"none\"\n",
    "\n",
    "plt.title (r\"\\bf{ALPIDE: Complete area spectrum}\")\n",
    "plt.xlabel(r\"\\bf{Area [pixel]}\")\n",
    "plt.ylabel(r\"\\bf{Counts [a.u.]}\")\n",
    "\n",
    "plt.grid(True, linestyle='--',linewidth=0.25, zorder=-1)\n",
    "plt.legend(fontsize=12)\n",
    "plt.savefig('Graph_images/Alpha_hist_py.pdf', bbox_inches='tight')\n",
    "plt.show()"
   ]
  },
  {
   "cell_type": "code",
   "execution_count": null,
   "metadata": {},
   "outputs": [],
   "source": [
    "plt.figure(figsize=(12,8))\n",
    "#plt.yscale(\"log\")\n",
    "plt.hist(Ratios_disc_A,\n",
    "         bins  = 20,\n",
    "         edgecolor = 'black',\n",
    "         color     = col[0]\n",
    "        ) #fillstyle=\"none\"\n",
    "plt.xlabel(\"PCA ratio [A.U]\")\n",
    "plt.ylabel(\"Counts [A.U]\")\n",
    "\n",
    "plt.grid(True, linestyle='--',linewidth=0.25, zorder=-1)\n",
    "#plt.legend()\n",
    "plt.savefig('Graph_images/Alpha_PCA_disc_hist_py', bbox_inches='tight')\n",
    "#fig.savefig(SAVE_PATH + \"picoscope/test_run_amplitudes.pdf\", bbox_inches='tight')\n",
    "plt.show()"
   ]
  },
  {
   "cell_type": "code",
   "execution_count": null,
   "metadata": {},
   "outputs": [],
   "source": [
    "plt.figure(figsize=(6,4))\n",
    "plt.yscale(\"log\")\n",
    "\n",
    "plt.hist(Ratios_disc_A,\n",
    "         bins      = 40,\n",
    "         range     = (int(min(Ratios_A)),int(max(Ratios_A))),\n",
    "         edgecolor = 'black',\n",
    "         #alpha     = 0.75,\n",
    "         label     = r'\\bf{Discriminated}',\n",
    "         zorder    = 1,\n",
    "         color     = col[0]\n",
    "        ) #fillstyle=\"none\"\n",
    "\n",
    "plt.hist(Ratios_A,\n",
    "         bins      = 40,\n",
    "         range     = (int(min(Ratios_A)),int(max(Ratios_A))),\n",
    "         edgecolor = 'black',\n",
    "         #label     = r'\\bf{Complete}',\n",
    "         zorder    = 0,\n",
    "         color     = col[2]\n",
    "        ) #fillstyle=\"none\"\n",
    "\n",
    "plt.title (r\"\\bf{ALPIDE: Complete PCA ratio spectrum}\")\n",
    "plt.xlabel(r\"\\bf{PCA ratio [a.u.]}\")\n",
    "plt.ylabel(r\"\\bf{Counts [a.u.]}\")\n",
    "\n",
    "plt.grid(True, linestyle='--',linewidth=0.25, zorder=-1)\n",
    "plt.legend(fontsize=12)\n",
    "plt.savefig('Graph_images/Alpha_PCA_hist_py.pdf', bbox_inches='tight')\n",
    "plt.show()"
   ]
  },
  {
   "cell_type": "code",
   "execution_count": null,
   "metadata": {},
   "outputs": [],
   "source": [
    "fig = plt.figure(figsize=(6, 4))"
   ]
  },
  {
   "cell_type": "markdown",
   "metadata": {},
   "source": [
    "## Cluster hitmap"
   ]
  },
  {
   "cell_type": "code",
   "execution_count": null,
   "metadata": {},
   "outputs": [],
   "source": [
    "import numpy as np\n",
    "import matplotlib.pyplot as plt\n",
    "from sklearn.cluster import DBSCAN, AgglomerativeClustering\n",
    "from sklearn.decomposition import PCA\n",
    "from pathlib import Path\n",
    "from matplotlib import cm\n",
    "import matplotlib.colors as colors\n",
    "import time\n",
    "import sys\n",
    "import multiprocessing as mp\n",
    "import os\n",
    "import argparse\n",
    "from tqdm.notebook import tqdm\n",
    "from ROOT import TFile, TTree"
   ]
  },
  {
   "cell_type": "code",
   "execution_count": null,
   "metadata": {},
   "outputs": [],
   "source": [
    "def findClusterDB(X, distance):\n",
    "    if len(X)>1:\n",
    "        db = DBSCAN(eps=distance, min_samples=2).fit(X)\n",
    "        clusters = np.column_stack((X, db.labels_))\n",
    "        nc = np.sum(clusters[:,2]==-1)\n",
    "        Noise_inds=np.where(clusters[:,2]==-1)\n",
    "        clusters=np.delete(clusters,Noise_inds,axis=0)\n",
    "        labels=np.delete(db.labels_,Noise_inds,axis=0)\n",
    "        unique, Areas = np.unique(labels, return_counts=True)\n",
    "    elif len(X)==1:\n",
    "        clusters=np.reshape([],(0,3))\n",
    "        Areas=[]\n",
    "        nc=1\n",
    "    else:\n",
    "        clusters=np.reshape([],(0,3))\n",
    "        Areas=[]\n",
    "        nc=0\n",
    "\n",
    "    return clusters, Areas, nc\n",
    "\n",
    "\n",
    "def par_findClusterDB(Total_packet, distance):\n",
    "    input_data = []\n",
    "    for packet in Total_packet:\n",
    "        cd = (packet, distance)\n",
    "        input_data.append(cd)\n",
    "\n",
    "    pDB = mp.Pool(processes=SET_N_THREADS)\n",
    "    DBresult = pDB.starmap(findClusterDB, input_data)\n",
    "    pDB.close()\n",
    "    pDB.join()\n",
    "\n",
    "    return DBresult\n",
    "\n",
    "def Verbose_print(String,Verb=True):\n",
    "    if Verb:\n",
    "        print(String)"
   ]
  },
  {
   "cell_type": "code",
   "execution_count": null,
   "metadata": {},
   "outputs": [],
   "source": [
    "Verbose=True\n",
    "\n",
    "SET_N_THREADS = 3\n",
    "\n",
    "tqdm_disabler  = False\n",
    "\n",
    "#Geometry parameters\n",
    "cfg_file=open('ALPIDE_par.cfg')\n",
    "\n",
    "line=cfg_file.readlines()\n",
    "for l in line:\n",
    "    if (l.startswith(\"px_center\")):\n",
    "        px_center       = int(l.split('=')[1].strip())\n",
    "    if (l.startswith(\"py_center\")):\n",
    "        py_center       = int(l.split('=')[1].strip())\n",
    "    if (l.startswith(\"ALPIDE_center\")):\n",
    "        ALPIDE_center   = int(l.split('=')[1].strip())\n",
    "    if (l.startswith(\"ALPIDE_distance\")):\n",
    "        ALPIDE_distance = float(l.split('=')[1].strip())\n",
    "    if (l.startswith(\"ALPIDE_width\")):\n",
    "        ALPIDE_width    = float(l.split('=')[1].strip())\n",
    "    if (l.startswith(\"ALPIDE_height\")):\n",
    "        ALPIDE_height   = float(l.split('=')[1].strip())\n",
    "\n",
    "\n",
    "\n",
    "\n",
    "                    \n",
    "Data_folder_path = \"Data/\"               \n",
    "Folder_name      = \"gold_alpide_53_SC_240m_run9_020121\"\n",
    "\n",
    "              \n",
    "i              = 0\n",
    "ClusterDB      = []\n",
    "AreaClusterDB  = []\n",
    "ClusterAgg     = []\n",
    "AreaClusterAgg = []\n",
    "\n",
    "#find number of files\n",
    "noise_points = 0\n",
    "Area         = []\n",
    "Data_points  = []\n",
    "\n",
    "\n",
    "t            = time.time()\n",
    "while True:\n",
    "    file_name =Data_folder_path + \"/\" + Folder_name + \"/\" + Folder_name + \"_packet_{0:0d}.npy\".format(i)\n",
    "    my_file = Path(file_name)\n",
    "    if my_file.is_file():\n",
    "        i += 1\n",
    "    else:\n",
    "        N_files=i\n",
    "        Verbose_print(\"{0:0d} Packet files found\".format(N_files),Verbose)\n",
    "        break\n",
    "Ntot = i\n",
    "i = 0\n",
    "#clustering and analysis\n",
    "\n",
    "Verbose_print('Parallel processing with DBSCAN',Verbose)\n",
    "for i in tqdm(range(N_files), desc=Folder_name, disable=tqdm_disabler):\n",
    "    file_name =Data_folder_path + \"/\" + Folder_name + \"/\" + Folder_name + \"_packet_{0:0d}.npy\".format(i)\n",
    "    my_file = Path(file_name)\n",
    "    if my_file.is_file():\n",
    "        #if (i % patience == 0):\n",
    "            #sys.stdout.write(\"\\rCompleteness : \" + str(round(i / Ntot * 100, 1)) + \"%\")\n",
    "        try:\n",
    "            packet = np.load(file_name, allow_pickle=True)\n",
    "        except:\n",
    "            Verbose_print(\"\\nPacket {0:0d} is corrupted\\n\".format(i),Verbose)\n",
    "            break\n",
    "        DBresult = par_findClusterDB(packet, 3)\n",
    "    else:\n",
    "        Verbose_print(\"\\nNo more packets to analyze\\n\",Verbose)\n",
    "        break\n",
    "        \n",
    "#print results\n",
    "areas       = []\n",
    "data_points = []\n",
    "\n",
    "Verbose_print('\\n',Verbose)\n",
    "\n",
    "for d in DBresult:\n",
    "    if len(d[1]) != 0:\n",
    "        areas.append(d[1][0])\n",
    "        data_points.append(np.array(d[0]))\n",
    "        \n",
    "data_points  = np.array(data_points)        \n",
    "area         = np.array(areas)\n",
    "noise_points = np.sum(np.array([d[2] for d in DBresult]))\n",
    "\n",
    "if Verbose:\n",
    "    print(\"Estimated noise points=\", noise_points)\n",
    "    print(\"Estimated clusters=\", len(area))\n",
    "    print(\"Estimated mean area=\", np.mean(area))\n",
    "    print('Process time = ',time.time()-t)"
   ]
  },
  {
   "cell_type": "code",
   "execution_count": null,
   "metadata": {},
   "outputs": [],
   "source": [
    "cluster_matrix = np.zeros((512, 1024), dtype=np.int16)\n",
    "for cluster in data_points:\n",
    "    for feature in cluster:\n",
    "            x = feature[1]\n",
    "            y = feature[0]\n",
    "            cluster_matrix[y, x] += 1\n",
    "\n",
    "String = \"../../../plots/data/ALPIDE/Cluster_matrix_\" + Folder_name + \".csv\"\n",
    "np.savetxt(String, cluster_matrix)"
   ]
  },
  {
   "cell_type": "code",
   "execution_count": null,
   "metadata": {},
   "outputs": [],
   "source": [
    "# and plot it\n",
    "cluster_matrix = np.loadtxt(\"../../../plots/data/ALPIDE/Cluster_matrix_\" + Folder_name + \".csv\", dtype=np.int16)\n",
    "\n",
    "fig, ax = plt.subplots(figsize=(9,6))\n",
    "\n",
    "colormap = cm.get_cmap('jet')\n",
    "psm = ax.pcolormesh(cluster_matrix, cmap=colormap, norm=colors.LogNorm(vmin=1))\n",
    "\n",
    "cbar = plt.colorbar(psm, shrink=0.5, ax=ax)\n",
    "## cbar.set_label(\"N. hits\")\n",
    "\n",
    "plt.axis('scaled')\n",
    "ax.set(xlim=(0, 1023), ylim=(0, 511))\n",
    "plt.xlabel(r\"\\bf{Column}\")\n",
    "plt.ylabel(r\"\\bf{Row}\")\n",
    "\n",
    "\n",
    "String = 'Graph_images/'+ Folder_name + '_hitmap.pdf'\n",
    "plt.savefig(String, bbox_inches='tight')\n",
    "plt.show()"
   ]
  },
  {
   "cell_type": "code",
   "execution_count": null,
   "metadata": {},
   "outputs": [],
   "source": []
  },
  {
   "cell_type": "code",
   "execution_count": null,
   "metadata": {},
   "outputs": [],
   "source": []
  },
  {
   "cell_type": "code",
   "execution_count": null,
   "metadata": {},
   "outputs": [],
   "source": []
  }
 ],
 "metadata": {
  "kernelspec": {
   "display_name": "Python 3",
   "language": "python",
   "name": "python3"
  },
  "language_info": {
   "codemirror_mode": {
    "name": "ipython",
    "version": 3
   },
   "file_extension": ".py",
   "mimetype": "text/x-python",
   "name": "python",
   "nbconvert_exporter": "python",
   "pygments_lexer": "ipython3",
   "version": "3.9.0"
  }
 },
 "nbformat": 4,
 "nbformat_minor": 4
}
