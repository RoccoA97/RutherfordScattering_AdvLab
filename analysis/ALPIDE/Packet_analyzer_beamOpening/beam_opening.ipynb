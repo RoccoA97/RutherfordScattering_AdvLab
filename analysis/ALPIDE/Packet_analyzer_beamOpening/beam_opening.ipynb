{
 "cells": [
  {
   "cell_type": "markdown",
   "id": "waiting-advantage",
   "metadata": {},
   "source": [
    "# **ALPIDE**: analysis of beam opening"
   ]
  },
  {
   "cell_type": "markdown",
   "id": "acquired-cambridge",
   "metadata": {},
   "source": [
    "## Preliminary operations"
   ]
  },
  {
   "cell_type": "markdown",
   "id": "conventional-durham",
   "metadata": {},
   "source": [
    "### Load packages"
   ]
  },
  {
   "cell_type": "code",
   "execution_count": 1,
   "id": "finnish-finance",
   "metadata": {},
   "outputs": [
    {
     "name": "stdout",
     "output_type": "stream",
     "text": [
      "Welcome to JupyROOT 6.22/06\n"
     ]
    }
   ],
   "source": [
    "import os\n",
    "import sys\n",
    "import ROOT\n",
    "import numpy as np\n",
    "import matplotlib.pyplot as plt\n",
    "import tqdm as tqdm\n",
    "import multiprocessing"
   ]
  },
  {
   "cell_type": "code",
   "execution_count": 2,
   "id": "northern-programmer",
   "metadata": {},
   "outputs": [],
   "source": [
    "from pathlib import Path\n",
    "from scipy.optimize import curve_fit"
   ]
  },
  {
   "cell_type": "markdown",
   "id": "nervous-madonna",
   "metadata": {},
   "source": [
    "### Flags"
   ]
  },
  {
   "cell_type": "code",
   "execution_count": 3,
   "id": "mental-computer",
   "metadata": {},
   "outputs": [],
   "source": [
    "ROOT.disableJSVis()"
   ]
  },
  {
   "cell_type": "markdown",
   "id": "composed-eating",
   "metadata": {},
   "source": [
    "### Settings"
   ]
  },
  {
   "cell_type": "code",
   "execution_count": 4,
   "id": "processed-premium",
   "metadata": {},
   "outputs": [],
   "source": [
    "N_cpu     = multiprocessing.cpu_count()\n",
    "N_Threads = \"%d\" % (N_cpu-2)"
   ]
  },
  {
   "cell_type": "code",
   "execution_count": 5,
   "id": "previous-irish",
   "metadata": {},
   "outputs": [],
   "source": [
    "plt.rc('text', usetex=True)\n",
    "plt.rc('font', family='serif')\n",
    "plt.rc('font', size=16)          # controls default text sizes\n",
    "plt.rc('axes', titlesize=18)     # fontsize of the axes title\n",
    "plt.rc('axes', labelsize=18)     # fontsize of the x and y labels\n",
    "plt.rc('xtick', labelsize=14)    # fontsize of the tick labels\n",
    "plt.rc('ytick', labelsize=14)    # fontsize of the tick labels\n",
    "plt.rc('legend', fontsize=16)    # legend fontsize\n",
    "plt.rc('figure', titlesize=18)   # fontsize of the figure title"
   ]
  },
  {
   "cell_type": "markdown",
   "id": "framed-cornell",
   "metadata": {},
   "source": [
    "### Functions"
   ]
  },
  {
   "cell_type": "code",
   "execution_count": 6,
   "id": "several-start",
   "metadata": {},
   "outputs": [],
   "source": [
    "def make_histo(Data_array,Title,nbins,xmin,xmax,save=False):\n",
    "    Histo = ROOT.TH1F(Title, Title, nbins, xmin, xmax)\n",
    "    for value in Data_array:\n",
    "        Histo.Fill(value)\n",
    "\n",
    "    Canv = ROOT.TCanvas()\n",
    "    Histo.Draw()\n",
    "    \n",
    "    if save:\n",
    "        Image_name = Title + '_Histo.pdf'\n",
    "        Canv.Print(Image_name)\n",
    "    \n",
    "    return Histo, Canv"
   ]
  },
  {
   "cell_type": "code",
   "execution_count": 7,
   "id": "legislative-cylinder",
   "metadata": {},
   "outputs": [],
   "source": [
    "def parabola(x, a, b, c):\n",
    "    return a*x**2 + b*x + c"
   ]
  },
  {
   "cell_type": "markdown",
   "id": "pacific-behalf",
   "metadata": {},
   "source": [
    "## Analysis of beam opening"
   ]
  },
  {
   "cell_type": "code",
   "execution_count": 8,
   "id": "beautiful-mortgage",
   "metadata": {},
   "outputs": [],
   "source": [
    "DATA_PATH = \"./Analyzed_Data/\""
   ]
  },
  {
   "cell_type": "code",
   "execution_count": 9,
   "id": "tropical-hometown",
   "metadata": {},
   "outputs": [],
   "source": [
    "RAD2STEP = (1/0.9) * (180.0/np.pi)"
   ]
  },
  {
   "cell_type": "code",
   "execution_count": 10,
   "id": "peaceful-graphic",
   "metadata": {},
   "outputs": [],
   "source": [
    "ymin = 100 #10\n",
    "ymax = 400 #490\n",
    "xmin = 150 #10 \n",
    "xmax = 950 #1013"
   ]
  },
  {
   "cell_type": "code",
   "execution_count": 11,
   "id": "technical-plant",
   "metadata": {},
   "outputs": [],
   "source": [
    "bins = 100\n",
    "th_min = -0.3\n",
    "th_max = 0.3\n",
    "\n",
    "step_min = th_min * RAD2STEP\n",
    "step_max = th_max * RAD2STEP"
   ]
  },
  {
   "cell_type": "markdown",
   "id": "overall-sheriff",
   "metadata": {},
   "source": [
    "### Using `7_DC` and `27_DC` files"
   ]
  },
  {
   "cell_type": "code",
   "execution_count": 12,
   "id": "approximate-puzzle",
   "metadata": {},
   "outputs": [],
   "source": [
    "files = [\n",
    "    \"gold_7_DC_4h.root\",\n",
    "    # \"gold_17_DC_2h.root\",\n",
    "    \"gold_27_DC_4h.root\"\n",
    "]\n",
    "\n",
    "etimes = [\n",
    "    240,\n",
    "    # 120,\n",
    "    240\n",
    "]\n",
    "\n",
    "weigths = [\n",
    "    1.0,\n",
    "    # 2.0,\n",
    "    1.0\n",
    "]\n",
    "\n",
    "Area_thr  = 13\n",
    "Ratio_thr = 3.21"
   ]
  },
  {
   "cell_type": "code",
   "execution_count": 13,
   "id": "romance-wireless",
   "metadata": {},
   "outputs": [],
   "source": [
    "h1_step = ROOT.TH1F('h1_step', 'Angular positions weighted', bins, step_min, step_max)\n",
    "\n",
    "pars  = []\n",
    "fits  = []\n",
    "hists = []\n",
    "\n",
    "for i in range(len(files)):\n",
    "    file = ROOT.TFile.Open(DATA_PATH + files[i])\n",
    "    tree = file.Get(\"tree\")\n",
    "    \n",
    "    Areas   = tree.AsMatrix(['Rareas'])\n",
    "    Means   = tree.AsMatrix(['Rmeanx','Rmeany'])\n",
    "    Theta   = tree.AsMatrix(['Rtheta'])\n",
    "    Exptime = tree.AsMatrix(['Reetime'])\n",
    "    Ratios  = tree.AsMatrix(['Rratios'])\n",
    "    \n",
    "    mask_thr =  np.logical_and (np.squeeze(Areas)      > Area_thr, np.squeeze(Ratios)     < Ratio_thr)\n",
    "    mask_x   =  np.logical_and (np.squeeze(Means[:,0]) > xmin    , np.squeeze(Means[:,0]) < xmax     )\n",
    "    mask_y   =  np.logical_and (np.squeeze(Means[:,1]) > ymin    , np.squeeze(Means[:,1]) < ymax     )\n",
    "    \n",
    "    mask = np.logical_and(mask_thr, np.logical_and(mask_x, mask_y))\n",
    "    \n",
    "    Areas_disc   = Areas [mask]\n",
    "    Means_disc   = Means [mask]\n",
    "    Theta_disc   = Theta [mask]\n",
    "    Exptime_disc = Exptime[mask]\n",
    "    Ratios_disc  = Ratios[mask]\n",
    "    \n",
    "    for t in Theta_disc:\n",
    "        h1_step.Fill(t * RAD2STEP, weigths[i])\n",
    "    \n",
    "    file.Close()"
   ]
  },
  {
   "cell_type": "code",
   "execution_count": 26,
   "id": "married-concentrate",
   "metadata": {},
   "outputs": [
    {
     "name": "stdout",
     "output_type": "stream",
     "text": [
      " FCN=51.813 FROM MIGRAD    STATUS=CONVERGED      36 CALLS          37 TOTAL\n",
      "                     EDM=3.19765e-19    STRATEGY= 1      ERROR MATRIX ACCURATE \n",
      "  EXT PARAMETER                                   STEP         FIRST   \n",
      "  NO.   NAME      VALUE            ERROR          SIZE      DERIVATIVE \n",
      "   1  p0           5.01445e+03   1.98323e+01   1.96308e-02   1.43876e-10\n",
      "   2  p1           3.52559e+02   1.68967e+00   1.67251e-03  -1.66748e-09\n",
      " FCN=101.35 FROM MIGRAD    STATUS=CONVERGED      36 CALLS          37 TOTAL\n",
      "                     EDM=1.84831e-18    STRATEGY= 1      ERROR MATRIX ACCURATE \n",
      "  EXT PARAMETER                                   STEP         FIRST   \n",
      "  NO.   NAME      VALUE            ERROR          SIZE      DERIVATIVE \n",
      "   1  p0           5.41378e+03   2.23059e+01   3.09611e-02   3.06376e-10\n",
      "   2  p1          -3.64863e+02   1.89698e+00   2.63307e-03   3.50809e-09\n"
     ]
    },
    {
     "data": {
      "image/png": "[encoded data removed]",
      "text/plain": [
       "<IPython.core.display.Image object>"
      ]
     },
     "metadata": {},
     "output_type": "display_data"
    }
   ],
   "source": [
    "h1_step.SetStats(False)\n",
    "    \n",
    "c = ROOT.TCanvas()\n",
    "\n",
    "lf = ROOT.TF1(\"lf\", \"[0] + [1]*x\", -0.22 * RAD2STEP, -0.02 * RAD2STEP)\n",
    "rf = ROOT.TF1(\"rf\", \"[0] + [1]*x\",  0.03 * RAD2STEP,  0.23 * RAD2STEP)\n",
    "\n",
    "h1_step.Draw('HIST')\n",
    "lfit = h1_step.Fit('lf', 'RS')\n",
    "rfit = h1_step.Fit('rf', 'RS')\n",
    "\n",
    "lf.Draw(\"SAME\")\n",
    "rf.Draw(\"SAME\")\n",
    "\n",
    "# c.SetLogy()\n",
    "c.Draw()"
   ]
  },
  {
   "cell_type": "code",
   "execution_count": 15,
   "id": "thirty-specific",
   "metadata": {},
   "outputs": [],
   "source": [
    "lpar = [lfit.Get().Parameter(i) for i in range(2)]\n",
    "rpar = [rfit.Get().Parameter(i) for i in range(2)]"
   ]
  },
  {
   "cell_type": "code",
   "execution_count": 16,
   "id": "concerned-physics",
   "metadata": {},
   "outputs": [],
   "source": [
    "lx0 = - lpar[0] / lpar[1]\n",
    "rx0 = - rpar[0] / rpar[1]"
   ]
  },
  {
   "cell_type": "code",
   "execution_count": 17,
   "id": "surprised-blood",
   "metadata": {},
   "outputs": [
    {
     "name": "stdout",
     "output_type": "stream",
     "text": [
      "Delta [step]:    29.060857921896456\n",
      "x0 left [step]:  -14.222999312727108\n",
      "x0 right [step]: 14.837858609169347\n"
     ]
    }
   ],
   "source": [
    "print(\"Delta [step]:   \", rx0 - lx0)\n",
    "print(\"x0 left [step]: \", lx0)\n",
    "print(\"x0 right [step]:\", rx0)"
   ]
  },
  {
   "cell_type": "markdown",
   "id": "nonprofit-fortune",
   "metadata": {},
   "source": [
    "### Using `17_DC` file"
   ]
  },
  {
   "cell_type": "code",
   "execution_count": 18,
   "id": "legislative-calcium",
   "metadata": {},
   "outputs": [],
   "source": [
    "files = [\n",
    "    \"gold_17_DC_2h.root\"\n",
    "]\n",
    "\n",
    "etimes = [\n",
    "    120\n",
    "]\n",
    "\n",
    "weigths = [\n",
    "    1.0\n",
    "]\n",
    "\n",
    "Area_thr  = 13\n",
    "Ratio_thr = 3.21"
   ]
  },
  {
   "cell_type": "code",
   "execution_count": 19,
   "id": "false-outreach",
   "metadata": {},
   "outputs": [],
   "source": [
    "h2_step = ROOT.TH1F('h2_step', 'Angular positions weighted', bins, -15, 15)\n",
    "\n",
    "pars  = []\n",
    "fits  = []\n",
    "hists = []\n",
    "\n",
    "for i in range(len(files)):\n",
    "    file = ROOT.TFile.Open(DATA_PATH + files[i])\n",
    "    tree = file.Get(\"tree\")\n",
    "    \n",
    "    Areas   = tree.AsMatrix(['Rareas'])\n",
    "    Means   = tree.AsMatrix(['Rmeanx','Rmeany'])\n",
    "    Theta   = tree.AsMatrix(['Rtheta'])\n",
    "    Exptime = tree.AsMatrix(['Reetime'])\n",
    "    Ratios  = tree.AsMatrix(['Rratios'])\n",
    "    \n",
    "    mask_thr =  np.logical_and (np.squeeze(Areas)      > Area_thr, np.squeeze(Ratios)     < Ratio_thr)\n",
    "    mask_x   =  np.logical_and (np.squeeze(Means[:,0]) > xmin    , np.squeeze(Means[:,0]) < xmax     )\n",
    "    mask_y   =  np.logical_and (np.squeeze(Means[:,1]) > ymin    , np.squeeze(Means[:,1]) < ymax     )\n",
    "    \n",
    "    mask = np.logical_and(mask_thr, np.logical_and(mask_x, mask_y))\n",
    "    \n",
    "    Areas_disc   = Areas [mask]\n",
    "    Means_disc   = Means [mask]\n",
    "    Theta_disc   = Theta [mask]\n",
    "    Exptime_disc = Exptime[mask]\n",
    "    Ratios_disc  = Ratios[mask]\n",
    "    \n",
    "    for t in Theta_disc:\n",
    "        h2_step.Fill(t * RAD2STEP, weigths[i])\n",
    "    \n",
    "    file.Close()"
   ]
  },
  {
   "cell_type": "code",
   "execution_count": 20,
   "id": "thermal-kingdom",
   "metadata": {},
   "outputs": [
    {
     "name": "stdout",
     "output_type": "stream",
     "text": [
      " FCN=25.4149 FROM MIGRAD    STATUS=CONVERGED      32 CALLS          33 TOTAL\n",
      "                     EDM=4.19953e-20    STRATEGY= 1      ERROR MATRIX ACCURATE \n",
      "  EXT PARAMETER                                   STEP         FIRST   \n",
      "  NO.   NAME      VALUE            ERROR          SIZE      DERIVATIVE \n",
      "   1  p0           2.00834e+03   2.85793e+01   1.87258e-02   1.37549e-11\n",
      "   2  p1           1.40360e+02   4.32773e+00   2.83563e-03  -2.50577e-11\n",
      " FCN=24.8898 FROM MIGRAD    STATUS=CONVERGED      32 CALLS          33 TOTAL\n",
      "                     EDM=1.12042e-20    STRATEGY= 1      ERROR MATRIX ACCURATE \n",
      "  EXT PARAMETER                                   STEP         FIRST   \n",
      "  NO.   NAME      VALUE            ERROR          SIZE      DERIVATIVE \n",
      "   1  p0           2.12407e+03   2.98932e+01   1.95104e-02  -1.04704e-11\n",
      "   2  p1          -1.40503e+02   4.54987e+00   2.96957e-03  -3.88821e-11\n"
     ]
    },
    {
     "data": {
      "image/png": "[encoded data removed]",
      "text/plain": [
       "<IPython.core.display.Image object>"
      ]
     },
     "metadata": {},
     "output_type": "display_data"
    }
   ],
   "source": [
    "h2_step.SetStats(False)\n",
    "    \n",
    "c = ROOT.TCanvas()\n",
    "\n",
    "lf = ROOT.TF1(\"lf\", \"[0] + [1]*x\", -9, -3)\n",
    "rf = ROOT.TF1(\"rf\", \"[0] + [1]*x\",  3,  9)\n",
    "\n",
    "h2_step.Draw('HIST')\n",
    "lfit = h2_step.Fit('lf', 'RS')\n",
    "rfit = h2_step.Fit('rf', 'RS')\n",
    "\n",
    "lf.Draw(\"SAME\")\n",
    "rf.Draw(\"SAME\")\n",
    "\n",
    "# TC.SetLogy()\n",
    "c.Draw()"
   ]
  },
  {
   "cell_type": "code",
   "execution_count": 21,
   "id": "national-booking",
   "metadata": {},
   "outputs": [],
   "source": [
    "lpar = [lfit.Get().Parameter(i) for i in range(2)]\n",
    "rpar = [rfit.Get().Parameter(i) for i in range(2)]"
   ]
  },
  {
   "cell_type": "code",
   "execution_count": 22,
   "id": "spatial-worcester",
   "metadata": {},
   "outputs": [],
   "source": [
    "lx0 = - lpar[0] / lpar[1]\n",
    "rx0 = - rpar[0] / rpar[1]"
   ]
  },
  {
   "cell_type": "code",
   "execution_count": 23,
   "id": "adopted-threshold",
   "metadata": {},
   "outputs": [
    {
     "name": "stdout",
     "output_type": "stream",
     "text": [
      "Delta [step]:    29.426151984328506\n",
      "x0 left [step]:  -14.308489961751386\n",
      "x0 right [step]: 15.11766202257712\n"
     ]
    }
   ],
   "source": [
    "print(\"Delta [step]:   \", rx0 - lx0)\n",
    "print(\"x0 left [step]: \", lx0)\n",
    "print(\"x0 right [step]:\", rx0)"
   ]
  }
 ],
 "metadata": {
  "kernelspec": {
   "display_name": "Python 3",
   "language": "python",
   "name": "python3"
  },
  "language_info": {
   "codemirror_mode": {
    "name": "ipython",
    "version": 3
   },
   "file_extension": ".py",
   "mimetype": "text/x-python",
   "name": "python",
   "nbconvert_exporter": "python",
   "pygments_lexer": "ipython3",
   "version": "3.8.6"
  }
 },
 "nbformat": 4,
 "nbformat_minor": 5
}
