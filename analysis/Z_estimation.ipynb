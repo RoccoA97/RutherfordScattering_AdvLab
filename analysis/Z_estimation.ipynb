{
 "cells": [
  {
   "cell_type": "code",
   "execution_count": 1,
   "id": "asian-charity",
   "metadata": {},
   "outputs": [
    {
     "name": "stdout",
     "output_type": "stream",
     "text": [
      "Welcome to JupyROOT 6.22/02\n"
     ]
    }
   ],
   "source": [
    "import ROOT\n",
    "import numpy as np\n",
    "import matplotlib.pyplot as plt\n",
    "import sys\n",
    "import os\n",
    "from pathlib import Path\n",
    "import tqdm as tqdm\n",
    "#import tqdm.notebook as tqdm\n",
    "import multiprocessing"
   ]
  },
  {
   "cell_type": "markdown",
   "id": "wireless-formation",
   "metadata": {},
   "source": [
    "# ALPIDE"
   ]
  },
  {
   "cell_type": "code",
   "execution_count": 3,
   "id": "judicial-deputy",
   "metadata": {},
   "outputs": [
    {
     "name": "stdout",
     "output_type": "stream",
     "text": [
      "5.98256626894205e-25\n",
      "51.56470053972991\n"
     ]
    }
   ],
   "source": [
    "Theta_alpide = 11*np.pi/180 #rad\n",
    "I0_au_alpide = 1.8166269680884461\n",
    "I1_au_alpide = 1.8055512047149758\n",
    "\n",
    "N_au = 1.49*1e19\n",
    "\n",
    "k_au_alpide = (I0_au_alpide-I1_au_alpide)/I0_au_alpide *\\\n",
    "                np.square(np.sin(Theta_alpide/2))/(2*np.pi*N_au)\n",
    "\n",
    "\n",
    "e2_4pie2 = 1.44 *1e-13 #Mevcm\n",
    "print(k_au_alpide)\n",
    "Z_au_alpide = np.sqrt(k_au_alpide)*4*4.8/(2*e2_4pie2)\n",
    "print(Z_au_alpide)\n",
    "\n",
    "\n"
   ]
  },
  {
   "cell_type": "markdown",
   "id": "middle-spirit",
   "metadata": {},
   "source": [
    "# picoscope"
   ]
  },
  {
   "cell_type": "code",
   "execution_count": 4,
   "id": "stretch-musical",
   "metadata": {},
   "outputs": [
    {
     "name": "stdout",
     "output_type": "stream",
     "text": [
      "4.793955122069e-26\n",
      "14.596734980534366\n"
     ]
    }
   ],
   "source": [
    "Theta_pico = 1.25*np.pi/180 #rad\n",
    "I0_au_pico = 318211/5\n",
    "I1_au_pico = 183725/3\n",
    "\n",
    "N_au = 1.49*1e19\n",
    "\n",
    "k_au_pico = (I0_au_pico-I1_au_pico)/I0_au_pico *\\\n",
    "                np.square(np.sin(Theta_pico/2))/(2*np.pi*N_au)\n",
    "\n",
    "\n",
    "e2_4pie2 = 1.44 *1e-13 #Mevcm\n",
    "print(k_au_pico)\n",
    "Z_au_pico = np.sqrt(k_au_pico)*4*4.8/(2*e2_4pie2)\n",
    "print(Z_au_pico)\n"
   ]
  },
  {
   "cell_type": "code",
   "execution_count": null,
   "id": "dressed-embassy",
   "metadata": {},
   "outputs": [],
   "source": []
  }
 ],
 "metadata": {
  "kernelspec": {
   "display_name": "Python 3",
   "language": "python",
   "name": "python3"
  },
  "language_info": {
   "codemirror_mode": {
    "name": "ipython",
    "version": 3
   },
   "file_extension": ".py",
   "mimetype": "text/x-python",
   "name": "python",
   "nbconvert_exporter": "python",
   "pygments_lexer": "ipython3",
   "version": "3.8.5"
  }
 },
 "nbformat": 4,
 "nbformat_minor": 5
}
