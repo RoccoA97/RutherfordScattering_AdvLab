{
 "cells": [
  {
   "cell_type": "markdown",
   "metadata": {},
   "source": [
    "# Advanced Physics Laboratory: analysis of beam profile with foil"
   ]
  },
  {
   "cell_type": "markdown",
   "metadata": {},
   "source": [
    "## Preliminary operations"
   ]
  },
  {
   "cell_type": "markdown",
   "metadata": {},
   "source": [
    "### Load packages"
   ]
  },
  {
   "cell_type": "code",
   "execution_count": 1,
   "metadata": {},
   "outputs": [],
   "source": [
    "import numpy as np\n",
    "import matplotlib.pyplot as plt\n",
    "import random\n",
    "import os\n",
    "import sys\n",
    "import subprocess"
   ]
  },
  {
   "cell_type": "markdown",
   "metadata": {},
   "source": [
    "### Path to data"
   ]
  },
  {
   "cell_type": "code",
   "execution_count": 2,
   "metadata": {},
   "outputs": [],
   "source": [
    "USER_PATH = \"/home/rocco/University/APL/Lab/\"\n",
    "DATA_PATH = USER_PATH + \"data/gold\""
   ]
  },
  {
   "cell_type": "markdown",
   "metadata": {},
   "source": [
    "### Constants"
   ]
  },
  {
   "cell_type": "code",
   "execution_count": 3,
   "metadata": {},
   "outputs": [],
   "source": [
    "SC = 33    # picoscoper center in steps"
   ]
  },
  {
   "cell_type": "markdown",
   "metadata": {},
   "source": [
    "## Analysis"
   ]
  },
  {
   "cell_type": "markdown",
   "metadata": {},
   "source": [
    "### Loop through directories"
   ]
  },
  {
   "cell_type": "code",
   "execution_count": 4,
   "metadata": {},
   "outputs": [],
   "source": [
    "pico_step = []\n",
    "pico_rad  = []\n",
    "pico_deg  = []\n",
    "pico_seg  = []\n",
    "pico_ev   = []\n",
    "pico_t    = []\n",
    "pico_r    = []\n",
    "norms     = []\n",
    "ev_norms  = []\n",
    "\n",
    "os.chdir(DATA_PATH)\n",
    "for d in os.listdir(\".\"):\n",
    "    os.chdir(d)\n",
    "    \n",
    "    run = d.split(\"_\")[0]\n",
    "    \n",
    "    if \"DC\" in d:\n",
    "        sign = -1\n",
    "    elif \"SC\" in d:\n",
    "        sign = +1\n",
    "    else:\n",
    "        sign = 0\n",
    "    \n",
    "    file = open(\"run\")\n",
    "    line = file.readlines()\n",
    "    for l in line:\n",
    "        if (l.startswith(\"n_segments\")):\n",
    "            n_seg = int(l.split('=')[1].strip())\n",
    "            pico_seg.append(n_seg)\n",
    "    file.close()\n",
    "    \n",
    "    steps  = sign * int(''.join(filter(lambda i: i.isdigit(), run))) - SC\n",
    "    \n",
    "    \n",
    "    times  = np.loadtxt(\"run_BlockTimes.txt\")\n",
    "    blocks = times.shape[0]\n",
    "    events = blocks * n_seg\n",
    "    t      = times[-1,1] - times[0,0] - np.sum(times[1:,0]-times[:-1,1])\n",
    "\n",
    "    pico_step.append(steps)\n",
    "    pico_rad.append(steps * 0.9 * np.pi / 180.0)\n",
    "    pico_deg.append(steps * 0.9)\n",
    "    pico_t.append(t)\n",
    "    pico_ev.append(events)\n",
    "    pico_r.append(events / t * 3600)\n",
    "\n",
    "    os.chdir(DATA_PATH)"
   ]
  },
  {
   "cell_type": "markdown",
   "metadata": {},
   "source": [
    "### Plot distribution"
   ]
  },
  {
   "cell_type": "code",
   "execution_count": 5,
   "metadata": {},
   "outputs": [
    {
     "data": {
      "image/png": "[encoded data removed]",
      "text/plain": [
       "<Figure size 432x288 with 1 Axes>"
      ]
     },
     "metadata": {
      "needs_background": "light"
     },
     "output_type": "display_data"
    }
   ],
   "source": [
    "plt.plot(pico_step, pico_r, \"o\")\n",
    "plt.xlabel(\"Angle [step]\")\n",
    "plt.ylabel(\"Events/h\")\n",
    "plt.yscale(\"log\")\n",
    "plt.show()"
   ]
  },
  {
   "cell_type": "code",
   "execution_count": 18,
   "metadata": {},
   "outputs": [],
   "source": [
    "data = np.column_stack((np.array(pico_step, dtype=np.int32), np.array(pico_r)))"
   ]
  },
  {
   "cell_type": "code",
   "execution_count": 22,
   "metadata": {},
   "outputs": [
    {
     "data": {
      "text/plain": [
       "-50"
      ]
     },
     "execution_count": 22,
     "metadata": {},
     "output_type": "execute_result"
    }
   ],
   "source": [
    "int(data[0,0])"
   ]
  },
  {
   "cell_type": "code",
   "execution_count": 26,
   "metadata": {},
   "outputs": [
    {
     "name": "stdout",
     "output_type": "stream",
     "text": [
      "-60 6.2354642479647\n",
      "-50 6.8496759707113375\n",
      "-30 10.02201416806746\n",
      "-28 15.667591443551613\n",
      "-26 16.97973954776083\n",
      "-24 23.80803668322167\n",
      "-22 27.585748470981276\n",
      "-20 56.73691800219627\n",
      "-18 105.89141316715093\n",
      "-16 500.4600187882755\n",
      "-14 4538.621927154634\n",
      "-12 12978.31539721587\n",
      "-10 23582.64056499694\n",
      "-8 33973.764686206814\n",
      "-6 44709.215434199374\n",
      "-4 53639.275839288144\n",
      "-2 61183.28465679977\n",
      "0 63565.60675233276\n",
      "2 60910.201422342674\n",
      "4 53201.55115242096\n",
      "6 42947.98523051632\n",
      "8 32596.05478778167\n",
      "10 22064.14575642406\n",
      "12 12930.066154605347\n",
      "14 4063.1159361022815\n",
      "16 514.4921793711807\n",
      "18 98.194985234741\n",
      "20 45.79377789807752\n",
      "22 26.537517416551722\n",
      "24 23.95880416689888\n",
      "26 20.512548169355416\n",
      "28 13.131941140365727\n",
      "30 7.680819287210328\n"
     ]
    }
   ],
   "source": [
    "from collections import defaultdict\n",
    "\n",
    "def list_duplicates(seq):\n",
    "    tally = defaultdict(list)\n",
    "    for i,item in enumerate(seq):\n",
    "        tally[item].append(i)\n",
    "    return ((key,locs) for key,locs in tally.items() \n",
    "                            if len(locs)>0)"
   ]
  },
  {
   "cell_type": "code",
   "execution_count": 27,
   "metadata": {},
   "outputs": [],
   "source": [
    "dist_step = []\n",
    "dist_r    = []\n",
    "\n",
    "for dup in sorted(list_duplicates(pico_step)):\n",
    "    # print(dup)\n",
    "    dist_step.append(dup[0])\n",
    "    dist_r.append(np.mean(data[dup[1],1]))"
   ]
  },
  {
   "cell_type": "code",
   "execution_count": 30,
   "metadata": {},
   "outputs": [
    {
     "data": {
      "image/png": "[encoded data removed]",
      "text/plain": [
       "<Figure size 432x288 with 1 Axes>"
      ]
     },
     "metadata": {
      "needs_background": "light"
     },
     "output_type": "display_data"
    }
   ],
   "source": [
    "plt.plot(dist_step, dist_r, \"o\")\n",
    "plt.xlabel(\"Angle [step]\")\n",
    "plt.ylabel(\"Events/h\")\n",
    "plt.yscale(\"log\")\n",
    "plt.xlim(-30,30)\n",
    "plt.show()"
   ]
  }
 ],
 "metadata": {
  "kernelspec": {
   "display_name": "Python 3",
   "language": "python",
   "name": "python3"
  },
  "language_info": {
   "codemirror_mode": {
    "name": "ipython",
    "version": 3
   },
   "file_extension": ".py",
   "mimetype": "text/x-python",
   "name": "python",
   "nbconvert_exporter": "python",
   "pygments_lexer": "ipython3",
   "version": "3.8.3"
  }
 },
 "nbformat": 4,
 "nbformat_minor": 4
}
