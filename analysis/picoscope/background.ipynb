{
 "cells": [
  {
   "cell_type": "markdown",
   "id": "grateful-reflection",
   "metadata": {},
   "source": [
    "# **PicoScope**: analysis of background"
   ]
  },
  {
   "cell_type": "markdown",
   "id": "starting-senegal",
   "metadata": {},
   "source": [
    "## Preliminary operations"
   ]
  },
  {
   "cell_type": "markdown",
   "id": "critical-enzyme",
   "metadata": {},
   "source": [
    "### Paths"
   ]
  },
  {
   "cell_type": "code",
   "execution_count": 1,
   "id": "casual-update",
   "metadata": {},
   "outputs": [],
   "source": [
    "USER_PATH = \"/home/rocco/University/APL/Lab/\"\n",
    "DATA_PATH = USER_PATH + \"data/\"\n",
    "SAVE_PATH = \"../../plots/data/picoscope/\""
   ]
  },
  {
   "cell_type": "markdown",
   "id": "atlantic-acrylic",
   "metadata": {},
   "source": [
    "### Flags"
   ]
  },
  {
   "cell_type": "code",
   "execution_count": 2,
   "id": "inappropriate-sally",
   "metadata": {},
   "outputs": [],
   "source": [
    "UNZIP_DATA    = False\n",
    "WAVE2NUMPY    = True\n",
    "PLOT_WAVE     = True\n",
    "PLOT_MAV_WAVE = True\n",
    "REJECT_3SIGMA = False\n",
    "SAVE_DATA     = True\n",
    "VERBOSE       = True"
   ]
  },
  {
   "cell_type": "markdown",
   "id": "configured-exclusion",
   "metadata": {},
   "source": [
    "### Load packages"
   ]
  },
  {
   "cell_type": "code",
   "execution_count": 3,
   "id": "designing-twins",
   "metadata": {},
   "outputs": [
    {
     "name": "stdout",
     "output_type": "stream",
     "text": [
      "Welcome to JupyROOT 6.22/06\n"
     ]
    }
   ],
   "source": [
    "import os\n",
    "import sys\n",
    "import ROOT\n",
    "import random\n",
    "import numpy as np\n",
    "import pandas as pd\n",
    "import matplotlib.pyplot as plt\n",
    "import bokeh.palettes as palette"
   ]
  },
  {
   "cell_type": "code",
   "execution_count": 4,
   "id": "rural-fifth",
   "metadata": {},
   "outputs": [],
   "source": [
    "from ROOT import TF1\n",
    "from ROOT import TCanvas, TGraph, TGraphErrors"
   ]
  },
  {
   "cell_type": "markdown",
   "id": "likely-vancouver",
   "metadata": {},
   "source": [
    "### Settings"
   ]
  },
  {
   "cell_type": "code",
   "execution_count": 5,
   "id": "coated-hanging",
   "metadata": {},
   "outputs": [],
   "source": [
    "plt.rc('text', usetex=True)\n",
    "plt.rc('font', family='serif')\n",
    "plt.rc('font', size=16)          # controls default text sizes\n",
    "plt.rc('axes', titlesize=18)     # fontsize of the axes title\n",
    "plt.rc('axes', labelsize=18)     # fontsize of the x and y labels\n",
    "plt.rc('xtick', labelsize=14)    # fontsize of the tick labels\n",
    "plt.rc('ytick', labelsize=14)    # fontsize of the tick labels\n",
    "plt.rc('legend', fontsize=16)    # legend fontsize\n",
    "plt.rc('figure', titlesize=18)   # fontsize of the figure title"
   ]
  },
  {
   "cell_type": "code",
   "execution_count": 6,
   "id": "cooked-karaoke",
   "metadata": {},
   "outputs": [
    {
     "name": "stderr",
     "output_type": "stream",
     "text": [
      "<ipython-input-6-4c3d034b1475>:1: MatplotlibDeprecationWarning: Support for setting the 'text.latex.preamble' or 'pgf.preamble' rcParam to a list of strings is deprecated since 3.3 and will be removed two minor releases later; set it to a single string instead.\n",
      "  plt.rcParams['text.latex.preamble'] = [r'\\boldmath']\n"
     ]
    }
   ],
   "source": [
    "plt.rcParams['text.latex.preamble'] = [r'\\boldmath']"
   ]
  },
  {
   "cell_type": "markdown",
   "id": "union-ready",
   "metadata": {},
   "source": [
    "### Constants"
   ]
  },
  {
   "cell_type": "code",
   "execution_count": 7,
   "id": "protected-proceeding",
   "metadata": {},
   "outputs": [],
   "source": [
    "PATIENCE = 1000\n",
    "MIN_MV   = 2000\n",
    "MAX_MV   = 3300"
   ]
  },
  {
   "cell_type": "code",
   "execution_count": 8,
   "id": "convenient-significance",
   "metadata": {},
   "outputs": [],
   "source": [
    "bkg_dirs = [\n",
    "    \"bkg_50h_271120\",\n",
    "    \"bkg_24h_151220\"\n",
    "]"
   ]
  },
  {
   "cell_type": "markdown",
   "id": "electric-remedy",
   "metadata": {},
   "source": [
    "### Functions"
   ]
  },
  {
   "cell_type": "code",
   "execution_count": 9,
   "id": "veterinary-driver",
   "metadata": {},
   "outputs": [],
   "source": [
    "def moving_average(x, M):\n",
    "    return np.convolve(x, np.ones(M), 'valid') / M"
   ]
  },
  {
   "cell_type": "markdown",
   "id": "pressing-electric",
   "metadata": {},
   "source": [
    "## Convert waveform files to numpy array and store"
   ]
  },
  {
   "cell_type": "markdown",
   "id": "civil-absolute",
   "metadata": {},
   "source": [
    "### Unzip all data archives and get number of events"
   ]
  },
  {
   "cell_type": "code",
   "execution_count": 10,
   "id": "blocked-blond",
   "metadata": {},
   "outputs": [],
   "source": [
    "if UNZIP_DATA:\n",
    "    os.chdir(DATA_PATH)\n",
    "    for d in os.listdir(\".\"):\n",
    "        if d in bkg_dirs:\n",
    "            os.chdir(d)\n",
    "\n",
    "            if VERBOSE:\n",
    "                print(d)\n",
    "\n",
    "            if not os.path.exists(\"data\"):\n",
    "                os.system(\"unzip data.zip -d data\")\n",
    "            \n",
    "            os.chdir(\"../\")"
   ]
  },
  {
   "cell_type": "markdown",
   "id": "timely-celtic",
   "metadata": {},
   "source": [
    "### Convert to numpy array"
   ]
  },
  {
   "cell_type": "code",
   "execution_count": 11,
   "id": "coated-charleston",
   "metadata": {},
   "outputs": [
    {
     "name": "stdout",
     "output_type": "stream",
     "text": [
      "Processing: bkg_50h_271120\n",
      "\n",
      "Processing: bkg_24h_151220\n",
      "\n"
     ]
    }
   ],
   "source": [
    "if WAVE2NUMPY:\n",
    "    os.chdir(DATA_PATH)\n",
    "    for d in os.listdir(\".\"):\n",
    "        if d in bkg_dirs:\n",
    "            os.chdir(d)\n",
    "\n",
    "            if VERBOSE:\n",
    "                print(\"Processing:\", d)\n",
    "\n",
    "            if not os.path.exists(d+\".npy\"):\n",
    "                N = len(os.listdir(\"./data\"))\n",
    "                M = 5000\n",
    "\n",
    "                data = np.zeros((N,M),dtype=np.int16)\n",
    "                for f,i in zip(os.listdir(\"./data\"), range(N)):\n",
    "                    if (i % PATIENCE == 0) and VERBOSE:\n",
    "                        sys.stdout.write(\"\\r    Completeness : \"+str(round(i/N*100,1))+\"%\")\n",
    "\n",
    "                    data[i,:] = np.loadtxt(\"./data/\" + f)\n",
    "                np.save(d+\".npy\", data)\n",
    "                os.system(\"rm -rf ./data\")\n",
    "\n",
    "            if VERBOSE:\n",
    "                sys.stdout.write(\"\\n\")\n",
    "\n",
    "            os.chdir(\"../\")"
   ]
  },
  {
   "cell_type": "markdown",
   "id": "powerful-combine",
   "metadata": {},
   "source": [
    "## Analysis"
   ]
  },
  {
   "cell_type": "code",
   "execution_count": 12,
   "id": "correct-exploration",
   "metadata": {},
   "outputs": [],
   "source": [
    "M  = 20    # moving average (MAV) filter M\n",
    "SC = 33    # picoscoper center in steps"
   ]
  },
  {
   "cell_type": "markdown",
   "id": "furnished-powder",
   "metadata": {},
   "source": [
    "### Collect data angle"
   ]
  },
  {
   "cell_type": "code",
   "execution_count": 13,
   "id": "rental-richards",
   "metadata": {},
   "outputs": [
    {
     "data": {
      "image/png": "[encoded data removed]",
      "text/plain": [
       "<Figure size 1944x288 with 4 Axes>"
      ]
     },
     "metadata": {
      "needs_background": "light"
     },
     "output_type": "display_data"
    },
    {
     "data": {
      "image/png": "[encoded data removed]",
      "text/plain": [
       "<Figure size 1944x288 with 4 Axes>"
      ]
     },
     "metadata": {
      "needs_background": "light"
     },
     "output_type": "display_data"
    }
   ],
   "source": [
    "angles = []\n",
    "events = []\n",
    "err_angles = []\n",
    "err_events = []\n",
    "\n",
    "pico_step = []\n",
    "pico_rad  = []\n",
    "pico_deg  = []\n",
    "pico_seg  = []\n",
    "pico_ev   = []\n",
    "pico_t    = []\n",
    "pico_r    = []\n",
    "\n",
    "pico_step_err = []\n",
    "pico_rad_err  = []\n",
    "pico_deg_err  = []\n",
    "pico_ev_err   = []\n",
    "pico_r_err    = []\n",
    "\n",
    "\n",
    "\n",
    "os.chdir(DATA_PATH)\n",
    "for d in os.listdir(\".\"):\n",
    "    if d in bkg_dirs:\n",
    "        os.chdir(d)\n",
    "\n",
    "        #######################################################################\n",
    "        # TAKE DATA FROM run FILE\n",
    "        #######################################################################\n",
    "        file = open(\"run\")\n",
    "        line = file.readlines()\n",
    "        for l in line:\n",
    "            if (l.startswith(\"n_segments\")):\n",
    "                n_seg = int(l.split('=')[1].strip())\n",
    "                pico_seg.append(n_seg)\n",
    "            if (l.startswith(\"run_time\")):\n",
    "                run_time = int(l.split('=')[1].strip())\n",
    "        file.close()\n",
    "        #######################################################################\n",
    "    \n",
    "        #######################################################################\n",
    "        # TAKE DATA FROM run_BlockTimes.txt\n",
    "        #######################################################################\n",
    "        times  = np.loadtxt(\"run_BlockTimes.txt\")\n",
    "        blocks = times.shape[0]\n",
    "        events = blocks * n_seg\n",
    "        # print(times.shape)\n",
    "        if times.shape != (2,):\n",
    "            t  = times[-1,1] - times[0,0] - np.sum(times[1:,0]-times[:-1,1])\n",
    "        else:\n",
    "            t  = run_time\n",
    "        #######################################################################\n",
    "\n",
    "    \n",
    "        #######################################################################\n",
    "        # TAKE DATA FROM ALL WAVEFORMS\n",
    "        #######################################################################\n",
    "        if WAVE2NUMPY:\n",
    "            # load data and smooth filter with MAV\n",
    "            data     = np.load(d+\".npy\")\n",
    "            data_mav = np.apply_along_axis(moving_average, 1, data, M)\n",
    "\n",
    "            # compute baseline mask\n",
    "            baseline_mask = np.arange(data_mav.shape[1])\n",
    "            baseline_mask = ((baseline_mask<1000) | (baseline_mask>3000))\n",
    "\n",
    "            # compute baseline and amplitude\n",
    "            baseline   = np.sum(data_mav[:,baseline_mask], axis=1) / data_mav[:,baseline_mask].shape[1]\n",
    "            peaks      = np.max(data_mav, axis=1)\n",
    "            amplitudes = (peaks - baseline) * 10 / 65536 * 1000\n",
    "\n",
    "            # filter events by waveform amplitude\n",
    "            events = amplitudes[(amplitudes>=MIN_MV) & (amplitudes<=MAX_MV)].shape[0]\n",
    "\n",
    "            # compute integral\n",
    "            data_mav_int = np.sum(data_mav, axis=1) - baseline*data_mav.shape[1]\n",
    "\n",
    "            # compute integral mean and variance\n",
    "            data_mav_int_mean = np.mean(data_mav_int)\n",
    "            data_mav_int_var  = np.std(data_mav_int)\n",
    "\n",
    "            # not so useful (it will be removed)\n",
    "            if REJECT_3SIGMA:\n",
    "                mask_t = np.logical_and(data_mav_int<data_mav_int_mean+data_mav_int_var*3, data_mav_int>data_mav_int_mean-data_mav_int_var*3)\n",
    "                mask_f = np.logical_not(mask_t)\n",
    "            else:\n",
    "                mask_t = np.ones(data_mav_int.shape, dtype=bool)\n",
    "                mask_f = np.logical_not(mask_t)\n",
    "\n",
    "            if PLOT_WAVE:\n",
    "                fig=plt.figure(figsize=(6*4+3, 4))\n",
    "                plt.subplot(1,4,1)\n",
    "                if mask_f.shape[0] != 0:\n",
    "                    plt.plot(np.where(mask_t)[0], data_mav_int[mask_t], \"o\", markersize=1.5)\n",
    "                    plt.plot(np.where(mask_f)[0], data_mav_int[mask_f], \"o\", markersize=1.5)\n",
    "                else:\n",
    "                    plt.plot(np.where(mask_t)[0], data_mav_int[mask_t], \"o\", markersize=1.5)\n",
    "                plt.xlabel(r\"\\bf{Id}\")\n",
    "                plt.ylabel(r\"\\bf{Integral [a.u.]}\")\n",
    "                plt.title(r\"\\bf{Waveform integrals: \" + str(d.replace(\"_\", \"\\_\")) + \"}\")\n",
    "\n",
    "                plt.subplot(1,4,2)\n",
    "                if mask_f.shape[0] != 0:\n",
    "                    plt.hist([data_mav_int[mask_t], data_mav_int[mask_f]], bins=50, stacked=True)\n",
    "                else:\n",
    "                    plt.hist(data_mav_int[mask_t], bins=50, stacked=True)\n",
    "                # plt.yscale(\"log\")\n",
    "                plt.xlabel(r\"\\bf{Integral [a.u.]}\")\n",
    "                plt.ylabel(r\"\\bf{Events}\")\n",
    "                plt.title(r\"\\bf{Waveform integrals: \" + str(d.replace(\"_\", \"\\_\")) + \"}\")\n",
    "\n",
    "                plt.subplot(1,4,3)\n",
    "                plt.plot(np.arange(0,amplitudes.shape[0]), amplitudes, \"o\", markersize=1.5)\n",
    "                plt.xlabel(r\"\\bf{Id}\")\n",
    "                plt.ylabel(r\"\\bf{Amplitude [mV]}\")\n",
    "                plt.title(r\"\\bf{Waveform amplitudes: \" + str(d.replace(\"_\", \"\\_\")) + \"}\")\n",
    "\n",
    "                plt.subplot(1,4,4)\n",
    "                plt.hist(amplitudes, bins=50)\n",
    "                # plt.yscale(\"log\")\n",
    "                plt.xlabel(r\"\\bf{Amplitude [mV]}\")\n",
    "                plt.ylabel(r\"\\bf{Events}\")\n",
    "                plt.title(r\"\\bf{Waveform amplitudes: \" + str(d.replace(\"_\", \"\\_\")) + \"}\")\n",
    "                plt.show()\n",
    "        #######################################################################\n",
    "\n",
    "\n",
    "        #######################################################################\n",
    "        # COMPUTE RELEVANT QUANTITIES\n",
    "        #######################################################################\n",
    "        pico_t.append(t)\n",
    "        pico_ev.append(events)\n",
    "        pico_r.append(events / t * 3600)\n",
    "        #######################################################################\n",
    "\n",
    "        #######################################################################\n",
    "        # COMPUTE ERRORS\n",
    "        #######################################################################\n",
    "        pico_ev_err  .append(np.sqrt(events))\n",
    "        pico_r_err   .append(np.sqrt(events) / t * 3600)\n",
    "        #######################################################################\n",
    "\n",
    "        os.chdir(DATA_PATH)"
   ]
  },
  {
   "cell_type": "code",
   "execution_count": 14,
   "id": "surface-surprise",
   "metadata": {},
   "outputs": [],
   "source": [
    "bkg_r = sum(pico_ev) / sum(pico_t) * 3600 #([evs/ts*3600 for evs,ts in zip(pico_ev,pico_t)])"
   ]
  },
  {
   "cell_type": "code",
   "execution_count": 15,
   "id": "continued-encyclopedia",
   "metadata": {},
   "outputs": [
    {
     "data": {
      "text/plain": [
       "[0.19961739998283742, 0.49103609069795]"
      ]
     },
     "execution_count": 15,
     "metadata": {},
     "output_type": "execute_result"
    }
   ],
   "source": [
    "[evs/ts*3600 for evs,ts in zip(pico_ev,pico_t)]"
   ]
  },
  {
   "cell_type": "code",
   "execution_count": 16,
   "id": "incredible-sample",
   "metadata": {},
   "outputs": [
    {
     "data": {
      "text/plain": [
       "0.2951674822029528"
      ]
     },
     "execution_count": 16,
     "metadata": {},
     "output_type": "execute_result"
    }
   ],
   "source": [
    "bkg_r"
   ]
  }
 ],
 "metadata": {
  "kernelspec": {
   "display_name": "Python 3",
   "language": "python",
   "name": "python3"
  },
  "language_info": {
   "codemirror_mode": {
    "name": "ipython",
    "version": 3
   },
   "file_extension": ".py",
   "mimetype": "text/x-python",
   "name": "python",
   "nbconvert_exporter": "python",
   "pygments_lexer": "ipython3",
   "version": "3.8.6"
  }
 },
 "nbformat": 4,
 "nbformat_minor": 5
}
