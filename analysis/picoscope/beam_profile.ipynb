{
 "cells": [
  {
   "cell_type": "markdown",
   "metadata": {},
   "source": [
    "# **PicoScope**: analysis of beam profile"
   ]
  },
  {
   "cell_type": "markdown",
   "metadata": {},
   "source": [
    "## Preliminary operations"
   ]
  },
  {
   "cell_type": "markdown",
   "metadata": {},
   "source": [
    "### Flags"
   ]
  },
  {
   "cell_type": "code",
   "execution_count": 1,
   "metadata": {},
   "outputs": [],
   "source": [
    "UNZIP_DATA    = False\n",
    "WAVE2NUMPY    = False\n",
    "PLOT_WAVE     = False\n",
    "PLOT_MAV_WAVE = False\n",
    "REJECT_3SIGMA = False"
   ]
  },
  {
   "cell_type": "markdown",
   "metadata": {},
   "source": [
    "### Load packages"
   ]
  },
  {
   "cell_type": "code",
   "execution_count": 2,
   "metadata": {},
   "outputs": [
    {
     "name": "stdout",
     "output_type": "stream",
     "text": [
      "Welcome to JupyROOT 6.22/06\n"
     ]
    }
   ],
   "source": [
    "import os\n",
    "import ROOT\n",
    "import random\n",
    "import numpy as np\n",
    "import pandas as pd\n",
    "import matplotlib.pyplot as plt\n",
    "import bokeh.palettes as palette"
   ]
  },
  {
   "cell_type": "code",
   "execution_count": 3,
   "metadata": {},
   "outputs": [],
   "source": [
    "from ROOT import TF1\n",
    "from ROOT import TCanvas, TGraph, TGraphErrors"
   ]
  },
  {
   "cell_type": "markdown",
   "metadata": {},
   "source": [
    "### Settings"
   ]
  },
  {
   "cell_type": "code",
   "execution_count": 4,
   "metadata": {},
   "outputs": [],
   "source": [
    "plt.rc('text', usetex=True)\n",
    "plt.rc('font', family='serif')\n",
    "plt.rc('font', size=16)          # controls default text sizes\n",
    "plt.rc('axes', titlesize=18)     # fontsize of the axes title\n",
    "plt.rc('axes', labelsize=18)     # fontsize of the x and y labels\n",
    "plt.rc('xtick', labelsize=14)    # fontsize of the tick labels\n",
    "plt.rc('ytick', labelsize=14)    # fontsize of the tick labels\n",
    "plt.rc('legend', fontsize=16)    # legend fontsize\n",
    "plt.rc('figure', titlesize=18)   # fontsize of the figure title"
   ]
  },
  {
   "cell_type": "markdown",
   "metadata": {},
   "source": [
    "## Convert waveform files to numpy array and store"
   ]
  },
  {
   "cell_type": "markdown",
   "metadata": {},
   "source": [
    "### Path to data"
   ]
  },
  {
   "cell_type": "code",
   "execution_count": 5,
   "metadata": {},
   "outputs": [],
   "source": [
    "USER_PATH = \"/home/rocco/University/APL/Lab/\"\n",
    "DATA_PATH = USER_PATH + \"data/beam_profile_long_101220/\""
   ]
  },
  {
   "cell_type": "markdown",
   "metadata": {},
   "source": [
    "### Unzip all data archives and get number of events"
   ]
  },
  {
   "cell_type": "code",
   "execution_count": 6,
   "metadata": {},
   "outputs": [],
   "source": [
    "if UNZIP_DATA:\n",
    "    os.chdir(DATA_PATH)\n",
    "    for d in os.listdir(\".\"):\n",
    "        os.chdir(d)\n",
    "\n",
    "        if not os.path.exists(\"data\"):\n",
    "            os.system(\"unzip data.zip -d data\")\n",
    "        os.chdir(\"../\")"
   ]
  },
  {
   "cell_type": "markdown",
   "metadata": {},
   "source": [
    "### Convert to numpy array"
   ]
  },
  {
   "cell_type": "code",
   "execution_count": 7,
   "metadata": {},
   "outputs": [],
   "source": [
    "if WAVE2NUMPY:\n",
    "    os.chdir(DATA_PATH)\n",
    "    for d in os.listdir(\".\"):\n",
    "        os.chdir(d)\n",
    "\n",
    "        if not os.path.exists(d+\".npy\"):\n",
    "            N = len(os.listdir(\"./data\"))\n",
    "            M = 5000\n",
    "\n",
    "            data = np.zeros((N,M),dtype=np.int16)\n",
    "            for f,i in zip(os.listdir(\"./data\"), range(N)):\n",
    "                data[i,:] = np.loadtxt(\"./data/run_\"+str(i)+\"_segment_0.rpsd\")\n",
    "            np.save(d+\".npy\", data)\n",
    "\n",
    "        os.chdir(\"../\")"
   ]
  },
  {
   "cell_type": "markdown",
   "metadata": {},
   "source": [
    "## Analysis"
   ]
  },
  {
   "cell_type": "code",
   "execution_count": 8,
   "metadata": {},
   "outputs": [],
   "source": [
    "M  = 20    # moving average (MAV) filter M\n",
    "SC = 33    # picoscoper center in steps"
   ]
  },
  {
   "cell_type": "markdown",
   "metadata": {},
   "source": [
    "### Collect data angle"
   ]
  },
  {
   "cell_type": "code",
   "execution_count": 9,
   "metadata": {},
   "outputs": [],
   "source": [
    "angles = []\n",
    "events = []\n",
    "err_angles = []\n",
    "err_events = []\n",
    "\n",
    "pico_step = []\n",
    "pico_rad  = []\n",
    "pico_deg  = []\n",
    "pico_seg  = []\n",
    "pico_ev   = []\n",
    "pico_t    = []\n",
    "pico_r    = []\n",
    "\n",
    "pico_step_err = []\n",
    "pico_rad_err  = []\n",
    "pico_deg_err  = []\n",
    "pico_ev_err   = []\n",
    "pico_r_err    = []\n",
    "\n",
    "\n",
    "\n",
    "os.chdir(DATA_PATH)\n",
    "for d in os.listdir(\".\"):\n",
    "    # print(d)\n",
    "    os.chdir(d)\n",
    "    run = d.split(\"_\")[0]\n",
    "    \n",
    "    #######################################################################\n",
    "    # TAKE DIRECTION FROM DIR NAME\n",
    "    #######################################################################\n",
    "    if \"DC\" in d:\n",
    "        sign = -1\n",
    "    elif \"SC\" in d:\n",
    "        sign = +1\n",
    "    else:\n",
    "        sign = 0\n",
    "    #######################################################################\n",
    "\n",
    "    #######################################################################\n",
    "    # TAKE DATA FROM run FILE\n",
    "    #######################################################################\n",
    "    file = open(\"run\")\n",
    "    line = file.readlines()\n",
    "    for l in line:\n",
    "        if (l.startswith(\"n_segments\")):\n",
    "            n_seg = int(l.split('=')[1].strip())\n",
    "            pico_seg.append(n_seg)\n",
    "        if (l.startswith(\"run_time\")):\n",
    "            run_time = int(l.split('=')[1].strip())\n",
    "    file.close()\n",
    "    \n",
    "    steps = sign * int(''.join(filter(lambda i: i.isdigit(), run))) - SC\n",
    "    #######################################################################\n",
    "    \n",
    "    #######################################################################\n",
    "    # TAKE DATA FROM run_BlockTimes.txt\n",
    "    #######################################################################\n",
    "    times  = np.loadtxt(\"run_BlockTimes.txt\")\n",
    "    blocks = times.shape[0]\n",
    "    events = blocks * n_seg\n",
    "    # print(times.shape)\n",
    "    if times.shape != (2,):\n",
    "        t  = times[-1,1] - times[0,0] - np.sum(times[1:,0]-times[:-1,1])\n",
    "    else:\n",
    "        t  = run_time\n",
    "\n",
    "    pico_step.append(steps)\n",
    "    pico_rad.append(steps * 0.9 * np.pi / 180.0)\n",
    "    pico_deg.append(steps * 0.9)\n",
    "    pico_t.append(t)\n",
    "    pico_ev.append(events)\n",
    "    pico_r.append(events / t * 3600)\n",
    "    #######################################################################\n",
    "    \n",
    "    #######################################################################\n",
    "    # COMPUTE ERRORS\n",
    "    #######################################################################\n",
    "    pico_step_err.append(0.05) # 1.0 / np.sqrt(12.0)\n",
    "    pico_rad_err .append(0.05 * 0.9 * np.pi / 180.0)\n",
    "    pico_deg_err .append(0.05 * 0.9)\n",
    "    pico_ev_err  .append(np.sqrt(events))\n",
    "    pico_r_err   .append(np.sqrt(events) / t * 3600)\n",
    "    #######################################################################\n",
    "\n",
    "    \n",
    "    #######################################################################\n",
    "    # TAKE DATA FROM ALL WAVEFORMS\n",
    "    #######################################################################\n",
    "    if WAVE2NUMPY:\n",
    "        data     = np.load(d+\".npy\")\n",
    "        data_mav = np.apply_along_axis(moving_average, 1, data, M)\n",
    "\n",
    "        baseline_mask = np.arange(data_mav.shape[1])\n",
    "        baseline_mask = ((baseline_mask<1000) | (baseline_mask>3000))\n",
    "\n",
    "        baseline = np.sum(data_mav[:,baseline_mask], axis=1) / data_mav[:,baseline_mask].shape[1]\n",
    "\n",
    "        data_mav_int = np.sum(data_mav, axis=1) - baseline*data_mav.shape[1]\n",
    "\n",
    "        data_mav_int_mean = np.mean(data_mav_int)\n",
    "        data_mav_int_var  = np.std(data_mav_int)\n",
    "\n",
    "        data_mav_int_mean = np.mean(data_mav_int)\n",
    "        data_mav_int_var  = np.std(data_mav_int)\n",
    "\n",
    "        if REJECT_3SIGMA:\n",
    "            mask_t = np.logical_and(data_mav_int<data_mav_int_mean+data_mav_int_var*3, data_mav_int>data_mav_int_mean-data_mav_int_var*3)\n",
    "            mask_f = np.logical_not(mask_t)\n",
    "        else:\n",
    "            mask_t = np.ones(data_mav_int.shape, dtype=bool)\n",
    "            mask_f = np.logical_not(mask_t)\n",
    "\n",
    "        if PLOT_WAVE:\n",
    "            fig=plt.figure(figsize=(12, 4))\n",
    "            plt.subplot(1,2,1)\n",
    "            if mask_f.shape[0] != 0:\n",
    "                plt.plot(np.where(mask_t)[0], data_mav_int[mask_t], \"o\", markersize=1.5)\n",
    "                plt.plot(np.where(mask_f)[0], data_mav_int[mask_f], \"o\", markersize=1.5)\n",
    "            else:\n",
    "                plt.plot(np.where(mask_t)[0], data_mav_int[mask_t], \"o\", markersize=1.5)\n",
    "            plt.title(d)\n",
    "\n",
    "            plt.subplot(1,2,2)\n",
    "            if mask_f.shape[0] != 0:\n",
    "                plt.hist([data_mav_int[mask_t], data_mav_int[mask_f]], bins=50, stacked=True)\n",
    "            else:\n",
    "                plt.hist(data_mav_int[mask_t], bins=50, stacked=True)\n",
    "            plt.yscale(\"log\")\n",
    "            plt.title(d)\n",
    "            plt.show()\n",
    "    #######################################################################\n",
    "\n",
    "    os.chdir(DATA_PATH)"
   ]
  },
  {
   "cell_type": "markdown",
   "metadata": {},
   "source": [
    "### Events distribution"
   ]
  },
  {
   "cell_type": "code",
   "execution_count": 10,
   "metadata": {},
   "outputs": [],
   "source": [
    "col = palette.brewer['RdYlGn'][10]"
   ]
  },
  {
   "cell_type": "code",
   "execution_count": 11,
   "metadata": {},
   "outputs": [],
   "source": [
    "d = {\n",
    "    \"pico_step\"     : pico_step,\n",
    "    \"pico_rad\"      : pico_rad,\n",
    "    \"pico_deg\"      : pico_deg,\n",
    "    \"pico_seg\"      : pico_seg,\n",
    "    \"pico_ev\"       : pico_ev,\n",
    "    \"pico_t\"        : pico_t,\n",
    "    \"pico_r\"        : pico_r,\n",
    "    \"pico_step_err\" : pico_step_err,\n",
    "    \"pico_rad_err\"  : pico_rad_err,\n",
    "    \"pico_deg_err\"  : pico_deg_err,\n",
    "    \"pico_ev_err\"   : pico_ev_err,\n",
    "    \"pico_r_err\"    : pico_r_err\n",
    "}\n",
    "\n",
    "df = pd.DataFrame(data=d)\n",
    "df = df.sort_values(by=['pico_step'])"
   ]
  },
  {
   "cell_type": "code",
   "execution_count": 12,
   "metadata": {},
   "outputs": [
    {
     "data": {
      "image/png": "[encoded data removed]",
      "text/plain": [
       "<Figure size 864x576 with 1 Axes>"
      ]
     },
     "metadata": {
      "needs_background": "light"
     },
     "output_type": "display_data"
    }
   ],
   "source": [
    "plt.figure(figsize=(12,8))\n",
    "plt.errorbar(df[\"pico_step\"], df[\"pico_r\"],\n",
    "             xerr=df[\"pico_step_err\"], yerr=df[\"pico_r_err\"],\n",
    "             fmt='o', markerfacecolor=col[0],\n",
    "             color=col[1], ecolor=col[0],\n",
    "             label=\"data\",alpha=1,markersize=3)\n",
    "plt.xlabel(\"Angular position [step]\")\n",
    "plt.ylabel(\"Rate [ev/h]\")\n",
    "plt.legend()\n",
    "plt.show()"
   ]
  },
  {
   "cell_type": "code",
   "execution_count": 13,
   "metadata": {},
   "outputs": [
    {
     "data": {
      "text/plain": [
       "array([[-1.440e+01,  1.000e+01, -1.600e+01],\n",
       "       [-1.350e+01,  1.900e+01, -1.500e+01],\n",
       "       [-1.260e+01,  4.100e+02, -1.400e+01],\n",
       "       [-1.170e+01,  1.548e+03, -1.300e+01],\n",
       "       [-1.080e+01,  5.700e+03, -1.200e+01],\n",
       "       [-9.900e+00,  8.200e+03, -1.100e+01],\n",
       "       [-9.000e+00,  1.100e+04, -1.000e+01],\n",
       "       [-8.100e+00,  1.380e+04, -9.000e+00],\n",
       "       [-7.200e+00,  1.650e+04, -8.000e+00],\n",
       "       [-6.300e+00,  1.940e+04, -7.000e+00],\n",
       "       [-5.400e+00,  2.000e+04, -6.000e+00],\n",
       "       [-4.500e+00,  2.000e+04, -5.000e+00],\n",
       "       [-3.600e+00,  2.000e+04, -4.000e+00],\n",
       "       [-2.700e+00,  2.000e+04, -3.000e+00],\n",
       "       [-1.800e+00,  2.000e+04, -2.000e+00],\n",
       "       [-9.000e-01,  2.000e+04, -1.000e+00],\n",
       "       [ 0.000e+00,  2.000e+04,  0.000e+00],\n",
       "       [ 9.000e-01,  2.000e+04,  1.000e+00],\n",
       "       [ 1.800e+00,  2.000e+04,  2.000e+00],\n",
       "       [ 2.700e+00,  2.000e+04,  3.000e+00],\n",
       "       [ 3.600e+00,  2.000e+04,  4.000e+00],\n",
       "       [ 4.500e+00,  2.000e+04,  5.000e+00],\n",
       "       [ 5.400e+00,  2.000e+04,  6.000e+00],\n",
       "       [ 6.300e+00,  1.970e+04,  7.000e+00],\n",
       "       [ 7.200e+00,  1.720e+04,  8.000e+00],\n",
       "       [ 8.100e+00,  1.430e+04,  9.000e+00],\n",
       "       [ 9.000e+00,  1.190e+04,  1.000e+01],\n",
       "       [ 9.900e+00,  9.400e+03,  1.100e+01],\n",
       "       [ 1.080e+01,  7.000e+03,  1.200e+01],\n",
       "       [ 1.170e+01,  4.400e+03,  1.300e+01],\n",
       "       [ 1.260e+01,  2.000e+03,  1.400e+01],\n",
       "       [ 1.350e+01,  7.000e+02,  1.500e+01],\n",
       "       [ 1.440e+01,  2.000e+02,  1.600e+01],\n",
       "       [ 1.530e+01,  1.100e+01,  1.700e+01]])"
      ]
     },
     "execution_count": 13,
     "metadata": {},
     "output_type": "execute_result"
    }
   ],
   "source": [
    "np.vstack((np.round(np.array(df[\"pico_deg\"]),2), np.array(df[\"pico_ev\"]), np.array(df[\"pico_step\"]))).T"
   ]
  },
  {
   "cell_type": "markdown",
   "metadata": {},
   "source": [
    "## Beam angular extension"
   ]
  },
  {
   "cell_type": "code",
   "execution_count": 14,
   "metadata": {},
   "outputs": [],
   "source": [
    "lrange = [-13, -2]\n",
    "rrange = [2, 13]"
   ]
  },
  {
   "cell_type": "code",
   "execution_count": 15,
   "metadata": {},
   "outputs": [],
   "source": [
    "ldf = df[(df[\"pico_step\"]>=lrange[0]) & (df[\"pico_step\"]<=lrange[1])]\n",
    "rdf = df[(df[\"pico_step\"]>=rrange[0]) & (df[\"pico_step\"]<=rrange[1])]"
   ]
  },
  {
   "cell_type": "markdown",
   "metadata": {},
   "source": [
    "### Left half"
   ]
  },
  {
   "cell_type": "code",
   "execution_count": 16,
   "metadata": {},
   "outputs": [],
   "source": [
    "ln  = ldf.shape[0]\n",
    "lx  = ldf[\"pico_step\"].to_numpy(dtype=np.float)\n",
    "ly  = ldf[\"pico_r\"].to_numpy(dtype=np.float)\n",
    "lex = ldf[\"pico_step_err\"].to_numpy(dtype=np.float)\n",
    "ley = ldf[\"pico_r_err\"].to_numpy(dtype=np.float)"
   ]
  },
  {
   "cell_type": "code",
   "execution_count": 17,
   "metadata": {},
   "outputs": [
    {
     "name": "stdout",
     "output_type": "stream",
     "text": [
      " FCN=107.031 FROM MIGRAD    STATUS=CONVERGED     104 CALLS         105 TOTAL\n",
      "                     EDM=1.35723e-08    STRATEGY= 1      ERROR MATRIX ACCURATE \n",
      "  EXT PARAMETER                                   STEP         FIRST   \n",
      "  NO.   NAME      VALUE            ERROR          SIZE      DERIVATIVE \n",
      "   1  p0           7.56069e+04   2.97502e+02   5.46835e-01  -4.23910e-07\n",
      "   2  p1           5.42938e+03   3.17621e+01   5.83766e-02  -1.28288e-06\n"
     ]
    }
   ],
   "source": [
    "lge  = TGraphErrors(ln, lx, ly, lex, ley)\n",
    "lf   = TF1('lf', '[0] + [1]*x', -15, 0)\n",
    "lfit = lge.Fit('lf', 'S')\n",
    "lpar = [lfit.Get().Parameter(i) for i in range(2)]"
   ]
  },
  {
   "cell_type": "markdown",
   "metadata": {},
   "source": [
    "### Right half"
   ]
  },
  {
   "cell_type": "code",
   "execution_count": 18,
   "metadata": {},
   "outputs": [],
   "source": [
    "rn  = rdf.shape[0]\n",
    "rx  = rdf[\"pico_step\"].to_numpy(dtype=np.float)\n",
    "ry  = rdf[\"pico_r\"].to_numpy(dtype=np.float)\n",
    "rex = rdf[\"pico_step_err\"].to_numpy(dtype=np.float)\n",
    "rey = rdf[\"pico_r_err\"].to_numpy(dtype=np.float)"
   ]
  },
  {
   "cell_type": "code",
   "execution_count": 19,
   "metadata": {},
   "outputs": [
    {
     "name": "stdout",
     "output_type": "stream",
     "text": [
      " FCN=30.5945 FROM MIGRAD    STATUS=CONVERGED      84 CALLS          85 TOTAL\n",
      "                     EDM=1.80376e-09    STRATEGY= 1      ERROR MATRIX ACCURATE \n",
      "  EXT PARAMETER                                   STEP         FIRST   \n",
      "  NO.   NAME      VALUE            ERROR          SIZE      DERIVATIVE \n",
      "   1  p0           7.54551e+04   3.03950e+02   2.94249e-01   5.58832e-07\n",
      "   2  p1          -5.14330e+03   3.26263e+01   3.15905e-02   4.99680e-06\n"
     ]
    }
   ],
   "source": [
    "rge  = TGraphErrors(rn, rx, ry, rex, rey)\n",
    "rf   = TF1('rf', '[0] + [1]*x', -15, 0)\n",
    "rfit = rge.Fit('rf', 'S')\n",
    "rpar = [rfit.Get().Parameter(i) for i in range(2)]"
   ]
  },
  {
   "cell_type": "markdown",
   "metadata": {},
   "source": [
    "### Plot results"
   ]
  },
  {
   "cell_type": "code",
   "execution_count": 20,
   "metadata": {},
   "outputs": [],
   "source": [
    "lxfit = np.arange(-15,1)\n",
    "lyfit = lpar[0] + lpar[1] * lxfit\n",
    "\n",
    "rxfit = np.arange(0,16)\n",
    "ryfit = rpar[0] + rpar[1] * rxfit"
   ]
  },
  {
   "cell_type": "code",
   "execution_count": 21,
   "metadata": {},
   "outputs": [
    {
     "data": {
      "image/png": "[encoded data removed]",
      "text/plain": [
       "<Figure size 864x576 with 1 Axes>"
      ]
     },
     "metadata": {
      "needs_background": "light"
     },
     "output_type": "display_data"
    }
   ],
   "source": [
    "plt.figure(figsize=(12,8))\n",
    "plt.errorbar(df[\"pico_step\"], df[\"pico_r\"],\n",
    "             xerr=df[\"pico_step_err\"], yerr=df[\"pico_r_err\"],\n",
    "             fmt='o', markerfacecolor=col[0],\n",
    "             color=col[1], ecolor=col[0],\n",
    "             label=\"data\",alpha=1,markersize=3)\n",
    "plt.plot(lxfit, lyfit, \"--\", label=\"left fit\")\n",
    "plt.plot(rxfit, ryfit, \"--\", label=\"right fit\")\n",
    "plt.xlabel(\"Angular position [step]\")\n",
    "plt.ylabel(\"Rate [ev/h]\")\n",
    "plt.legend()\n",
    "plt.show()"
   ]
  },
  {
   "cell_type": "markdown",
   "metadata": {},
   "source": [
    "### Estimate angular opening of beam"
   ]
  },
  {
   "cell_type": "code",
   "execution_count": 23,
   "metadata": {},
   "outputs": [],
   "source": [
    "lx0 = - lpar[0] / lpar[1]\n",
    "rx0 = - rpar[0] / rpar[1]"
   ]
  },
  {
   "cell_type": "code",
   "execution_count": 24,
   "metadata": {},
   "outputs": [
    {
     "data": {
      "text/plain": [
       "28.596076559648743"
      ]
     },
     "execution_count": 24,
     "metadata": {},
     "output_type": "execute_result"
    }
   ],
   "source": [
    "rx0 - lx0"
   ]
  }
 ],
 "metadata": {
  "kernelspec": {
   "display_name": "Python 3",
   "language": "python",
   "name": "python3"
  },
  "language_info": {
   "codemirror_mode": {
    "name": "ipython",
    "version": 3
   },
   "file_extension": ".py",
   "mimetype": "text/x-python",
   "name": "python",
   "nbconvert_exporter": "python",
   "pygments_lexer": "ipython3",
   "version": "3.8.6"
  },
  "toc-autonumbering": true
 },
 "nbformat": 4,
 "nbformat_minor": 4
}
