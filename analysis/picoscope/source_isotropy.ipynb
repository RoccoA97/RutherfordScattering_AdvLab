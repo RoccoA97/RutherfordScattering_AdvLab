{
 "cells": [
  {
   "cell_type": "markdown",
   "id": "domestic-knowing",
   "metadata": {},
   "source": [
    "# **PicoScope**: efficiencies and source isotropy"
   ]
  },
  {
   "cell_type": "markdown",
   "id": "convinced-flooring",
   "metadata": {},
   "source": [
    "## Preliminary operations"
   ]
  },
  {
   "cell_type": "markdown",
   "id": "optimum-ranking",
   "metadata": {},
   "source": [
    "### Paths"
   ]
  },
  {
   "cell_type": "code",
   "execution_count": 1,
   "id": "removable-acrylic",
   "metadata": {},
   "outputs": [],
   "source": [
    "USER_PATH = \"/home/rocco/University/APL/Lab/\"\n",
    "DATA_PATH = USER_PATH + \"data/pico_eff_201120/\"\n",
    "SAVE_PATH = \"../../plots/data/picoscope/\""
   ]
  },
  {
   "cell_type": "markdown",
   "id": "contrary-approval",
   "metadata": {},
   "source": [
    "### Flags"
   ]
  },
  {
   "cell_type": "code",
   "execution_count": 2,
   "id": "conscious-london",
   "metadata": {},
   "outputs": [],
   "source": [
    "UNZIP_DATA    = False\n",
    "WAVE2NUMPY    = False\n",
    "PLOT_WAVE     = False\n",
    "PLOT_MAV_WAVE = False\n",
    "REJECT_3SIGMA = False\n",
    "SAVE_DATA     = True"
   ]
  },
  {
   "cell_type": "markdown",
   "id": "solid-reservation",
   "metadata": {},
   "source": [
    "### Load packages"
   ]
  },
  {
   "cell_type": "code",
   "execution_count": 3,
   "id": "confident-basic",
   "metadata": {},
   "outputs": [
    {
     "name": "stdout",
     "output_type": "stream",
     "text": [
      "Welcome to JupyROOT 6.22/06\n"
     ]
    }
   ],
   "source": [
    "import os\n",
    "import ROOT\n",
    "import random\n",
    "import numpy as np\n",
    "import pandas as pd\n",
    "import matplotlib.pyplot as plt\n",
    "import bokeh.palettes as palette"
   ]
  },
  {
   "cell_type": "code",
   "execution_count": 4,
   "id": "rotary-joining",
   "metadata": {},
   "outputs": [],
   "source": [
    "from ROOT import TF1\n",
    "from ROOT import TCanvas, TGraph, TGraphErrors"
   ]
  },
  {
   "cell_type": "markdown",
   "id": "green-simple",
   "metadata": {},
   "source": [
    "### Settings"
   ]
  },
  {
   "cell_type": "code",
   "execution_count": 5,
   "id": "loved-dairy",
   "metadata": {},
   "outputs": [],
   "source": [
    "plt.rc('text', usetex=True)\n",
    "plt.rc('font', family='serif')\n",
    "plt.rc('font', size=16)          # controls default text sizes\n",
    "plt.rc('axes', titlesize=18)     # fontsize of the axes title\n",
    "plt.rc('axes', labelsize=18)     # fontsize of the x and y labels\n",
    "plt.rc('xtick', labelsize=14)    # fontsize of the tick labels\n",
    "plt.rc('ytick', labelsize=14)    # fontsize of the tick labels\n",
    "plt.rc('legend', fontsize=16)    # legend fontsize\n",
    "plt.rc('figure', titlesize=18)   # fontsize of the figure title"
   ]
  },
  {
   "cell_type": "markdown",
   "id": "promising-killing",
   "metadata": {},
   "source": [
    "## Convert waveform files to numpy array and store"
   ]
  },
  {
   "cell_type": "markdown",
   "id": "listed-female",
   "metadata": {},
   "source": [
    "### Unzip all data archives and get number of events"
   ]
  },
  {
   "cell_type": "code",
   "execution_count": 6,
   "id": "adaptive-extreme",
   "metadata": {},
   "outputs": [],
   "source": [
    "if UNZIP_DATA:\n",
    "    os.chdir(DATA_PATH)\n",
    "    for d in os.listdir(\".\"):\n",
    "        os.chdir(d)\n",
    "\n",
    "        if not os.path.exists(\"data\"):\n",
    "            os.system(\"unzip data.zip -d data\")\n",
    "        os.chdir(\"../\")"
   ]
  },
  {
   "cell_type": "markdown",
   "id": "impossible-tutorial",
   "metadata": {},
   "source": [
    "### Convert to numpy array"
   ]
  },
  {
   "cell_type": "code",
   "execution_count": 7,
   "id": "certified-latitude",
   "metadata": {},
   "outputs": [],
   "source": [
    "if WAVE2NUMPY:\n",
    "    os.chdir(DATA_PATH)\n",
    "    for d in os.listdir(\".\"):\n",
    "        os.chdir(d)\n",
    "\n",
    "        if not os.path.exists(d+\".npy\"):\n",
    "            N = len(os.listdir(\"./data\"))\n",
    "            M = 5000\n",
    "\n",
    "            data = np.zeros((N,M),dtype=np.int16)\n",
    "            for f,i in zip(os.listdir(\"./data\"), range(N)):\n",
    "                data[i,:] = np.loadtxt(\"./data/run_\"+str(i)+\"_segment_0.rpsd\")\n",
    "            np.save(d+\".npy\", data)\n",
    "\n",
    "        os.chdir(\"../\")"
   ]
  },
  {
   "cell_type": "markdown",
   "id": "broad-handling",
   "metadata": {},
   "source": [
    "## Analysis"
   ]
  },
  {
   "cell_type": "code",
   "execution_count": 8,
   "id": "engaging-universe",
   "metadata": {},
   "outputs": [],
   "source": [
    "M   = 20     # moving average (MAV) filter M\n",
    "TRG = 500    # trigger threshold in mV\n",
    "# SC = 33    # picoscoper center in steps"
   ]
  },
  {
   "cell_type": "markdown",
   "id": "general-retirement",
   "metadata": {},
   "source": [
    "### Collect data angle"
   ]
  },
  {
   "cell_type": "code",
   "execution_count": 12,
   "id": "sophisticated-showcase",
   "metadata": {},
   "outputs": [],
   "source": [
    "angles = []\n",
    "events = []\n",
    "err_angles = []\n",
    "err_events = []\n",
    "\n",
    "pico_step = []\n",
    "pico_rad  = []\n",
    "pico_deg  = []\n",
    "pico_seg  = []\n",
    "pico_ev   = []\n",
    "pico_t    = []\n",
    "pico_r    = []\n",
    "\n",
    "pico_step_err = []\n",
    "pico_rad_err  = []\n",
    "pico_deg_err  = []\n",
    "pico_ev_err   = []\n",
    "pico_r_err    = []\n",
    "\n",
    "\n",
    "\n",
    "os.chdir(DATA_PATH)\n",
    "for d in os.listdir(\".\"):\n",
    "    # print(d)\n",
    "    os.chdir(d)\n",
    "    run = d.split(\"_\")[0]\n",
    "    \n",
    "    #######################################################################\n",
    "    # CHECK TRIGGER\n",
    "    #######################################################################\n",
    "    if (str(TRG)+\"mV\") not in d:\n",
    "        os.chdir(DATA_PATH)\n",
    "        continue\n",
    "    #######################################################################\n",
    "    \n",
    "    #######################################################################\n",
    "    # TAKE DIRECTION FROM DIR NAME\n",
    "    #######################################################################\n",
    "    if \"DX\" in d:\n",
    "        sign = -1\n",
    "    elif \"SX\" in d:\n",
    "        sign = +1\n",
    "    else:\n",
    "        sign = 0\n",
    "    #######################################################################\n",
    "\n",
    "    #######################################################################\n",
    "    # TAKE DATA FROM run FILE\n",
    "    #######################################################################\n",
    "    file = open(\"run\")\n",
    "    line = file.readlines()\n",
    "    for l in line:\n",
    "        if (l.startswith(\"n_segments\")):\n",
    "            n_seg = int(l.split('=')[1].strip())\n",
    "            pico_seg.append(n_seg)\n",
    "        if (l.startswith(\"run_time\")):\n",
    "            run_time = int(l.split('=')[1].strip())\n",
    "    file.close()\n",
    "    \n",
    "    steps = sign * int(''.join(filter(lambda i: i.isdigit(), run))) # - SC\n",
    "    #######################################################################\n",
    "    \n",
    "    #######################################################################\n",
    "    # TAKE DATA FROM run_BlockTimes.txt\n",
    "    #######################################################################\n",
    "    times  = np.loadtxt(\"run_BlockTimes.txt\")\n",
    "    blocks = times.shape[0]\n",
    "    events = blocks * n_seg\n",
    "    # print(times.shape)\n",
    "    if times.shape != (2,):\n",
    "        t  = times[-1,1] - times[0,0] - np.sum(times[1:,0]-times[:-1,1])\n",
    "    else:\n",
    "        t  = run_time\n",
    "\n",
    "    pico_step.append(steps)\n",
    "    pico_rad.append(steps * 0.9 * np.pi / 180.0)\n",
    "    pico_deg.append(steps * 0.9)\n",
    "    pico_t.append(t)\n",
    "    pico_ev.append(events)\n",
    "    pico_r.append(events / t * 3600)\n",
    "    #######################################################################\n",
    "    \n",
    "    #######################################################################\n",
    "    # COMPUTE ERRORS\n",
    "    #######################################################################\n",
    "    pico_step_err.append(0.05) # 1.0 / np.sqrt(12.0)\n",
    "    pico_rad_err .append(0.05 * 0.9 * np.pi / 180.0)\n",
    "    pico_deg_err .append(0.05 * 0.9)\n",
    "    pico_ev_err  .append(np.sqrt(events))\n",
    "    pico_r_err   .append(np.sqrt(events) / t * 3600)\n",
    "    #######################################################################\n",
    "\n",
    "    \n",
    "    #######################################################################\n",
    "    # TAKE DATA FROM ALL WAVEFORMS\n",
    "    #######################################################################\n",
    "    if WAVE2NUMPY:\n",
    "        data     = np.load(d+\".npy\")\n",
    "        data_mav = np.apply_along_axis(moving_average, 1, data, M)\n",
    "\n",
    "        baseline_mask = np.arange(data_mav.shape[1])\n",
    "        baseline_mask = ((baseline_mask<1000) | (baseline_mask>3000))\n",
    "\n",
    "        baseline = np.sum(data_mav[:,baseline_mask], axis=1) / data_mav[:,baseline_mask].shape[1]\n",
    "\n",
    "        data_mav_int = np.sum(data_mav, axis=1) - baseline*data_mav.shape[1]\n",
    "\n",
    "        data_mav_int_mean = np.mean(data_mav_int)\n",
    "        data_mav_int_var  = np.std(data_mav_int)\n",
    "\n",
    "        data_mav_int_mean = np.mean(data_mav_int)\n",
    "        data_mav_int_var  = np.std(data_mav_int)\n",
    "\n",
    "        if REJECT_3SIGMA:\n",
    "            mask_t = np.logical_and(data_mav_int<data_mav_int_mean+data_mav_int_var*3, data_mav_int>data_mav_int_mean-data_mav_int_var*3)\n",
    "            mask_f = np.logical_not(mask_t)\n",
    "        else:\n",
    "            mask_t = np.ones(data_mav_int.shape, dtype=bool)\n",
    "            mask_f = np.logical_not(mask_t)\n",
    "\n",
    "        if PLOT_WAVE:\n",
    "            fig=plt.figure(figsize=(12, 4))\n",
    "            plt.subplot(1,2,1)\n",
    "            if mask_f.shape[0] != 0:\n",
    "                plt.plot(np.where(mask_t)[0], data_mav_int[mask_t], \"o\", markersize=1.5)\n",
    "                plt.plot(np.where(mask_f)[0], data_mav_int[mask_f], \"o\", markersize=1.5)\n",
    "            else:\n",
    "                plt.plot(np.where(mask_t)[0], data_mav_int[mask_t], \"o\", markersize=1.5)\n",
    "            plt.title(d)\n",
    "\n",
    "            plt.subplot(1,2,2)\n",
    "            if mask_f.shape[0] != 0:\n",
    "                plt.hist([data_mav_int[mask_t], data_mav_int[mask_f]], bins=50, stacked=True)\n",
    "            else:\n",
    "                plt.hist(data_mav_int[mask_t], bins=50, stacked=True)\n",
    "            plt.yscale(\"log\")\n",
    "            plt.title(d)\n",
    "            plt.show()\n",
    "    #######################################################################\n",
    "\n",
    "    os.chdir(DATA_PATH)"
   ]
  },
  {
   "cell_type": "markdown",
   "id": "secret-malaysia",
   "metadata": {},
   "source": [
    "### Events distribution"
   ]
  },
  {
   "cell_type": "code",
   "execution_count": 14,
   "id": "internal-border",
   "metadata": {},
   "outputs": [],
   "source": [
    "col = palette.brewer['RdYlGn'][10]"
   ]
  },
  {
   "cell_type": "code",
   "execution_count": 15,
   "id": "concerned-stuart",
   "metadata": {},
   "outputs": [],
   "source": [
    "d = {\n",
    "    \"pico_step\"     : pico_step,\n",
    "    \"pico_rad\"      : pico_rad,\n",
    "    \"pico_deg\"      : pico_deg,\n",
    "    \"pico_seg\"      : pico_seg,\n",
    "    \"pico_ev\"       : pico_ev,\n",
    "    \"pico_t\"        : pico_t,\n",
    "    \"pico_r\"        : pico_r,\n",
    "    \"pico_step_err\" : pico_step_err,\n",
    "    \"pico_rad_err\"  : pico_rad_err,\n",
    "    \"pico_deg_err\"  : pico_deg_err,\n",
    "    \"pico_ev_err\"   : pico_ev_err,\n",
    "    \"pico_r_err\"    : pico_r_err\n",
    "}\n",
    "\n",
    "df = pd.DataFrame(data=d)\n",
    "df = df.sort_values(by=['pico_step'])"
   ]
  },
  {
   "cell_type": "code",
   "execution_count": 22,
   "id": "closed-composer",
   "metadata": {},
   "outputs": [],
   "source": [
    "mean = np.average(df[\"pico_r\"], weights=(1/np.square(df[\"pico_r_err\"])))"
   ]
  },
  {
   "cell_type": "code",
   "execution_count": 37,
   "id": "younger-thomas",
   "metadata": {},
   "outputs": [
    {
     "data": {
      "image/png": "[encoded data removed]",
      "text/plain": [
       "<Figure size 864x576 with 1 Axes>"
      ]
     },
     "metadata": {
      "needs_background": "light"
     },
     "output_type": "display_data"
    }
   ],
   "source": [
    "plt.figure(figsize=(12,8))\n",
    "\n",
    "plt.errorbar(\n",
    "    x               = df[\"pico_step\"],\n",
    "    y               = df[\"pico_r\"],\n",
    "    # xerr            = df_exp[\"pico_step_err\"],\n",
    "    yerr            = df[\"pico_r_err\"],\n",
    "    fmt             ='-.o',\n",
    "    markersize      = 3,\n",
    "    capsize         = 3,\n",
    "    # markerfacecolor = col[0],\n",
    "    # color           = col[1],\n",
    "    # ecolor          = col[0],\n",
    "    label           = r\"\\bf{Data}\",\n",
    "    alpha           = 1\n",
    ")\n",
    "\n",
    "plt.axhline(\n",
    "    y    =mean,\n",
    "    color=\"C1\",\n",
    "    linewidth=1.5,\n",
    "    label=r\"\\bf{Average}\"\n",
    ")\n",
    "\n",
    "plt.ylim(np.max(df[\"pico_r\"])*0.0, np.max(df[\"pico_r\"])*1.5)\n",
    "plt.xlabel(\"Angular position [step]\")\n",
    "plt.ylabel(\"Rate [ev/h]\")\n",
    "plt.legend()\n",
    "plt.show()"
   ]
  },
  {
   "cell_type": "markdown",
   "id": "proprietary-korean",
   "metadata": {},
   "source": [
    "## Save data"
   ]
  },
  {
   "cell_type": "code",
   "execution_count": 38,
   "id": "structured-thread",
   "metadata": {},
   "outputs": [],
   "source": [
    "if SAVE_DATA:\n",
    "    df.to_csv(SAVE_PATH + \"pico_data_isotropy.csv\", index=False)"
   ]
  }
 ],
 "metadata": {
  "kernelspec": {
   "display_name": "Python 3",
   "language": "python",
   "name": "python3"
  },
  "language_info": {
   "codemirror_mode": {
    "name": "ipython",
    "version": 3
   },
   "file_extension": ".py",
   "mimetype": "text/x-python",
   "name": "python",
   "nbconvert_exporter": "python",
   "pygments_lexer": "ipython3",
   "version": "3.8.6"
  },
  "toc-autonumbering": true,
  "toc-showcode": true
 },
 "nbformat": 4,
 "nbformat_minor": 5
}
