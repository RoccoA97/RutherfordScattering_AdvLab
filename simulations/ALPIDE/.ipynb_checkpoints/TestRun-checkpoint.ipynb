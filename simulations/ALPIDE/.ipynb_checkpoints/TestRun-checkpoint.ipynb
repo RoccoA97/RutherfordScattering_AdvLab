{
 "cells": [
  {
   "cell_type": "code",
   "execution_count": null,
   "metadata": {},
   "outputs": [],
   "source": [
    "import numpy as np\n",
    "\n",
    "import matplotlib.pyplot as plt\n",
    "\n",
    "import math\n",
    "\n",
    "from sklearn.cluster import DBSCAN\n",
    "from sklearn import metrics\n",
    "from sklearn.datasets import make_blobs\n",
    "from sklearn.preprocessing import StandardScaler\n",
    "\n",
    "from pathlib import Path"
   ]
  },
  {
   "cell_type": "markdown",
   "metadata": {},
   "source": [
    "# Clusters"
   ]
  },
  {
   "cell_type": "code",
   "execution_count": null,
   "metadata": {},
   "outputs": [],
   "source": [
    "coulumn=1023*np.rand(2)\n",
    "row=511*np.rand(2)\n",
    "\n"
   ]
  },
  {
   "cell_type": "markdown",
   "metadata": {},
   "source": [
    "# DBscan"
   ]
  },
  {
   "cell_type": "code",
   "execution_count": null,
   "metadata": {},
   "outputs": [],
   "source": [
    "i = 0\n",
    "total_clusters = 0\n",
    "total_noise_points = 0\n",
    "while True:\n",
    "    file_name=\"file{0:0d}.npy\".format(i)\n",
    "    my_file = Path(file_name)\n",
    "    if my_file.is_file():\n",
    "        i += 1\n",
    "        packet = np.load(file_name, allow_pickle=True)\n",
    "        for k in range(len(packet)):\n",
    "            X=packet[k]\n",
    "            db = DBSCAN(eps=1, min_samples=2).fit(X)\n",
    "            core_samples_mask = np.zeros_like(db.labels_, dtype=bool)\n",
    "            core_samples_mask[db.core_sample_indices_] = True\n",
    "            labels = db.labels_\n",
    "            n_clusters_ = len(set(labels)) - (1 if -1 in labels else 0)\n",
    "            n_noise_ = list(labels).count(-1)\n",
    "            nc = 0\n",
    "            #initialize an empty list to accomodate the sample coordinates whitin the cluster\n",
    "            clusters = [[] for _ in range(n_clusters_)]\n",
    "            #total_clusters += n_clusters_\n",
    "            #total_noise_points += n_noise_\n",
    "            for j in range(len(db.labels_)):\n",
    "                if db.labels_[j] == -1:\t#noise sample has label -1\n",
    "                    nc = nc + 1\t#noise counter\n",
    "                else: \n",
    "                    index = db.labels_[j]\n",
    "                    #print(db.components_[j-nc])\n",
    "                    clusters[index].append(np.array(db.components_[j - nc])) #subtract noise counter to the index\n",
    "    else:\n",
    "        print (\"No more packets\")\n",
    "        bre"
   ]
  },
  {
   "cell_type": "code",
   "execution_count": null,
   "metadata": {},
   "outputs": [],
   "source": []
  },
  {
   "cell_type": "code",
   "execution_count": null,
   "metadata": {},
   "outputs": [],
   "source": []
  }
 ],
 "metadata": {
  "kernelspec": {
   "display_name": "Python 3",
   "language": "python",
   "name": "python3"
  },
  "language_info": {
   "codemirror_mode": {
    "name": "ipython",
    "version": 3
   },
   "file_extension": ".py",
   "mimetype": "text/x-python",
   "name": "python",
   "nbconvert_exporter": "python",
   "pygments_lexer": "ipython3",
   "version": "3.8.3"
  }
 },
 "nbformat": 4,
 "nbformat_minor": 4
}
