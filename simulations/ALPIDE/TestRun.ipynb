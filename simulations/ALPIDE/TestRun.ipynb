{
 "cells": [
  {
   "cell_type": "code",
   "execution_count": 38,
   "metadata": {},
   "outputs": [],
   "source": [
    "import numpy as np\n",
    "import matplotlib.pyplot as plt\n",
    "import math\n",
    "from sklearn.cluster import DBSCAN, OPTICS, AgglomerativeClustering\n",
    "from sklearn import metrics\n",
    "from sklearn.datasets import make_blobs\n",
    "from sklearn.preprocessing import StandardScaler\n",
    "from sklearn.decomposition import PCA\n",
    "from pathlib import Path\n",
    "import matplotlib as mpl\n",
    "from matplotlib import cm\n",
    "import matplotlib.colors as colors\n",
    "import matplotlib.cbook as cbook\n",
    "import time\n",
    "import sys\n",
    "\n",
    "\n",
    "SET_N_TRHEADS = 8"
   ]
  },
  {
   "cell_type": "markdown",
   "metadata": {},
   "source": [
    "# Cluster generation"
   ]
  },
  {
   "cell_type": "code",
   "execution_count": 57,
   "metadata": {},
   "outputs": [
    {
     "data": {
      "text/plain": [
       "Text(0, 0.5, 'Row')"
      ]
     },
     "execution_count": 57,
     "metadata": {},
     "output_type": "execute_result"
    },
    {
     "data": {
      "image/png": "[encoded data removed]",
      "text/plain": [
       "<Figure size 432x288 with 2 Axes>"
      ]
     },
     "metadata": {
      "needs_background": "light"
     },
     "output_type": "display_data"
    }
   ],
   "source": [
    "def makeCluster(wx, wy, npix, nclusters = 1):\n",
    "    cluster=[]\n",
    "    total_area=0\n",
    "    for nc in range(nclusters):\n",
    "        x = np.random.normal(0, wx, npix*5)\n",
    "        y = np.random.normal(0, wy, npix*5)\n",
    "        cx = np.random.randint(int(wx*5), 1023-int(wx*5))\n",
    "        cy = np.random.randint(int(wy*5),  511-int(wy*5))\n",
    "        angle = np.random.uniform(0, np.pi, 1)\n",
    "        xr = x*np.cos(angle)+y*np.sin(angle)+cx\n",
    "        yr = y*np.cos(angle)-x*np.sin(angle)+cy\n",
    "        x = xr.astype(int)\n",
    "        y = yr.astype(int)\n",
    "        \n",
    "        k = 0\n",
    "        for i in range(len(x)):\n",
    "            if ([x[i],y[i]]) not in cluster:\n",
    "                k+=1\n",
    "                cluster.append([x[i],y[i]])\n",
    "        if k == 1: #delete cluster with area 1\n",
    "            cluster.pop()\n",
    "        else:\n",
    "            total_area+=k\n",
    "        \n",
    "    return cluster, total_area \n",
    "\n",
    "def makeNoise(Noise_points):\n",
    "    noise=[]\n",
    "    for i in range(Noise_points):\n",
    "        nx = np.random.randint(0,1024)\n",
    "        ny = np.random.randint(0, 512)\n",
    "        noise.append([nx,ny])\n",
    "        \n",
    "    return noise\n",
    "\n",
    "    \n",
    "cluster, tot_ar= makeCluster(3,3,10,100)\n",
    "noise = makeNoise(2)\n",
    "real=np.append(cluster,noise,axis=0)\n",
    "\n",
    "\n",
    "#generate the hitmap\n",
    "cluster_matrix=np.zeros((512,1024))\n",
    "for pixel in real:\n",
    "    x=pixel[0]\n",
    "    y=pixel[1]\n",
    "    cluster_matrix[y,x] += 1\n",
    "\n",
    "#and plot it\n",
    "fig, ax = plt.subplots()\n",
    "colormap = cm.get_cmap('Reds')\n",
    "psm = ax.pcolormesh(cluster_matrix, cmap=colormap, norm=colors.LogNorm(), vmin=1, vmax=np.max(cluster_matrix))\n",
    "cbar=plt.colorbar(psm, shrink=0.5, ax=ax)\n",
    "#cbar.set_label(\"N. hits\")\n",
    "plt.axis('scaled')\n",
    "ax.set(xlim=(0, 1023), ylim=(0, 511))\n",
    "plt.xlabel(\"Column\")\n",
    "plt.ylabel(\"Row\")\n",
    "\n",
    "\n"
   ]
  },
  {
   "cell_type": "markdown",
   "metadata": {},
   "source": [
    "# Clusterin Algorithm"
   ]
  },
  {
   "cell_type": "code",
   "execution_count": 4,
   "metadata": {},
   "outputs": [],
   "source": [
    "def findClusterDB_old(X, distance):\n",
    "    db = DBSCAN(eps=distance, min_samples=2, n_jobs=1).fit(X)\n",
    "    core_samples_mask = np.zeros_like(db.labels_, dtype=bool)\n",
    "    core_samples_mask[db.core_sample_indices_] = True\n",
    "    labels = db.labels_\n",
    "    n_clusters_ = len(set(labels)) - (1 if -1 in labels else 0)\n",
    "    n_noise_ = list(labels).count(-1)\n",
    "    nc = 0\n",
    "    #initialize an empty list to accomodate the sample coordinates whitin the cluster\n",
    "    clusters = [[] for _ in range(n_clusters_)]\n",
    "    #total_clusters += n_clusters_\n",
    "    #total_noise_points += n_noise_\n",
    "    for j in range(len(db.labels_)):\n",
    "        if db.labels_[j] == -1:\t#noise sample has label -1\n",
    "            nc = nc + 1\t#noise counter\n",
    "        else: \n",
    "            index = db.labels_[j]\n",
    "            #print(db.components_[j-nc])\n",
    "            clusters[index].append(np.array(db.components_[j - nc])) \n",
    "    Areas=[]\n",
    "    for j in range(len(clusters)):\n",
    "        Areas.append(len(clusters[j]))\n",
    "    return clusters, Areas, nc\n",
    "\n",
    "#DBSCAN\n",
    "#Very good noise discrimination\n",
    "#Good cluster discrimination\n",
    "#Higher time consuption over Agglomerative clustering\n",
    "#It works wonders with real data\n",
    "def findClusterDB(X, distance):\n",
    "    db = DBSCAN(eps=distance, min_samples=2).fit(X)\n",
    "    clusters = np.column_stack((X, db.labels_))\n",
    "    nc = np.sum(clusters[:,2]==-1)\n",
    "    Noise_inds=np.where(clusters[:,2]==-1)\n",
    "    clusters=np.delete(clusters,Noise_inds,axis=0)\n",
    "    labels=np.delete(db.labels_,Noise_inds,axis=0)\n",
    "    unique, Areas = np.unique(labels, return_counts=True)\n",
    "\n",
    "    return clusters, Areas, nc\n",
    "\n",
    "#Agglomerative clustering\n",
    "#Good noise discrimination with few noise points(upto 1-2 per packet)\n",
    "#Poor noise discrimination with more noise points(over 4 per packet)\n",
    "#Cluster discrimination depends on noise density\n",
    "#Lower time consuption over DBSCAN\n",
    "#It seems to dislike the real data, BOH\n",
    "def findClusterAgg(X, distance):\n",
    "    agg = AgglomerativeClustering(n_clusters=None, distance_threshold=distance, compute_full_tree=True).fit(X)\n",
    "    clusters = np.column_stack((X, agg.labels_))\n",
    "    unique, Areas = np.unique(agg.labels_, return_counts=True)\n",
    "    Noise_inds=[]\n",
    "    Area_noise_inds=np.array(np.where(Areas==1))\n",
    "    if len(Area_noise_inds[0]) != 0:\n",
    "        for index in Area_noise_inds[0]:\n",
    "            Current_index=np.array(np.where(clusters[:,2]==index))\n",
    "            Noise_inds=np.append(Noise_inds,Current_index)\n",
    "        Noise_inds=Noise_inds.astype(int)\n",
    "        nc=len(Area_noise_inds[0])\n",
    "        clusters=np.delete(clusters,Noise_inds,axis=0)\n",
    "        labels=np.delete(agg.labels_,Noise_inds,axis=0)\n",
    "        unique, Areas = np.unique(labels, return_counts=True)\n",
    "    else:\n",
    "        nc=0\n",
    "    \n",
    "    return clusters, Areas, nc\n",
    "\n",
    "#Poor everything, like third world        \n",
    "def findClusterOPTICS(X, distance):\n",
    "    opt = OPTICS(eps=distance, min_samples=2, n_jobs=1).fit(X)\n",
    "    clusters = np.column_stack((X, opt.labels_))\n",
    "    unique, Areas = np.unique(clusters, return_counts=True)\n",
    "    nc = np.sum(clusters[:,2]==-1)\n",
    "     \n",
    "    return clusters, Areas, nc\n",
    "        "
   ]
  },
  {
   "cell_type": "markdown",
   "metadata": {},
   "source": [
    "# Packet decoder simulation with DBSCAN"
   ]
  },
  {
   "cell_type": "code",
   "execution_count": 103,
   "metadata": {},
   "outputs": [
    {
     "name": "stdout",
     "output_type": "stream",
     "text": [
      "Completeness : 100.0%\n",
      "Noise points injected:  15600000\n",
      "Noise points found:  8965376\n",
      "Execution time:  9047.299942493439\n",
      "Exact area:  32.49537685256923\n",
      "Mean area:  32.56152511156869\n",
      "Missclassified:  0.36599159664629405 %\n"
     ]
    },
    {
     "data": {
      "image/png": "[encoded data removed]",
      "text/plain": [
       "<Figure size 432x288 with 1 Axes>"
      ]
     },
     "metadata": {
      "needs_background": "light"
     },
     "output_type": "display_data"
    }
   ],
   "source": [
    "N=1200000\n",
    "patience = 10\n",
    "#npp=10#noise ponits per packet\n",
    "Areas=[]\n",
    "t = time.time()\n",
    "Tot_area_sim=0\n",
    "Tot_clusters=0\n",
    "Tot_noise=0\n",
    "tot_clust_inj = 0\n",
    "tot_missclass = 0\n",
    "\n",
    "for i in range(N):\n",
    "    if ( i % patience == 0 ):\n",
    "        sys.stdout.write(\"\\rCompleteness : \"+str(round(i/N*100,1))+\"%\")\n",
    "    Nclusters=np.random.randint(1,11)\n",
    "    Packet, Area_sim=makeCluster(1.5,1.5,15,Nclusters)\n",
    "    npp=np.random.randint(1,15)#noise ponits per packet\n",
    "    noise=makeNoise(npp)\n",
    "    realPacket=np.append(Packet,noise,axis=0)\n",
    "    Tot_area_sim+=Area_sim\n",
    "    Tot_clusters+=Nclusters\n",
    "    Cluster, AreaCluster, nc=findClusterDB(realPacket,5)\n",
    "    Areas=np.append(Areas,AreaCluster)\n",
    "    tot_missclass += np.abs(len(np.unique(Cluster[:,2])) - Nclusters)\n",
    "    tot_clust_inj += Nclusters\n",
    "    Tot_noise+=nc\n",
    "\n",
    "n, bins, patches = plt.hist(Areas, 20, facecolor='g')\n",
    "\n",
    "print(\"\")\n",
    "print(\"Noise points injected: \", N*npp)\n",
    "print(\"Noise points found: \", Tot_noise)\n",
    "print(\"Execution time: \", time.time()-t)\n",
    "print(\"Exact area: \", Tot_area_sim/Tot_clusters)\n",
    "print(\"Mean area: \", np.mean(Areas))\n",
    "print(\"Missclassified: \", tot_missclass/tot_clust_inj*100, \"%\")"
   ]
  },
  {
   "cell_type": "code",
   "execution_count": 64,
   "metadata": {},
   "outputs": [
    {
     "name": "stdout",
     "output_type": "stream",
     "text": [
      "[0 1]\n"
     ]
    },
    {
     "data": {
      "image/png": "[encoded data removed]",
      "text/plain": [
       "<Figure size 432x288 with 1 Axes>"
      ]
     },
     "metadata": {
      "needs_background": "light"
     },
     "output_type": "display_data"
    }
   ],
   "source": [
    "Npackets=np.random.randint(1,10)\n",
    "clust, Area_sim=makeCluster(0.1,0.1,15,Npackets)\n",
    "ClusterDC, AreaCluster, _=findClusterDB(clust,1)\n",
    "plt.scatter(ClusterDC[:,0], ClusterDC[:,1], c=ClusterDC[:,2])\n",
    "\n",
    "print(np.unique(ClusterDC[:,2]))"
   ]
  },
  {
   "cell_type": "markdown",
   "metadata": {},
   "source": [
    "# Packet decoder simulation with Agglomerative Clustering"
   ]
  },
  {
   "cell_type": "code",
   "execution_count": 104,
   "metadata": {},
   "outputs": [
    {
     "name": "stdout",
     "output_type": "stream",
     "text": [
      "Completeness : 100.0%\n",
      "Noise points injected:  9600000\n",
      "Noise points found:  8827937\n",
      "Execution time:  8449.033111810684\n",
      "Exact area:  32.49593152181271\n",
      "Mean area:  32.182216895325126\n",
      "Missclassified:  1.0646448177881187 %\n"
     ]
    },
    {
     "data": {
      "image/png": "[encoded data removed]",
      "text/plain": [
       "<Figure size 432x288 with 1 Axes>"
      ]
     },
     "metadata": {
      "needs_background": "light"
     },
     "output_type": "display_data"
    }
   ],
   "source": [
    "N=1200000\n",
    "patience = 10\n",
    "#npp=10#noise ponits per packet\n",
    "Areas=[]\n",
    "t = time.time()\n",
    "Tot_area_sim=0\n",
    "Tot_clusters=0\n",
    "Tot_noise=0\n",
    "tot_clust_inj = 0\n",
    "tot_missclass = 0\n",
    "\n",
    "for i in range(N):\n",
    "    if ( i % patience == 0 ):\n",
    "        sys.stdout.write(\"\\rCompleteness : \"+str(round(i/N*100,1))+\"%\")\n",
    "    Nclusters=np.random.randint(1,11)\n",
    "    Packet, Area_sim=makeCluster(1.5,1.5,15,Nclusters)\n",
    "    npp=np.random.randint(1,15)#noise ponits per packet\n",
    "    noise=makeNoise(npp)\n",
    "    realPacket=np.append(Packet,noise,axis=0)\n",
    "    Tot_area_sim+=Area_sim\n",
    "    Tot_clusters+=Nclusters\n",
    "    Cluster, AreaCluster, nc=findClusterAgg(realPacket,17)\n",
    "    Areas=np.append(Areas,AreaCluster)\n",
    "    tot_missclass += np.abs(len(np.unique(Cluster[:,2])) - Nclusters)\n",
    "    tot_clust_inj += Nclusters\n",
    "    Tot_noise+=nc  \n",
    "\n",
    "n, bins, patches = plt.hist(Areas, 20, facecolor='g')\n",
    "\n",
    "print(\"\")\n",
    "print(\"Noise points injected: \", N*npp)\n",
    "print(\"Noise points found: \", Tot_noise)\n",
    "print(\"Execution time: \", time.time()-t)\n",
    "print(\"Exact area: \", Tot_area_sim/Tot_clusters)\n",
    "print(\"Mean area: \", np.mean(Areas))\n",
    "print(\"Missclassified: \", tot_missclass/tot_clust_inj*100, \"%\")"
   ]
  },
  {
   "cell_type": "code",
   "execution_count": 26,
   "metadata": {},
   "outputs": [
    {
     "name": "stdout",
     "output_type": "stream",
     "text": [
      "[0 1 2 4 9]\n"
     ]
    },
    {
     "data": {
      "image/png": "[encoded data removed]",
      "text/plain": [
       "<Figure size 432x288 with 1 Axes>"
      ]
     },
     "metadata": {
      "needs_background": "light"
     },
     "output_type": "display_data"
    }
   ],
   "source": [
    "Npackets=5#np.random.randint(5,10)\n",
    "clust, Area_sim=makeCluster(1,1,15,Npackets)\n",
    "noise=makeNoise(10)\n",
    "realclust=np.append(clust,noise,axis=0)\n",
    "ClusterDC, AreaCluster, _=findClusterAgg(realclust,10)\n",
    "plt.scatter(ClusterDC[:,0], ClusterDC[:,1], c=ClusterDC[:,2])\n",
    "\n",
    "print(np.unique(ClusterDC[:,2]))"
   ]
  },
  {
   "cell_type": "code",
   "execution_count": 192,
   "metadata": {},
   "outputs": [],
   "source": [
    "#LENTOOOOOOOOOOOOOOOOOOOOOOOOOOOOOOOOOOOOOOOOOO\n",
    "\n",
    "#N=10000\n",
    "#patience = 10\n",
    "#Areas=[]\n",
    "#t = time.time()\n",
    "#\n",
    "#for i in range(N):\n",
    "#    if ( i % patience == 0 ):\n",
    "#        sys.stdout.write(\"\\rCompleteness : \"+str(round(i/N*100,1))+\"%\")\n",
    "#    Npackets=np.random.randint(5,10)\n",
    "#    clust=makeCluster(3,6,15,4,Npackets)\n",
    "#    ClusterDC, AreaCluster, _=findClusterOPTICS(clust,10)\n",
    "#    Areas=np.append(Areas,AreaCluster)\n",
    "#\n",
    "#print(\"\")  \n",
    "#print(time.time()-t)\n",
    "#print(np.mean(Areas))"
   ]
  },
  {
   "cell_type": "code",
   "execution_count": 87,
   "metadata": {},
   "outputs": [
    {
     "name": "stdout",
     "output_type": "stream",
     "text": [
      "No more packets\n"
     ]
    }
   ],
   "source": [
    "i = 0\n",
    "ClusterDB=[]\n",
    "AreaClusterDB=[]\n",
    "ncDB=0\n",
    "ClusterAgg=[]\n",
    "AreaClusterAgg=[]\n",
    "ncAgg=0\n",
    "while True:\n",
    "    file_name=\"file{0:0d}.npy\".format(i)\n",
    "    my_file = Path(file_name)\n",
    "    if my_file.is_file():\n",
    "        i += 1\n",
    "        packet = np.load(file_name, allow_pickle=True)\n",
    "        for k in len(packet):\n",
    "            Cluster, AreaCluster, nc = findClusterDB(packet[k])\n",
    "            ClusterDB=np.append(ClusterDB,Cluster)\n",
    "            AreaClusterDB=np.append(AreaClusterDB,AreaCluster)\n",
    "            ncDB+=nc\n",
    "            Cluster, AreaCluster, nc = findClusterAgg(packet[k])\n",
    "            ClusterAgg=np.append(ClusterAgg,Cluster)\n",
    "            AreaClusterAgg=np.append(AreaClusterAgg,AreaCluster)\n",
    "            ncAgg+=nc\n",
    "    else:\n",
    "        print (\"No more packets to analyze\")\n",
    "        break"
   ]
  },
  {
   "cell_type": "markdown",
   "metadata": {},
   "source": [
    "# PCA analysis, cluster mean and cosmic discrimination"
   ]
  },
  {
   "cell_type": "code",
   "execution_count": 293,
   "metadata": {},
   "outputs": [],
   "source": [
    "class ACluster(): #analyzed cluster\n",
    "    def __init__(self,mean,pca_r,area):\n",
    "        self.mean=mean #Cluster centroind\n",
    "        self.pca_r=pca_r#Principal axis variance ratio\n",
    "        self.area=area #Cluster area\n",
    "        \n",
    "def ClusterAnalysisPCA(Cluster,Area):\n",
    "    pca = PCA(n_components=2)\n",
    "    pca.fit(Cluster)\n",
    "    mean=np.array(pca.mean_)\n",
    "    if pca.explained_variance_ratio_[1]!=0 and pca.explained_variance_ratio_[0]!=0:\n",
    "        pca_r=(pca.explained_variance_ratio_[0]/pca.explained_variance_ratio_[1])\n",
    "    else:\n",
    "        pca_r=1000\n",
    "    area=Area\n",
    "    CC=ACluster(mean,pca_r,area)\n",
    "    \n",
    "    return CC\n",
    "    "
   ]
  },
  {
   "cell_type": "code",
   "execution_count": 306,
   "metadata": {},
   "outputs": [
    {
     "data": {
      "text/plain": [
       "Text(0, 0.5, 'Row')"
      ]
     },
     "execution_count": 306,
     "metadata": {},
     "output_type": "execute_result"
    },
    {
     "data": {
      "image/png": "[encoded data removed]",
      "text/plain": [
       "<Figure size 432x288 with 2 Axes>"
      ]
     },
     "metadata": {
      "needs_background": "light"
     },
     "output_type": "display_data"
    }
   ],
   "source": [
    "N=100\n",
    "npp=10\n",
    "        \n",
    "Data=[]\n",
    "\n",
    "for k in range(N):\n",
    "    Nclusters=10\n",
    "    Packet, Area_sim=makeCluster(1.5,10,10,Nclusters)\n",
    "    noise=makeNoise(npp)\n",
    "    realPacket=np.append(Packet,noise,axis=0)\n",
    "    Cluster, AreaCluster, nc=findClusterDB(realPacket,7)\n",
    "    for i in range(len(AreaCluster)):\n",
    "        Index=np.where(Cluster[:,2]==i)\n",
    "        C=Cluster[Index]\n",
    "        CC=ClusterAnalysisPCA(C[:,:2],AreaCluster[i])\n",
    "        Data.append(CC)\n",
    "\n",
    "    \n",
    "#generate the hitmap\n",
    "cluster_matrix=np.zeros((512,1024))\n",
    "for pixel in Cluster[:,:2]:\n",
    "    x=pixel[0]\n",
    "    y=pixel[1]\n",
    "    cluster_matrix[y,x] += 1\n",
    "\n",
    "#and plot it\n",
    "fig, ax = plt.subplots()\n",
    "colormap = cm.get_cmap('Reds')\n",
    "psm = ax.pcolormesh(cluster_matrix, cmap=colormap, norm=colors.LogNorm(), vmin=1, vmax=np.max(cluster_matrix))\n",
    "cbar=plt.colorbar(psm, shrink=0.5, ax=ax)\n",
    "#cbar.set_label(\"N. hits\")\n",
    "plt.axis('scaled')\n",
    "ax.set(xlim=(0, 1023), ylim=(0, 511))\n",
    "plt.xlabel(\"Column\")\n",
    "plt.ylabel(\"Row\")"
   ]
  },
  {
   "cell_type": "markdown",
   "metadata": {},
   "source": [
    "# Test with real data"
   ]
  },
  {
   "cell_type": "code",
   "execution_count": 436,
   "metadata": {},
   "outputs": [
    {
     "name": "stdout",
     "output_type": "stream",
     "text": [
      "PCA_ratio= :2.1434103974807712 +/- 1.4346913260275451 \n",
      "Area= :5.934466019417476 +/- 4.400251146441296 \n"
     ]
    },
    {
     "data": {
      "image/png": "[encoded data removed]",
      "text/plain": [
       "<Figure size 432x288 with 1 Axes>"
      ]
     },
     "metadata": {
      "needs_background": "light"
     },
     "output_type": "display_data"
    }
   ],
   "source": [
    "XPacket=np.load(\"Test_data/X.npy\")\n",
    "X2Packet=np.load(\"Test_data/X2.npy\")\n",
    "ePacket=np.load(\"Test_data/electron.npy\")\n",
    "aPacket=np.load(\"Test_data/alpha.npy\")\n",
    "cPacket=np.load(\"Test_data/cosmic_ray.npy\")\n",
    "\n",
    "Data=[]\n",
    "for row in range(512):\n",
    "    for column in range(1024):\n",
    "        if ePacket[row,column] > 0:\n",
    "            Data.append([row,column])\n",
    "            \n",
    "Cluster, AreaCluster, nc=findClusterDB(Data,1)\n",
    "\n",
    "\n",
    "#routine to delete overlapping clusters (only present in alpha packet)\n",
    "THR_index=np.array(np.where(AreaCluster>80))\n",
    "C_index=[]\n",
    "if len(THR_index[0]) != 0:\n",
    "        for index in THR_index[0]:\n",
    "            Current_index=np.array(np.where(Cluster[:,2]==index))\n",
    "            C_index=np.append(C_index,Current_index)\n",
    "        C_index=C_index.astype(int)\n",
    "        Cluster=np.delete(Cluster,C_index,axis=0)\n",
    "\n",
    "unique_index = np.unique(Cluster[:,2], return_counts=False)\n",
    "Data_a=[]\n",
    "\n",
    "for i in unique_index:\n",
    "    Index=(np.where(Cluster[:,2]==i))\n",
    "    C=Cluster[Index]\n",
    "    CC=ClusterAnalysisPCA(C[:,:2],AreaCluster[i])\n",
    "    Data_a.append(CC) \n",
    "\n",
    "#Need to find better way to get the parameters \n",
    "pcaratio=[]\n",
    "NewArea=[]\n",
    "for j in range(len(Data_a)):\n",
    "    NewArea.append(Data_a[j].area)\n",
    "    if Data_a[j].pca_r !=1000:\n",
    "        pcaratio.append(Data_a[j].pca_r)\n",
    "        \n",
    "        \n",
    "\n",
    "    \n",
    "n, bins, patches = plt.hist(NewArea, 24, range=[1,25], facecolor='g')  \n",
    "    \n",
    "print(\"PCA_ratio= :{} +/- {} \".format(np.mean(pcaratio), np.std(pcaratio)))\n",
    "print(\"Area= :{} +/- {} \".format(np.mean(NewArea), np.std(NewArea)))\n",
    "\n",
    "\n",
    "           \n"
   ]
  },
  {
   "cell_type": "code",
   "execution_count": null,
   "metadata": {},
   "outputs": [],
   "source": []
  }
 ],
 "metadata": {
  "kernelspec": {
   "display_name": "Python 3",
   "language": "python",
   "name": "python3"
  },
  "language_info": {
   "codemirror_mode": {
    "name": "ipython",
    "version": 3
   },
   "file_extension": ".py",
   "mimetype": "text/x-python",
   "name": "python",
   "nbconvert_exporter": "python",
   "pygments_lexer": "ipython3",
   "version": "3.8.3"
  }
 },
 "nbformat": 4,
 "nbformat_minor": 4
}
