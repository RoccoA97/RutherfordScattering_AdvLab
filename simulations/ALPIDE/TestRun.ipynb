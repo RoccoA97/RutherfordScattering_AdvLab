{
 "cells": [
  {
   "cell_type": "code",
   "execution_count": 1,
   "metadata": {},
   "outputs": [],
   "source": [
    "import numpy as np\n",
    "import matplotlib.pyplot as plt\n",
    "import math\n",
    "from scipy.optimize import curve_fit\n",
    "from sklearn.cluster import DBSCAN, OPTICS, AgglomerativeClustering\n",
    "from sklearn import metrics\n",
    "from sklearn.datasets import make_blobs\n",
    "from sklearn.preprocessing import StandardScaler\n",
    "from sklearn.decomposition import PCA\n",
    "from pathlib import Path\n",
    "import matplotlib as mpl\n",
    "from matplotlib import cm\n",
    "import matplotlib.colors as colors\n",
    "import matplotlib.cbook as cbook\n",
    "import time\n",
    "import sys\n",
    "import multiprocessing as mp\n",
    "from scipy.stats import moyal\n",
    "import os\n",
    "\n",
    "def landaufunc(x,C,mu,scale):\n",
    "    return C*moyal.pdf(x, mu, scale)\n",
    "\n",
    "def gaussian(x, C, mu, sigma):\n",
    "    return C*np.exp(-np.power(x - mu, 2.) / (2 * np.power(sigma, 2.)))\n",
    "\n",
    "SET_N_TRHEADS = 4"
   ]
  },
  {
   "cell_type": "markdown",
   "metadata": {},
   "source": [
    "# Cluster generation"
   ]
  },
  {
   "cell_type": "code",
   "execution_count": 2,
   "metadata": {},
   "outputs": [],
   "source": [
    "def makeCluster(wx, wy, npix, nclusters = 1):\n",
    "    cluster=[]\n",
    "    total_area=0\n",
    "    for nc in range(nclusters):\n",
    "        x = np.random.normal(0, wx, npix*5)\n",
    "        y = np.random.normal(0, wy, npix*5)\n",
    "        cx = np.random.randint(int(wx*5), 1023-int(wx*5))\n",
    "        cy = np.random.randint(int(wy*5),  511-int(wy*5))\n",
    "        angle = np.random.uniform(0, np.pi, 1)\n",
    "        xr = x*np.cos(angle)+y*np.sin(angle)+cx\n",
    "        yr = y*np.cos(angle)-x*np.sin(angle)+cy\n",
    "        x = xr.astype(int)\n",
    "        y = yr.astype(int)\n",
    "        \n",
    "        k = 0\n",
    "        for i in range(len(x)):\n",
    "            if ([x[i],y[i]]) not in cluster:\n",
    "                k+=1\n",
    "                cluster.append([x[i],y[i]])\n",
    "        if k == 1: #delete cluster with area 1\n",
    "            cluster.pop()\n",
    "        else:\n",
    "            total_area+=k\n",
    "        \n",
    "    return cluster, total_area \n",
    "\n",
    "def makeNoise(Noise_points):\n",
    "    noise=[]\n",
    "    for i in range(Noise_points):\n",
    "        nx = np.random.randint(0,1024)\n",
    "        ny = np.random.randint(0, 512)\n",
    "        noise.append([nx,ny])\n",
    "        \n",
    "    return noise\n",
    "\n",
    "def makeRealCluster(wx, wy, npix, nclusters = 1, Noise_points=0):\n",
    "    cluster, total_area= makeCluster(wx, wy, npix, nclusters)\n",
    "    if Noise_points != 0:\n",
    "        noise = makeNoise(Noise_points)\n",
    "        realcluster=np.append(cluster,noise,axis=0)\n",
    "    else:\n",
    "        realcluster = cluster\n",
    "    return realcluster, total_area"
   ]
  },
  {
   "cell_type": "markdown",
   "metadata": {},
   "source": [
    "# Clustering algorithm"
   ]
  },
  {
   "cell_type": "code",
   "execution_count": 15,
   "metadata": {},
   "outputs": [],
   "source": [
    "#DBSCAN\n",
    "#Very good noise discrimination, if noise is high (10 noise points per probe cluster)\n",
    "#Good cluster discrimination\n",
    "#Higher time consuption over Agglomerative clustering\n",
    "#Can be prarallelized\n",
    "def findClusterDB(X, distance):\n",
    "    if len(X)>1:\n",
    "        db = DBSCAN(eps=distance, min_samples=2).fit(X)\n",
    "        clusters = np.column_stack((X, db.labels_))\n",
    "        nc = np.sum(clusters[:,2]==-1)\n",
    "        Noise_inds=np.where(clusters[:,2]==-1)\n",
    "        clusters=np.delete(clusters,Noise_inds,axis=0)\n",
    "        labels=np.delete(db.labels_,Noise_inds,axis=0)\n",
    "        unique, Areas = np.unique(labels, return_counts=True)\n",
    "    elif len(X)==1:\n",
    "        clusters=np.reshape([],(0,3))\n",
    "        Areas=[]\n",
    "        nc=1\n",
    "    else:\n",
    "        clusters=np.reshape([],(0,3))\n",
    "        Areas=[]\n",
    "        nc=0\n",
    "\n",
    "    return clusters, Areas, nc\n",
    "\n",
    "#Agglomerative clustering\n",
    "#Good noise discrimination with few noise points per probed cluster(upto 2)\n",
    "#Poor noise discrimination with more noise points per probed cluster(over 4)\n",
    "#Cluster discrimination depends on noise density\n",
    "#Lower time consuption over DBSCAN (1/3 factor)\n",
    "#Parallelization fails if packets with 0 or 1 points are present\n",
    "def findClusterAgg(X, distance):\n",
    "    if len(X)>1:\n",
    "        agg = AgglomerativeClustering(n_clusters=None, distance_threshold=distance, compute_full_tree=True).fit(X)\n",
    "        clusters = np.column_stack((X, agg.labels_))\n",
    "        unique, Areas = np.unique(agg.labels_, return_counts=True)\n",
    "        Noise_inds=[]\n",
    "        Area_noise_inds=np.array(np.where(Areas==1))\n",
    "        if len(Area_noise_inds[0]) != 0:\n",
    "            for index in Area_noise_inds[0]:\n",
    "                Current_index=np.array(np.where(clusters[:,2]==index))\n",
    "                Noise_inds=np.append(Noise_inds,Current_index)\n",
    "            Noise_inds=Noise_inds.astype(int)\n",
    "            nc=len(Area_noise_inds[0])\n",
    "            clusters=np.delete(clusters,Noise_inds,axis=0)\n",
    "            labels=np.delete(agg.labels_,Noise_inds,axis=0)\n",
    "            unique, Areas = np.unique(labels, return_counts=True)\n",
    "        else:\n",
    "            nc=0\n",
    "    elif len(X)==1:\n",
    "        clusters=np.reshape([],(0,3))\n",
    "        Areas=[]\n",
    "        nc=1\n",
    "    else:\n",
    "        clusters=np.reshape([],(0,3))\n",
    "        Areas=[]\n",
    "        nc=0\n",
    "    \n",
    "    return clusters, Areas, nc\n",
    "\n",
    "#Poor everything, like third world        \n",
    "def findClusterOPTICS(X, distance):\n",
    "    opt = OPTICS(eps=distance, min_samples=2, n_jobs=1).fit(X)\n",
    "    clusters = np.column_stack((X, opt.labels_))\n",
    "    unique, Areas = np.unique(clusters, return_counts=True)\n",
    "    nc = np.sum(clusters[:,2]==-1)\n",
    "     \n",
    "    return clusters, Areas, nc"
   ]
  },
  {
   "cell_type": "markdown",
   "metadata": {},
   "source": [
    "# PCA analysis, cluster mean and cosmic discrimination"
   ]
  },
  {
   "cell_type": "code",
   "execution_count": 4,
   "metadata": {},
   "outputs": [],
   "source": [
    "class ACluster(): #analyzed cluster\n",
    "    def __init__(self,mean,pca_r,area):\n",
    "        self.mean=mean #Cluster centroind\n",
    "        self.pca_r=pca_r#Principal axis variance ratio\n",
    "        self.area=area #Cluster area\n",
    "        \n",
    "def ClusterAnalysisPCA(Cluster):\n",
    "    pca = PCA(n_components=2)\n",
    "    pca.fit(Cluster)\n",
    "    mean=np.array(pca.mean_)\n",
    "    if pca.explained_variance_ratio_[1]!=0 and pca.explained_variance_ratio_[0]!=0:\n",
    "        pca_r=min(10.0,(pca.explained_variance_ratio_[0]/pca.explained_variance_ratio_[1]))\n",
    "    else:\n",
    "        pca_r=10.0\n",
    "    area=len(Cluster)\n",
    "    CC=ACluster(mean,pca_r,area)\n",
    "    \n",
    "    return CC\n",
    "    "
   ]
  },
  {
   "cell_type": "markdown",
   "metadata": {},
   "source": [
    "# Function parallelized"
   ]
  },
  {
   "cell_type": "code",
   "execution_count": 5,
   "metadata": {},
   "outputs": [],
   "source": [
    "def par_findClusterDB(Total_packet,distance):\n",
    "    input_data=[]\n",
    "    nc_plus=0\n",
    "    for packet in Total_packet:\n",
    "        cd=(packet,distance)\n",
    "        input_data.append(cd)\n",
    "\n",
    "    pDB=mp.Pool(processes=SET_N_TRHEADS)\n",
    "    DBresult= pDB.starmap(findClusterDB,input_data)\n",
    "    pDB.close()\n",
    "    pDB.join()\n",
    "    \n",
    "    \n",
    "    return DBresult, nc_plus\n",
    "\n",
    "def par_findClusterAgg(Total_packet,distance):\n",
    "    input_data=[]\n",
    "    for packet in Total_packet:\n",
    "        cd=(packet,distance,)\n",
    "        input_data.append(cd)\n",
    "\n",
    "    pAgg=mp.Pool(processes=SET_N_TRHEADS)\n",
    "    Aggresult= pAgg.starmap(findClusterAgg,input_data)\n",
    "    pAgg.close()\n",
    "    pAgg.join()\n",
    "    \n",
    "    \n",
    "    \n",
    "    return Aggresult\n",
    "\n",
    "def par_ClusterAnalysisPCA(parallel_result):\n",
    "    input_data=[]\n",
    "    for partial_res in parallel_result:\n",
    "        unique_labels=np.unique(partial_res[0][:,2], return_counts=False)\n",
    "        for label in unique_labels:\n",
    "                Index=np.where(partial_res[0][:,2]==label)\n",
    "                C=partial_res[0][Index]\n",
    "                cd=(C[:,:2],)#components with selected label\n",
    "                input_data.append(cd)\n",
    "                \n",
    "    pPCA=mp.Pool(processes=SET_N_TRHEADS)            \n",
    "    PCAresult=pPCA.starmap(ClusterAnalysisPCA,input_data)\n",
    "    pPCA.close()\n",
    "    pPCA.join()\n",
    "    \n",
    "   \n",
    "    \n",
    "    return PCAresult\n"
   ]
  },
  {
   "cell_type": "markdown",
   "metadata": {},
   "source": [
    "# Test clusters generation"
   ]
  },
  {
   "cell_type": "code",
   "execution_count": 6,
   "metadata": {},
   "outputs": [
    {
     "data": {
      "text/plain": [
       "Text(0, 0.5, 'Row')"
      ]
     },
     "execution_count": 6,
     "metadata": {},
     "output_type": "execute_result"
    },
    {
     "data": {
      "image/png": "[encoded data removed]",
      "text/plain": [
       "<Figure size 432x288 with 2 Axes>"
      ]
     },
     "metadata": {
      "needs_background": "light"
     },
     "output_type": "display_data"
    }
   ],
   "source": [
    "real, tot_area=makeRealCluster(3,3,100,10,100)\n",
    "\n",
    "\n",
    "#generate the hitmap\n",
    "cluster_matrix=np.zeros((512,1024))\n",
    "for pixel in real:\n",
    "    x=pixel[0]\n",
    "    y=pixel[1]\n",
    "    cluster_matrix[y,x] += 1\n",
    "\n",
    "#and plot it\n",
    "fig, ax = plt.subplots()\n",
    "colormap = cm.get_cmap('Blues')\n",
    "psm = ax.pcolormesh(cluster_matrix, cmap=colormap, vmin=0, vmax=np.max(cluster_matrix))\n",
    "cbar=plt.colorbar(psm, shrink=0.5, ax=ax)\n",
    "cbar.set_label(\"N. hits\")\n",
    "plt.axis('scaled')\n",
    "ax.set(xlim=(0, 1023), ylim=(0, 511))\n",
    "plt.xlabel(\"Column\")\n",
    "plt.ylabel(\"Row\")"
   ]
  },
  {
   "cell_type": "markdown",
   "metadata": {},
   "source": [
    "# Packet decoder simulation with DBSCAN"
   ]
  },
  {
   "cell_type": "code",
   "execution_count": 27,
   "metadata": {},
   "outputs": [
    {
     "name": "stdout",
     "output_type": "stream",
     "text": [
      "Completeness : 99.0%\n",
      "Noise points injected:  7231\n",
      "Noise points found:  7210\n",
      "Execution time:  3.638172149658203\n",
      "Exact area:  30.641952651862727\n",
      "Mean area:  30.70779698418536\n",
      "Missclassified:  0.3119838502477519 %\n"
     ]
    },
    {
     "data": {
      "image/png": "[encoded data removed]",
      "text/plain": [
       "<Figure size 432x288 with 1 Axes>"
      ]
     },
     "metadata": {
      "needs_background": "light"
     },
     "output_type": "display_data"
    }
   ],
   "source": [
    "N=1000\n",
    "patience = 10\n",
    "#npp=10#noise ponits per packet\n",
    "Areas=[]\n",
    "t = time.time()\n",
    "Tot_area_sim=0\n",
    "Tot_clusters=0\n",
    "Tot_noise=0\n",
    "Np_inj=0\n",
    "tot_clust_inj = 0\n",
    "tot_missclass = 0\n",
    "\n",
    "for i in range(N):\n",
    "    if ( i % patience == 0 ):\n",
    "        sys.stdout.write(\"\\rCompleteness : \"+str(round(i/N*100,1))+\"%\")\n",
    "    Nclusters=np.random.randint(1,11)\n",
    "    npp=np.random.randint(1,15)#noise ponits per packet\n",
    "    Np_inj+=npp\n",
    "    realPacket, Area_sim=makeRealCluster(1,2,15,Nclusters,npp)\n",
    "    Tot_area_sim+=Area_sim\n",
    "    Tot_clusters+=Nclusters\n",
    "    Cluster, AreaCluster, nc=findClusterDB(realPacket,5)\n",
    "    Areas=np.append(Areas,AreaCluster)\n",
    "    tot_missclass += np.abs(len(np.unique(Cluster[:,2])) - Nclusters)\n",
    "    tot_clust_inj += Nclusters\n",
    "    Tot_noise+=nc\n",
    "\n",
    "n, bins, patches = plt.hist(Areas, int(np.max(Areas)-np.min(Areas)), facecolor='g')\n",
    "b=np.delete(bins,-1)+(np.mean(0.5*(np.delete(bins,0)-np.delete(bins,-1))))\n",
    "popt, pcov = curve_fit(gaussian, xdata=b, ydata=n, p0=[len(Areas), np.mean(Areas), np.std(Areas)])\n",
    "plt.plot(b, gaussian(b,popt[0],popt[1],popt[2]), 'r--', linewidth=1)\n",
    "\n",
    "print(\"\")\n",
    "print(\"Noise points injected: \", Np_inj)\n",
    "print(\"Noise points found: \", Tot_noise)\n",
    "print(\"Execution time: \", time.time()-t)\n",
    "print(\"Exact area: \", Tot_area_sim/Tot_clusters)\n",
    "print(\"Mean area: \", np.mean(Areas))\n",
    "print(\"Missclassified: \", tot_missclass/tot_clust_inj*100, \"%\")"
   ]
  },
  {
   "cell_type": "code",
   "execution_count": 6,
   "metadata": {},
   "outputs": [
    {
     "data": {
      "text/plain": [
       "59.0"
      ]
     },
     "execution_count": 6,
     "metadata": {},
     "output_type": "execute_result"
    }
   ],
   "source": [
    "np.max(Areas)"
   ]
  },
  {
   "cell_type": "code",
   "execution_count": 7,
   "metadata": {},
   "outputs": [
    {
     "name": "stdout",
     "output_type": "stream",
     "text": [
      "[0 1 2 3 4]\n"
     ]
    },
    {
     "data": {
      "image/png": "[encoded data removed]",
      "text/plain": [
       "<Figure size 432x288 with 1 Axes>"
      ]
     },
     "metadata": {
      "needs_background": "light"
     },
     "output_type": "display_data"
    }
   ],
   "source": [
    "Npackets=np.random.randint(1,10)\n",
    "clust, Area_sim=makeCluster(0.1,0.1,15,Npackets)\n",
    "ClusterDC, AreaCluster, _=findClusterDB(clust,1)\n",
    "plt.scatter(ClusterDC[:,0], ClusterDC[:,1], c=ClusterDC[:,2])\n",
    "\n",
    "print(np.unique(ClusterDC[:,2]))"
   ]
  },
  {
   "cell_type": "markdown",
   "metadata": {},
   "source": [
    "# Packet decoder simulation with Agglomerative Clustering"
   ]
  },
  {
   "cell_type": "code",
   "execution_count": 30,
   "metadata": {},
   "outputs": [
    {
     "name": "stdout",
     "output_type": "stream",
     "text": [
      "Completeness : 99.0%\n",
      "Noise points injected:  7598\n",
      "Noise points found:  7275\n",
      "Execution time:  3.3435962200164795\n",
      "Exact area:  30.67255659856433\n",
      "Mean area:  30.11127141568981\n",
      "Missclassified:  2.0982882385422417 %\n"
     ]
    },
    {
     "data": {
      "image/png": "[encoded data removed]",
      "text/plain": [
       "<Figure size 432x288 with 1 Axes>"
      ]
     },
     "metadata": {
      "needs_background": "light"
     },
     "output_type": "display_data"
    }
   ],
   "source": [
    "N=1000\n",
    "patience = 10\n",
    "Areas=[]\n",
    "t = time.time()\n",
    "Tot_area_sim=0\n",
    "Tot_clusters=0\n",
    "Tot_noise=0\n",
    "tot_clust_inj = 0\n",
    "Np_inj=0\n",
    "tot_missclass = 0\n",
    "\n",
    "for i in range(N):\n",
    "    if ( i % patience == 0 ):\n",
    "        sys.stdout.write(\"\\rCompleteness : \"+str(round(i/N*100,1))+\"%\")\n",
    "    Nclusters=np.random.randint(1,11)\n",
    "    npp=np.random.randint(1,15)#noise ponits per packet\n",
    "    Np_inj+=npp\n",
    "    realPacket, Area_sim=makeRealCluster(1,2,15,Nclusters,npp)\n",
    "    Tot_area_sim+=Area_sim\n",
    "    Tot_clusters+=Nclusters\n",
    "    Cluster, AreaCluster, nc=findClusterAgg(realPacket,25)\n",
    "    Areas=np.append(Areas,AreaCluster)\n",
    "    tot_missclass += np.abs(len(np.unique(Cluster[:,2])) - Nclusters)\n",
    "    tot_clust_inj += Nclusters\n",
    "    Tot_noise+=nc  \n",
    "\n",
    "n, bins, patches = plt.hist(Areas, int(np.max(Areas)-np.min(Areas)), facecolor='g')\n",
    "b=np.delete(bins,-1)+(np.mean(0.5*(np.delete(bins,0)-np.delete(bins,-1))))\n",
    "popt, pcov = curve_fit(gaussian, xdata=b, ydata=n, p0=[len(Areas), np.mean(Areas), np.std(Areas)])\n",
    "plt.plot(b, gaussian(b,popt[0],popt[1],popt[2]), 'r--', linewidth=1)\n",
    "\n",
    "print(\"\")\n",
    "print(\"Noise points injected: \", Np_inj)\n",
    "print(\"Noise points found: \", Tot_noise)\n",
    "print(\"Execution time: \", time.time()-t)\n",
    "print(\"Exact area: \", Tot_area_sim/Tot_clusters)\n",
    "print(\"Mean area: \", np.mean(Areas))\n",
    "print(\"Missclassified: \", tot_missclass/tot_clust_inj*100, \"%\")"
   ]
  },
  {
   "cell_type": "code",
   "execution_count": 9,
   "metadata": {},
   "outputs": [
    {
     "name": "stdout",
     "output_type": "stream",
     "text": [
      "[0 1 2 3 4]\n"
     ]
    },
    {
     "data": {
      "image/png": "[encoded data removed]",
      "text/plain": [
       "<Figure size 432x288 with 1 Axes>"
      ]
     },
     "metadata": {
      "needs_background": "light"
     },
     "output_type": "display_data"
    }
   ],
   "source": [
    "Npackets=5#np.random.randint(5,10)\n",
    "clust, Area_sim=makeCluster(1,1,15,Npackets)\n",
    "noise=makeNoise(10)\n",
    "realclust=np.append(clust,noise,axis=0)\n",
    "ClusterDC, AreaCluster, _=findClusterAgg(realclust,10)\n",
    "plt.scatter(ClusterDC[:,0], ClusterDC[:,1], c=ClusterDC[:,2])\n",
    "\n",
    "print(np.unique(ClusterDC[:,2]))"
   ]
  },
  {
   "cell_type": "code",
   "execution_count": 10,
   "metadata": {},
   "outputs": [],
   "source": [
    "#LENTOOOOOOOOOOOOOOOOOOOOOOOOOOOOOOOOOOOOOOOOOO\n",
    "\n",
    "#N=10000\n",
    "#patience = 10\n",
    "#Areas=[]\n",
    "#t = time.time()\n",
    "#\n",
    "#for i in range(N):\n",
    "#    if ( i % patience == 0 ):\n",
    "#        sys.stdout.write(\"\\rCompleteness : \"+str(round(i/N*100,1))+\"%\")\n",
    "#    Npackets=np.random.randint(5,10)\n",
    "#    clust=makeCluster(3,6,15,4,Npackets)\n",
    "#    ClusterDC, AreaCluster, _=findClusterOPTICS(clust,10)\n",
    "#    Areas=np.append(Areas,AreaCluster)\n",
    "#\n",
    "#print(\"\")  \n",
    "#print(time.time()-t)\n",
    "#print(np.mean(Areas))"
   ]
  },
  {
   "cell_type": "markdown",
   "metadata": {},
   "source": [
    "# ALPIDE data test and clustering comparisons"
   ]
  },
  {
   "cell_type": "code",
   "execution_count": 6,
   "metadata": {},
   "outputs": [
    {
     "name": "stdout",
     "output_type": "stream",
     "text": [
      "No more packets to analyze\n",
      "Parallelized function time = 2100.8716542720795\n",
      "Estimated noise points= 980319\n",
      "Estimated clusters= 8845372\n",
      "Estimated mean area= 19.784252149033417\n"
     ]
    }
   ],
   "source": [
    "Folder_name=\"DC_ALPIDE_20h_data\"\n",
    "i=0\n",
    "ClusterDB=[]\n",
    "AreaClusterDB=[]\n",
    "ncDB=0\n",
    "DataDB=[]\n",
    "DataDB_par=[]\n",
    "ClusterAgg=[]\n",
    "AreaClusterAgg=[]\n",
    "ncAgg=0\n",
    "DataAgg=[]\n",
    "Par_time=0\n",
    "Ser_time=0\n",
    "#while i<20:\n",
    "while True:\n",
    "    file_name=Folder_name+\"/\"+Folder_name+\"_packet_{0:0d}.npy\".format(i)\n",
    "    my_file = Path(file_name)\n",
    "    if my_file.is_file():\n",
    "        i += 1\n",
    "        packet = np.load(file_name, allow_pickle=True)\n",
    "        t=time.time()\n",
    "        DBresult, nc_not_counted=par_findClusterDB(packet,1)\n",
    "        PCAresult=par_ClusterAnalysisPCA(DBresult)\n",
    "        DataDB_par=np.append(DataDB_par,PCAresult)\n",
    "        ncDB+=sum(data[2] for data in DBresult)\n",
    "        Par_time+=time.time()-t\n",
    "        #t=time.time()\n",
    "        #for current_packet in packet:\n",
    "            #Cluster, AreaCluster, nc = findClusterDB(current_packet,1)\n",
    "            #for k in range(len(AreaCluster)):\n",
    "                #Index=np.where(Cluster[:,2]==k)\n",
    "                #C=Cluster[Index]\n",
    "                #CC=ClusterAnalysisPCA(C[:,:2])\n",
    "                #DataDB.append(CC)\n",
    "            #ncDB+=nc\n",
    "        #Ser_time+=time.time()-t\n",
    "    else:\n",
    "        print (\"No more packets to analyze\")\n",
    "        break\n",
    "        \n",
    "print(\"Parallelized function time =\", Par_time)\n",
    "#print(\"Standard function =\", Ser_time)\n",
    "areasDB=np.array([d.area for d in DataDB_par])\n",
    "ratiosDB=np.array([d.pca_r for d in DataDB_par])\n",
    "meansDB=np.array([d.mean for d in DataDB_par])\n",
    "print(\"Estimated noise points=\",ncDB)\n",
    "print(\"Estimated clusters=\",len(areasDB))\n",
    "print(\"Estimated mean area=\",np.mean(areasDB))"
   ]
  },
  {
   "cell_type": "code",
   "execution_count": 8,
   "metadata": {},
   "outputs": [
    {
     "data": {
      "text/plain": [
       "4"
      ]
     },
     "execution_count": 8,
     "metadata": {},
     "output_type": "execute_result"
    }
   ],
   "source": [
    "i"
   ]
  },
  {
   "cell_type": "code",
   "execution_count": 23,
   "metadata": {},
   "outputs": [
    {
     "name": "stdout",
     "output_type": "stream",
     "text": [
      "No more packets to analyze\n",
      "4014.9031496047974\n",
      "Estimated noise points= 455559\n",
      "Estimated clusters= 8765650\n",
      "Estimated mean area= 20.02404944299624\n"
     ]
    }
   ],
   "source": [
    "Folder_name=\"DC_ALPIDE_20h_data\"\n",
    "i=0\n",
    "ClusterAgg=[]\n",
    "AreaClusterAgg=[]\n",
    "ncAgg=0\n",
    "DataAgg=[]\n",
    "Ser_time=0\n",
    "while True:\n",
    "#while i<20:\n",
    "    file_name=Folder_name+\"/\"+Folder_name+\"_packet_{0:0d}.npy\".format(i)\n",
    "    my_file = Path(file_name)\n",
    "    if my_file.is_file():\n",
    "        i += 1\n",
    "        packet = np.load(file_name, allow_pickle=True)\n",
    "        t=time.time()\n",
    "        for current_packet in packet:\n",
    "            if len(current_packet)>1:\n",
    "                Cluster, AreaCluster, nc = findClusterAgg(current_packet,15)\n",
    "                for k in range(len(AreaCluster)): \n",
    "                    Index=np.where(Cluster[:,2]==k)\n",
    "                    C=Cluster[Index]\n",
    "                    if len(C)!=0:\n",
    "                        CC=ClusterAnalysisPCA(C[:,:2])\n",
    "                        DataAgg.append(CC)\n",
    "                ncAgg+=nc\n",
    "            elif len(current_packet)==1:\n",
    "                ncAgg+=1\n",
    "        Ser_time+=time.time()-t\n",
    "    else:\n",
    "        print (\"No more packets to analyze\")\n",
    "        break\n",
    "        \n",
    "print(Ser_time)\n",
    "areasAgg=np.array([d.area for d in DataAgg])\n",
    "ratiosAgg=np.array([d.pca_r for d in DataAgg])\n",
    "meansAgg=np.array([d.mean for d in DataAgg])\n",
    "print(\"Estimated noise points=\",ncAgg)\n",
    "print(\"Estimated clusters=\",len(DataAgg))\n",
    "print(\"Estimated mean area=\",np.mean(areasAgg))"
   ]
  },
  {
   "cell_type": "code",
   "execution_count": 24,
   "metadata": {},
   "outputs": [
    {
     "data": {
      "text/plain": [
       "[<matplotlib.lines.Line2D at 0x7f2535655d30>]"
      ]
     },
     "execution_count": 24,
     "metadata": {},
     "output_type": "execute_result"
    },
    {
     "data": {
      "image/png": "[encoded data removed]",
      "text/plain": [
       "<Figure size 432x288 with 2 Axes>"
      ]
     },
     "metadata": {
      "needs_background": "light"
     },
     "output_type": "display_data"
    }
   ],
   "source": [
    "plt.subplot(211)\n",
    "plt.subplots_adjust(hspace = 0.4)\n",
    "plt.title(\"DBSCAN\")\n",
    "n,bins,patches=plt.hist(areasDB,bins=int(np.max(areasDB)-np.min(areasDB)),range=(np.min(areasDB),np.max(areasDB)))\n",
    "b=np.delete(bins,-1)+(np.mean(0.5*(np.delete(bins,0)-np.delete(bins,-1))))\n",
    "popt, pcov = curve_fit(gaussian, xdata=b[range(np.argmax(n)-4,np.argmax(n)+4,1)], \n",
    "                       ydata=n[range(np.argmax(n)-4,np.argmax(n)+4,1)], p0=[np.max(areasDB), np.mean(areasDB), np.std(areasDB)])\n",
    "plt.plot(b, gaussian(b,popt[0],popt[1],popt[2]), 'r--', linewidth=1)\n",
    "plt.subplot(212)\n",
    "plt.title(\"Agglomerative\")\n",
    "n,bins,patches=plt.hist(areasAgg,bins=int(np.max(areasAgg)-np.min(areasAgg)),range=(np.min(areasAgg),np.max(areasAgg)))\n",
    "b=np.delete(bins,-1)+(np.mean(0.5*(np.delete(bins,0)-np.delete(bins,-1))))\n",
    "popt, pcov = curve_fit(gaussian, xdata=b[range(np.argmax(n)-4,np.argmax(n)+4,1)], \n",
    "                       ydata=n[range(np.argmax(n)-4,np.argmax(n)+4,1)], p0=[np.max(areasAgg), np.mean(areasAgg), np.std(areasAgg)])\n",
    "plt.plot(b, gaussian(b,popt[0],popt[1],popt[2]), 'r--', linewidth=1)"
   ]
  },
  {
   "cell_type": "code",
   "execution_count": null,
   "metadata": {},
   "outputs": [],
   "source": []
  },
  {
   "cell_type": "markdown",
   "metadata": {},
   "source": [
    "# Discrimination (area too small and PCA ratio too large)"
   ]
  },
  {
   "cell_type": "code",
   "execution_count": 36,
   "metadata": {},
   "outputs": [],
   "source": [
    "Area_discrimination=5\n",
    "Ratio_discrimination=3\n",
    "\n",
    "a_disc_index=np.where(areasDB <=Area_discrimination)\n",
    "r_disc_index=np.where(ratiosDB >=Ratio_discrimination)\n",
    "disc_index=np.unique(np.append(a_disc_index,r_disc_index))\n",
    "DataDB_alpha=np.delete(DataDB_par,disc_index)\n",
    "\n",
    "areasDB_alpha=np.array([d.area for d in DataDB_alpha])\n",
    "ratiosDB_alpha=np.array([d.pca_r for d in DataDB_alpha])\n",
    "meansDB_alpha=np.array([d.mean for d in DataDB_alpha])\n",
    "\n",
    "a_disc_index=np.where(areasAgg <=Area_discrimination)\n",
    "r_disc_index=np.where(ratiosAgg >=Ratio_discrimination)\n",
    "disc_index=np.unique(np.append(a_disc_index,r_disc_index))\n",
    "DataAgg_alpha=np.delete(DataAgg,disc_index)\n",
    "\n",
    "areasAgg_alpha=np.array([d.area for d in DataAgg_alpha])\n",
    "ratiosAgg_alpha=np.array([d.pca_r for d in DataAgg_alpha])\n",
    "meansAgg_alpha=np.array([d.mean for d in DataAgg_alpha])"
   ]
  },
  {
   "cell_type": "markdown",
   "metadata": {},
   "source": [
    "# X"
   ]
  },
  {
   "cell_type": "code",
   "execution_count": 37,
   "metadata": {},
   "outputs": [
    {
     "data": {
      "image/png": "[encoded data removed]",
      "text/plain": [
       "<Figure size 432x288 with 2 Axes>"
      ]
     },
     "metadata": {
      "needs_background": "light"
     },
     "output_type": "display_data"
    }
   ],
   "source": [
    "plt.subplot(211)\n",
    "plt.subplots_adjust(hspace = 0.4)\n",
    "plt.title(\"DBSCAN\")\n",
    "n,bins,patches=plt.hist(meansDB_alpha[:,1],128)\n",
    "plt.subplot(212)\n",
    "plt.title(\"Agglomerative\")\n",
    "n,bins,patches=plt.hist(meansAgg_alpha[:,1],128)\n"
   ]
  },
  {
   "cell_type": "markdown",
   "metadata": {},
   "source": [
    "# 2D Histo"
   ]
  },
  {
   "cell_type": "code",
   "execution_count": 38,
   "metadata": {},
   "outputs": [
    {
     "data": {
      "image/png": "[encoded data removed]",
      "text/plain": [
       "<Figure size 432x288 with 2 Axes>"
      ]
     },
     "metadata": {
      "needs_background": "light"
     },
     "output_type": "display_data"
    },
    {
     "name": "stdout",
     "output_type": "stream",
     "text": [
      "Done\n"
     ]
    }
   ],
   "source": [
    "plt.subplot(211)\n",
    "plt.subplots_adjust(hspace = 0.4)\n",
    "plt.title(\"DBSCAN\")\n",
    "plt.hist2d(meansDB_alpha[:,1],meansDB_alpha[:,0],[128,64])\n",
    "plt.subplot(212)\n",
    "plt.title(\"Agglomerative\")\n",
    "plt.hist2d(meansAgg_alpha[:,1],meansAgg_alpha[:,0],[128,64])\n",
    "plt.show()\n",
    "print(\"Done\")"
   ]
  },
  {
   "cell_type": "code",
   "execution_count": 29,
   "metadata": {},
   "outputs": [
    {
     "data": {
      "image/png": "[encoded data removed]",
      "text/plain": [
       "<Figure size 432x288 with 2 Axes>"
      ]
     },
     "metadata": {
      "needs_background": "light"
     },
     "output_type": "display_data"
    }
   ],
   "source": [
    "plt.subplot(211)\n",
    "plt.subplots_adjust(hspace = 0.4)\n",
    "plt.title(\"DBSCAN\")\n",
    "n,bins,patches=plt.hist(ratiosDB,40)\n",
    "plt.subplot(212)\n",
    "plt.title(\"Agglomerative\")\n",
    "n,bins,patches=plt.hist(ratiosAgg,40)"
   ]
  },
  {
   "cell_type": "code",
   "execution_count": 24,
   "metadata": {},
   "outputs": [
    {
     "data": {
      "text/plain": [
       "Text(0, 0.5, 'Row')"
      ]
     },
     "execution_count": 24,
     "metadata": {},
     "output_type": "execute_result"
    },
    {
     "data": {
      "image/png": "[encoded data removed]",
      "text/plain": [
       "<Figure size 432x288 with 2 Axes>"
      ]
     },
     "metadata": {
      "needs_background": "light"
     },
     "output_type": "display_data"
    }
   ],
   "source": [
    "N=100\n",
    "npp=10\n",
    "        \n",
    "Data=[]\n",
    "\n",
    "for k in range(N):\n",
    "    Nclusters=10\n",
    "    Packet, Area_sim=makeCluster(1.5,10,10,Nclusters)\n",
    "    noise=makeNoise(npp)\n",
    "    realPacket=np.append(Packet,noise,axis=0)\n",
    "    Cluster, AreaCluster, nc=findClusterDB(realPacket,7)\n",
    "    for i in range(len(AreaCluster)):\n",
    "        Index=np.where(Cluster[:,2]==i)\n",
    "        C=Cluster[Index]\n",
    "        CC=ClusterAnalysisPCA(C[:,:2])\n",
    "        Data.append(CC)\n",
    "\n",
    "    \n",
    "#generate the hitmap\n",
    "cluster_matrix=np.zeros((512,1024))\n",
    "for pixel in Cluster[:,:2]:\n",
    "    x=pixel[0]\n",
    "    y=pixel[1]\n",
    "    cluster_matrix[y,x] += 1\n",
    "\n",
    "#and plot it\n",
    "fig, ax = plt.subplots()\n",
    "colormap = cm.get_cmap('Reds')\n",
    "psm = ax.pcolormesh(cluster_matrix, cmap=colormap, norm=colors.LogNorm(), vmin=1, vmax=np.max(cluster_matrix))\n",
    "cbar=plt.colorbar(psm, shrink=0.5, ax=ax)\n",
    "#cbar.set_label(\"N. hits\")\n",
    "plt.axis('scaled')\n",
    "ax.set(xlim=(0, 1023), ylim=(0, 511))\n",
    "plt.xlabel(\"Column\")\n",
    "plt.ylabel(\"Row\")"
   ]
  },
  {
   "cell_type": "markdown",
   "metadata": {},
   "source": [
    "# Test with real data"
   ]
  },
  {
   "cell_type": "code",
   "execution_count": 14,
   "metadata": {},
   "outputs": [
    {
     "name": "stdout",
     "output_type": "stream",
     "text": [
      "PCA_ratio= :2.4449249531025052 +/- 2.2026223047275173 \n",
      "Area= :5.947318007662835 +/- 4.302287381726502 \n"
     ]
    },
    {
     "data": {
      "image/png": "[encoded data removed]",
      "text/plain": [
       "<Figure size 432x288 with 1 Axes>"
      ]
     },
     "metadata": {
      "needs_background": "light"
     },
     "output_type": "display_data"
    }
   ],
   "source": [
    "XPacket=np.load(\"Test_data/X.npy\")\n",
    "X2Packet=np.load(\"Test_data/X2.npy\")\n",
    "ePacket=np.load(\"Test_data/electron.npy\")\n",
    "aPacket=np.load(\"Test_data/alpha.npy\")\n",
    "cPacket=np.load(\"Test_data/cosmic_ray.npy\")\n",
    "\n",
    "\n",
    "Packet=cPacket\n",
    "Flag_alpha=False\n",
    "Data=[]\n",
    "for row in range(512):\n",
    "    for column in range(1024):\n",
    "        if Packet[row,column] > 0:\n",
    "            Data.append([row,column])\n",
    "            \n",
    "Cluster, AreaCluster, nc=findClusterDB(Data,1)\n",
    "\n",
    "\n",
    "#routine to delete overlapping clusters (only present in alpha packet)\n",
    "THR_index=np.array(np.where(AreaCluster>80))\n",
    "C_index=[]\n",
    "if len(THR_index[0]) != 0:\n",
    "        for index in THR_index[0]:\n",
    "            Current_index=np.array(np.where(Cluster[:,2]==index))\n",
    "            C_index=np.append(C_index,Current_index)\n",
    "        C_index=C_index.astype(int)\n",
    "        Cluster=np.delete(Cluster,C_index,axis=0)\n",
    "\n",
    "unique_index = np.unique(Cluster[:,2], return_counts=False)\n",
    "Data_a=[]\n",
    "\n",
    "for i in unique_index:\n",
    "    Index=(np.where(Cluster[:,2]==i))\n",
    "    C=Cluster[Index]\n",
    "    CC=ClusterAnalysisPCA(C[:,:2],AreaCluster[i])\n",
    "    Data_a.append(CC) \n",
    "\n",
    "#Need to find better way to get the parameters \n",
    "pcaratio=[]\n",
    "NewArea=[]\n",
    "for j in range(len(Data_a)):\n",
    "    NewArea.append(Data_a[j].area)\n",
    "    if Data_a[j].pca_r !=1000:\n",
    "        pcaratio.append(Data_a[j].pca_r)\n",
    "        \n",
    "n, bins, patches = plt.hist(NewArea, int(np.max(NewArea)-np.min(NewArea)), facecolor='g')\n",
    "b=np.delete(bins,-1)+(np.mean(0.5*(np.delete(bins,0)-np.delete(bins,-1))))\n",
    "\n",
    "if not Flag_alpha :\n",
    "    popt_l, pcov_l = curve_fit(landaufunc, xdata=b, ydata=n)\n",
    "    popt_g, pcov_g = curve_fit(gaussian, xdata=b, ydata=n, p0=[200,np.mean(NewArea),np.std(NewArea)])\n",
    "#popt, pcov = curve_fit(doublegauss, xdata=b, ydata=n, p0=[300,100,4,15,3,5])\n",
    "#popt, pcov = curve_fit(gaussian, xdata=b, ydata=n)\n",
    "else:\n",
    "    popt, pcov = curve_fit(landaufunc, xdata=b[(range(11,19,1))], ydata=n[(range(11,19,1))])\n",
    "#plt.plot(b, gaussian(b,popt[0],popt[1],popt[2]), 'r--', linewidth=1)   \n",
    "plt.plot(b, landaufunc(b,popt_l[0],popt_l[1],popt_l[2]), 'r--', linewidth=1)\n",
    "plt.plot(b, gaussian(b,popt_g[0],popt_g[1],popt_g[2]), 'b--', linewidth=1)\n",
    "\n",
    "\n",
    "print(\"PCA_ratio= :{} +/- {} \".format(np.mean(pcaratio), np.std(pcaratio)))\n",
    "print(\"Area= :{} +/- {} \".format(np.mean(NewArea), np.std(NewArea)))\n",
    "\n",
    "\n",
    "           \n"
   ]
  },
  {
   "cell_type": "markdown",
   "metadata": {},
   "source": [
    "# Multiprocessing test"
   ]
  },
  {
   "cell_type": "code",
   "execution_count": 17,
   "metadata": {},
   "outputs": [
    {
     "name": "stdout",
     "output_type": "stream",
     "text": [
      "107572\n"
     ]
    }
   ],
   "source": [
    "Folder_name=\"Test_data\"\n",
    "i=0\n",
    "Packet_tot=[]\n",
    "file_name=Folder_name+\"/\"+Folder_name+\"_packet_{0:0d}.npy\".format(i)\n",
    "Packet= np.load(file_name, allow_pickle=True)\n",
    "for i in range(4):\n",
    "    Packet_tot=np.append(Packet_tot,Packet)\n",
    "print(len(Packet_tot))"
   ]
  },
  {
   "cell_type": "code",
   "execution_count": 8,
   "metadata": {},
   "outputs": [
    {
     "name": "stdout",
     "output_type": "stream",
     "text": [
      "Completeness : 100.0%"
     ]
    }
   ],
   "source": [
    "N=100000\n",
    "npp=10\n",
    "patience=10\n",
    "Packet_tot=[]\n",
    "Nclusters=10\n",
    "for i in range(N):\n",
    "    if ( i % patience == 0 ):\n",
    "        sys.stdout.write(\"\\rCompleteness : \"+str(round(i/N*100,1))+\"%\")\n",
    "    Packet, Area_sim=makeCluster(1,2,20,Nclusters)\n",
    "    noise=makeNoise(npp)\n",
    "    realPacket=np.append(Packet,noise,axis=0)\n",
    "    Packet_tot.append(realPacket)"
   ]
  },
  {
   "cell_type": "code",
   "execution_count": 20,
   "metadata": {},
   "outputs": [
    {
     "name": "stdout",
     "output_type": "stream",
     "text": [
      "Completion time with serial processing : 20.326613426208496\n"
     ]
    }
   ],
   "source": [
    "t=time.time()\n",
    "Data=[]\n",
    "for packet in Packet_tot:\n",
    "    if len(packet)>1:\n",
    "        Cluster, AreaCluster, nc=findClusterDB(packet,1)\n",
    "        for i in range(len(AreaCluster)):\n",
    "                Index=np.where(Cluster[:,2]==i)\n",
    "                C=Cluster[Index]\n",
    "                CC=ClusterAnalysisPCA(C[:,:2])\n",
    "                Data.append(CC)\n",
    "            \n",
    "Serial_t=time.time()-t\n",
    "print('Completion time with serial processing :',Serial_t)"
   ]
  },
  {
   "cell_type": "code",
   "execution_count": 19,
   "metadata": {},
   "outputs": [
    {
     "name": "stdout",
     "output_type": "stream",
     "text": [
      "Completion time with serial processing : 14.853801250457764\n"
     ]
    }
   ],
   "source": [
    "t=time.time()\n",
    "Data=[]\n",
    "for packet in Packet_tot:\n",
    "    if len(packet)>1:\n",
    "        Cluster, AreaCluster, nc=findClusterAgg(packet,7)\n",
    "        for i in range(len(AreaCluster)):\n",
    "                Index=np.where(Cluster[:,2]==i)\n",
    "                C=Cluster[Index]\n",
    "                CC=ClusterAnalysisPCA(C[:,:2])\n",
    "                Data.append(CC)\n",
    "\n",
    "            \n",
    "Serial_t=time.time()-t\n",
    "print('Completion time with serial processing :',Serial_t)"
   ]
  },
  {
   "cell_type": "code",
   "execution_count": 21,
   "metadata": {},
   "outputs": [
    {
     "name": "stdout",
     "output_type": "stream",
     "text": [
      "Clustering time with parallel processing : 18.52030110359192\n",
      "Analysis time with parallel processing : 3.1339871883392334\n",
      "Total time with parallel processing : 21.654288291931152\n"
     ]
    }
   ],
   "source": [
    "t=time.time()\n",
    "DBresult=par_findClusterDB(Packet_tot,7)\n",
    "Clustering_time=time.time()-t\n",
    "print('Clustering time with parallel processing :',Clustering_time)\n",
    "\n",
    "t=time.time()\n",
    "PCAresult=par_ClusterAnalysisPCA(DBresult)\n",
    "Alaysis_time=time.time()-t\n",
    "print('Analysis time with parallel processing :',Alaysis_time)\n",
    "print('Total time with parallel processing :',Clustering_time+Alaysis_time)"
   ]
  },
  {
   "cell_type": "code",
   "execution_count": 37,
   "metadata": {},
   "outputs": [
    {
     "data": {
      "text/plain": [
       "(array([750., 732., 854., 794., 799., 810., 768., 818., 832., 855.]),\n",
       " array([5.0000e-01, 5.1550e+01, 1.0260e+02, 1.5365e+02, 2.0470e+02,\n",
       "        2.5575e+02, 3.0680e+02, 3.5785e+02, 4.0890e+02, 4.5995e+02,\n",
       "        5.1100e+02]),\n",
       " <a list of 10 Patch objects>)"
      ]
     },
     "execution_count": 37,
     "metadata": {},
     "output_type": "execute_result"
    },
    {
     "data": {
      "image/png": "[encoded data removed]",
      "text/plain": [
       "<Figure size 432x288 with 1 Axes>"
      ]
     },
     "metadata": {
      "needs_background": "light"
     },
     "output_type": "display_data"
    }
   ],
   "source": [
    "areas=np.array([d.area for d in Data])\n",
    "ratios=np.array([d.pca_r for d in Data])\n",
    "means=np.array([d.mean for d in Data])\n",
    "plt.hist(means[:,0])"
   ]
  },
  {
   "cell_type": "code",
   "execution_count": null,
   "metadata": {},
   "outputs": [],
   "source": []
  },
  {
   "cell_type": "code",
   "execution_count": 24,
   "metadata": {},
   "outputs": [],
   "source": [
    "\n",
    "\n"
   ]
  },
  {
   "cell_type": "code",
   "execution_count": 22,
   "metadata": {},
   "outputs": [
    {
     "data": {
      "text/plain": [
       "72"
      ]
     },
     "execution_count": 22,
     "metadata": {},
     "output_type": "execute_result"
    }
   ],
   "source": [
    "\n"
   ]
  },
  {
   "cell_type": "code",
   "execution_count": null,
   "metadata": {},
   "outputs": [],
   "source": []
  }
 ],
 "metadata": {
  "kernelspec": {
   "display_name": "Python 3",
   "language": "python",
   "name": "python3"
  },
  "language_info": {
   "codemirror_mode": {
    "name": "ipython",
    "version": 3
   },
   "file_extension": ".py",
   "mimetype": "text/x-python",
   "name": "python",
   "nbconvert_exporter": "python",
   "pygments_lexer": "ipython3",
   "version": "3.8.3"
  }
 },
 "nbformat": 4,
 "nbformat_minor": 4
}
