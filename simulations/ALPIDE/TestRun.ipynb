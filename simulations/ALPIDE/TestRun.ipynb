{
 "cells": [
  {
   "cell_type": "code",
   "execution_count": 42,
   "metadata": {},
   "outputs": [],
   "source": [
    "import numpy as np\n",
    "import matplotlib.pyplot as plt\n",
    "import math\n",
    "from sklearn.cluster import DBSCAN\n",
    "from sklearn import metrics\n",
    "from sklearn.datasets import make_blobs\n",
    "from sklearn.preprocessing import StandardScaler\n",
    "from pathlib import Path\n",
    "import matplotlib as mpl"
   ]
  },
  {
   "cell_type": "markdown",
   "metadata": {},
   "source": [
    "# Clusters"
   ]
  },
  {
   "cell_type": "code",
   "execution_count": 65,
   "metadata": {},
   "outputs": [
    {
     "data": {
      "text/plain": [
       "(0, 512)"
      ]
     },
     "execution_count": 65,
     "metadata": {},
     "output_type": "execute_result"
    },
    {
     "data": {
      "image/png": "[encoded data removed]",
      "text/plain": [
       "<Figure size 432x288 with 1 Axes>"
      ]
     },
     "metadata": {
      "needs_background": "light"
     },
     "output_type": "display_data"
    }
   ],
   "source": [
    "def makeCluster(wx, wy, npix, nclusters = 1):\n",
    "    cluster=[]\n",
    "    for nc in range(nclusters):\n",
    "        x = np.random.normal(0, wx, npix*5)\n",
    "        y = np.random.normal(0, wy, npix*5)\n",
    "        cx = np.random.randint(int(wx*3), 1024-(wx*3))\n",
    "        cy = np.random.randint(int(wy*3),  512-(wy*3))\n",
    "        angle = np.random.uniform(0, np.pi, npix*5)\n",
    "        x = x*np.cos(angle)+y*np.sin(angle)+cx\n",
    "        y = y*np.cos(angle)-x*np.sin(angle)+cy\n",
    "        x = x.astype(int)\n",
    "        y = y.astype(int)\n",
    "        \n",
    "        k = 0\n",
    "        for i in range(len(x)):\n",
    "            if (x[i],y[i]) not in cluster and k<npix:\n",
    "                k+=1\n",
    "                cluster.append((x[i],y[i]))\n",
    "            \n",
    "    return np.array(cluster)\n",
    "        \n",
    "    \n",
    "    \n",
    "cluster= makeCluster(10,1, 10, 5)\n",
    "plt.scatter(cluster[:,0], cluster[:,1])#, range=[[0,1024], [0,512]], bins=[1024,512], norm=mpl.colors.LogNorm(), cmap=mpl.cm.gray)\n",
    "plt.xlim(0,1024)\n",
    "plt.ylim(0,512)\n"
   ]
  },
  {
   "cell_type": "markdown",
   "metadata": {},
   "source": [
    "# DBscan"
   ]
  },
  {
   "cell_type": "code",
   "execution_count": 4,
   "metadata": {},
   "outputs": [
    {
     "name": "stdout",
     "output_type": "stream",
     "text": [
      "No more packets\n"
     ]
    }
   ],
   "source": [
    "i = 0\n",
    "total_clusters = 0\n",
    "total_noise_points = 0\n",
    "while True:\n",
    "    file_name=\"file{0:0d}.npy\".format(i)\n",
    "    my_file = Path(file_name)\n",
    "    if my_file.is_file():\n",
    "        i += 1\n",
    "        packet = np.load(file_name, allow_pickle=True)\n",
    "        for k in range(len(packet)):\n",
    "            X=packet[k]\n",
    "            db = DBSCAN(eps=1, min_samples=2).fit(X)\n",
    "            core_samples_mask = np.zeros_like(db.labels_, dtype=bool)\n",
    "            core_samples_mask[db.core_sample_indices_] = True\n",
    "            labels = db.labels_\n",
    "            n_clusters_ = len(set(labels)) - (1 if -1 in labels else 0)\n",
    "            n_noise_ = list(labels).count(-1)\n",
    "            nc = 0\n",
    "            #initialize an empty list to accomodate the sample coordinates whitin the cluster\n",
    "            clusters = [[] for _ in range(n_clusters_)]\n",
    "            #total_clusters += n_clusters_\n",
    "            #total_noise_points += n_noise_\n",
    "            for j in range(len(db.labels_)):\n",
    "                if db.labels_[j] == -1:\t#noise sample has label -1\n",
    "                    nc = nc + 1\t#noise counter\n",
    "                else: \n",
    "                    index = db.labels_[j]\n",
    "                    #print(db.components_[j-nc])\n",
    "                    clusters[index].append(np.array(db.components_[j - nc])) #subtract noise counter to the index\n",
    "    else:\n",
    "        print (\"No more packets\")\n",
    "        break\n",
    "        "
   ]
  },
  {
   "cell_type": "code",
   "execution_count": null,
   "metadata": {},
   "outputs": [],
   "source": []
  },
  {
   "cell_type": "code",
   "execution_count": null,
   "metadata": {},
   "outputs": [],
   "source": []
  }
 ],
 "metadata": {
  "kernelspec": {
   "display_name": "Python 3",
   "language": "python",
   "name": "python3"
  },
  "language_info": {
   "codemirror_mode": {
    "name": "ipython",
    "version": 3
   },
   "file_extension": ".py",
   "mimetype": "text/x-python",
   "name": "python",
   "nbconvert_exporter": "python",
   "pygments_lexer": "ipython3",
   "version": "3.7.3"
  }
 },
 "nbformat": 4,
 "nbformat_minor": 4
}
