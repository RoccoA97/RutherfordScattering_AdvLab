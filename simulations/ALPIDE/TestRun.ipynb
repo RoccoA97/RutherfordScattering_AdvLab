{
 "cells": [
  {
   "cell_type": "code",
   "execution_count": 92,
   "metadata": {},
   "outputs": [],
   "source": [
    "import numpy as np\n",
    "import matplotlib.pyplot as plt\n",
    "import math\n",
    "from sklearn.cluster import DBSCAN\n",
    "from sklearn import metrics\n",
    "from sklearn.datasets import make_blobs\n",
    "from sklearn.preprocessing import StandardScaler\n",
    "from pathlib import Path\n",
    "import matplotlib as mpl\n",
    "from matplotlib import cm\n",
    "import matplotlib.colors as colors\n",
    "import matplotlib.cbook as cbook"
   ]
  },
  {
   "cell_type": "markdown",
   "metadata": {},
   "source": [
    "# Clusters"
   ]
  },
  {
   "cell_type": "code",
   "execution_count": 321,
   "metadata": {},
   "outputs": [
    {
     "data": {
      "text/plain": [
       "Text(0, 0.5, 'Row')"
      ]
     },
     "execution_count": 321,
     "metadata": {},
     "output_type": "execute_result"
    },
    {
     "data": {
      "image/png": "[encoded data removed]",
      "text/plain": [
       "<Figure size 432x288 with 2 Axes>"
      ]
     },
     "metadata": {
      "needs_background": "light"
     },
     "output_type": "display_data"
    }
   ],
   "source": [
    "def makeCluster(wx, wy, npix, wnpix, nclusters = 1):\n",
    "    cluster=[]\n",
    "    for nc in range(nclusters):\n",
    "        x = np.random.normal(0, wx, npix*5)\n",
    "        y = np.random.normal(0, wy, npix*5)\n",
    "        cx = np.random.randint(int(wx*5), 1023-(wx*5))\n",
    "        cy = np.random.randint(int(wy*5),  511-(wy*5))\n",
    "        angle = np.random.uniform(0, np.pi, npix*5)\n",
    "        xr = x*np.cos(angle)+y*np.sin(angle)+cx\n",
    "        yr = y*np.cos(angle)-x*np.sin(angle)+cy\n",
    "        x = xr.astype(int)\n",
    "        y = yr.astype(int)\n",
    "        \n",
    "        k = 0\n",
    "        npixn=np.random.normal(npix, wnpix)\n",
    "        npixn=np.around(npixn)\n",
    "        for i in range(len(x)):\n",
    "            if ([x[i],y[i]]) not in cluster and k<npixn:\n",
    "                k+=1\n",
    "                cluster.append([x[i],y[i]])\n",
    "        \n",
    "        \n",
    "    return cluster\n",
    "        \n",
    "    \n",
    "cluster= makeCluster(3,3,10,3,10)\n",
    "\n",
    "#generate the hitmap\n",
    "cluster_matrix=np.zeros((512,1024))\n",
    "for pixel in cluster:\n",
    "    x=pixel[0]\n",
    "    y=pixel[1]\n",
    "    cluster_matrix[y,x] += 1\n",
    "\n",
    "#and plot it\n",
    "fig, ax = plt.subplots()\n",
    "colormap = cm.get_cmap('Reds')\n",
    "psm = ax.pcolormesh(cluster_matrix, cmap=colormap, norm=colors.LogNorm(), vmin=1, vmax=np.max(cluster_matrix))\n",
    "cbar=plt.colorbar(psm, shrink=0.5, ax=ax)\n",
    "#cbar.set_label(\"N. hits\")\n",
    "plt.axis('scaled')\n",
    "ax.set(xlim=(0, 1023), ylim=(0, 511))\n",
    "plt.xlabel(\"Column\")\n",
    "plt.ylabel(\"Row\")\n",
    "\n",
    "\n"
   ]
  },
  {
   "cell_type": "markdown",
   "metadata": {},
   "source": [
    "# DBscan"
   ]
  },
  {
   "cell_type": "code",
   "execution_count": 249,
   "metadata": {},
   "outputs": [],
   "source": [
    "def findClusterDB(X, distance):\n",
    "    db = DBSCAN(eps=distance, min_samples=2).fit(X)\n",
    "    core_samples_mask = np.zeros_like(db.labels_, dtype=bool)\n",
    "    core_samples_mask[db.core_sample_indices_] = True\n",
    "    labels = db.labels_\n",
    "    n_clusters_ = len(set(labels)) - (1 if -1 in labels else 0)\n",
    "    n_noise_ = list(labels).count(-1)\n",
    "    nc = 0\n",
    "    #initialize an empty list to accomodate the sample coordinates whitin the cluster\n",
    "    clusters = [[] for _ in range(n_clusters_)]\n",
    "    #total_clusters += n_clusters_\n",
    "    #total_noise_points += n_noise_\n",
    "    for j in range(len(db.labels_)):\n",
    "        if db.labels_[j] == -1:\t#noise sample has label -1\n",
    "            nc = nc + 1\t#noise counter\n",
    "        else: \n",
    "            index = db.labels_[j]\n",
    "            #print(db.components_[j-nc])\n",
    "            clusters[index].append(np.array(db.components_[j - nc])) \n",
    "    Areas=[]\n",
    "    for j in range(len(clusters)):\n",
    "        Areas.append(len(clusters[j]))\n",
    "    return clusters, Areas, nc\n",
    "        "
   ]
  },
  {
   "cell_type": "markdown",
   "metadata": {},
   "source": [
    "# Packet decoder simulation"
   ]
  },
  {
   "cell_type": "code",
   "execution_count": 319,
   "metadata": {},
   "outputs": [
    {
     "name": "stdout",
     "output_type": "stream",
     "text": [
      "14.934959114681153\n"
     ]
    }
   ],
   "source": [
    "N=10000\n",
    "Areas=[]\n",
    "for i in range(N):\n",
    "    Npackets=np.random.randint(5,10)\n",
    "    cluster=makeCluster(3,6,15,4,Npackets)\n",
    "    ClusterDC, AreaCluster=findClusterDB(cluster,10)\n",
    "    Areas=np.append(Areas,AreaCluster)\n",
    "\n",
    "print(np.mean(Areas))"
   ]
  },
  {
   "cell_type": "code",
   "execution_count": 299,
   "metadata": {},
   "outputs": [
    {
     "name": "stdout",
     "output_type": "stream",
     "text": [
      "No more packets\n"
     ]
    }
   ],
   "source": [
    "i = 0\n",
    "total_clusters = 0\n",
    "total_noise_points = 0\n",
    "while True:\n",
    "    file_name=\"file{0:0d}.npy\".format(i)\n",
    "    my_file = Path(file_name)\n",
    "    if my_file.is_file():\n",
    "        i += 1\n",
    "        packet = np.load(file_name, allow_pickle=True)\n",
    "        print(len(packet[0]))\n",
    "        clusters = findClusterDB(packet)\n",
    "        clusters = findClusterAC(packet)\n",
    "    else:\n",
    "        print (\"No more packets\")\n",
    "        break"
   ]
  },
  {
   "cell_type": "code",
   "execution_count": null,
   "metadata": {},
   "outputs": [],
   "source": []
  }
 ],
 "metadata": {
  "kernelspec": {
   "display_name": "Python 3",
   "language": "python",
   "name": "python3"
  },
  "language_info": {
   "codemirror_mode": {
    "name": "ipython",
    "version": 3
   },
   "file_extension": ".py",
   "mimetype": "text/x-python",
   "name": "python",
   "nbconvert_exporter": "python",
   "pygments_lexer": "ipython3",
   "version": "3.8.3"
  }
 },
 "nbformat": 4,
 "nbformat_minor": 4
}
