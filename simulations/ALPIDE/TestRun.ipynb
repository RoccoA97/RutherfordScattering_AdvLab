{
 "cells": [
  {
   "cell_type": "code",
   "execution_count": 1,
   "metadata": {},
   "outputs": [],
   "source": [
    "import numpy as np\n",
    "import matplotlib.pyplot as plt\n",
    "import math\n",
    "from sklearn.cluster import DBSCAN, OPTICS, AgglomerativeClustering\n",
    "from sklearn import metrics\n",
    "from sklearn.datasets import make_blobs\n",
    "from sklearn.preprocessing import StandardScaler\n",
    "from pathlib import Path\n",
    "import matplotlib as mpl\n",
    "from matplotlib import cm\n",
    "import matplotlib.colors as colors\n",
    "import matplotlib.cbook as cbook\n",
    "import time\n",
    "import sys\n",
    "\n",
    "\n",
    "SET_N_TRHEADS = 8"
   ]
  },
  {
   "cell_type": "markdown",
   "metadata": {},
   "source": [
    "# Cluster generation"
   ]
  },
  {
   "cell_type": "code",
   "execution_count": 2,
   "metadata": {},
   "outputs": [
    {
     "data": {
      "text/plain": [
       "Text(0, 0.5, 'Row')"
      ]
     },
     "execution_count": 2,
     "metadata": {},
     "output_type": "execute_result"
    },
    {
     "data": {
      "image/png": "[encoded data removed]",
      "text/plain": [
       "<Figure size 432x288 with 2 Axes>"
      ]
     },
     "metadata": {
      "needs_background": "light"
     },
     "output_type": "display_data"
    }
   ],
   "source": [
    "def makeCluster(wx, wy, npix, nclusters = 1):\n",
    "    cluster=[]\n",
    "    total_area=0\n",
    "    for nc in range(nclusters):\n",
    "        x = np.random.normal(0, wx, npix*5)\n",
    "        y = np.random.normal(0, wy, npix*5)\n",
    "        cx = np.random.randint(int(wx*5), 1023-int(wx*5))\n",
    "        cy = np.random.randint(int(wy*5),  511-int(wy*5))\n",
    "        angle = np.random.uniform(0, np.pi, npix*5)\n",
    "        xr = x*np.cos(angle)+y*np.sin(angle)+cx\n",
    "        yr = y*np.cos(angle)-x*np.sin(angle)+cy\n",
    "        x = xr.astype(int)\n",
    "        y = yr.astype(int)\n",
    "        \n",
    "        k = 0\n",
    "        for i in range(len(x)):\n",
    "            if ([x[i],y[i]]) not in cluster:\n",
    "                k+=1\n",
    "                cluster.append([x[i],y[i]])\n",
    "        if k == 1: #delete cluster with area 1\n",
    "            cluster.pop()\n",
    "        else:\n",
    "            total_area+=k\n",
    "        \n",
    "    return cluster, total_area \n",
    "\n",
    "def makeNoise(Noise_points):\n",
    "    noise=[]\n",
    "    for i in range(Noise_points):\n",
    "        nx = np.random.randint(0,1024)\n",
    "        ny = np.random.randint(0, 512)\n",
    "        noise.append([nx,ny])\n",
    "        \n",
    "    return noise\n",
    "\n",
    "    \n",
    "cluster, tot_ar= makeCluster(3,3,10,100)\n",
    "noise = makeNoise(2)\n",
    "real=np.append(cluster,noise,axis=0)\n",
    "\n",
    "\n",
    "#generate the hitmap\n",
    "cluster_matrix=np.zeros((512,1024))\n",
    "for pixel in real:\n",
    "    x=pixel[0]\n",
    "    y=pixel[1]\n",
    "    cluster_matrix[y,x] += 1\n",
    "\n",
    "#and plot it\n",
    "fig, ax = plt.subplots()\n",
    "colormap = cm.get_cmap('Reds')\n",
    "psm = ax.pcolormesh(cluster_matrix, cmap=colormap, norm=colors.LogNorm(), vmin=1, vmax=np.max(cluster_matrix))\n",
    "cbar=plt.colorbar(psm, shrink=0.5, ax=ax)\n",
    "#cbar.set_label(\"N. hits\")\n",
    "plt.axis('scaled')\n",
    "ax.set(xlim=(0, 1023), ylim=(0, 511))\n",
    "plt.xlabel(\"Column\")\n",
    "plt.ylabel(\"Row\")\n",
    "\n",
    "\n"
   ]
  },
  {
   "cell_type": "markdown",
   "metadata": {},
   "source": [
    "# Clusterin Algorithm"
   ]
  },
  {
   "cell_type": "code",
   "execution_count": 87,
   "metadata": {},
   "outputs": [],
   "source": [
    "def findClusterDB_old(X, distance):\n",
    "    db = DBSCAN(eps=distance, min_samples=2, n_jobs=1).fit(X)\n",
    "    core_samples_mask = np.zeros_like(db.labels_, dtype=bool)\n",
    "    core_samples_mask[db.core_sample_indices_] = True\n",
    "    labels = db.labels_\n",
    "    n_clusters_ = len(set(labels)) - (1 if -1 in labels else 0)\n",
    "    n_noise_ = list(labels).count(-1)\n",
    "    nc = 0\n",
    "    #initialize an empty list to accomodate the sample coordinates whitin the cluster\n",
    "    clusters = [[] for _ in range(n_clusters_)]\n",
    "    #total_clusters += n_clusters_\n",
    "    #total_noise_points += n_noise_\n",
    "    for j in range(len(db.labels_)):\n",
    "        if db.labels_[j] == -1:\t#noise sample has label -1\n",
    "            nc = nc + 1\t#noise counter\n",
    "        else: \n",
    "            index = db.labels_[j]\n",
    "            #print(db.components_[j-nc])\n",
    "            clusters[index].append(np.array(db.components_[j - nc])) \n",
    "    Areas=[]\n",
    "    for j in range(len(clusters)):\n",
    "        Areas.append(len(clusters[j]))\n",
    "    return clusters, Areas, nc\n",
    "\n",
    "def findClusterDB(X, distance):\n",
    "    db = DBSCAN(eps=distance, min_samples=2).fit(X)\n",
    "    clusters = np.column_stack((X, db.labels_))\n",
    "    nc = np.sum(clusters[:,2]==-1)\n",
    "    Noise_inds=np.where(clusters[:,2]==-1)\n",
    "    clusters=np.delete(clusters,Noise_inds,axis=0)\n",
    "    labels=np.delete(db.labels_,Noise_inds,axis=0)\n",
    "    unique, Areas = np.unique(labels, return_counts=True)\n",
    "\n",
    "    return clusters, Areas, nc\n",
    "\n",
    "def findClusterAgg(X, distance):\n",
    "    agg = AgglomerativeClustering(n_clusters=None, distance_threshold=distance, compute_full_tree=True).fit(X)\n",
    "    clusters = np.column_stack((X, agg.labels_))\n",
    "    unique, Areas = np.unique(agg.labels_, return_counts=True)\n",
    "    Area_noise_inds=np.where(Areas==1)\n",
    "    if np.sum(Area_noise_inds) != 0:\n",
    "        Noise_inds=np.where(clusters[:,2]==Area_noise_inds)\n",
    "        nc=np.sum(Area_noise_inds)\n",
    "        if len(Noise_inds) != 0:\n",
    "            Noise_inds=np.delete(Noise_inds,0,axis=0)#Non so perché ma sto aborto si prende pure il primo elemento\n",
    "            clusters=np.delete(clusters,Noise_inds,axis=0)\n",
    "            labels=np.delete(agg.labels_,Noise_inds,axis=0)\n",
    "            unique, Areas = np.unique(labels, return_counts=True)\n",
    "    else:\n",
    "        nc=0\n",
    "    \n",
    "    \n",
    "    return clusters, Areas, nc\n",
    "        \n",
    "def findClusterOPTICS(X, distance):\n",
    "    opt = OPTICS(eps=distance, min_samples=2, n_jobs=1).fit(X)\n",
    "    clusters = np.column_stack((X, opt.labels_))\n",
    "    unique, Areas = np.unique(clusters, return_counts=True)\n",
    "    nc = np.sum(clusters[:,2]==-1)\n",
    "     \n",
    "    return clusters, Areas, nc\n",
    "        "
   ]
  },
  {
   "cell_type": "markdown",
   "metadata": {},
   "source": [
    "# Packet decoder simulation with DBSCAN"
   ]
  },
  {
   "cell_type": "code",
   "execution_count": 189,
   "metadata": {},
   "outputs": [
    {
     "name": "stdout",
     "output_type": "stream",
     "text": [
      "Completeness : 100.0%\n",
      "Noise points injected:  800000\n",
      "Noise points found:  796904\n",
      "Execution time:  3456.2750267982483\n",
      "Exact area:  17.523287216204473\n",
      "Mean area:  17.585883661604786\n",
      "Missclassified:  0.3519417199618686 %\n"
     ]
    },
    {
     "data": {
      "image/png": "[encoded data removed]",
      "text/plain": [
       "<Figure size 432x288 with 1 Axes>"
      ]
     },
     "metadata": {
      "needs_background": "light"
     },
     "output_type": "display_data"
    }
   ],
   "source": [
    "N=800000\n",
    "patience = 10\n",
    "npp=1#noise ponits per packet\n",
    "Areas=[]\n",
    "t = time.time()\n",
    "Tot_area_sim=0\n",
    "Tot_packets=0\n",
    "Tot_noise=0\n",
    "tot_clust_inj = 0\n",
    "tot_missclass = 0\n",
    "\n",
    "for i in range(N):\n",
    "    if ( i % patience == 0 ):\n",
    "        sys.stdout.write(\"\\rCompleteness : \"+str(round(i/N*100,1))+\"%\")\n",
    "    Npackets=np.random.randint(1,11)\n",
    "    clust, Area_sim=makeCluster(1.5,1.5,5,Npackets)\n",
    "    noise=makeNoise(npp)\n",
    "    realclust=np.append(clust,noise,axis=0)\n",
    "    Tot_area_sim+=Area_sim\n",
    "    Tot_packets+=Npackets\n",
    "    ClusterDC, AreaCluster, nc=findClusterDB(realclust,8)\n",
    "    Areas=np.append(Areas,AreaCluster)\n",
    "    tot_missclass += np.abs(len(np.unique(ClusterDC[:,2])) - Npackets)\n",
    "    tot_clust_inj += Npackets\n",
    "    Tot_noise+=nc\n",
    "\n",
    "n, bins, patches = plt.hist(Areas, 20, facecolor='g')\n",
    "\n",
    "print(\"\")\n",
    "print(\"Noise points injected: \", N*npp)\n",
    "print(\"Noise points found: \", Tot_noise)\n",
    "print(\"Execution time: \", time.time()-t)\n",
    "print(\"Exact area: \", Tot_area_sim/Tot_packets)\n",
    "print(\"Mean area: \", np.mean(Areas))\n",
    "print(\"Missclassified: \", tot_missclass/tot_clust_inj*100, \"%\")"
   ]
  },
  {
   "cell_type": "code",
   "execution_count": 166,
   "metadata": {},
   "outputs": [
    {
     "name": "stdout",
     "output_type": "stream",
     "text": [
      "[0 1 2 3 4 5]\n"
     ]
    },
    {
     "data": {
      "image/png": "[encoded data removed]",
      "text/plain": [
       "<Figure size 432x288 with 1 Axes>"
      ]
     },
     "metadata": {
      "needs_background": "light"
     },
     "output_type": "display_data"
    }
   ],
   "source": [
    "Npackets=np.random.randint(1,10)\n",
    "clust, Area_sim=makeCluster(0.1,0.1,15,Npackets)\n",
    "ClusterDC, AreaCluster, _=findClusterDB(clust,1)\n",
    "plt.scatter(ClusterDC[:,0], ClusterDC[:,1], c=ClusterDC[:,2])\n",
    "\n",
    "print(np.unique(ClusterDC[:,2]))"
   ]
  },
  {
   "cell_type": "markdown",
   "metadata": {},
   "source": [
    "# Packet decoder simulation with Agglomerative Clustering"
   ]
  },
  {
   "cell_type": "code",
   "execution_count": 190,
   "metadata": {},
   "outputs": [
    {
     "name": "stdout",
     "output_type": "stream",
     "text": [
      "Completeness : 100.0%\n",
      "Noise points injected:  800000\n",
      "Noise points found:  800000\n",
      "Execution time:  2610.839242696762\n",
      "Exact area:  17.524340615330175\n",
      "Mean area:  17.53259210183246\n",
      "Missclassified:  0.03998131476211118 %\n"
     ]
    },
    {
     "data": {
      "image/png": "[encoded data removed]",
      "text/plain": [
       "<Figure size 432x288 with 1 Axes>"
      ]
     },
     "metadata": {
      "needs_background": "light"
     },
     "output_type": "display_data"
    }
   ],
   "source": [
    "N=800000\n",
    "patience = 10\n",
    "npp=1#noise ponits per packet\n",
    "Areas=[]\n",
    "t = time.time()\n",
    "Tot_area_sim=0\n",
    "Tot_packets=0\n",
    "Tot_noise=0\n",
    "tot_clust_inj = 0\n",
    "tot_missclass = 0\n",
    "\n",
    "for i in range(N):\n",
    "    if ( i % patience == 0 ):\n",
    "        sys.stdout.write(\"\\rCompleteness : \"+str(round(i/N*100,1))+\"%\")\n",
    "    Npackets=np.random.randint(1,11)\n",
    "    clust, Area_sim=makeCluster(1.5,1.5,5,Npackets)\n",
    "    noise=makeNoise(npp)\n",
    "    realclust=np.append(clust,noise,axis=0)\n",
    "    ClusterDC, AreaCluster, nc=findClusterAgg(realclust,20)\n",
    "    Tot_area_sim+=Area_sim\n",
    "    Tot_packets+=Npackets\n",
    "    Areas=np.append(Areas,AreaCluster)\n",
    "    tot_missclass += np.abs(len(np.unique(ClusterDC[:,2])) - Npackets)\n",
    "    tot_clust_inj += Npackets\n",
    "    Tot_noise+=nc  \n",
    "\n",
    "n, bins, patches = plt.hist(Areas, 20, facecolor='g')\n",
    "\n",
    "print(\"\")\n",
    "print(\"Noise points injected: \", N*npp)\n",
    "print(\"Noise points found: \", Tot_noise)\n",
    "print(\"Execution time: \", time.time()-t)\n",
    "print(\"Exact area: \", Tot_area_sim/Tot_packets)\n",
    "print(\"Mean area: \", np.mean(Areas))\n",
    "print(\"Missclassified: \", tot_missclass/tot_clust_inj*100, \"%\")"
   ]
  },
  {
   "cell_type": "code",
   "execution_count": 71,
   "metadata": {},
   "outputs": [
    {
     "name": "stdout",
     "output_type": "stream",
     "text": [
      "[[5]]\n",
      "[0 1 2 3 4]\n"
     ]
    },
    {
     "data": {
      "image/png": "[encoded data removed]",
      "text/plain": [
       "<Figure size 432x288 with 1 Axes>"
      ]
     },
     "metadata": {
      "needs_background": "light"
     },
     "output_type": "display_data"
    }
   ],
   "source": [
    "Npackets=5#np.random.randint(5,10)\n",
    "clust, Area_sim=makeCluster(0.1,0.1,15,Npackets)\n",
    "noise=makeNoise(1)\n",
    "realclust=np.append(clust,noise,axis=0)\n",
    "ClusterDC, AreaCluster, _=findClusterAgg(realclust,20)\n",
    "plt.scatter(ClusterDC[:,0], ClusterDC[:,1], c=ClusterDC[:,2])\n",
    "\n",
    "print(np.unique(ClusterDC[:,2]))"
   ]
  },
  {
   "cell_type": "code",
   "execution_count": 68,
   "metadata": {},
   "outputs": [],
   "source": [
    "#LENTOOOOOOOOOOOOOOOOOOOOOOOOOOOOOOOOOOOOOOOOOO\n",
    "\n",
    "#N=10000\n",
    "#patience = 10\n",
    "#Areas=[]\n",
    "#t = time.time()\n",
    "#\n",
    "#for i in range(N):\n",
    "#    if ( i % patience == 0 ):\n",
    "#        sys.stdout.write(\"\\rCompleteness : \"+str(round(i/N*100,1))+\"%\")\n",
    "#    Npackets=np.random.randint(5,10)\n",
    "#    clust=makeCluster(3,6,15,4,Npackets)\n",
    "#    ClusterDC, AreaCluster, _=findClusterOPTICS(clust,10)\n",
    "#    Areas=np.append(Areas,AreaCluster)\n",
    "#\n",
    "#print(\"\")  \n",
    "#print(time.time()-t)\n",
    "#print(np.mean(Areas))"
   ]
  },
  {
   "cell_type": "code",
   "execution_count": 76,
   "metadata": {},
   "outputs": [
    {
     "name": "stdout",
     "output_type": "stream",
     "text": [
      "No more packets\n"
     ]
    }
   ],
   "source": [
    "i = 0\n",
    "total_clusters = 0\n",
    "total_noise_points = 0\n",
    "while True:\n",
    "    file_name=\"file{0:0d}.npy\".format(i)\n",
    "    my_file = Path(file_name)\n",
    "    if my_file.is_file():\n",
    "        i += 1\n",
    "        packet = np.load(file_name, allow_pickle=True)\n",
    "        print(len(packet[0]))\n",
    "        clusters = findClusterDB(packet)\n",
    "        clusters = findClusterAC(packet)\n",
    "    else:\n",
    "        print (\"No more packets\")\n",
    "        break"
   ]
  },
  {
   "cell_type": "code",
   "execution_count": 82,
   "metadata": {},
   "outputs": [
    {
     "data": {
      "text/plain": [
       "0.0"
      ]
     },
     "execution_count": 82,
     "metadata": {},
     "output_type": "execute_result"
    }
   ],
   "source": []
  },
  {
   "cell_type": "code",
   "execution_count": 156,
   "metadata": {},
   "outputs": [
    {
     "data": {
      "text/plain": [
       "1"
      ]
     },
     "execution_count": 156,
     "metadata": {},
     "output_type": "execute_result"
    }
   ],
   "source": []
  },
  {
   "cell_type": "code",
   "execution_count": null,
   "metadata": {},
   "outputs": [],
   "source": []
  },
  {
   "cell_type": "code",
   "execution_count": null,
   "metadata": {},
   "outputs": [],
   "source": []
  }
 ],
 "metadata": {
  "kernelspec": {
   "display_name": "Python 3",
   "language": "python",
   "name": "python3"
  },
  "language_info": {
   "codemirror_mode": {
    "name": "ipython",
    "version": 3
   },
   "file_extension": ".py",
   "mimetype": "text/x-python",
   "name": "python",
   "nbconvert_exporter": "python",
   "pygments_lexer": "ipython3",
   "version": "3.8.3"
  }
 },
 "nbformat": 4,
 "nbformat_minor": 4
}
