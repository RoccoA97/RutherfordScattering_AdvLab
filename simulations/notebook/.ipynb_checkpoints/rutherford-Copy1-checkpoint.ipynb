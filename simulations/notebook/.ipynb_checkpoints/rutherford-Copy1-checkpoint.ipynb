{
 "cells": [
  {
   "cell_type": "markdown",
   "metadata": {},
   "source": [
    "# Rutherford Scattering simulation"
   ]
  },
  {
   "cell_type": "code",
   "execution_count": 1,
   "metadata": {},
   "outputs": [],
   "source": [
    "import numpy as np\n",
    "import matplotlib.pyplot as plt\n",
    "import copy\n",
    "import time"
   ]
  },
  {
   "cell_type": "code",
   "execution_count": 27,
   "metadata": {},
   "outputs": [
    {
     "data": {
      "text/plain": [
       "0.02040816326530612"
      ]
     },
     "execution_count": 27,
     "metadata": {},
     "output_type": "execute_result"
    }
   ],
   "source": []
  },
  {
   "cell_type": "markdown",
   "metadata": {},
   "source": [
    "## Constants"
   ]
  },
  {
   "cell_type": "code",
   "execution_count": 30,
   "metadata": {},
   "outputs": [],
   "source": [
    "# general constants\n",
    "c = 3.0e8\n",
    "\n",
    "# atomic properties\n",
    "m_p = 938.272 # MeV/c^2\n",
    "m_n = 939.565 # MeV/c^2\n",
    "m_a = 2*m_p + 2*m_n\n",
    "A_a = 4\n",
    "Z_a = 2\n",
    "Na = 6.02214076e23 #particles/mol\n",
    "alpha = 1.0/137.035999 #fine structure constant-\n",
    "\n",
    "\n",
    "rho_Au = 19.3 #g/cm^3\n",
    "A_Au = 196.997 #g/mol\n",
    "Dat_Au = np.power(rho_Au*Na/A_Au, -1/3) #gold inter atomic distance\n",
    "th_Au = 0.16e-6 #gold foild thickness\n",
    "Nat_Au = int(h_Au*2/Dat_Au) #number of consecutive gold atoms\n",
    "Z_Au = 79\n",
    "\n",
    "# geometry\n",
    "source_x = 0\n",
    "source_y = 0\n",
    "source_z = 0"
   ]
  },
  {
   "cell_type": "markdown",
   "metadata": {},
   "source": [
    "## Source"
   ]
  },
  {
   "cell_type": "code",
   "execution_count": 3,
   "metadata": {},
   "outputs": [],
   "source": [
    "class Source():\n",
    "    def __init__(self, s_x, s_y, s_z, s_r, s_a):\n",
    "        self.source_x = s_x    # x position\n",
    "        self.source_y = s_y    # y position\n",
    "        self.source_z = s_z    # z position\n",
    "        self.source_r = s_r    # radius\n",
    "        self.source_a = s_a    # activity\n",
    "\n",
    "    def GenerateParticle(self, E_k, M, N=1):\n",
    "        # kinematics\n",
    "        gamma = 1.0 + E_k/M\n",
    "        beta  = np.sqrt(1 - 1/(gamma*gamma))\n",
    "        p     = M * gamma * beta\n",
    "        \n",
    "        # source point of emission (polar coordinates)\n",
    "        r_s = np.sqrt(np.random.uniform(0, 1, size=(N,1))) * self.source_r\n",
    "        t_s = np.random.uniform(0, 1, size=(N,1)) * 2 * np.pi\n",
    "        \n",
    "        # source point of emission (carthesian coordinates)\n",
    "        x_s = self.source_x + r_s * np.cos(t_s)\n",
    "        y_s = self.source_y * np.ones((N,1))\n",
    "        z_s = self.source_z + r_s * np.sin(t_s)\n",
    "        \n",
    "        # versor of direction (polar coordinates)\n",
    "        u_pp = np.random.uniform(0, 1, size=(N,1)) * np.pi                 # momentum: phi   (0< phi <pi)\n",
    "        u_pt = np.arccos(2 * np.random.uniform(0, 1, size=(N,1)) - 1.0)    # momentum: theta (0<theta<pi)\n",
    "        \n",
    "        # versor of direction (carthesian coordinates)\n",
    "        u_px = np.cos(u_pp)*np.sin(u_pt)    # momentum : x\n",
    "        u_py = np.sin(u_pp)*np.sin(u_pt)    # momentum : y\n",
    "        u_pz = np.cos(u_pt)                 # momentum : z\n",
    "        \n",
    "        # momentum of alphas (carthesian coordinates)\n",
    "        px = u_px * p\n",
    "        py = u_py * p\n",
    "        pz = u_pz * p\n",
    "        \n",
    "        return [\n",
    "            np.hstack((r_s,t_s)),\n",
    "            np.hstack((x_s,y_s,z_s)),\n",
    "            np.hstack((r_s,t_s)),\n",
    "            np.hstack((u_px,u_py,u_pz)),\n",
    "            np.hstack((px,py,pz))\n",
    "        ]"
   ]
  },
  {
   "cell_type": "code",
   "execution_count": 4,
   "metadata": {},
   "outputs": [
    {
     "data": {
      "text/plain": [
       "[array([[0.91263067, 2.49757974]]),\n",
       " array([[-0.72982419,  0.        ,  0.547952  ]]),\n",
       " array([[0.91263067, 2.49757974]]),\n",
       " array([[0.87733252, 0.46029699, 0.13569943]]),\n",
       " array([[166.64124649,  87.42918279,  25.77485914]])]"
      ]
     },
     "execution_count": 4,
     "metadata": {},
     "output_type": "execute_result"
    }
   ],
   "source": [
    "source = Source(0,0,0,1,300)\n",
    "source.GenerateParticle(4.8, m_a, 1)"
   ]
  },
  {
   "cell_type": "markdown",
   "metadata": {},
   "source": [
    "## Particle"
   ]
  },
  {
   "cell_type": "code",
   "execution_count": 67,
   "metadata": {},
   "outputs": [],
   "source": [
    "class Particle():\n",
    "    def __init__(self, source, E_k, M, N=1):\n",
    "        self.source = source\n",
    "        particles = source.GenerateParticle(E_k, M, N)\n",
    "        self.particle_x  = particles[1][:,0]\n",
    "        self.particle_y  = particles[1][:,1]\n",
    "        self.particle_z  = particles[1][:,2]\n",
    "        self.particle_px = particles[4][:,0]\n",
    "        self.particle_py = particles[4][:,1]\n",
    "        self.particle_pz = particles[4][:,2]\n",
    "        self.particle_m  = M\n",
    "        self.particle_E  = E_k*np.ones((N,1))\n",
    "    \n",
    "    def FreeEvolutionDx(self, dx):\n",
    "        self.particle_x += dx\n",
    "        dt = dx*self.particle_m/self.particle_px\n",
    "        self.particle_z += dt*self.particle_pz/self.particle_m\n",
    "        self.particle_y += dt*self.particle_py/self.particle_m\n",
    "   \n",
    "    def FreeEvolutionDy(self, dy):\n",
    "        self.particle_y += dy\n",
    "        dt = dy*self.particle_m/self.particle_py\n",
    "        self.particle_x += dt*self.particle_px/self.particle_m\n",
    "        self.particle_z += dt*self.particle_pz/self.particle_m\n",
    "   \n",
    "    def FreeEvolutionDz(self, dz):\n",
    "        self.particle_z += dz\n",
    "        dt = dz*self.particle_m/self.particle_pz\n",
    "        self.particle_x += dt*self.particle_px/self.particle_m\n",
    "        self.particle_y += dt*self.particle_py/self.particle_m\n",
    "        \n",
    "    def FreeEvolutionDt(self, dt):\n",
    "        print (self.particle_x.shape)\n",
    "        self.particle_x += dt*3.0e8*self.particle_px/self.particle_m\n",
    "        self.particle_y += dt*3.0e8*self.particle_py/self.particle_m\n",
    "        self.particle_z += dt*3.0e8*self.particle_pz/self.particle_m\n",
    "        \n",
    "        \n",
    "    def TimeEvolution(self, F, dt):\n",
    "        #v(i+1)= vi +ai*dt\n",
    "        #x(i+1)= xi +v(i+1)*dt \n",
    "        # x_(i+1) = x_i + t_i*px_i/M\n",
    "        # px_(i+1) = px_i + F_i*t_i\n",
    "        pass\n",
    "    \n",
    "    def Collimate(self, collimator):\n",
    "        mask = collimator.Passage(self.particle_x, self.particle_z)\n",
    "        self.particle_x  = self.particle_x  [mask]\n",
    "        self.particle_y  = self.particle_y  [mask]\n",
    "        self.particle_z  = self.particle_z  [mask]\n",
    "        self.particle_px = self.particle_px [mask]\n",
    "        self.particle_py = self.particle_py [mask]\n",
    "        self.particle_pz = self.particle_pz [mask]\n",
    "        \n",
    "    def Interact(self, target):\n",
    "        a, tau = target.Scatter(self.particle_E, Z_a) \n",
    "        ct = np.cos(tau) \n",
    "        st = np.sin(tau) \n",
    "        ca = np.cos(a)\n",
    "        sa = np.sin(a)\n",
    "        print(a.shape)\n",
    "        self.particle_px = + ct*ca*self.particle_px - st*self.particle_py + ct*sa*self.particle_pz\n",
    "        self.particle_py = + st*ca*self.particle_px + ct*self.particle_py + st*sa*self.particle_pz\n",
    "        self.particle_pz = -    sa*self.particle_px                       +    ca*self.particle_pz\n",
    "        \n",
    "        \n",
    "    \n",
    "    def GetTrack(self):\n",
    "        return [\n",
    "            self.particle_x,\n",
    "            self.particle_y,\n",
    "            self.particle_z\n",
    "        ]\n",
    "    \n",
    "    def TrackCylinder(self, r, old_x, old_y, old_z):\n",
    "        a = np.power(self.particle_x-old_x,2) + np.power(self.particle_y-old_y,2)\n",
    "        b = old_x * (self.particle_x-old_x) + old_y * (self.particle_y-old_y)\n",
    "        t = (-b + np.sign(self.particle_y) * np.sqrt(np.power(b,2) + a*r*r)) / a\n",
    "        \n",
    "        # print(a)\n",
    "        # print(b)\n",
    "        # print(t)\n",
    "        \n",
    "        x_cyl = old_x + t * (self.particle_x-old_x)\n",
    "        y_cyl = old_y + t * (self.particle_y-old_y)\n",
    "        z_cyl = old_z + t * (self.particle_z-old_z)\n",
    "        \n",
    "        t_cyl = np.arccos(x_cyl/r)\n",
    "        \n",
    "        return [x_cyl, y_cyl, z_cyl, t_cyl]"
   ]
  },
  {
   "cell_type": "code",
   "execution_count": 68,
   "metadata": {},
   "outputs": [],
   "source": [
    "particles = Particle(source, 4.8, m_a)"
   ]
  },
  {
   "cell_type": "code",
   "execution_count": 69,
   "metadata": {},
   "outputs": [
    {
     "data": {
      "text/plain": [
       "array([-0.00188405])"
      ]
     },
     "execution_count": 69,
     "metadata": {},
     "output_type": "execute_result"
    }
   ],
   "source": [
    "particles.particle_x"
   ]
  },
  {
   "cell_type": "markdown",
   "metadata": {},
   "source": [
    "## Collimator"
   ]
  },
  {
   "cell_type": "code",
   "execution_count": 70,
   "metadata": {},
   "outputs": [],
   "source": [
    "class Collimator():\n",
    "    def __init__(self, c_x, c_y, c_z, c_w, c_h):\n",
    "        self.collimator_x = c_x    # x origin    +++++   ^z\n",
    "        self.collimator_y = c_y    # y origin    +   +   |\n",
    "        self.collimator_z = c_z    # z origin    o++++   x--->x\n",
    "        self.collimator_w = c_w    # width\n",
    "        self.collimator_h = c_h    # height\n",
    "        \n",
    "    def Passage(self, x, z):\n",
    "        # if x>self.collimator_x and x <self.collimator_x+self.collimator_w and \\\n",
    "        #    y>self.collimator_y and y <self.collimator_y+self.collimator_h:\n",
    "        #     return True\n",
    "        # else:\n",
    "        #     return False\n",
    "        col_x = np.ones(x.shape) * self.collimator_x\n",
    "        col_z = np.ones(z.shape) * self.collimator_z\n",
    "        mask_x = np.logical_and(x>col_x, x<col_x+self.collimator_w)\n",
    "        mask_z = np.logical_and(z>col_z, z<col_z+self.collimator_h)\n",
    "        mask   = np.logical_and(mask_x, mask_z)\n",
    "        return mask"
   ]
  },
  {
   "cell_type": "markdown",
   "metadata": {},
   "source": [
    "## Target scatter"
   ]
  },
  {
   "cell_type": "code",
   "execution_count": 71,
   "metadata": {},
   "outputs": [],
   "source": [
    "# https://robolab.unex.es/wp-content/plugins/papercite/pdf/rutherford-simple-scattering.pdf\n",
    "#classical treatment\n",
    "#given a particle i generate 2 numbers x,y in (a, Dat/2)\n",
    "# Dat is the inter atomic distance Dat=(rho*NA/A)^-1/3\n",
    "#rho density A atomic mass NA avogadros number\n",
    "# the impact parameter is sqrt(x2+y2)\n",
    "\n",
    "\n",
    "class Target():\n",
    "    def __init__(self, t_x, t_y, t_z, t_t, t_r, t_A, t_Z):\n",
    "        self.target_x = t_x\n",
    "        self.target_y = t_y\n",
    "        self.target_z = t_z\n",
    "        self.target_t = t_t #target thickness\n",
    "        self.target_r = t_r #target density (rho)\n",
    "        self.target_A = t_A #target atomic mass\n",
    "        self.target_Z = t_Z #target effective atomic number\n",
    "        self.target_D = np.power(t_r*Na/t_A, -1/3) #target interatomic distance\n",
    "    \n",
    "    def Scatter(self, E, q): #energy and charge of projectyle\n",
    "        x = np.random.uniform(0,self.target_D/2, E.shape)\n",
    "        y = np.random.uniform(0,self.target_D/2, E.shape)\n",
    "        a = np.arctan(x/y)\n",
    "        b = np.sqrt(np.square(x)+np.square(y))\n",
    "        k_2tb = q*self.target_Z*alpha / (2*E*b)\n",
    "        theta = np.pi - 2*np.arccos(k_2tb / np.sqrt(1 + np.square(k_2tb)))\n",
    "        tau = np.arctan(np.sin(theta)/(np.cos(theta)+ m_a/self.target_A))\n",
    "        return a, tau"
   ]
  },
  {
   "cell_type": "code",
   "execution_count": null,
   "metadata": {},
   "outputs": [],
   "source": []
  },
  {
   "cell_type": "markdown",
   "metadata": {},
   "source": [
    "## Test"
   ]
  },
  {
   "cell_type": "markdown",
   "metadata": {},
   "source": [
    "### Geometry and evolution"
   ]
  },
  {
   "cell_type": "code",
   "execution_count": 72,
   "metadata": {},
   "outputs": [
    {
     "name": "stdout",
     "output_type": "stream",
     "text": [
      "(10000, 1)\n"
     ]
    },
    {
     "ename": "ValueError",
     "evalue": "non-broadcastable output operand with shape (2,) doesn't match the broadcast shape (10000,2)",
     "output_type": "error",
     "traceback": [
      "\u001b[0;31m---------------------------------------------------------------------------\u001b[0m",
      "\u001b[0;31mValueError\u001b[0m                                Traceback (most recent call last)",
      "\u001b[0;32m<ipython-input-72-9bd898cf2b54>\u001b[0m in \u001b[0;36m<module>\u001b[0;34m\u001b[0m\n\u001b[1;32m     30\u001b[0m     \u001b[0;31m# particles.FreeEvolutionDy(0.05)\u001b[0m\u001b[0;34m\u001b[0m\u001b[0;34m\u001b[0m\u001b[0;34m\u001b[0m\u001b[0m\n\u001b[1;32m     31\u001b[0m \u001b[0;34m\u001b[0m\u001b[0m\n\u001b[0;32m---> 32\u001b[0;31m     \u001b[0mparticles\u001b[0m\u001b[0;34m.\u001b[0m\u001b[0mFreeEvolutionDt\u001b[0m\u001b[0;34m(\u001b[0m\u001b[0;36m1e-8\u001b[0m\u001b[0;34m)\u001b[0m\u001b[0;34m\u001b[0m\u001b[0;34m\u001b[0m\u001b[0m\n\u001b[0m\u001b[1;32m     33\u001b[0m \u001b[0;34m\u001b[0m\u001b[0m\n\u001b[1;32m     34\u001b[0m     \u001b[0mtrack\u001b[0m \u001b[0;34m=\u001b[0m \u001b[0mparticles\u001b[0m\u001b[0;34m.\u001b[0m\u001b[0mTrackCylinder\u001b[0m\u001b[0;34m(\u001b[0m\u001b[0;36m0.05\u001b[0m\u001b[0;34m,\u001b[0m \u001b[0mx_old\u001b[0m\u001b[0;34m,\u001b[0m \u001b[0my_old\u001b[0m\u001b[0;34m,\u001b[0m \u001b[0mz_old\u001b[0m\u001b[0;34m)\u001b[0m\u001b[0;34m\u001b[0m\u001b[0;34m\u001b[0m\u001b[0m\n",
      "\u001b[0;32m<ipython-input-67-91c0fbc7adbe>\u001b[0m in \u001b[0;36mFreeEvolutionDt\u001b[0;34m(self, dt)\u001b[0m\n\u001b[1;32m     31\u001b[0m \u001b[0;34m\u001b[0m\u001b[0m\n\u001b[1;32m     32\u001b[0m     \u001b[0;32mdef\u001b[0m \u001b[0mFreeEvolutionDt\u001b[0m\u001b[0;34m(\u001b[0m\u001b[0mself\u001b[0m\u001b[0;34m,\u001b[0m \u001b[0mdt\u001b[0m\u001b[0;34m)\u001b[0m\u001b[0;34m:\u001b[0m\u001b[0;34m\u001b[0m\u001b[0;34m\u001b[0m\u001b[0m\n\u001b[0;32m---> 33\u001b[0;31m         \u001b[0mself\u001b[0m\u001b[0;34m.\u001b[0m\u001b[0mparticle_x\u001b[0m \u001b[0;34m+=\u001b[0m \u001b[0mdt\u001b[0m\u001b[0;34m*\u001b[0m\u001b[0;36m3.0e8\u001b[0m\u001b[0;34m*\u001b[0m\u001b[0mself\u001b[0m\u001b[0;34m.\u001b[0m\u001b[0mparticle_px\u001b[0m\u001b[0;34m/\u001b[0m\u001b[0mself\u001b[0m\u001b[0;34m.\u001b[0m\u001b[0mparticle_m\u001b[0m\u001b[0;34m\u001b[0m\u001b[0;34m\u001b[0m\u001b[0m\n\u001b[0m\u001b[1;32m     34\u001b[0m         \u001b[0mself\u001b[0m\u001b[0;34m.\u001b[0m\u001b[0mparticle_y\u001b[0m \u001b[0;34m+=\u001b[0m \u001b[0mdt\u001b[0m\u001b[0;34m*\u001b[0m\u001b[0;36m3.0e8\u001b[0m\u001b[0;34m*\u001b[0m\u001b[0mself\u001b[0m\u001b[0;34m.\u001b[0m\u001b[0mparticle_py\u001b[0m\u001b[0;34m/\u001b[0m\u001b[0mself\u001b[0m\u001b[0;34m.\u001b[0m\u001b[0mparticle_m\u001b[0m\u001b[0;34m\u001b[0m\u001b[0;34m\u001b[0m\u001b[0m\n\u001b[1;32m     35\u001b[0m         \u001b[0mself\u001b[0m\u001b[0;34m.\u001b[0m\u001b[0mparticle_z\u001b[0m \u001b[0;34m+=\u001b[0m \u001b[0mdt\u001b[0m\u001b[0;34m*\u001b[0m\u001b[0;36m3.0e8\u001b[0m\u001b[0;34m*\u001b[0m\u001b[0mself\u001b[0m\u001b[0;34m.\u001b[0m\u001b[0mparticle_pz\u001b[0m\u001b[0;34m/\u001b[0m\u001b[0mself\u001b[0m\u001b[0;34m.\u001b[0m\u001b[0mparticle_m\u001b[0m\u001b[0;34m\u001b[0m\u001b[0;34m\u001b[0m\u001b[0m\n",
      "\u001b[0;31mValueError\u001b[0m: non-broadcastable output operand with shape (2,) doesn't match the broadcast shape (10000,2)"
     ]
    }
   ],
   "source": [
    "N = 10000#10000000\n",
    "k = 5#1000\n",
    "\n",
    "#np.cuda.Device(0).use()\n",
    "\n",
    "x_cyl = np.array([])\n",
    "y_cyl = np.array([])\n",
    "z_cyl = np.array([])\n",
    "t_cyl = np.array([])\n",
    "\n",
    "source = Source(0, -0.05, 0, 0.003, 300)\n",
    "col1 = Collimator(-0.001, -0.04, -0.002, 0.002, 0.004)\n",
    "col2 = Collimator(-0.001,  0.00, -0.002, 0.002, 0.004)\n",
    "target = Target ( 0.0, 0.0, 0.0, th_Au, rho_Au, A_Au, Z_Au)\n",
    "\n",
    "start = time.time()\n",
    "for i in range(k):\n",
    "    particles = Particle(source, 4.8, m_a, N)\n",
    "\n",
    "    particles.FreeEvolutionDy(0.01)\n",
    "    particles.Collimate(col1)\n",
    "    particles.FreeEvolutionDy(0.04)\n",
    "    particles.Collimate(col2)\n",
    "    particles.Interact(target)\n",
    "\n",
    "    x_old = copy.deepcopy(particles.particle_x)# track1[0]# np.copy(particles.particle_x)\n",
    "    y_old = copy.deepcopy(particles.particle_y)# track1[1]# np.copy(particles.particle_y)\n",
    "    z_old = copy.deepcopy(particles.particle_z)# track1[2]# np.copy(particles.particle_z)\n",
    "\n",
    "    # particles.FreeEvolutionDy(0.05)\n",
    "\n",
    "    particles.FreeEvolutionDt(1e-8)\n",
    "\n",
    "    track = particles.TrackCylinder(0.05, x_old, y_old, z_old)\n",
    "\n",
    "    x_cyl = np.hstack((x_cyl,track[0]))\n",
    "    y_cyl = np.hstack((y_cyl,track[1]))\n",
    "    z_cyl = np.hstack((z_cyl,track[2]))\n",
    "    t_cyl = np.hstack((t_cyl,track[3]))\n",
    "    del particles\n",
    "    del x_old\n",
    "    del y_old\n",
    "    del z_old\n",
    "    \n",
    "print(time.time()-start)"
   ]
  },
  {
   "cell_type": "code",
   "execution_count": null,
   "metadata": {},
   "outputs": [],
   "source": []
  },
  {
   "cell_type": "code",
   "execution_count": 11,
   "metadata": {},
   "outputs": [
    {
     "data": {
      "text/plain": [
       "(22544,)"
      ]
     },
     "execution_count": 11,
     "metadata": {},
     "output_type": "execute_result"
    }
   ],
   "source": [
    "t_cyl.shape"
   ]
  },
  {
   "cell_type": "markdown",
   "metadata": {},
   "source": [
    "### Plot of the track"
   ]
  },
  {
   "cell_type": "code",
   "execution_count": 12,
   "metadata": {},
   "outputs": [
    {
     "data": {
      "image/png": "[encoded data removed]",
      "text/plain": [
       "<Figure size 432x288 with 1 Axes>"
      ]
     },
     "metadata": {
      "needs_background": "light"
     },
     "output_type": "display_data"
    }
   ],
   "source": [
    "plt.hist2d(x_cyl, z_cyl, bins=[100,100])\n",
    "plt.show()"
   ]
  },
  {
   "cell_type": "code",
   "execution_count": 13,
   "metadata": {},
   "outputs": [
    {
     "data": {
      "image/png": "[encoded data removed]",
      "text/plain": [
       "<Figure size 576x864 with 2 Axes>"
      ]
     },
     "metadata": {
      "needs_background": "light"
     },
     "output_type": "display_data"
    }
   ],
   "source": [
    "fig=plt.figure(figsize=(8, 12))\n",
    "\n",
    "plt.subplot(2,1,1)\n",
    "plt.hist2d(t_cyl, z_cyl, bins=[50,1])\n",
    "\n",
    "plt.subplot(2,1,2)\n",
    "plt.hist(t_cyl, bins=50, edgecolor='black')\n",
    "plt.show()"
   ]
  },
  {
   "cell_type": "code",
   "execution_count": null,
   "metadata": {},
   "outputs": [],
   "source": []
  },
  {
   "cell_type": "code",
   "execution_count": null,
   "metadata": {},
   "outputs": [],
   "source": []
  }
 ],
 "metadata": {
  "kernelspec": {
   "display_name": "Python 3",
   "language": "python",
   "name": "python3"
  },
  "language_info": {
   "codemirror_mode": {
    "name": "ipython",
    "version": 3
   },
   "file_extension": ".py",
   "mimetype": "text/x-python",
   "name": "python",
   "nbconvert_exporter": "python",
   "pygments_lexer": "ipython3",
   "version": "3.7.3"
  }
 },
 "nbformat": 4,
 "nbformat_minor": 4
}
