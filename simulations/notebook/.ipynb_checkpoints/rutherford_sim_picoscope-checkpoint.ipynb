{
 "cells": [
  {
   "cell_type": "markdown",
   "metadata": {},
   "source": [
    "# Rutherford Scattering simulation"
   ]
  },
  {
   "cell_type": "code",
   "execution_count": 1,
   "metadata": {},
   "outputs": [],
   "source": [
    "USE_GPU = True\n",
    "if USE_GPU:\n",
    "    import cupy as np\n",
    "else:\n",
    "    import numpy as np\n",
    "    \n",
    "import matplotlib.pyplot as plt\n",
    "import copy\n",
    "import time\n",
    "import sys"
   ]
  },
  {
   "cell_type": "markdown",
   "metadata": {},
   "source": [
    "## Constants"
   ]
  },
  {
   "cell_type": "code",
   "execution_count": 2,
   "metadata": {},
   "outputs": [],
   "source": [
    "# general constants\n",
    "c = 3.0e8\n",
    "e0 = 8.854e-12\n",
    "e = 1.602e-19\n",
    "eA = 4.8 * 1e6 * e #alpha energy in Joule\n",
    "\n",
    "# atomic properties\n",
    "m_p = 938.272 # MeV/c^2\n",
    "m_n = 939.565 # MeV/c^2\n",
    "m_a = 2*m_p + 2*m_n\n",
    "A_a = 4\n",
    "Z_a = 2\n",
    "Na = 6.02214076e23 #particles/mol\n",
    "alpha = 1.0/137.035999 #fine structure constant-\n",
    "\n",
    "\n",
    "rho_Au = 19.3 #g/cm^3\n",
    "A_Au = 196.997 #g/mol\n",
    "Dat_Au = np.power(rho_Au*Na/A_Au, -1/3)*0.01/(1000*(0.197e-15)) #gold inter atomic distance\n",
    "th_Au = 0.16e-6 #gold foild thickness\n",
    "Z_Au = 79\n",
    "Z_Au_eff = 67\n",
    "R_Au = 166e-3 #atomix radius in nanometers\n",
    "lambda_Au = np.log(Z_Au/Z_Au_eff)/R_Au\n",
    "\n",
    "# geometry\n",
    "source_x = 0\n",
    "source_y = 0\n",
    "source_z = 0"
   ]
  },
  {
   "cell_type": "code",
   "execution_count": 3,
   "metadata": {},
   "outputs": [],
   "source": [
    "#!!!!! diversa da quella sopra\n",
    "gold_dist = 3.6e-10 #gold interatomic distance (?) \n",
    "Nat_Au = int(th_Au/(2*gold_dist)) #number of consecutive gold atoms\n"
   ]
  },
  {
   "cell_type": "markdown",
   "metadata": {},
   "source": [
    "## Source"
   ]
  },
  {
   "cell_type": "code",
   "execution_count": 4,
   "metadata": {},
   "outputs": [],
   "source": [
    "class Source():\n",
    "    def __init__(self, s_x, s_y, s_z, s_r, s_a):\n",
    "        self.source_x = s_x    # x position\n",
    "        self.source_y = s_y    # y position\n",
    "        self.source_z = s_z    # z position\n",
    "        self.source_r = s_r    # radius\n",
    "        self.source_a = s_a    # activity\n",
    "\n",
    "    def GenerateParticle(self, E_k, M, N=1):\n",
    "        # kinematics\n",
    "        gamma = 1.0 + E_k/M\n",
    "        beta  = np.sqrt(1 - 1/(gamma*gamma))\n",
    "        p     = M * gamma * beta\n",
    "        \n",
    "        # source point of emission (polar coordinates)\n",
    "        r_s = np.sqrt(np.random.uniform(0, 1, size=(N,1))) * self.source_r\n",
    "        t_s = np.random.uniform(0, 1, size=(N,1)) * 2 * np.pi\n",
    "        \n",
    "        # source point of emission (carthesian coordinates)\n",
    "        x_s = self.source_x + r_s * np.cos(t_s)\n",
    "        y_s = self.source_y + r_s * np.sin(t_s)\n",
    "        z_s = self.source_z * np.ones((N,1))\n",
    "        \n",
    "        # versor of direction (polar coordinates)\n",
    "        u_pp = np.random.uniform(0, 1, size=(N,1)) * 2 * np.pi    # momentum: phi   (0< phi <2pi  )\n",
    "        u_pt = np.arccos(np.random.uniform(0, 1, size=(N,1)))     # momentum: theta (0<theta< pi/2)\n",
    "        \n",
    "        # versor of direction (carthesian coordinates)\n",
    "        u_px = np.cos(u_pp)*np.sin(u_pt)    # momentum : x\n",
    "        u_py = np.sin(u_pp)*np.sin(u_pt)    # momentum : y\n",
    "        u_pz = np.cos(u_pt)                 # momentum : z\n",
    "        \n",
    "        # momentum of alphas (carthesian coordinates)\n",
    "        px = u_px * p\n",
    "        py = u_py * p\n",
    "        pz = u_pz * p\n",
    "        \n",
    "        return [\n",
    "            np.hstack((r_s,t_s)),\n",
    "            np.hstack((x_s,y_s,z_s)),\n",
    "            np.hstack((u_pp,u_pt)),\n",
    "            np.hstack((u_px,u_py,u_pz)),\n",
    "            np.hstack((px,py,pz))\n",
    "        ]"
   ]
  },
  {
   "cell_type": "code",
   "execution_count": 5,
   "metadata": {},
   "outputs": [
    {
     "data": {
      "text/plain": [
       "[array([[0.88011359, 3.49001956]]),\n",
       " array([[-0.8272284 , -0.30048809,  0.        ]]),\n",
       " array([[3.43569534, 0.68618681]]),\n",
       " array([[-0.6063869 , -0.1836663 ,  0.77366764]]),\n",
       " array([[-115.177618  ,  -34.88572468,  146.95105622]])]"
      ]
     },
     "execution_count": 5,
     "metadata": {},
     "output_type": "execute_result"
    }
   ],
   "source": [
    "source = Source(0,0,0,1,300)\n",
    "source.GenerateParticle(4.8, m_a, 1)"
   ]
  },
  {
   "cell_type": "markdown",
   "metadata": {},
   "source": [
    "## Particle"
   ]
  },
  {
   "cell_type": "code",
   "execution_count": 6,
   "metadata": {},
   "outputs": [],
   "source": [
    "class Particle():\n",
    "    def __init__(self, source, E_k, M, N=1):\n",
    "        self.source = source\n",
    "        particles = source.GenerateParticle(E_k, M, N)\n",
    "        self.particle_x  = particles[1][:,0]\n",
    "        self.particle_y  = particles[1][:,1]\n",
    "        self.particle_z  = particles[1][:,2]\n",
    "        self.particle_pp = particles[2][:,0]\n",
    "        self.particle_pt = particles[2][:,1]\n",
    "        self.particle_px = particles[4][:,0]\n",
    "        self.particle_py = particles[4][:,1]\n",
    "        self.particle_pz = particles[4][:,2]\n",
    "        self.particle_m  = M\n",
    "        self.particle_E  = E_k*np.ones((N,))\n",
    "    \n",
    "    def FreeEvolutionDx(self, dx):\n",
    "        self.particle_x += dx\n",
    "        dt = dx*self.particle_m/self.particle_px\n",
    "        self.particle_z += dt*self.particle_pz/self.particle_m\n",
    "        self.particle_y += dt*self.particle_py/self.particle_m\n",
    "   \n",
    "    def FreeEvolutionDy(self, dy):\n",
    "        self.particle_y += dy\n",
    "        dt = dy*self.particle_m/self.particle_py\n",
    "        self.particle_x += dt*self.particle_px/self.particle_m\n",
    "        self.particle_z += dt*self.particle_pz/self.particle_m\n",
    "   \n",
    "    def FreeEvolutionDz(self, dz):\n",
    "        self.particle_z += dz\n",
    "        dt = dz*self.particle_m/self.particle_pz\n",
    "        self.particle_x += dt*self.particle_px/self.particle_m\n",
    "        self.particle_y += dt*self.particle_py/self.particle_m\n",
    "        \n",
    "    def FreeEvolutionDt(self, dt):\n",
    "        self.particle_x += dt*3.0e8*self.particle_px/self.particle_m\n",
    "        self.particle_y += dt*3.0e8*self.particle_py/self.particle_m\n",
    "        self.particle_z += dt*3.0e8*self.particle_pz/self.particle_m\n",
    "        \n",
    "    def TimeEvolution(self, F, dt):\n",
    "        #v(i+1)= vi +ai*dt\n",
    "        #x(i+1)= xi +v(i+1)*dt \n",
    "        # x_(i+1) = x_i + t_i*px_i/M\n",
    "        # px_(i+1) = px_i + F_i*t_i\n",
    "        pass\n",
    "    \n",
    "    def Collimate(self, collimator):\n",
    "        mask = collimator.Passage(self.particle_x, self.particle_y)\n",
    "        self.particle_x  = self.particle_x  [mask]\n",
    "        self.particle_y  = self.particle_y  [mask]\n",
    "        self.particle_z  = self.particle_z  [mask]\n",
    "        self.particle_pp = self.particle_pp [mask]\n",
    "        self.particle_pt = self.particle_pt [mask]\n",
    "        self.particle_px = self.particle_px [mask]\n",
    "        self.particle_py = self.particle_py [mask]\n",
    "        self.particle_pz = self.particle_pz [mask]\n",
    "        self.particle_E  = self.particle_E  [mask]\n",
    "        \n",
    "        \n",
    "    def Interact(self, target):\n",
    "        alpha, beta = target.Scatter(self.particle_E, Z_a)\n",
    "        # cos's\n",
    "        ca = np.cos(alpha)\n",
    "        cb = np.cos(beta)\n",
    "        cp = np.cos(self.particle_pp)\n",
    "        ct = np.cos(self.particle_pt)\n",
    "        # sin's\n",
    "        sa = np.sin(alpha)\n",
    "        sb = np.sin(beta)\n",
    "        sp = np.sin(self.particle_pp)\n",
    "        st = np.sin(self.particle_pt)\n",
    "        # momentum\n",
    "        p  = np.sqrt(np.square(self.particle_px) + np.square(self.particle_py) + np.square(self.particle_pz))\n",
    "        #rotate\n",
    "        self.particle_px = (+ cp*ct*ca*sb + 1.0*sp*sa*sb - cp*st*cb) * p\n",
    "        self.particle_py = (- sp*ct*ca*sb + 1.0*cp*sa*sb + sp*st*cb) * p\n",
    "        self.particle_pz = (+    st*ca*sb + 0.0*   sa*sb +    ct*cb) * p    \n",
    "    \n",
    "    def GetTrack(self):\n",
    "        return [\n",
    "            self.particle_x,\n",
    "            self.particle_y,\n",
    "            self.particle_z\n",
    "        ]\n",
    "    def GetNParticles(self):\n",
    "        return len(self.particle_E)\n",
    "    \n",
    "    def TrackCylinder(self, r, old_x, old_y, old_z):\n",
    "        a = np.square(self.particle_x-old_x) + np.square(self.particle_z-old_z)\n",
    "        b = old_x *  (self.particle_x-old_x) + old_z *  (self.particle_z-old_z)\n",
    "        t = (-b + np.sign(self.particle_z) * np.sqrt(np.square(b) + a*r*r)) / a\n",
    "        \n",
    "        x_cyl = old_x + t * (self.particle_x-old_x)\n",
    "        y_cyl = old_y + t * (self.particle_y-old_y)\n",
    "        z_cyl = old_z + t * (self.particle_z-old_z)\n",
    "        \n",
    "        t_cyl = np.arccos(z_cyl/r)\n",
    "        \n",
    "        return [x_cyl, y_cyl, z_cyl, t_cyl]"
   ]
  },
  {
   "cell_type": "code",
   "execution_count": 7,
   "metadata": {},
   "outputs": [],
   "source": [
    "particles = Particle(source, 4.8, m_a)"
   ]
  },
  {
   "cell_type": "code",
   "execution_count": 8,
   "metadata": {},
   "outputs": [
    {
     "data": {
      "text/plain": [
       "array([0.30753191])"
      ]
     },
     "execution_count": 8,
     "metadata": {},
     "output_type": "execute_result"
    }
   ],
   "source": [
    "particles.particle_x"
   ]
  },
  {
   "cell_type": "markdown",
   "metadata": {},
   "source": [
    "## Collimator"
   ]
  },
  {
   "cell_type": "code",
   "execution_count": 9,
   "metadata": {},
   "outputs": [],
   "source": [
    "class Collimator():\n",
    "    def __init__(self, c_x, c_y, c_z, c_w, c_h):\n",
    "        #left bottom angle\n",
    "        self.collimator_x = c_x    # x origin    +++++   ^z\n",
    "        self.collimator_y = c_y    # y origin    +   +   |\n",
    "        self.collimator_z = c_z    # z origin    o++++   x--->x\n",
    "        self.collimator_w = c_w    # width\n",
    "        self.collimator_h = c_h    # height\n",
    "        \n",
    "    def Passage(self, x, y):\n",
    "        # if x>self.collimator_x and x <self.collimator_x+self.collimator_w and \\\n",
    "        #    y>self.collimator_y and y <self.collimator_y+self.collimator_h:\n",
    "        #     return True\n",
    "        # else:\n",
    "        #     return False\n",
    "        col_x = np.ones(x.shape) * self.collimator_x\n",
    "        col_y = np.ones(y.shape) * self.collimator_y\n",
    "        mask_x = np.logical_and(x>col_x, x<col_x+self.collimator_w)\n",
    "        mask_y = np.logical_and(y>col_y, y<col_y+self.collimator_h)\n",
    "        mask   = np.logical_and(mask_x, mask_y)\n",
    "        return mask\n",
    "    \n",
    "class CollimatorCircular():\n",
    "    def __init__(self, c_x, c_y, c_z, c_r):\n",
    "        self.collimator_x = c_x    # x origin   (center)\n",
    "        self.collimator_y = c_y    # y origin    \n",
    "        self.collimator_z = c_z    # z origin    \n",
    "        self.collimator_r = c_r    # radius\n",
    "    def Passage(self, x, y):\n",
    "        # if x>self.collimator_x and x <self.collimator_x+self.collimator_w and \\\n",
    "        #    y>self.collimator_y and y <self.collimator_y+self.collimator_h:\n",
    "        #     return True\n",
    "        # else:\n",
    "        #     return False\n",
    "        col_x = np.ones(x.shape) * self.collimator_x\n",
    "        col_y = np.ones(y.shape) * self.collimator_y\n",
    "        mask  = np.sqrt(np.square(col_x-x)+np.square(col_y-y))<self.collimator_r\n",
    "        return mask\n",
    "    \n",
    "class CollimatorDetector():\n",
    "    def __init__(self, c_y, h_y):\n",
    "        self.collimator_y = c_y    # y center    \n",
    "        self.collimator_h = h_y    # height (full not half)\n",
    "    def Passage(self, x,y):\n",
    "        col_y = np.ones(y.shape) * self.collimator_y\n",
    "        mask  = np.abs (col_y-y) < self.collimator_h/2\n",
    "        return mask"
   ]
  },
  {
   "cell_type": "markdown",
   "metadata": {},
   "source": [
    "## Target scatter"
   ]
  },
  {
   "cell_type": "code",
   "execution_count": 10,
   "metadata": {},
   "outputs": [],
   "source": [
    "# https://robolab.unex.es/wp-content/plugins/papercite/pdf/rutherford-simple-scattering.pdf\n",
    "#classical treatment\n",
    "#given a particle i generate 2 numbers x,y in (a, Dat/2)\n",
    "# Dat is the inter atomic distance Dat=(rho*NA/A)^-1/3\n",
    "#rho density A atomic mass NA avogadros number\n",
    "# the impact parameter is sqrt(x2+y2)\n",
    "\n",
    "\n",
    "class Target():\n",
    "    def __init__(self, t_x, t_y, t_z, t_t, t_r, t_A, t_Z):\n",
    "        self.target_x = t_x\n",
    "        self.target_y = t_y\n",
    "        self.target_z = t_z\n",
    "        self.target_t = t_t #target thickness\n",
    "        self.target_r = t_r #target density (rho)\n",
    "        self.target_A = t_A #target atomic mass\n",
    "        self.target_Z = t_Z #target effective atomic number\n",
    "        self.target_D = np.power(t_r*Na/t_A, -1.0/3.0)*0.01*1.0e9\n",
    "        # np.power(t_r*Na/t_A, -1.0/3.0)*0.01/(1000*(0.197e-15))#-15 giusto #target interatomic distance\n",
    "    \n",
    "    def Scatter(self, E, q): #energy and charge of projectyle\n",
    "        a = 2*np.pi*np.random.uniform(0,1)#np.arctan(x/y)\n",
    "        b = np.random.uniform(0,self.target_D/2, E.shape)\n",
    "        zexp = self.target_Z * np.exp(-b*lambda_Au)\n",
    "        k_2tb = 2.3651e-5/b *(zexp/self.target_Z) #K is q1q2/(4*pi*e0* E_alpha) this is in nanometers\n",
    "        #in mevs\n",
    "        #k_2tb= q*self.target_Z / (2*E*b) # q*self.target_Z*alpha / (2*E*b)\n",
    "        beta = 2*np.arctan(1/k_2tb) #np.pi - 2*np.arccos(k_2tb / np.sqrt(1 + np.square(k_2tb)))\n",
    "        \n",
    "        \n",
    "        return a, beta"
   ]
  },
  {
   "cell_type": "markdown",
   "metadata": {},
   "source": [
    "## Test"
   ]
  },
  {
   "cell_type": "markdown",
   "metadata": {},
   "source": [
    "### Detector efficiency"
   ]
  },
  {
   "cell_type": "code",
   "execution_count": 11,
   "metadata": {},
   "outputs": [
    {
     "name": "stdout",
     "output_type": "stream",
     "text": [
      "Completeness : 95.0%\n",
      "1595.7\n",
      "acceptance : 0.0079785 %\n"
     ]
    }
   ],
   "source": [
    "N = 10000000#10000000\n",
    "k = 20\n",
    "patience = 1\n",
    "\n",
    "\n",
    "source = Source(0, 0, -0.002, 0.003, 300)\n",
    "#col 1 is the geometrical collimator of the source holder\n",
    "col1 = Collimator(-0.0055, -0.0055, 0.0, 0.011, 0.011)\n",
    "col2 = CollimatorCircular(0.0, 0.0, 0.0769, 0.0014)\n",
    "\n",
    "n_particles = []\n",
    "\n",
    "for i in range(k):\n",
    "    if ( i % patience == 0 ):\n",
    "        sys.stdout.write(\"\\rCompleteness : \"+str(round(i/k*100,1))+\"%\")\n",
    "    particles = Particle(source, 4.8, m_a, N)\n",
    "    particles.FreeEvolutionDz(0.002)\n",
    "    particles.Collimate(col1)\n",
    "    particles.FreeEvolutionDz(0.0769)\n",
    "    particles.Collimate(col2)\n",
    "    n_particles.append(particles.GetNParticles())\n",
    "\n",
    "print(\"\")\n",
    "n_particles = np.array(n_particles)\n",
    "mean_survivor = np.mean(n_particles)\n",
    "print(mean_survivor)\n",
    "#in the denominator the 2 factor is needed since we geenrate in the semisphere\n",
    "acc_sim = mean_survivor/(2*N)*100\n",
    "print(\"acceptance :\",acc_sim , \"%\")"
   ]
  },
  {
   "cell_type": "code",
   "execution_count": 12,
   "metadata": {},
   "outputs": [
    {
     "name": "stdout",
     "output_type": "stream",
     "text": [
      "Solid angles : 0.0010412458043455681\n",
      "acceptance   : 0.008285970836764685 %\n"
     ]
    }
   ],
   "source": [
    "#by hand\n",
    "radius = 0.14\n",
    "dist = 7.69\n",
    "ang_solid = radius**2*np.pi/dist**2\n",
    "\n",
    "print(\"Solid angles :\", ang_solid)\n",
    "print(\"acceptance   :\", ang_solid/(4*np.pi)*100, \"%\")"
   ]
  },
  {
   "cell_type": "markdown",
   "metadata": {},
   "source": [
    "### Geometry and evolution: angular distribution simulation"
   ]
  },
  {
   "cell_type": "code",
   "execution_count": 13,
   "metadata": {},
   "outputs": [],
   "source": [
    "if USE_GPU:\n",
    "    import cupy as np #just in case of recompilation in the middle\n",
    "    np.cuda.Device(0).use()"
   ]
  },
  {
   "cell_type": "code",
   "execution_count": 14,
   "metadata": {},
   "outputs": [
    {
     "name": "stdout",
     "output_type": "stream",
     "text": [
      "Completeness : 99.0%\n",
      "Completed\n",
      "57.53224563598633\n"
     ]
    }
   ],
   "source": [
    "N = 10000000#10000000\n",
    "k = 100#1000\n",
    "tot_gen = N*k\n",
    "patience = 1\n",
    "\n",
    "x_f  = np.array([])\n",
    "y_f  = np.array([])\n",
    "z_f  = np.array([])\n",
    "t_f  = np.array([])\n",
    "px_f = np.array([])\n",
    "py_f = np.array([])\n",
    "pz_f = np.array([])\n",
    "\n",
    "#source = Source(0, 0, -0.05, 0.003, 300)\n",
    "#col1 = Collimator(-0.0005, -0.0015, -0.04, 0.001, 0.003)\n",
    "#col2 = Collimator(-0.0005, -0.0015,  0.00, 0.001, 0.003)\n",
    "#target = Target ( 0.0, 0.0, 0.0, th_Au, rho_Au, A_Au, Z_Au)\n",
    "\n",
    "#dcol.cik = 18.5 mm\n",
    "#dcol,lam = 1mm\n",
    "#-> zsorgente = 19.5\n",
    "#cols = 4x7 mm\n",
    "source = Source(0, 0, -0.0205, 0.003, 300)\n",
    "col1 = Collimator(-0.00225, -0.0035, -0.0195, 0.0045, 0.007)\n",
    "col2 = Collimator(-0.00225, -0.0035, -0.0010, 0.0045, 0.007)\n",
    "target = Target ( 0.0, 0.0, 0.0, th_Au, rho_Au, A_Au,  Z_Au)\n",
    "\n",
    "start = time.time()\n",
    "for i in range(k):\n",
    "    if ( i % patience == 0 ):\n",
    "        sys.stdout.write(\"\\rCompleteness : \"+str(round(i/k*100,1))+\"%\")\n",
    "    particles = Particle(source, 4.8, m_a, N)\n",
    "    particles.FreeEvolutionDz(0.001)\n",
    "    particles.Collimate(col1)\n",
    "    particles.FreeEvolutionDz(0.0185)\n",
    "    particles.Collimate(col2)\n",
    "    particles.FreeEvolutionDz(0.001)\n",
    "    particles.Interact(target)\n",
    "\n",
    "    x_old = copy.deepcopy(particles.particle_x)\n",
    "    y_old = copy.deepcopy(particles.particle_y)\n",
    "    z_old = copy.deepcopy(particles.particle_z)\n",
    "\n",
    "    #particles.FreeEvolutionDz(0.09)\n",
    "    \n",
    "    # particles.FreeEvolutionDt(1e-7)\n",
    "\n",
    "    #x_f  = np.hstack((x_f, particles.particle_x ))\n",
    "    #y_f  = np.hstack((y_f, particles.particle_y ))\n",
    "    #z_f  = np.hstack((z_f, particles.particle_z ))\n",
    "    px_f = np.hstack((px_f,particles.particle_px))\n",
    "    #py_f = np.hstack((py_f,particles.particle_py))\n",
    "    pz_f = np.hstack((pz_f,particles.particle_pz))\n",
    "    \n",
    "    del particles\n",
    "    del x_old\n",
    "    del y_old\n",
    "    del z_old\n",
    "\n",
    "print(\"\\nCompleted\")  \n",
    "print(time.time()-start)\n",
    "\n",
    "t_f = np.arctan(px_f/pz_f)"
   ]
  },
  {
   "cell_type": "code",
   "execution_count": 15,
   "metadata": {},
   "outputs": [],
   "source": [
    "if USE_GPU:\n",
    "    x_f  = np.asnumpy(x_f ) \n",
    "    y_f  = np.asnumpy(y_f ) \n",
    "    z_f  = np.asnumpy(z_f ) \n",
    "    t_f  = np.asnumpy(t_f ) \n",
    "    px_f = np.asnumpy(px_f) \n",
    "    py_f = np.asnumpy(py_f) \n",
    "    pz_f = np.asnumpy(pz_f) "
   ]
  },
  {
   "cell_type": "code",
   "execution_count": 16,
   "metadata": {},
   "outputs": [
    {
     "name": "stdout",
     "output_type": "stream",
     "text": [
      "Survived:  1.1267308 %\n"
     ]
    },
    {
     "data": {
      "image/png": "[encoded data removed]",
      "text/plain": [
       "<Figure size 432x288 with 1 Axes>"
      ]
     },
     "metadata": {
      "needs_background": "light"
     },
     "output_type": "display_data"
    }
   ],
   "source": [
    "print(\"Survived: \", t_f.shape[0]/tot_gen*100, \"%\")\n",
    "\n",
    "N, edges,_ = plt.hist(t_f*180/np.pi, bins=100, edgecolor=\"black\")\n",
    "plt.yscale(\"log\")\n",
    "plt.show()"
   ]
  },
  {
   "cell_type": "code",
   "execution_count": 17,
   "metadata": {},
   "outputs": [],
   "source": [
    "if USE_GPU:\n",
    "    import numpy as np\n",
    "    \n",
    "centers = (edges[1:]+edges[:-1])/2\n",
    "np.savetxt(\"simData.txt\", np.column_stack((centers,N)))"
   ]
  },
  {
   "cell_type": "code",
   "execution_count": 18,
   "metadata": {},
   "outputs": [
    {
     "data": {
      "image/png": "[encoded data removed]",
      "text/plain": [
       "<Figure size 432x288 with 1 Axes>"
      ]
     },
     "metadata": {
      "needs_background": "light"
     },
     "output_type": "display_data"
    },
    {
     "data": {
      "image/png": "[encoded data removed]",
      "text/plain": [
       "<Figure size 432x288 with 1 Axes>"
      ]
     },
     "metadata": {
      "needs_background": "light"
     },
     "output_type": "display_data"
    }
   ],
   "source": [
    "import numpy as npy\n",
    "\n",
    "N, edges,_ = plt.hist(t_f*180/np.pi, bins=100, edgecolor=\"black\", density =False)\n",
    "plt.yscale('log')\n",
    "plt.show()\n",
    "x = (edges[1:] + edges[:-1])/2\n",
    "\n",
    "N_filt = N[x > 25]\n",
    "x_filt = x[x > 25]\n",
    "y = 1.0/npy.power(npy.sin(x_filt*npy.pi/180/2),4.)\n",
    "ny = npy.sum(y)\n",
    "plt.plot(x_filt, N_filt/npy.sum(N_filt))\n",
    "plt.plot(x_filt, y/ny)\n",
    "plt.show()\n",
    "\n",
    "#plt.yscale('log')\n",
    "\n"
   ]
  },
  {
   "cell_type": "code",
   "execution_count": 19,
   "metadata": {},
   "outputs": [
    {
     "data": {
      "text/plain": [
       "[<matplotlib.lines.Line2D at 0x7fa88f843710>]"
      ]
     },
     "execution_count": 19,
     "metadata": {},
     "output_type": "execute_result"
    },
    {
     "data": {
      "image/png": "[encoded data removed]",
      "text/plain": [
       "<Figure size 432x288 with 1 Axes>"
      ]
     },
     "metadata": {
      "needs_background": "light"
     },
     "output_type": "display_data"
    }
   ],
   "source": [
    "import numpy as npy\n",
    "\n",
    "hdx = t_f[t_f> 25*npy.pi/180]\n",
    "hsx = t_f[t_f<-25*npy.pi/180]\n",
    "\n",
    "Ndx, edgesdx,_ = plt.hist(hdx*180/np.pi, bins=25, edgecolor=\"black\", density=True)\n",
    "Nsx, edgessx,_ = plt.hist(hsx*180/np.pi, bins=25, edgecolor=\"black\", density=True)\n",
    "\n",
    "xdx = (edgesdx[1:] + edgesdx[:-1])/2\n",
    "xsx = (edgessx[1:] + edgessx[:-1])/2\n",
    "\n",
    "ydx = 1.0/npy.power(npy.sin(xdx*npy.pi/180/2),4.)\n",
    "ysx = 1.0/npy.power(npy.sin(xsx*npy.pi/180/2),4.)\n",
    "\n",
    "plt.plot(xdx, ydx/npy.sum(ydx))\n",
    "plt.plot(xsx, ysx/npy.sum(ysx))\n",
    "\n",
    "#x = (edges[1:] + edges[:-1])/2\n",
    "#nN = npy.linalg.norm(N)\n",
    "#y = 1.0/npy.power(npy.sin(x*npy.pi/180/2),4.)\n",
    "#ny = npy.linalg.norm(y)\n",
    "#\n",
    "#    \n",
    "#plt.plot(x, N/nN)\n",
    "#plt.plot(x, y/ny)\n",
    "#plt.yscale(\"log\")"
   ]
  },
  {
   "cell_type": "markdown",
   "metadata": {},
   "source": [
    "## Geometry and evoultion : simulation with evolution up to the detector"
   ]
  },
  {
   "cell_type": "markdown",
   "metadata": {},
   "source": [
    "## PICOSCOPE"
   ]
  },
  {
   "cell_type": "code",
   "execution_count": null,
   "metadata": {},
   "outputs": [],
   "source": [
    "if USE_GPU:\n",
    "    import cupy as np #just in case of recompilation in the middle\n",
    "    np.cuda.Device(0).use()"
   ]
  },
  {
   "cell_type": "code",
   "execution_count": null,
   "metadata": {},
   "outputs": [],
   "source": [
    "N = 10000000#10000000\n",
    "k = 1000#1000\n",
    "tot_gen = N*k\n",
    "patience = 1\n",
    "\n",
    "pico_dist = 0.08\n",
    "\n",
    "x_f  = np.array([])\n",
    "y_f  = np.array([])\n",
    "z_f  = np.array([])\n",
    "t_f  = np.array([])\n",
    "px_f = np.array([])\n",
    "py_f = np.array([])\n",
    "pz_f = np.array([])\n",
    "\n",
    "#source = Source(0, 0, -0.05, 0.003, 300)\n",
    "#col1 = Collimator(-0.0005, -0.0015, -0.04, 0.001, 0.003)\n",
    "#col2 = Collimator(-0.0005, -0.0015,  0.00, 0.001, 0.003)\n",
    "#target = Target ( 0.0, 0.0, 0.0, th_Au, rho_Au, A_Au, Z_Au)\n",
    "\n",
    "#dcol.cik = 18.5 mm\n",
    "#dcol,lam = 1mm\n",
    "#-> zsorgente = 19.5\n",
    "#cols = 4x7 mm\n",
    "#source = Source(0, 0, -0.017, 0.00335, 300)\n",
    "#source = Source(0, 0, -0.0195, 0.00335, 300)\n",
    "#col1 = Collimator(-0.00225, -0.0035, -0.0195, 0.0045, 0.007)\n",
    "#col2 = Collimator(-0.00225, -0.0035, -0.0010, 0.0045, 0.007)\n",
    "\n",
    "\n",
    "\n",
    "source = Source(0, 0, -0.021, 0.00335, 300)\n",
    "col1_ini = Collimator(-0.002, -0.0035, -0.020, 0.004, 0.007)\n",
    "col1_end = Collimator(-0.002, -0.0035, -0.019, 0.004, 0.007)\n",
    "col2_ini = Collimator(-0.002, -0.0035, -0.002, 0.004, 0.007)\n",
    "col2_end = Collimator(-0.002, -0.0035, -0.001, 0.004, 0.007)\n",
    "\n",
    "\n",
    "pico = CollimatorDetector(0, 0.002)\n",
    "target = Target ( 0.0, 0.0, 0.0, th_Au, rho_Au, A_Au,  Z_Au)\n",
    "\n",
    "start = time.time()\n",
    "for i in range(k):\n",
    "    if ( i % patience == 0 ):\n",
    "        sys.stdout.write(\"\\rCompleteness : \"+str(round(i/k*100,1))+\"%\")\n",
    "    particles = Particle(source, 4.8, m_a, N)\n",
    "    particles.FreeEvolutionDz(0.001)\n",
    "    particles.Collimate(col1_ini)\n",
    "    particles.FreeEvolutionDz(0.001)\n",
    "    particles.Collimate(col1_end)\n",
    "    particles.FreeEvolutionDz(0.017)\n",
    "    particles.Collimate(col2_ini)\n",
    "    particles.FreeEvolutionDz(0.001)\n",
    "    particles.Collimate(col2_end)\n",
    "    particles.FreeEvolutionDz(0.001)\n",
    "    particles.Interact(target)\n",
    "\n",
    "    pTot = np.sqrt(np.square(particles.particle_px)+\n",
    "                   np.square(particles.particle_py)+\n",
    "                   np.square(particles.particle_pz))\n",
    "    \n",
    "    # v= s/t p= mv -> mv/m = s/t pc/m=s/t(c for ev conversion) t = sm/pc\n",
    "    particles.FreeEvolutionDt(pico_dist*particles.particle_m/(pTot*3e08))\n",
    "    #particles.Collimate(pico)\n",
    "\n",
    "    #x_old = copy.deepcopy(particles.particle_x)\n",
    "    #y_old = copy.deepcopy(particles.particle_y)\n",
    "    #z_old = copy.deepcopy(particles.particle_z)\n",
    "\n",
    "    #particles.FreeEvolutionDz(0.09)\n",
    "    \n",
    "    # particles.FreeEvolutionDt(1e-7)\n",
    "\n",
    "    x_f  = np.hstack((x_f, particles.particle_x ))\n",
    "    #y_f  = np.hstack((y_f, particles.particle_y ))\n",
    "    #z_f  = np.hstack((z_f, particles.particle_z ))\n",
    "    #px_f = np.hstack((px_f,particles.particle_px))\n",
    "    #py_f = np.hstack((py_f,particles.particle_py))\n",
    "    #pz_f = np.hstack((pz_f,particles.particle_pz))\n",
    "    \n",
    "    del particles\n",
    "    #del x_old\n",
    "    #del y_old\n",
    "    #del z_old\n",
    "\n",
    "print(\"\\nCompleted\")  \n",
    "print(time.time()-start)\n",
    "\n",
    "t_f = np.arcsin(x_f/pico_dist)"
   ]
  },
  {
   "cell_type": "code",
   "execution_count": null,
   "metadata": {},
   "outputs": [],
   "source": [
    "if USE_GPU:\n",
    "    x_f  = np.asnumpy(x_f ) \n",
    "    #y_f  = np.asnumpy(y_f ) \n",
    "    #z_f  = np.asnumpy(z_f ) \n",
    "    t_f  = np.asnumpy(t_f) \n",
    "    #px_f = np.asnumpy(px_f) \n",
    "    #py_f = np.asnumpy(py_f) \n",
    "    #pz_f = np.asnumpy(pz_f)"
   ]
  },
  {
   "cell_type": "code",
   "execution_count": null,
   "metadata": {},
   "outputs": [],
   "source": [
    "import numpy as npy\n",
    "\n",
    "print(len(t_f[npy.isnan(t_f)])/len(t_f*100))\n",
    "t_f = t_f[npy.logical_not(npy.isnan(t_f))]"
   ]
  },
  {
   "cell_type": "code",
   "execution_count": null,
   "metadata": {},
   "outputs": [],
   "source": [
    "print(\"Survived: \", t_f.shape[0]/tot_gen*100, \"%\")\n",
    "\n",
    "N, edges,_ = plt.hist(t_f*180/np.pi, bins=100, edgecolor=\"black\")\n",
    "plt.vlines(0,0,np.max(N), color='red', zorder=10000)\n",
    "#plt.hist(t_f*180/np.pi, bins=100, edgecolor=\"black\")\n",
    "#plt.xlim(-20,20)\n",
    "plt.yscale(\"log\")\n",
    "plt.show()"
   ]
  },
  {
   "cell_type": "code",
   "execution_count": null,
   "metadata": {},
   "outputs": [],
   "source": [
    "centers = (edges[1:]+edges[:-1])/2\n",
    "npy.savetxt(\"PicoHistoSim.txt\", npy.column_stack((centers,N)))"
   ]
  },
  {
   "cell_type": "markdown",
   "metadata": {},
   "source": [
    "## ALPIDE\n"
   ]
  },
  {
   "cell_type": "code",
   "execution_count": 28,
   "metadata": {},
   "outputs": [],
   "source": [
    "if USE_GPU:\n",
    "    import cupy as np #just in case of recompilation in the middle\n",
    "    np.cuda.Device(0).use()"
   ]
  },
  {
   "cell_type": "code",
   "execution_count": 29,
   "metadata": {},
   "outputs": [
    {
     "name": "stdout",
     "output_type": "stream",
     "text": [
      "Completeness : 99.9%\n",
      "Completed\n",
      "121.7801730632782\n"
     ]
    }
   ],
   "source": [
    "N = 10000000#10000000\n",
    "k = 1000#1000\n",
    "tot_gen = N*k\n",
    "patience = 1\n",
    "\n",
    "alpide_dist = 0.07863\n",
    "\n",
    "x_f  = np.array([])\n",
    "y_f  = np.array([])\n",
    "z_f  = np.array([])\n",
    "t_f  = np.array([])\n",
    "px_f = np.array([])\n",
    "py_f = np.array([])\n",
    "pz_f = np.array([])\n",
    "\n",
    "\n",
    "#dcol.cik = 18.5 mm\n",
    "#dcol,lam = 1mm\n",
    "#-> zsorgente = 19.5\n",
    "#cols = 4x7 mm\n",
    "\n",
    "d_source_col = 0.001\n",
    "w_col = 0.001\n",
    "d_col_col = 0.018\n",
    "d_col_target = 0.001\n",
    "\n",
    "z_source = d_source_col + w_col + d_col_col + w_col + d_col_target\n",
    "\n",
    "\n",
    "source = Source(0, 0, -z_source, 0.00335, 300)\n",
    "col1_ini = Collimator(-0.002, -0.0035, -0.020, 0.004, 0.007)\n",
    "col1_end = Collimator(-0.002, -0.0035, -0.019, 0.004, 0.007)\n",
    "col2_ini = Collimator(-0.002, -0.0035, -0.002, 0.004, 0.007)\n",
    "col2_end = Collimator(-0.002, -0.0035, -0.001, 0.004, 0.007)\n",
    "\n",
    "alpide = CollimatorDetector(0, 0.015)\n",
    "target = Target ( 0.0, 0.0, 0.0, th_Au, rho_Au, A_Au,  Z_Au)\n",
    "\n",
    "start = time.time()\n",
    "for i in range(k):\n",
    "    if ( i % patience == 0 ):\n",
    "        sys.stdout.write(\"\\rCompleteness : \"+str(round(i/k*100,1))+\"%\")\n",
    "    particles = Particle(source, 4.8, m_a, N)\n",
    "    particles.FreeEvolutionDz(d_source_col)\n",
    "    particles.Collimate(col1_ini)\n",
    "    particles.FreeEvolutionDz(w_col)\n",
    "    #particles.Collimate(col1_end)\n",
    "    particles.FreeEvolutionDz(d_col_col)\n",
    "    particles.Collimate(col2_ini)\n",
    "    particles.FreeEvolutionDz(w_col)\n",
    "    #particles.Collimate(col2_end)\n",
    "    particles.FreeEvolutionDz(d_col_target)\n",
    "    particles.Interact(target)\n",
    "\n",
    "    pTot = np.sqrt(np.square(particles.particle_px)+\n",
    "                   np.square(particles.particle_py)+\n",
    "                   np.square(particles.particle_pz))\n",
    "    \n",
    "    # v= s/t p= mv -> mv/m = s/t pc/m=s/t(c for ev conversion) t = sm/pc\n",
    "    particles.FreeEvolutionDt(alpide_dist*particles.particle_m/(pTot*3e08))\n",
    "    particles.Collimate(alpide)\n",
    "\n",
    "    #x_old = copy.deepcopy(particles.particle_x)\n",
    "    #y_old = copy.deepcopy(particles.particle_y)\n",
    "    #z_old = copy.deepcopy(particles.particle_z)\n",
    "\n",
    "    #particles.FreeEvolutionDz(0.09)\n",
    "    \n",
    "    # particles.FreeEvolutionDt(1e-7)\n",
    "\n",
    "    x_f  = np.hstack((x_f, particles.particle_x ))\n",
    "    #y_f  = np.hstack((y_f, particles.particle_y ))\n",
    "    #z_f  = np.hstack((z_f, particles.particle_z ))\n",
    "    #px_f = np.hstack((px_f,particles.particle_px))\n",
    "    #py_f = np.hstack((py_f,particles.particle_py))\n",
    "    #pz_f = np.hstack((pz_f,particles.particle_pz))\n",
    "    \n",
    "    del particles\n",
    "    #del x_old\n",
    "    #del y_old\n",
    "    #del z_old\n",
    "\n",
    "print(\"\\nCompleted\")  \n",
    "print(time.time()-start)\n",
    "\n",
    "t_f = np.arcsin(x_f/alpide_dist)"
   ]
  },
  {
   "cell_type": "code",
   "execution_count": 30,
   "metadata": {},
   "outputs": [],
   "source": [
    "if USE_GPU:\n",
    "    x_f  = np.asnumpy(x_f ) \n",
    "    #y_f  = np.asnumpy(y_f ) \n",
    "    #z_f  = np.asnumpy(z_f ) \n",
    "    t_f  = np.asnumpy(t_f) \n",
    "    #px_f = np.asnumpy(px_f) \n",
    "    #py_f = np.asnumpy(py_f) \n",
    "    #pz_f = np.asnumpy(pz_f)"
   ]
  },
  {
   "cell_type": "code",
   "execution_count": 31,
   "metadata": {},
   "outputs": [
    {
     "name": "stdout",
     "output_type": "stream",
     "text": [
      "2.2544859154497305e-06\n"
     ]
    }
   ],
   "source": [
    "import numpy as npy\n",
    "\n",
    "print(len(t_f[npy.isnan(t_f)])/len(t_f*100))\n",
    "t_f = t_f[npy.logical_not(npy.isnan(t_f))]"
   ]
  },
  {
   "cell_type": "code",
   "execution_count": 32,
   "metadata": {},
   "outputs": [
    {
     "name": "stdout",
     "output_type": "stream",
     "text": [
      "Survived:  0.52783533 %\n"
     ]
    },
    {
     "data": {
      "image/png": "[encoded data removed]",
      "text/plain": [
       "<Figure size 432x288 with 1 Axes>"
      ]
     },
     "metadata": {
      "needs_background": "light"
     },
     "output_type": "display_data"
    }
   ],
   "source": [
    "print(\"Survived: \", t_f.shape[0]/tot_gen*100, \"%\")\n",
    "\n",
    "N, edges,_ = plt.hist(t_f*180/np.pi, bins=200, edgecolor=\"black\")\n",
    "#plt.hist(t_f*180/np.pi, bins=100, edgecolor=\"black\")\n",
    "plt.yscale(\"log\")\n",
    "#plt.xlim(-20,20)\n",
    "plt.show()"
   ]
  },
  {
   "cell_type": "code",
   "execution_count": 33,
   "metadata": {},
   "outputs": [],
   "source": [
    "centers = (edges[1:]+edges[:-1])/2\n",
    "npy.savetxt(\"AlpideHistoSim.txt\", npy.column_stack((centers,N)))"
   ]
  },
  {
   "cell_type": "code",
   "execution_count": 26,
   "metadata": {},
   "outputs": [],
   "source": [
    "#npy.savetxt(\"run_10MILIARDI_ALPIDE.txt\", t_f)"
   ]
  },
  {
   "cell_type": "markdown",
   "metadata": {},
   "source": [
    "### Plot of the track"
   ]
  },
  {
   "cell_type": "code",
   "execution_count": null,
   "metadata": {},
   "outputs": [],
   "source": [
    "plt.hist2d(x_cyl, y_cyl, bins=[100,100])\n",
    "#plt.hist2d(np.asnumpy(x_cyl), np.asnumpy(z_cyl), bins=[100,100])\n",
    "plt.show()"
   ]
  },
  {
   "cell_type": "code",
   "execution_count": null,
   "metadata": {},
   "outputs": [],
   "source": [
    "#N, edges,_ = plt.hist(np.asnumpy(tau_c*360.0/(2*np.pi)), bins=25, edgecolor='black')\n",
    "N, edges,_ = plt.hist(tau_c*360.0/(2*np.pi), bins=25, edgecolor='black')\n",
    "plt.yscale(\"log\")\n",
    "x = (edges[1:] + edges[:-1])/2"
   ]
  },
  {
   "cell_type": "code",
   "execution_count": null,
   "metadata": {},
   "outputs": [],
   "source": [
    "import numpy as np"
   ]
  },
  {
   "cell_type": "code",
   "execution_count": null,
   "metadata": {},
   "outputs": [],
   "source": [
    "import numpy as np\n",
    "fig=plt.figure(figsize=(8, 12))\n",
    "\n",
    "t_cyl = t_cyl[~np.isnan(t_cyl)]\n",
    "z_cyl = z_cyl[~np.isnan(z_cyl)]\n",
    "\n",
    "plt.subplot(2,1,1)\n",
    "plt.hist2d(t_cyl, z_cyl, bins=[50,1])\n",
    "#plt.hist2d(np.asnumpy(t_cyl), np.asnumpy(z_cyl), bins=[50,1])\n",
    "\n",
    "plt.subplot(2,1,2)\n",
    "plt.hist(t_cyl*360.0/(2*np.pi)-90.0, bins=50, edgecolor='black')\n",
    "#plt.hist(np.asnumpy(t_cyl*360.0/(2*np.pi)-90.0), bins=50, edgecolor='black')\n",
    "plt.yscale('log')\n",
    "plt.show()"
   ]
  },
  {
   "cell_type": "code",
   "execution_count": null,
   "metadata": {},
   "outputs": [],
   "source": [
    "plt.hist(t_cyl*360.0/(2*np.pi), bins=50, edgecolor='black')\n",
    "#plt.hist(np.asnumpy(t_cyl*360.0/(2*np.pi)-90.0), bins=50, edgecolor='black')\n",
    "plt.yscale('log')\n",
    "plt.show()"
   ]
  },
  {
   "cell_type": "code",
   "execution_count": null,
   "metadata": {},
   "outputs": [],
   "source": [
    "test_theta = np.arctan(py_cy/pz_cy) * 180/np.pi\n",
    "plt.hist(test_theta, bins=50, edgecolor='black')\n",
    "#plt.hist(np.asnumpy(t_cyl*360.0/(2*np.pi)-90.0), bins=50, edgecolor='black')\n",
    "plt.yscale('log')\n",
    "plt.show()"
   ]
  },
  {
   "cell_type": "code",
   "execution_count": null,
   "metadata": {},
   "outputs": [],
   "source": [
    "import cupy as cp\n",
    "import numpy as np\n",
    "\n",
    "N, edges, _ = plt.hist(cp.asnumpy(t_cyl*360.0/(2*np.pi)-90.0), bins=50, edgecolor='black')\n",
    "plt.yscale(\"log\")\n",
    "plt.show()"
   ]
  },
  {
   "cell_type": "code",
   "execution_count": null,
   "metadata": {},
   "outputs": [],
   "source": [
    "x = (edges[1:] + edges[:-1])/2\n",
    "nN = np.linalg.norm(N)\n",
    "y = 1.0/np.power(np.sin(x*np.pi/180/2),4.)\n",
    "ny = np.linalg.norm(y)\n",
    "plt.plot(x, N/nN)\n",
    "plt.plot(x, y/ny)\n",
    "plt.yscale(\"log\")"
   ]
  },
  {
   "cell_type": "markdown",
   "metadata": {},
   "source": [
    "### 3D view"
   ]
  },
  {
   "cell_type": "code",
   "execution_count": null,
   "metadata": {},
   "outputs": [],
   "source": [
    "from mpl_toolkits.mplot3d import Axes3D\n",
    "import matplotlib.pyplot as plt\n",
    "import numpy as np\n",
    "from itertools import product, combinations\n",
    "\n",
    "\n",
    "fig = plt.figure(figsize=(15,15))\n",
    "ax = fig.gca(projection='3d')\n",
    "\n",
    "def axisEqual3D(ax):\n",
    "    extents = np.array([getattr(ax, 'get_{}lim'.format(dim))() for dim in 'xyz'])\n",
    "    sz = extents[:,1] - extents[:,0]\n",
    "    centers = np.mean(extents, axis=1)\n",
    "    maxsize = max(abs(sz))\n",
    "    r = maxsize/2\n",
    "    for ctr, dim in zip(centers, 'xyz'):\n",
    "        getattr(ax, 'set_{}lim'.format(dim))(ctr - r, ctr + r)\n",
    "\n",
    "axisEqual3D(ax)        \n",
    "\n",
    "ax.set_xlim3d(-1,1)\n",
    "ax.set_ylim3d(-1,1)\n",
    "ax.set_zlim3d(-1,1)\n",
    "\n",
    "ax.azim = -160\n",
    "ax.elev = 30\n",
    "# draw sphere\n",
    "# u, v = np.mgrid[0:2*np.pi:20j, 0:np.pi:10j]\n",
    "# x = np.cos(u)*np.sin(v)\n",
    "# y = np.sin(u)*np.sin(v)\n",
    "# z = np.cos(v)\n",
    "# ax.plot_wireframe(x, y, z, color=\"r\")\n",
    "\n",
    "# draw a point\n",
    "ax.scatter([0], [0], [0], color=\"g\", s=100)\n",
    "\n",
    "# draw a vector\n",
    "from matplotlib.patches import FancyArrowPatch\n",
    "from mpl_toolkits.mplot3d import proj3d\n",
    "\n",
    "\n",
    "class Arrow3D(FancyArrowPatch):\n",
    "\n",
    "    def _init_(self, xs, ys, zs, *args, **kwargs):\n",
    "        FancyArrowPatch._init_(self, (0, 0), (0, 0), *args, **kwargs)\n",
    "        self._verts3d = xs, ys, zs\n",
    "\n",
    "    def draw(self, renderer):\n",
    "        xs3d, ys3d, zs3d = self._verts3d\n",
    "        xs, ys, zs = proj3d.proj_transform(xs3d, ys3d, zs3d, renderer.M)\n",
    "        self.set_positions((xs[0], ys[0]), (xs[1], ys[1]))\n",
    "        FancyArrowPatch.draw(self, renderer)\n",
    "\n",
    "x = Arrow3D([-1, 1],  [0, 0],  [0, 0], mutation_scale=20, lw=1, arrowstyle=\"-|>\", color=\"k\")\n",
    "y = Arrow3D( [0, 0], [-1, 1],  [0, 0], mutation_scale=20, lw=1, arrowstyle=\"-|>\", color=\"k\")\n",
    "z = Arrow3D( [0, 0],  [0, 0], [-1, 1], mutation_scale=20, lw=1, arrowstyle=\"-|>\", color=\"k\")\n",
    "\n",
    "u_x =   0#np.cos(np.pi/4)\n",
    "u_y =   1#np.cos(np.pi/4)\n",
    "u_z =   0.3#np.cos(np.pi/4)\n",
    "\n",
    "t  = np.pi/4\n",
    "a  = np.pi/4\n",
    "ct = np.cos(t) \n",
    "st = np.sin(t) \n",
    "ca = np.cos(a)\n",
    "sa = np.sin(a)\n",
    "\n",
    "def Xr(u_x, u_y, u_z, t):\n",
    "    v_x = + u_x*1 + u_y*0         + u_z*0\n",
    "    v_y = + u_x*0 + u_y*np.cos(t) + u_z*1 - u_z*np.sin(t)\n",
    "    v_z = + u_x*0 + u_y*np.sin(t) + u_z*0 + u_z*np.cos(t)\n",
    "    return v_x, v_y, v_z\n",
    "\n",
    "def Yr(u_x, u_y, u_z, t):\n",
    "    v_x = + u_x*np.cos(t) + u_y*0 + u_z*np.sin(t)\n",
    "    v_y = + u_x*0         + u_y*1 + u_z*0\n",
    "    v_z = - u_x*np.sin(t) + u_y*0 + u_z*np.cos(t)\n",
    "    return v_x, v_y, v_z\n",
    "\n",
    "def Zr(u_x, u_y, u_z, t):\n",
    "    v_x = + u_x*np.cos(t) - u_y*np.sin(t) - u_z*0\n",
    "    v_y = + u_x*np.sin(t) + u_y*np.cos(t) + u_z*0\n",
    "    v_z = + u_x*0         + u_y*0         + u_z*1\n",
    "    return v_x, v_y, v_z\n",
    "    \n",
    "\n",
    "# y rotation for alpha z rotation tau\n",
    "v_x, v_y, v_z = Yr(u_x,u_y,u_z, np.pi/4)\n",
    "w_x, w_y, w_z = Zr(v_x,v_y,v_z, np.pi/4)\n",
    "\n",
    "u = Arrow3D([0, u_x], [0, u_y], [0, u_z], mutation_scale=20, lw=1, arrowstyle=\"->\",  color=\"r\")\n",
    "v = Arrow3D([0, v_x], [0, v_y], [0, v_z], mutation_scale=20, lw=1, arrowstyle=\"-|>\", color=\"b\")\n",
    "w = Arrow3D([0, w_x], [0, w_y], [0, w_z], mutation_scale=20, lw=1, arrowstyle=\"-|>\", color=\"c\")\n",
    "\n",
    "ax.add_artist(x)\n",
    "ax.add_artist(y)\n",
    "ax.add_artist(z)\n",
    "ax.add_artist(u)\n",
    "ax.add_artist(v)\n",
    "ax.add_artist(w)\n",
    "\n",
    "ax.set_xlabel('$X$', fontsize=20)\n",
    "ax.set_ylabel('$Y$', fontsize=20)\n",
    "ax.set_zlabel('$Z$', fontsize=20)\n",
    "ax.auto_scale_xyz([-1, 1], [-1, 1], [-1, 1])\n",
    "plt.show()"
   ]
  },
  {
   "cell_type": "code",
   "execution_count": null,
   "metadata": {},
   "outputs": [],
   "source": []
  },
  {
   "cell_type": "code",
   "execution_count": null,
   "metadata": {},
   "outputs": [],
   "source": []
  },
  {
   "cell_type": "code",
   "execution_count": null,
   "metadata": {},
   "outputs": [],
   "source": []
  },
  {
   "cell_type": "code",
   "execution_count": null,
   "metadata": {},
   "outputs": [],
   "source": []
  },
  {
   "cell_type": "code",
   "execution_count": null,
   "metadata": {},
   "outputs": [],
   "source": []
  },
  {
   "cell_type": "markdown",
   "metadata": {},
   "source": [
    "[0,15] 10 ev/h\n",
    "\n",
    "10\n",
    "\n",
    "[0,10] st/st+gap = 0.25 10h -> 25 ev w=1/(0.25*10) = 0.4\n",
    "[5,15] st/st+gap = 0.25 10h -> 25 ev w=1/(0.25*10) = 0.4\n",
    "\n",
    "\n",
    "pdf[0,10] = 1 ev/bin\n",
    "pdf[5,15] = 1 ev/bin \n",
    "\n",
    "\n",
    "pdf [0,15] = pdf [0,10] +pdf[5,15] != 1 ev/bin\n",
    "\n",
    "1ev/bin [0,5]\n",
    "2ev/bin [5,10]\n",
    "1ev/bin [10,15]"
   ]
  },
  {
   "cell_type": "code",
   "execution_count": null,
   "metadata": {},
   "outputs": [],
   "source": []
  }
 ],
 "metadata": {
  "kernelspec": {
   "display_name": "Python 3",
   "language": "python",
   "name": "python3"
  },
  "language_info": {
   "codemirror_mode": {
    "name": "ipython",
    "version": 3
   },
   "file_extension": ".py",
   "mimetype": "text/x-python",
   "name": "python",
   "nbconvert_exporter": "python",
   "pygments_lexer": "ipython3",
   "version": "3.7.9"
  }
 },
 "nbformat": 4,
 "nbformat_minor": 4
}
