{
 "cells": [
  {
   "cell_type": "code",
   "execution_count": 5,
   "metadata": {},
   "outputs": [],
   "source": [
    "import numpy as np"
   ]
  },
  {
   "cell_type": "code",
   "execution_count": 6,
   "metadata": {},
   "outputs": [],
   "source": [
    "def Rotate(x,y,z, a, tau):    \n",
    "    ct = np.cos(tau) \n",
    "    st = np.sin(tau) \n",
    "    ca = np.cos(a)\n",
    "    sa = np.sin(a)\n",
    "    # y rotation for alpha z rotation tau\n",
    "    x = + ct*ca*x - st*y + ct*sa*z\n",
    "    y = + st*ca*x + ct*y + st*sa*z\n",
    "    z = -    sa*x        +    ca*z\n",
    "    return x,y,z"
   ]
  },
  {
   "cell_type": "code",
   "execution_count": 10,
   "metadata": {},
   "outputs": [
    {
     "data": {
      "text/plain": [
       "(-0.7071067811865475, 0.35355339059327384, 0.4999999999999999)"
      ]
     },
     "execution_count": 10,
     "metadata": {},
     "output_type": "execute_result"
    }
   ],
   "source": [
    "Rotate(0.0,1.0,0.0, np.pi/4, np.pi/4 )"
   ]
  },
  {
   "cell_type": "code",
   "execution_count": null,
   "metadata": {},
   "outputs": [],
   "source": []
  }
 ],
 "metadata": {
  "kernelspec": {
   "display_name": "Python 3",
   "language": "python",
   "name": "python3"
  },
  "language_info": {
   "codemirror_mode": {
    "name": "ipython",
    "version": 3
   },
   "file_extension": ".py",
   "mimetype": "text/x-python",
   "name": "python",
   "nbconvert_exporter": "python",
   "pygments_lexer": "ipython3",
   "version": "3.7.3"
  }
 },
 "nbformat": 4,
 "nbformat_minor": 4
}
